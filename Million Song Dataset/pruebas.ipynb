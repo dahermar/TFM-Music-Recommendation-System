{
 "cells": [
  {
   "cell_type": "code",
   "execution_count": 1,
   "id": "23c08626",
   "metadata": {},
   "outputs": [],
   "source": [
    "import pandas as pd"
   ]
  },
  {
   "cell_type": "code",
   "execution_count": null,
   "id": "3259df1e",
   "metadata": {},
   "outputs": [],
   "source": [
    "#user_df = pd.read_csv('data/user_song_list.txt', names=['user', 'track_id', 'playcount'])\n",
    "user_df.shape"
   ]
  },
  {
   "cell_type": "code",
   "execution_count": 8,
   "id": "c416d200",
   "metadata": {},
   "outputs": [
    {
     "name": "stdout",
     "output_type": "stream",
     "text": [
      "Artista: Wayne Watson\n",
      "Título : The Urgency (LP Version)\n",
      "Tempo : 117.975\n"
     ]
    }
   ],
   "source": [
    "import tables\n",
    "from hdf5_getters import get_artist_name, get_title, get_tempo\n",
    "\n",
    "# Ruta al archivo\n",
    "filename = \"MillionSongSubset/A/A/B/TRAABCL128F4286650.h5\"\n",
    "\n",
    "# Abrir el archivo con PyTables (no h5py)\n",
    "h5 = tables.open_file(filename, mode='r')\n",
    "\n",
    "# Usar los getters\n",
    "artist = get_artist_name(h5)\n",
    "title = get_title(h5)\n",
    "tempo = get_tempo(h5)\n",
    "\n",
    "\n",
    "# Mostrar resultados\n",
    "print(\"Artista:\", artist.decode('utf-8'))  # decode si el resultado es en bytes\n",
    "print(\"Título :\", title.decode('utf-8'))\n",
    "print(\"Tempo :\", tempo)\n",
    "\n",
    "# Cerrar archivo\n",
    "h5.close()\n"
   ]
  },
  {
   "cell_type": "code",
   "execution_count": null,
   "id": "697bb0a7",
   "metadata": {},
   "outputs": [],
   "source": []
  }
 ],
 "metadata": {
  "kernelspec": {
   "display_name": "Master-IA",
   "language": "python",
   "name": "python3"
  },
  "language_info": {
   "codemirror_mode": {
    "name": "ipython",
    "version": 3
   },
   "file_extension": ".py",
   "mimetype": "text/x-python",
   "name": "python",
   "nbconvert_exporter": "python",
   "pygments_lexer": "ipython3",
   "version": "3.10.15"
  }
 },
 "nbformat": 4,
 "nbformat_minor": 5
}
