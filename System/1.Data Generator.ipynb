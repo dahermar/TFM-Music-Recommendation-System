{
 "cells": [
  {
   "cell_type": "markdown",
   "metadata": {},
   "source": [
    "# 1. Data Generator"
   ]
  },
  {
   "cell_type": "code",
   "execution_count": 1,
   "metadata": {},
   "outputs": [],
   "source": [
    "import pandas as pd\n",
    "import numpy as np\n",
    "import math\n",
    "\n",
    "RANDOM_STATE = 147369\n",
    "np.random.seed(RANDOM_STATE)"
   ]
  },
  {
   "cell_type": "markdown",
   "metadata": {},
   "source": [
    "# Stage 1"
   ]
  },
  {
   "cell_type": "markdown",
   "metadata": {},
   "source": [
    "### Load data"
   ]
  },
  {
   "cell_type": "code",
   "execution_count": 2,
   "metadata": {},
   "outputs": [
    {
     "data": {
      "text/plain": [
       "973"
      ]
     },
     "execution_count": 2,
     "metadata": {},
     "output_type": "execute_result"
    }
   ],
   "source": [
    "df_gym = pd.read_csv('data/gym_members_exercise_tracking.csv')\n",
    "df_gym.shape[0]"
   ]
  },
  {
   "cell_type": "code",
   "execution_count": 3,
   "metadata": {},
   "outputs": [
    {
     "data": {
      "text/plain": [
       "array(['Yoga', 'HIIT', 'Cardio', 'Strength'], dtype=object)"
      ]
     },
     "execution_count": 3,
     "metadata": {},
     "output_type": "execute_result"
    }
   ],
   "source": [
    "df_gym['Workout_Type'].unique()"
   ]
  },
  {
   "cell_type": "markdown",
   "metadata": {},
   "source": [
    "We are left with the cardio sessions alone, because that is our use case. We are left with 255 cardio sessions."
   ]
  },
  {
   "cell_type": "code",
   "execution_count": 4,
   "metadata": {},
   "outputs": [
    {
     "data": {
      "text/plain": [
       "255"
      ]
     },
     "execution_count": 4,
     "metadata": {},
     "output_type": "execute_result"
    }
   ],
   "source": [
    "df_gym = df_gym[df_gym['Workout_Type'] == 'Cardio'].reset_index(drop=True)\n",
    "df_gym.shape[0]"
   ]
  },
  {
   "cell_type": "code",
   "execution_count": 5,
   "metadata": {},
   "outputs": [
    {
     "data": {
      "text/plain": [
       "array(['Cardio'], dtype=object)"
      ]
     },
     "execution_count": 5,
     "metadata": {},
     "output_type": "execute_result"
    }
   ],
   "source": [
    "df_gym['Workout_Type'].unique()"
   ]
  },
  {
   "cell_type": "code",
   "execution_count": 6,
   "metadata": {},
   "outputs": [],
   "source": [
    "df_hr = pd.read_csv('data/heart_rate.csv')"
   ]
  },
  {
   "cell_type": "code",
   "execution_count": 7,
   "metadata": {},
   "outputs": [],
   "source": [
    "df_final_normal_group = pd.DataFrame()\n",
    "\n",
    "for i in range(1, 12):\n",
    "    file_name = f'data/normal_heart_rates/N{i}'\n",
    "    df_aux = pd.read_csv(file_name, sep=r'\\s+', header=None)\n",
    "    df_aux.columns = ['Timestamp', 'Heart_rates']\n",
    "    \n",
    "    df_final_normal_group[f'Heart_rates_{i}'] = df_aux['Heart_rates']"
   ]
  },
  {
   "cell_type": "code",
   "execution_count": 8,
   "metadata": {},
   "outputs": [
    {
     "data": {
      "text/html": [
       "<div>\n",
       "<style scoped>\n",
       "    .dataframe tbody tr th:only-of-type {\n",
       "        vertical-align: middle;\n",
       "    }\n",
       "\n",
       "    .dataframe tbody tr th {\n",
       "        vertical-align: top;\n",
       "    }\n",
       "\n",
       "    .dataframe thead th {\n",
       "        text-align: right;\n",
       "    }\n",
       "</style>\n",
       "<table border=\"1\" class=\"dataframe\">\n",
       "  <thead>\n",
       "    <tr style=\"text-align: right;\">\n",
       "      <th></th>\n",
       "      <th>Heart_rates_1</th>\n",
       "      <th>Heart_rates_2</th>\n",
       "      <th>Heart_rates_3</th>\n",
       "      <th>Heart_rates_4</th>\n",
       "      <th>Heart_rates_5</th>\n",
       "      <th>Heart_rates_6</th>\n",
       "      <th>Heart_rates_7</th>\n",
       "      <th>Heart_rates_8</th>\n",
       "      <th>Heart_rates_9</th>\n",
       "      <th>Heart_rates_10</th>\n",
       "      <th>Heart_rates_11</th>\n",
       "    </tr>\n",
       "  </thead>\n",
       "  <tbody>\n",
       "    <tr>\n",
       "      <th>0</th>\n",
       "      <td>61.4125</td>\n",
       "      <td>63.4921</td>\n",
       "      <td>51.5464</td>\n",
       "      <td>82.5309</td>\n",
       "      <td>54.4465</td>\n",
       "      <td>65.0759</td>\n",
       "      <td>66.2252</td>\n",
       "      <td>76.0456</td>\n",
       "      <td>96.0000</td>\n",
       "      <td>85.3485</td>\n",
       "      <td>48.8998</td>\n",
       "    </tr>\n",
       "    <tr>\n",
       "      <th>1</th>\n",
       "      <td>59.0551</td>\n",
       "      <td>63.9659</td>\n",
       "      <td>60.4839</td>\n",
       "      <td>79.1557</td>\n",
       "      <td>54.4465</td>\n",
       "      <td>65.0759</td>\n",
       "      <td>63.9659</td>\n",
       "      <td>74.5342</td>\n",
       "      <td>98.5222</td>\n",
       "      <td>83.4492</td>\n",
       "      <td>51.9031</td>\n",
       "    </tr>\n",
       "    <tr>\n",
       "      <th>2</th>\n",
       "      <td>63.4921</td>\n",
       "      <td>65.0759</td>\n",
       "      <td>55.6586</td>\n",
       "      <td>75.2823</td>\n",
       "      <td>47.3934</td>\n",
       "      <td>60.0000</td>\n",
       "      <td>69.2042</td>\n",
       "      <td>78.3290</td>\n",
       "      <td>101.0100</td>\n",
       "      <td>83.4492</td>\n",
       "      <td>47.3934</td>\n",
       "    </tr>\n",
       "    <tr>\n",
       "      <th>3</th>\n",
       "      <td>63.4921</td>\n",
       "      <td>63.9659</td>\n",
       "      <td>58.6510</td>\n",
       "      <td>71.0900</td>\n",
       "      <td>44.1501</td>\n",
       "      <td>60.0000</td>\n",
       "      <td>66.8151</td>\n",
       "      <td>80.0000</td>\n",
       "      <td>101.0100</td>\n",
       "      <td>84.3882</td>\n",
       "      <td>45.4545</td>\n",
       "    </tr>\n",
       "    <tr>\n",
       "      <th>4</th>\n",
       "      <td>60.9756</td>\n",
       "      <td>63.4921</td>\n",
       "      <td>67.3401</td>\n",
       "      <td>79.1557</td>\n",
       "      <td>49.8753</td>\n",
       "      <td>64.5161</td>\n",
       "      <td>66.8151</td>\n",
       "      <td>78.3290</td>\n",
       "      <td>102.3890</td>\n",
       "      <td>83.4492</td>\n",
       "      <td>48.8998</td>\n",
       "    </tr>\n",
       "    <tr>\n",
       "      <th>...</th>\n",
       "      <td>...</td>\n",
       "      <td>...</td>\n",
       "      <td>...</td>\n",
       "      <td>...</td>\n",
       "      <td>...</td>\n",
       "      <td>...</td>\n",
       "      <td>...</td>\n",
       "      <td>...</td>\n",
       "      <td>...</td>\n",
       "      <td>...</td>\n",
       "      <td>...</td>\n",
       "    </tr>\n",
       "    <tr>\n",
       "      <th>21317</th>\n",
       "      <td>64.5161</td>\n",
       "      <td>53.3333</td>\n",
       "      <td>NaN</td>\n",
       "      <td>62.4350</td>\n",
       "      <td>NaN</td>\n",
       "      <td>58.1959</td>\n",
       "      <td>NaN</td>\n",
       "      <td>87.2093</td>\n",
       "      <td>66.8151</td>\n",
       "      <td>76.0456</td>\n",
       "      <td>NaN</td>\n",
       "    </tr>\n",
       "    <tr>\n",
       "      <th>21318</th>\n",
       "      <td>63.9659</td>\n",
       "      <td>54.8446</td>\n",
       "      <td>NaN</td>\n",
       "      <td>55.2486</td>\n",
       "      <td>NaN</td>\n",
       "      <td>57.3066</td>\n",
       "      <td>NaN</td>\n",
       "      <td>88.2353</td>\n",
       "      <td>65.0759</td>\n",
       "      <td>74.5342</td>\n",
       "      <td>NaN</td>\n",
       "    </tr>\n",
       "    <tr>\n",
       "      <th>21319</th>\n",
       "      <td>64.5161</td>\n",
       "      <td>53.7153</td>\n",
       "      <td>NaN</td>\n",
       "      <td>63.4921</td>\n",
       "      <td>NaN</td>\n",
       "      <td>60.0000</td>\n",
       "      <td>NaN</td>\n",
       "      <td>88.2353</td>\n",
       "      <td>66.2252</td>\n",
       "      <td>73.8916</td>\n",
       "      <td>NaN</td>\n",
       "    </tr>\n",
       "    <tr>\n",
       "      <th>21320</th>\n",
       "      <td>61.4125</td>\n",
       "      <td>52.9568</td>\n",
       "      <td>NaN</td>\n",
       "      <td>72.4638</td>\n",
       "      <td>NaN</td>\n",
       "      <td>63.4921</td>\n",
       "      <td>NaN</td>\n",
       "      <td>89.2857</td>\n",
       "      <td>67.3401</td>\n",
       "      <td>73.8916</td>\n",
       "      <td>NaN</td>\n",
       "    </tr>\n",
       "    <tr>\n",
       "      <th>21321</th>\n",
       "      <td>57.7478</td>\n",
       "      <td>54.8446</td>\n",
       "      <td>NaN</td>\n",
       "      <td>70.4225</td>\n",
       "      <td>NaN</td>\n",
       "      <td>59.5238</td>\n",
       "      <td>NaN</td>\n",
       "      <td>91.4634</td>\n",
       "      <td>66.2252</td>\n",
       "      <td>76.8246</td>\n",
       "      <td>NaN</td>\n",
       "    </tr>\n",
       "  </tbody>\n",
       "</table>\n",
       "<p>21322 rows × 11 columns</p>\n",
       "</div>"
      ],
      "text/plain": [
       "       Heart_rates_1  Heart_rates_2  Heart_rates_3  Heart_rates_4  \\\n",
       "0            61.4125        63.4921        51.5464        82.5309   \n",
       "1            59.0551        63.9659        60.4839        79.1557   \n",
       "2            63.4921        65.0759        55.6586        75.2823   \n",
       "3            63.4921        63.9659        58.6510        71.0900   \n",
       "4            60.9756        63.4921        67.3401        79.1557   \n",
       "...              ...            ...            ...            ...   \n",
       "21317        64.5161        53.3333            NaN        62.4350   \n",
       "21318        63.9659        54.8446            NaN        55.2486   \n",
       "21319        64.5161        53.7153            NaN        63.4921   \n",
       "21320        61.4125        52.9568            NaN        72.4638   \n",
       "21321        57.7478        54.8446            NaN        70.4225   \n",
       "\n",
       "       Heart_rates_5  Heart_rates_6  Heart_rates_7  Heart_rates_8  \\\n",
       "0            54.4465        65.0759        66.2252        76.0456   \n",
       "1            54.4465        65.0759        63.9659        74.5342   \n",
       "2            47.3934        60.0000        69.2042        78.3290   \n",
       "3            44.1501        60.0000        66.8151        80.0000   \n",
       "4            49.8753        64.5161        66.8151        78.3290   \n",
       "...              ...            ...            ...            ...   \n",
       "21317            NaN        58.1959            NaN        87.2093   \n",
       "21318            NaN        57.3066            NaN        88.2353   \n",
       "21319            NaN        60.0000            NaN        88.2353   \n",
       "21320            NaN        63.4921            NaN        89.2857   \n",
       "21321            NaN        59.5238            NaN        91.4634   \n",
       "\n",
       "       Heart_rates_9  Heart_rates_10  Heart_rates_11  \n",
       "0            96.0000         85.3485         48.8998  \n",
       "1            98.5222         83.4492         51.9031  \n",
       "2           101.0100         83.4492         47.3934  \n",
       "3           101.0100         84.3882         45.4545  \n",
       "4           102.3890         83.4492         48.8998  \n",
       "...              ...             ...             ...  \n",
       "21317        66.8151         76.0456             NaN  \n",
       "21318        65.0759         74.5342             NaN  \n",
       "21319        66.2252         73.8916             NaN  \n",
       "21320        67.3401         73.8916             NaN  \n",
       "21321        66.2252         76.8246             NaN  \n",
       "\n",
       "[21322 rows x 11 columns]"
      ]
     },
     "execution_count": 8,
     "metadata": {},
     "output_type": "execute_result"
    }
   ],
   "source": [
    "df_final_normal_group"
   ]
  },
  {
   "cell_type": "markdown",
   "metadata": {},
   "source": [
    "## Synthetic data"
   ]
  },
  {
   "cell_type": "markdown",
   "metadata": {},
   "source": [
    "### Obtain standard deviation"
   ]
  },
  {
   "cell_type": "code",
   "execution_count": 9,
   "metadata": {},
   "outputs": [],
   "source": [
    "# Convert de dataframe columns into lists\n",
    "subjects = [df_hr.iloc[:, i].dropna().tolist() for i in range(df_hr.shape[1])]\n",
    "subjects += [df_final_normal_group.iloc[:, i].dropna().tolist() for i in range(df_final_normal_group.shape[1])]"
   ]
  },
  {
   "cell_type": "code",
   "execution_count": 10,
   "metadata": {},
   "outputs": [
    {
     "name": "stdout",
     "output_type": "stream",
     "text": [
      "Measurements for subject 0: 1800\n",
      "Measurements for subject 1: 1800\n",
      "Measurements for subject 2: 950\n",
      "Measurements for subject 3: 891\n",
      "Measurements for subject 4: 21322\n",
      "Measurements for subject 5: 21322\n",
      "Measurements for subject 6: 17008\n",
      "Measurements for subject 7: 21322\n",
      "Measurements for subject 8: 16859\n",
      "Measurements for subject 9: 21322\n",
      "Measurements for subject 10: 19812\n",
      "Measurements for subject 11: 21322\n",
      "Measurements for subject 12: 21322\n",
      "Measurements for subject 13: 21322\n",
      "Measurements for subject 14: 21288\n"
     ]
    }
   ],
   "source": [
    "for i, subject in  enumerate(subjects):\n",
    "    print(f'Measurements for subject {i}: {len(subject)}')"
   ]
  },
  {
   "cell_type": "code",
   "execution_count": 11,
   "metadata": {},
   "outputs": [
    {
     "data": {
      "text/html": [
       "<div>\n",
       "<style scoped>\n",
       "    .dataframe tbody tr th:only-of-type {\n",
       "        vertical-align: middle;\n",
       "    }\n",
       "\n",
       "    .dataframe tbody tr th {\n",
       "        vertical-align: top;\n",
       "    }\n",
       "\n",
       "    .dataframe thead th {\n",
       "        text-align: right;\n",
       "    }\n",
       "</style>\n",
       "<table border=\"1\" class=\"dataframe\">\n",
       "  <thead>\n",
       "    <tr style=\"text-align: right;\">\n",
       "      <th></th>\n",
       "      <th>Mean</th>\n",
       "      <th>Max</th>\n",
       "      <th>Min</th>\n",
       "      <th>Std</th>\n",
       "    </tr>\n",
       "  </thead>\n",
       "  <tbody>\n",
       "    <tr>\n",
       "      <th>0</th>\n",
       "      <td>92.60</td>\n",
       "      <td>106.76</td>\n",
       "      <td>73.44</td>\n",
       "      <td>5.49</td>\n",
       "    </tr>\n",
       "    <tr>\n",
       "      <th>1</th>\n",
       "      <td>96.64</td>\n",
       "      <td>104.90</td>\n",
       "      <td>80.21</td>\n",
       "      <td>5.69</td>\n",
       "    </tr>\n",
       "    <tr>\n",
       "      <th>2</th>\n",
       "      <td>58.67</td>\n",
       "      <td>75.47</td>\n",
       "      <td>52.08</td>\n",
       "      <td>3.41</td>\n",
       "    </tr>\n",
       "    <tr>\n",
       "      <th>3</th>\n",
       "      <td>58.52</td>\n",
       "      <td>77.42</td>\n",
       "      <td>52.92</td>\n",
       "      <td>3.48</td>\n",
       "    </tr>\n",
       "    <tr>\n",
       "      <th>4</th>\n",
       "      <td>60.05</td>\n",
       "      <td>120.00</td>\n",
       "      <td>38.78</td>\n",
       "      <td>7.35</td>\n",
       "    </tr>\n",
       "    <tr>\n",
       "      <th>5</th>\n",
       "      <td>61.01</td>\n",
       "      <td>96.00</td>\n",
       "      <td>39.79</td>\n",
       "      <td>6.43</td>\n",
       "    </tr>\n",
       "    <tr>\n",
       "      <th>6</th>\n",
       "      <td>62.38</td>\n",
       "      <td>116.28</td>\n",
       "      <td>41.29</td>\n",
       "      <td>9.98</td>\n",
       "    </tr>\n",
       "    <tr>\n",
       "      <th>7</th>\n",
       "      <td>71.67</td>\n",
       "      <td>109.69</td>\n",
       "      <td>42.67</td>\n",
       "      <td>8.11</td>\n",
       "    </tr>\n",
       "    <tr>\n",
       "      <th>8</th>\n",
       "      <td>47.91</td>\n",
       "      <td>106.76</td>\n",
       "      <td>30.47</td>\n",
       "      <td>7.74</td>\n",
       "    </tr>\n",
       "    <tr>\n",
       "      <th>9</th>\n",
       "      <td>64.04</td>\n",
       "      <td>98.52</td>\n",
       "      <td>43.64</td>\n",
       "      <td>4.96</td>\n",
       "    </tr>\n",
       "    <tr>\n",
       "      <th>10</th>\n",
       "      <td>56.69</td>\n",
       "      <td>94.79</td>\n",
       "      <td>36.41</td>\n",
       "      <td>10.28</td>\n",
       "    </tr>\n",
       "    <tr>\n",
       "      <th>11</th>\n",
       "      <td>71.43</td>\n",
       "      <td>98.52</td>\n",
       "      <td>42.19</td>\n",
       "      <td>6.05</td>\n",
       "    </tr>\n",
       "    <tr>\n",
       "      <th>12</th>\n",
       "      <td>79.86</td>\n",
       "      <td>134.83</td>\n",
       "      <td>54.45</td>\n",
       "      <td>12.65</td>\n",
       "    </tr>\n",
       "    <tr>\n",
       "      <th>13</th>\n",
       "      <td>76.75</td>\n",
       "      <td>102.39</td>\n",
       "      <td>51.90</td>\n",
       "      <td>6.06</td>\n",
       "    </tr>\n",
       "    <tr>\n",
       "      <th>14</th>\n",
       "      <td>60.21</td>\n",
       "      <td>97.24</td>\n",
       "      <td>39.58</td>\n",
       "      <td>8.30</td>\n",
       "    </tr>\n",
       "  </tbody>\n",
       "</table>\n",
       "</div>"
      ],
      "text/plain": [
       "     Mean     Max    Min    Std\n",
       "0   92.60  106.76  73.44   5.49\n",
       "1   96.64  104.90  80.21   5.69\n",
       "2   58.67   75.47  52.08   3.41\n",
       "3   58.52   77.42  52.92   3.48\n",
       "4   60.05  120.00  38.78   7.35\n",
       "5   61.01   96.00  39.79   6.43\n",
       "6   62.38  116.28  41.29   9.98\n",
       "7   71.67  109.69  42.67   8.11\n",
       "8   47.91  106.76  30.47   7.74\n",
       "9   64.04   98.52  43.64   4.96\n",
       "10  56.69   94.79  36.41  10.28\n",
       "11  71.43   98.52  42.19   6.05\n",
       "12  79.86  134.83  54.45  12.65\n",
       "13  76.75  102.39  51.90   6.06\n",
       "14  60.21   97.24  39.58   8.30"
      ]
     },
     "execution_count": 11,
     "metadata": {},
     "output_type": "execute_result"
    }
   ],
   "source": [
    "subject_stats = []\n",
    "#Mean, maximun, minimum and standard deviation of the heart rate for each subject\n",
    "for subject in subjects:\n",
    "    stats = [\n",
    "        round(np.mean(subject), 2),\n",
    "        round(np.max(subject), 2),\n",
    "        round(np.min(subject), 2),\n",
    "        round(np.std(subject), 2)\n",
    "    ]\n",
    "    subject_stats.append(stats)\n",
    "\n",
    "# Create a dataframe with the data\n",
    "df_subjects_data = pd.DataFrame(\n",
    "    subject_stats,\n",
    "    columns=['Mean', 'Max', 'Min', 'Std']\n",
    ")\n",
    "df_subjects_data"
   ]
  },
  {
   "cell_type": "code",
   "execution_count": 12,
   "metadata": {},
   "outputs": [
    {
     "data": {
      "text/html": [
       "<div>\n",
       "<style scoped>\n",
       "    .dataframe tbody tr th:only-of-type {\n",
       "        vertical-align: middle;\n",
       "    }\n",
       "\n",
       "    .dataframe tbody tr th {\n",
       "        vertical-align: top;\n",
       "    }\n",
       "\n",
       "    .dataframe thead th {\n",
       "        text-align: right;\n",
       "    }\n",
       "</style>\n",
       "<table border=\"1\" class=\"dataframe\">\n",
       "  <thead>\n",
       "    <tr style=\"text-align: right;\">\n",
       "      <th></th>\n",
       "      <th>Mean</th>\n",
       "      <th>Max</th>\n",
       "      <th>Min</th>\n",
       "      <th>Std</th>\n",
       "      <th>Std Ratio</th>\n",
       "    </tr>\n",
       "  </thead>\n",
       "  <tbody>\n",
       "    <tr>\n",
       "      <th>Subject 1</th>\n",
       "      <td>92.60</td>\n",
       "      <td>106.76</td>\n",
       "      <td>73.44</td>\n",
       "      <td>5.49</td>\n",
       "      <td>0.39</td>\n",
       "    </tr>\n",
       "    <tr>\n",
       "      <th>Subject 2</th>\n",
       "      <td>96.64</td>\n",
       "      <td>104.90</td>\n",
       "      <td>80.21</td>\n",
       "      <td>5.69</td>\n",
       "      <td>0.69</td>\n",
       "    </tr>\n",
       "    <tr>\n",
       "      <th>Subject 3</th>\n",
       "      <td>58.67</td>\n",
       "      <td>75.47</td>\n",
       "      <td>52.08</td>\n",
       "      <td>3.41</td>\n",
       "      <td>0.20</td>\n",
       "    </tr>\n",
       "    <tr>\n",
       "      <th>Subject 4</th>\n",
       "      <td>58.52</td>\n",
       "      <td>77.42</td>\n",
       "      <td>52.92</td>\n",
       "      <td>3.48</td>\n",
       "      <td>0.18</td>\n",
       "    </tr>\n",
       "    <tr>\n",
       "      <th>Subject 5</th>\n",
       "      <td>60.05</td>\n",
       "      <td>120.00</td>\n",
       "      <td>38.78</td>\n",
       "      <td>7.35</td>\n",
       "      <td>0.12</td>\n",
       "    </tr>\n",
       "    <tr>\n",
       "      <th>Subject 6</th>\n",
       "      <td>61.01</td>\n",
       "      <td>96.00</td>\n",
       "      <td>39.79</td>\n",
       "      <td>6.43</td>\n",
       "      <td>0.18</td>\n",
       "    </tr>\n",
       "    <tr>\n",
       "      <th>Subject 7</th>\n",
       "      <td>62.38</td>\n",
       "      <td>116.28</td>\n",
       "      <td>41.29</td>\n",
       "      <td>9.98</td>\n",
       "      <td>0.19</td>\n",
       "    </tr>\n",
       "    <tr>\n",
       "      <th>Subject 8</th>\n",
       "      <td>71.67</td>\n",
       "      <td>109.69</td>\n",
       "      <td>42.67</td>\n",
       "      <td>8.11</td>\n",
       "      <td>0.21</td>\n",
       "    </tr>\n",
       "    <tr>\n",
       "      <th>Subject 9</th>\n",
       "      <td>47.91</td>\n",
       "      <td>106.76</td>\n",
       "      <td>30.47</td>\n",
       "      <td>7.74</td>\n",
       "      <td>0.13</td>\n",
       "    </tr>\n",
       "    <tr>\n",
       "      <th>Subject 10</th>\n",
       "      <td>64.04</td>\n",
       "      <td>98.52</td>\n",
       "      <td>43.64</td>\n",
       "      <td>4.96</td>\n",
       "      <td>0.14</td>\n",
       "    </tr>\n",
       "    <tr>\n",
       "      <th>Subject 11</th>\n",
       "      <td>56.69</td>\n",
       "      <td>94.79</td>\n",
       "      <td>36.41</td>\n",
       "      <td>10.28</td>\n",
       "      <td>0.27</td>\n",
       "    </tr>\n",
       "    <tr>\n",
       "      <th>Subject 12</th>\n",
       "      <td>71.43</td>\n",
       "      <td>98.52</td>\n",
       "      <td>42.19</td>\n",
       "      <td>6.05</td>\n",
       "      <td>0.22</td>\n",
       "    </tr>\n",
       "    <tr>\n",
       "      <th>Subject 13</th>\n",
       "      <td>79.86</td>\n",
       "      <td>134.83</td>\n",
       "      <td>54.45</td>\n",
       "      <td>12.65</td>\n",
       "      <td>0.23</td>\n",
       "    </tr>\n",
       "    <tr>\n",
       "      <th>Subject 14</th>\n",
       "      <td>76.75</td>\n",
       "      <td>102.39</td>\n",
       "      <td>51.90</td>\n",
       "      <td>6.06</td>\n",
       "      <td>0.24</td>\n",
       "    </tr>\n",
       "    <tr>\n",
       "      <th>Subject 15</th>\n",
       "      <td>60.21</td>\n",
       "      <td>97.24</td>\n",
       "      <td>39.58</td>\n",
       "      <td>8.30</td>\n",
       "      <td>0.22</td>\n",
       "    </tr>\n",
       "  </tbody>\n",
       "</table>\n",
       "</div>"
      ],
      "text/plain": [
       "             Mean     Max    Min    Std  Std Ratio\n",
       "Subject 1   92.60  106.76  73.44   5.49       0.39\n",
       "Subject 2   96.64  104.90  80.21   5.69       0.69\n",
       "Subject 3   58.67   75.47  52.08   3.41       0.20\n",
       "Subject 4   58.52   77.42  52.92   3.48       0.18\n",
       "Subject 5   60.05  120.00  38.78   7.35       0.12\n",
       "Subject 6   61.01   96.00  39.79   6.43       0.18\n",
       "Subject 7   62.38  116.28  41.29   9.98       0.19\n",
       "Subject 8   71.67  109.69  42.67   8.11       0.21\n",
       "Subject 9   47.91  106.76  30.47   7.74       0.13\n",
       "Subject 10  64.04   98.52  43.64   4.96       0.14\n",
       "Subject 11  56.69   94.79  36.41  10.28       0.27\n",
       "Subject 12  71.43   98.52  42.19   6.05       0.22\n",
       "Subject 13  79.86  134.83  54.45  12.65       0.23\n",
       "Subject 14  76.75  102.39  51.90   6.06       0.24\n",
       "Subject 15  60.21   97.24  39.58   8.30       0.22"
      ]
     },
     "execution_count": 12,
     "metadata": {},
     "output_type": "execute_result"
    }
   ],
   "source": [
    "#Mean, maximun, minimum, standard deviation and std ratio of the heart rate for each subject\n",
    "subject_stats = []\n",
    "for subject in subjects:\n",
    "    mean_val = np.mean(subject)\n",
    "    max_val = np.max(subject)\n",
    "    min_val = np.min(subject)\n",
    "    std_val = np.std(subject)\n",
    "    std_ratio = std_val / (max_val - mean_val) #Standard deviation represented as a its ratio of the range between the mean and maximum value\n",
    "    \n",
    "    stats = [mean_val, max_val, min_val, std_val, std_ratio]\n",
    "    subject_stats.append(stats)\n",
    "\n",
    "df_subjects_data = pd.DataFrame(\n",
    "    subject_stats,\n",
    "    columns=['Mean', 'Max', 'Min', 'Std', 'Std Ratio']\n",
    ")\n",
    "df_subjects_data.index = [f'Subject {i+1}' for i in range(len(subjects))]\n",
    "df_subjects_data.round(2)"
   ]
  },
  {
   "cell_type": "code",
   "execution_count": 13,
   "metadata": {},
   "outputs": [
    {
     "name": "stdout",
     "output_type": "stream",
     "text": [
      "0.2418092520571011\n"
     ]
    }
   ],
   "source": [
    "mean_std_ratio_avg_max = df_subjects_data['Std Ratio'].mean()\n",
    "print(mean_std_ratio_avg_max)"
   ]
  },
  {
   "cell_type": "code",
   "execution_count": 14,
   "metadata": {},
   "outputs": [
    {
     "name": "stdout",
     "output_type": "stream",
     "text": [
      "0.1358964728114661\n"
     ]
    }
   ],
   "source": [
    "#Mean, maximun, minimum, standard deviation and std ratio of the heart rate for each subject\n",
    "subject_stats = []\n",
    "for subject in subjects:\n",
    "    mean_val = np.mean(subject)\n",
    "    max_val = np.max(subject)\n",
    "    min_val = np.min(subject)\n",
    "    std_val = np.std(subject)\n",
    "    std_ratio = std_val / (max_val - min_val)  #Standard deviation represented as a its ratio of the range between the minimum and maximum value\n",
    "    \n",
    "    stats = [mean_val, max_val, min_val, std_val, std_ratio]\n",
    "    subject_stats.append(stats)\n",
    "\n",
    "df_subjects_data = pd.DataFrame(\n",
    "    subject_stats,\n",
    "    columns=['Mean', 'Max', 'Min', 'Std', 'Std Ratio']\n",
    ")\n",
    "df_subjects_data.index = [f'Subject {i+1}' for i in range(len(subjects))]\n",
    "\n",
    "mean_std_ratio_min_max = df_subjects_data['Std Ratio'].mean()\n",
    "print(mean_std_ratio_min_max)"
   ]
  },
  {
   "cell_type": "markdown",
   "metadata": {},
   "source": [
    "The mean ratio of the standar deviation with respect to the interval between average and maximum heart rate values is 24.18% and between minimum and maximum is 17.07%. We will use the interval between average and maximum, because in the dataset, the minimum are heart rates at rest."
   ]
  },
  {
   "cell_type": "markdown",
   "metadata": {},
   "source": [
    "### Generate synthetic data"
   ]
  },
  {
   "cell_type": "markdown",
   "metadata": {},
   "source": [
    "#### Generation study"
   ]
  },
  {
   "cell_type": "code",
   "execution_count": 16,
   "metadata": {},
   "outputs": [],
   "source": [
    "from scipy.stats import truncnorm\n",
    "\n",
    "def genarate_heart_rates_truncnorm(min_val, max_val, avg, std, N):\n",
    "    a = (min_val - avg) / std\n",
    "    b = (max_val - avg) / std\n",
    "\n",
    "    genarated_heart_rates = truncnorm.rvs(a, b, loc=avg, scale=std, size=N)\n",
    "\n",
    "    return genarated_heart_rates"
   ]
  },
  {
   "cell_type": "code",
   "execution_count": 17,
   "metadata": {},
   "outputs": [],
   "source": [
    "import scipy.stats\n",
    "import matplotlib.pyplot as plt\n",
    "\n",
    "\n",
    "def my_distribution(min_val, max_val, mean, std):\n",
    "    scale = max_val - min_val\n",
    "    mean_std = (mean - min_val) / scale\n",
    "    var_std = (std / scale) ** 2\n",
    "\n",
    "    alpha = ((1-mean_std) / var_std  - 1/mean_std) * mean_std**2\n",
    "\n",
    "    beta_param = alpha * (1 / mean_std - 1)\n",
    "\n",
    "    return scipy.stats.beta(a= alpha, b=beta_param, loc=min_val, scale=scale)\n",
    "\n",
    "def genarate_heart_rates_beta(min_val, max_val, avg, std, N, plot=False):\n",
    "    my_dist = my_distribution(min_val, max_val, avg, std)\n",
    "    \n",
    "    generated_numbers = my_dist.rvs(size=N)\n",
    "    if plot:  \n",
    "        x = np.linspace(min_val, max_val, 100)\n",
    "        plt.plot(x, my_dist.pdf(x))\n",
    "    return generated_numbers"
   ]
  },
  {
   "cell_type": "code",
   "execution_count": 18,
   "metadata": {},
   "outputs": [
    {
     "data": {
      "text/html": [
       "<div>\n",
       "<style scoped>\n",
       "    .dataframe tbody tr th:only-of-type {\n",
       "        vertical-align: middle;\n",
       "    }\n",
       "\n",
       "    .dataframe tbody tr th {\n",
       "        vertical-align: top;\n",
       "    }\n",
       "\n",
       "    .dataframe thead th {\n",
       "        text-align: right;\n",
       "    }\n",
       "</style>\n",
       "<table border=\"1\" class=\"dataframe\">\n",
       "  <thead>\n",
       "    <tr style=\"text-align: right;\">\n",
       "      <th></th>\n",
       "      <th>Age</th>\n",
       "      <th>Gender</th>\n",
       "      <th>Weight (kg)</th>\n",
       "      <th>Height (m)</th>\n",
       "      <th>Max_BPM</th>\n",
       "      <th>Avg_BPM</th>\n",
       "      <th>Resting_BPM</th>\n",
       "      <th>Session_Duration (hours)</th>\n",
       "      <th>Calories_Burned</th>\n",
       "      <th>Workout_Type</th>\n",
       "      <th>Fat_Percentage</th>\n",
       "      <th>Water_Intake (liters)</th>\n",
       "      <th>Workout_Frequency (days/week)</th>\n",
       "      <th>Experience_Level</th>\n",
       "      <th>BMI</th>\n",
       "    </tr>\n",
       "  </thead>\n",
       "  <tbody>\n",
       "    <tr>\n",
       "      <th>0</th>\n",
       "      <td>32</td>\n",
       "      <td>Female</td>\n",
       "      <td>68.1</td>\n",
       "      <td>1.66</td>\n",
       "      <td>167</td>\n",
       "      <td>122</td>\n",
       "      <td>54</td>\n",
       "      <td>1.11</td>\n",
       "      <td>677.0</td>\n",
       "      <td>Cardio</td>\n",
       "      <td>33.4</td>\n",
       "      <td>2.3</td>\n",
       "      <td>4</td>\n",
       "      <td>2</td>\n",
       "      <td>24.71</td>\n",
       "    </tr>\n",
       "    <tr>\n",
       "      <th>1</th>\n",
       "      <td>36</td>\n",
       "      <td>Male</td>\n",
       "      <td>70.3</td>\n",
       "      <td>1.72</td>\n",
       "      <td>174</td>\n",
       "      <td>169</td>\n",
       "      <td>73</td>\n",
       "      <td>1.49</td>\n",
       "      <td>1385.0</td>\n",
       "      <td>Cardio</td>\n",
       "      <td>21.3</td>\n",
       "      <td>2.3</td>\n",
       "      <td>3</td>\n",
       "      <td>2</td>\n",
       "      <td>23.76</td>\n",
       "    </tr>\n",
       "    <tr>\n",
       "      <th>2</th>\n",
       "      <td>40</td>\n",
       "      <td>Female</td>\n",
       "      <td>69.7</td>\n",
       "      <td>1.51</td>\n",
       "      <td>189</td>\n",
       "      <td>141</td>\n",
       "      <td>64</td>\n",
       "      <td>1.27</td>\n",
       "      <td>895.0</td>\n",
       "      <td>Cardio</td>\n",
       "      <td>30.6</td>\n",
       "      <td>1.9</td>\n",
       "      <td>3</td>\n",
       "      <td>2</td>\n",
       "      <td>30.57</td>\n",
       "    </tr>\n",
       "    <tr>\n",
       "      <th>3</th>\n",
       "      <td>28</td>\n",
       "      <td>Male</td>\n",
       "      <td>101.8</td>\n",
       "      <td>1.84</td>\n",
       "      <td>169</td>\n",
       "      <td>136</td>\n",
       "      <td>64</td>\n",
       "      <td>1.08</td>\n",
       "      <td>808.0</td>\n",
       "      <td>Cardio</td>\n",
       "      <td>29.7</td>\n",
       "      <td>2.7</td>\n",
       "      <td>3</td>\n",
       "      <td>1</td>\n",
       "      <td>30.07</td>\n",
       "    </tr>\n",
       "    <tr>\n",
       "      <th>4</th>\n",
       "      <td>57</td>\n",
       "      <td>Male</td>\n",
       "      <td>112.5</td>\n",
       "      <td>1.61</td>\n",
       "      <td>195</td>\n",
       "      <td>165</td>\n",
       "      <td>61</td>\n",
       "      <td>1.24</td>\n",
       "      <td>1013.0</td>\n",
       "      <td>Cardio</td>\n",
       "      <td>22.1</td>\n",
       "      <td>2.7</td>\n",
       "      <td>3</td>\n",
       "      <td>2</td>\n",
       "      <td>43.40</td>\n",
       "    </tr>\n",
       "  </tbody>\n",
       "</table>\n",
       "</div>"
      ],
      "text/plain": [
       "   Age  Gender  Weight (kg)  Height (m)  Max_BPM  Avg_BPM  Resting_BPM  \\\n",
       "0   32  Female         68.1        1.66      167      122           54   \n",
       "1   36    Male         70.3        1.72      174      169           73   \n",
       "2   40  Female         69.7        1.51      189      141           64   \n",
       "3   28    Male        101.8        1.84      169      136           64   \n",
       "4   57    Male        112.5        1.61      195      165           61   \n",
       "\n",
       "   Session_Duration (hours)  Calories_Burned Workout_Type  Fat_Percentage  \\\n",
       "0                      1.11            677.0       Cardio            33.4   \n",
       "1                      1.49           1385.0       Cardio            21.3   \n",
       "2                      1.27            895.0       Cardio            30.6   \n",
       "3                      1.08            808.0       Cardio            29.7   \n",
       "4                      1.24           1013.0       Cardio            22.1   \n",
       "\n",
       "   Water_Intake (liters)  Workout_Frequency (days/week)  Experience_Level  \\\n",
       "0                    2.3                              4                 2   \n",
       "1                    2.3                              3                 2   \n",
       "2                    1.9                              3                 2   \n",
       "3                    2.7                              3                 1   \n",
       "4                    2.7                              3                 2   \n",
       "\n",
       "     BMI  \n",
       "0  24.71  \n",
       "1  23.76  \n",
       "2  30.57  \n",
       "3  30.07  \n",
       "4  43.40  "
      ]
     },
     "execution_count": 18,
     "metadata": {},
     "output_type": "execute_result"
    }
   ],
   "source": [
    "df_gym.head()"
   ]
  },
  {
   "cell_type": "code",
   "execution_count": 60,
   "metadata": {},
   "outputs": [
    {
     "name": "stdout",
     "output_type": "stream",
     "text": [
      "Min: 58, Max: 182, Avg: 165, Std: 4.110757284970719, N: 71\n",
      "Using truncated normal distribution\n",
      "Generated average: 165.45\n",
      "Generated std: 4.41\n",
      "Generated min: 156.16\n",
      "Generated max: 174.46\n",
      "\n",
      "\n",
      "Using beta distribution\n",
      "Generated average: 164.56\n",
      "Generated std: 4.39\n",
      "Generated min: 151.23\n",
      "Generated max: 174.55\n"
     ]
    },
    {
     "data": {
      "image/png": "[encoded data removed]",
      "text/plain": [
       "<Figure size 640x480 with 1 Axes>"
      ]
     },
     "metadata": {},
     "output_type": "display_data"
    }
   ],
   "source": [
    "min_val, max_val, avg, N = df_gym.iloc[5]['Resting_BPM'], df_gym.iloc[5]['Max_BPM'], df_gym.iloc[5]['Avg_BPM'], math.trunc(df_gym.iloc[5]['Session_Duration (hours)'] * 60)\n",
    "std = mean_std_ratio_avg_max * (max_val - avg)\n",
    "print(f\"Min: {min_val}, Max: {max_val}, Avg: {avg}, Std: {std}, N: {N}\")\n",
    "genarated_heart_rates_truncnorm = genarate_heart_rates_truncnorm(min_val, max_val, avg, std, N)\n",
    "\n",
    "print(\"Using truncated normal distribution\")\n",
    "print(f\"Generated average: {np.mean(genarated_heart_rates_truncnorm):.2f}\")\n",
    "print(f\"Generated std: {np.std(genarated_heart_rates_truncnorm, ddof=1):.2f}\")\n",
    "print(f\"Generated min: {np.min(genarated_heart_rates_truncnorm):.2f}\")\n",
    "print(f\"Generated max: {np.max(genarated_heart_rates_truncnorm):.2f}\")\n",
    "genarated_heart_rates_beta = genarate_heart_rates_beta(min_val, max_val, avg, std, N, True)\n",
    "\n",
    "print(\"\\n\\nUsing beta distribution\")\n",
    "print(f\"Generated average: {np.mean(genarated_heart_rates_beta):.2f}\")\n",
    "print(f\"Generated std: {np.std(genarated_heart_rates_beta, ddof=1):.2f}\")\n",
    "print(f\"Generated min: {np.min(genarated_heart_rates_beta):.2f}\")\n",
    "print(f\"Generated max: {np.max(genarated_heart_rates_beta):.2f}\")\n"
   ]
  },
  {
   "cell_type": "code",
   "execution_count": 128,
   "metadata": {},
   "outputs": [
    {
     "name": "stdout",
     "output_type": "stream",
     "text": [
      "[ 13 162 227 183 138 184  99  18 205 116]\n"
     ]
    }
   ],
   "source": [
    "random_indices = np.random.RandomState(RANDOM_STATE).randint(0, df_gym.shape[0], 10)\n",
    "print(random_indices)"
   ]
  },
  {
   "cell_type": "code",
   "execution_count": 129,
   "metadata": {},
   "outputs": [
    {
     "data": {
      "image/png": "[encoded data removed]",
      "text/plain": [
       "<Figure size 640x480 with 1 Axes>"
      ]
     },
     "metadata": {},
     "output_type": "display_data"
    }
   ],
   "source": [
    "for index, row in df_gym.iloc[random_indices].iterrows():\n",
    "    min_val, max_val, avg, N = row['Resting_BPM'], row['Max_BPM'], row['Avg_BPM'], math.trunc(row['Session_Duration (hours)'] * 60)\n",
    "    std = mean_std_ratio_avg_max * (max_val - avg)\n",
    "    \n",
    "    try:\n",
    "        genarated_heart_rates_session = genarate_heart_rates_beta(min_val, max_val, avg, std, N, True)\n",
    "\n",
    "        # print(f\"Min: {min_val}, Max: {max_val}, Avg: {avg}, Std: {std}, N: {N}\")\n",
    "        \n",
    "        # print(f\"Real average: {np.mean(genarated_heart_rates_session):.2f}\")\n",
    "        # print(f\"Real std: {np.std(genarated_heart_rates_session, ddof=1):.2f}\")\n",
    "        # print(f\"Real min: {np.min(genarated_heart_rates_session):.2f}\")\n",
    "        # print(f\"Real max: {np.max(genarated_heart_rates_session):.2f}\")\n",
    "\n",
    "        # print('\\n')\n",
    "    except Exception as e:\n",
    "        print(f\"Error for index {index}: {e}\")\n",
    "        continue\n"
   ]
  },
  {
   "cell_type": "markdown",
   "metadata": {},
   "source": [
    "#### Data generation"
   ]
  },
  {
   "cell_type": "code",
   "execution_count": 130,
   "metadata": {},
   "outputs": [],
   "source": [
    "def generate_heart_rates(min_val, max_val, avg, N, std_ratio):\n",
    "    std = std_ratio * (max_val - avg)\n",
    "    try:\n",
    "        return genarate_heart_rates_beta(min_val, max_val, avg, std, N, False)\n",
    "    \n",
    "    except Exception as e:\n",
    "        return None"
   ]
  },
  {
   "cell_type": "code",
   "execution_count": 131,
   "metadata": {},
   "outputs": [
    {
     "name": "stderr",
     "output_type": "stream",
     "text": [
      "C:\\Users\\danih\\AppData\\Local\\Temp\\ipykernel_9436\\4136777182.py:10: RuntimeWarning: invalid value encountered in scalar divide\n",
      "  alpha = ((1-mean_std) / var_std  - 1/mean_std) * mean_std**2\n"
     ]
    }
   ],
   "source": [
    "clients_heart_rates = []\n",
    "valid_indexes = []\n",
    "user_final_id = 0\n",
    "\n",
    "for index, row in df_gym.iterrows():\n",
    "    heart_rates = generate_heart_rates(row['Resting_BPM'], row['Max_BPM'], row['Avg_BPM'], math.trunc(row['Session_Duration (hours)'] * 60), mean_std_ratio_avg_max)\n",
    "    \n",
    "    if heart_rates is not None:\n",
    "        for hr in heart_rates:\n",
    "            clients_heart_rates.append({\n",
    "                'User_ID': user_final_id,\n",
    "                'Heart_Rate': int(hr)\n",
    "            })\n",
    "        valid_indexes.append(index)\n",
    "        user_final_id += 1\n",
    "\n",
    "df_pulses = pd.DataFrame(clients_heart_rates)\n",
    "df_gym_members_with_hr = df_gym.loc[valid_indexes].reset_index(drop=True)"
   ]
  },
  {
   "cell_type": "code",
   "execution_count": null,
   "metadata": {},
   "outputs": [],
   "source": [
    "df_pulses.to_csv('data/gym_members_heart_rates.csv', index=False)\n",
    "df_gym_members_with_hr.to_csv('data/modified_gym_members_exercise_tracking.csv', index=False)"
   ]
  },
  {
   "cell_type": "markdown",
   "metadata": {},
   "source": [
    "# Stage 2"
   ]
  },
  {
   "cell_type": "code",
   "execution_count": 24,
   "metadata": {},
   "outputs": [],
   "source": [
    "df_users_raw = pd.read_csv('data/Million Song Dataset kaggle/User Listening History.csv')\n",
    "df_music = pd.read_csv('data/Million Song Dataset kaggle/Music Info.csv')"
   ]
  },
  {
   "cell_type": "markdown",
   "metadata": {},
   "source": [
    "We only take into account users that have listened to at least 10 songs"
   ]
  },
  {
   "cell_type": "code",
   "execution_count": 25,
   "metadata": {},
   "outputs": [],
   "source": [
    "df_user_counts = df_users_raw['user_id'].value_counts().reset_index()\n",
    "df_user_counts.columns = ['user_id', 'count']"
   ]
  },
  {
   "cell_type": "code",
   "execution_count": 26,
   "metadata": {},
   "outputs": [
    {
     "data": {
      "text/plain": [
       "(8332242, 3)"
      ]
     },
     "execution_count": 26,
     "metadata": {},
     "output_type": "execute_result"
    }
   ],
   "source": [
    "df_users = df_users_raw[df_users_raw['user_id'].isin(df_user_counts[df_user_counts['count'] > 5]['user_id'])].reset_index(drop=True)\n",
    "df_users.shape"
   ]
  },
  {
   "cell_type": "code",
   "execution_count": 27,
   "metadata": {},
   "outputs": [
    {
     "data": {
      "text/html": [
       "<div>\n",
       "<style scoped>\n",
       "    .dataframe tbody tr th:only-of-type {\n",
       "        vertical-align: middle;\n",
       "    }\n",
       "\n",
       "    .dataframe tbody tr th {\n",
       "        vertical-align: top;\n",
       "    }\n",
       "\n",
       "    .dataframe thead th {\n",
       "        text-align: right;\n",
       "    }\n",
       "</style>\n",
       "<table border=\"1\" class=\"dataframe\">\n",
       "  <thead>\n",
       "    <tr style=\"text-align: right;\">\n",
       "      <th></th>\n",
       "      <th>track_id</th>\n",
       "      <th>user_id</th>\n",
       "      <th>playcount</th>\n",
       "    </tr>\n",
       "  </thead>\n",
       "  <tbody>\n",
       "    <tr>\n",
       "      <th>0</th>\n",
       "      <td>TRIRLYL128F42539D1</td>\n",
       "      <td>b80344d063b5ccb3212f76538f3d9e43d87dca9e</td>\n",
       "      <td>1</td>\n",
       "    </tr>\n",
       "    <tr>\n",
       "      <th>1</th>\n",
       "      <td>TRFUPBA128F934F7E1</td>\n",
       "      <td>b80344d063b5ccb3212f76538f3d9e43d87dca9e</td>\n",
       "      <td>1</td>\n",
       "    </tr>\n",
       "    <tr>\n",
       "      <th>2</th>\n",
       "      <td>TRLQPQJ128F42AA94F</td>\n",
       "      <td>b80344d063b5ccb3212f76538f3d9e43d87dca9e</td>\n",
       "      <td>1</td>\n",
       "    </tr>\n",
       "    <tr>\n",
       "      <th>3</th>\n",
       "      <td>TRTUCUY128F92E1D24</td>\n",
       "      <td>b80344d063b5ccb3212f76538f3d9e43d87dca9e</td>\n",
       "      <td>1</td>\n",
       "    </tr>\n",
       "    <tr>\n",
       "      <th>4</th>\n",
       "      <td>TRHDDQG12903CB53EE</td>\n",
       "      <td>b80344d063b5ccb3212f76538f3d9e43d87dca9e</td>\n",
       "      <td>1</td>\n",
       "    </tr>\n",
       "    <tr>\n",
       "      <th>...</th>\n",
       "      <td>...</td>\n",
       "      <td>...</td>\n",
       "      <td>...</td>\n",
       "    </tr>\n",
       "    <tr>\n",
       "      <th>8332237</th>\n",
       "      <td>TRBKFKL128E078ED76</td>\n",
       "      <td>b7815dbb206eb2831ce0fe040d0aa537e2e800f7</td>\n",
       "      <td>1</td>\n",
       "    </tr>\n",
       "    <tr>\n",
       "      <th>8332238</th>\n",
       "      <td>TRYFXPG128E078ECBD</td>\n",
       "      <td>b7815dbb206eb2831ce0fe040d0aa537e2e800f7</td>\n",
       "      <td>1</td>\n",
       "    </tr>\n",
       "    <tr>\n",
       "      <th>8332239</th>\n",
       "      <td>TROBUUZ128F4263002</td>\n",
       "      <td>b7815dbb206eb2831ce0fe040d0aa537e2e800f7</td>\n",
       "      <td>1</td>\n",
       "    </tr>\n",
       "    <tr>\n",
       "      <th>8332240</th>\n",
       "      <td>TROEWXC128F148C83E</td>\n",
       "      <td>b7815dbb206eb2831ce0fe040d0aa537e2e800f7</td>\n",
       "      <td>1</td>\n",
       "    </tr>\n",
       "    <tr>\n",
       "      <th>8332241</th>\n",
       "      <td>TROHQNO128F146ECCB</td>\n",
       "      <td>b7815dbb206eb2831ce0fe040d0aa537e2e800f7</td>\n",
       "      <td>1</td>\n",
       "    </tr>\n",
       "  </tbody>\n",
       "</table>\n",
       "<p>8332242 rows × 3 columns</p>\n",
       "</div>"
      ],
      "text/plain": [
       "                   track_id                                   user_id  \\\n",
       "0        TRIRLYL128F42539D1  b80344d063b5ccb3212f76538f3d9e43d87dca9e   \n",
       "1        TRFUPBA128F934F7E1  b80344d063b5ccb3212f76538f3d9e43d87dca9e   \n",
       "2        TRLQPQJ128F42AA94F  b80344d063b5ccb3212f76538f3d9e43d87dca9e   \n",
       "3        TRTUCUY128F92E1D24  b80344d063b5ccb3212f76538f3d9e43d87dca9e   \n",
       "4        TRHDDQG12903CB53EE  b80344d063b5ccb3212f76538f3d9e43d87dca9e   \n",
       "...                     ...                                       ...   \n",
       "8332237  TRBKFKL128E078ED76  b7815dbb206eb2831ce0fe040d0aa537e2e800f7   \n",
       "8332238  TRYFXPG128E078ECBD  b7815dbb206eb2831ce0fe040d0aa537e2e800f7   \n",
       "8332239  TROBUUZ128F4263002  b7815dbb206eb2831ce0fe040d0aa537e2e800f7   \n",
       "8332240  TROEWXC128F148C83E  b7815dbb206eb2831ce0fe040d0aa537e2e800f7   \n",
       "8332241  TROHQNO128F146ECCB  b7815dbb206eb2831ce0fe040d0aa537e2e800f7   \n",
       "\n",
       "         playcount  \n",
       "0                1  \n",
       "1                1  \n",
       "2                1  \n",
       "3                1  \n",
       "4                1  \n",
       "...            ...  \n",
       "8332237          1  \n",
       "8332238          1  \n",
       "8332239          1  \n",
       "8332240          1  \n",
       "8332241          1  \n",
       "\n",
       "[8332242 rows x 3 columns]"
      ]
     },
     "execution_count": 27,
     "metadata": {},
     "output_type": "execute_result"
    }
   ],
   "source": [
    "df_users"
   ]
  },
  {
   "cell_type": "code",
   "execution_count": 28,
   "metadata": {},
   "outputs": [],
   "source": [
    "df_users.to_csv('data/User Listening History_modified.csv', index=False)"
   ]
  },
  {
   "cell_type": "markdown",
   "metadata": {},
   "source": [
    "# Web app"
   ]
  },
  {
   "cell_type": "markdown",
   "metadata": {},
   "source": [
    "To reduce file size, we will only store the music history of an amount of people equal to the amount of people we have heart data of, which are the people who did a cardio session"
   ]
  },
  {
   "cell_type": "code",
   "execution_count": null,
   "metadata": {},
   "outputs": [],
   "source": [
    "df_gym_members_with_hr = pd.read_csv('data/modified_gym_members_exercise_tracking.csv')"
   ]
  },
  {
   "cell_type": "code",
   "execution_count": 135,
   "metadata": {},
   "outputs": [],
   "source": [
    "df_users = pd.read_csv('data/User Listening History_modified.csv')"
   ]
  },
  {
   "cell_type": "code",
   "execution_count": 136,
   "metadata": {},
   "outputs": [
    {
     "data": {
      "text/plain": [
       "464573"
      ]
     },
     "execution_count": 136,
     "metadata": {},
     "output_type": "execute_result"
    }
   ],
   "source": [
    "df_users['user_id'].unique().shape[0]"
   ]
  },
  {
   "cell_type": "code",
   "execution_count": 137,
   "metadata": {},
   "outputs": [],
   "source": [
    "first_250_users = df_users['user_id'].unique()[:len(df_gym_members_with_hr)]\n",
    "df_users_reduced = df_users[df_users['user_id'].isin(first_250_users)].reset_index(drop=True)"
   ]
  },
  {
   "cell_type": "code",
   "execution_count": null,
   "metadata": {},
   "outputs": [],
   "source": [
    "df_users_reduced.to_csv('data/User Listening History_reduced.csv', index=False)"
   ]
  },
  {
   "cell_type": "code",
   "execution_count": null,
   "metadata": {},
   "outputs": [],
   "source": []
  }
 ],
 "metadata": {
  "kernelspec": {
   "display_name": "MasterIA",
   "language": "python",
   "name": "python3"
  },
  "language_info": {
   "codemirror_mode": {
    "name": "ipython",
    "version": 3
   },
   "file_extension": ".py",
   "mimetype": "text/x-python",
   "name": "python",
   "nbconvert_exporter": "python",
   "pygments_lexer": "ipython3",
   "version": "3.12.11"
  }
 },
 "nbformat": 4,
 "nbformat_minor": 2
}
