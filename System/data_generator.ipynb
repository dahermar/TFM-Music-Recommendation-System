{
 "cells": [
  {
   "cell_type": "code",
   "execution_count": 39,
   "metadata": {},
   "outputs": [],
   "source": [
    "import pandas as pd\n",
    "import numpy as np\n",
    "import math\n",
    "\n",
    "RANDOM_STATE = 123\n",
    "np.random.seed(123)"
   ]
  },
  {
   "cell_type": "markdown",
   "metadata": {},
   "source": [
    "# Stage 1"
   ]
  },
  {
   "cell_type": "markdown",
   "metadata": {},
   "source": [
    "### Load data"
   ]
  },
  {
   "cell_type": "code",
   "execution_count": 40,
   "metadata": {},
   "outputs": [],
   "source": [
    "df_gym = pd.read_csv('data/gym_members_exercise_tracking.csv')"
   ]
  },
  {
   "cell_type": "code",
   "execution_count": 41,
   "metadata": {},
   "outputs": [
    {
     "data": {
      "text/plain": [
       "array(['Yoga', 'HIIT', 'Cardio', 'Strength'], dtype=object)"
      ]
     },
     "execution_count": 41,
     "metadata": {},
     "output_type": "execute_result"
    }
   ],
   "source": [
    "df_gym['Workout_Type'].unique()"
   ]
  },
  {
   "cell_type": "markdown",
   "metadata": {},
   "source": [
    "We remove Yoga Sesions"
   ]
  },
  {
   "cell_type": "code",
   "execution_count": 42,
   "metadata": {},
   "outputs": [
    {
     "data": {
      "text/html": [
       "<div>\n",
       "<style scoped>\n",
       "    .dataframe tbody tr th:only-of-type {\n",
       "        vertical-align: middle;\n",
       "    }\n",
       "\n",
       "    .dataframe tbody tr th {\n",
       "        vertical-align: top;\n",
       "    }\n",
       "\n",
       "    .dataframe thead th {\n",
       "        text-align: right;\n",
       "    }\n",
       "</style>\n",
       "<table border=\"1\" class=\"dataframe\">\n",
       "  <thead>\n",
       "    <tr style=\"text-align: right;\">\n",
       "      <th></th>\n",
       "      <th>Age</th>\n",
       "      <th>Gender</th>\n",
       "      <th>Weight (kg)</th>\n",
       "      <th>Height (m)</th>\n",
       "      <th>Max_BPM</th>\n",
       "      <th>Avg_BPM</th>\n",
       "      <th>Resting_BPM</th>\n",
       "      <th>Session_Duration (hours)</th>\n",
       "      <th>Calories_Burned</th>\n",
       "      <th>Workout_Type</th>\n",
       "      <th>Fat_Percentage</th>\n",
       "      <th>Water_Intake (liters)</th>\n",
       "      <th>Workout_Frequency (days/week)</th>\n",
       "      <th>Experience_Level</th>\n",
       "      <th>BMI</th>\n",
       "    </tr>\n",
       "  </thead>\n",
       "  <tbody>\n",
       "    <tr>\n",
       "      <th>0</th>\n",
       "      <td>46</td>\n",
       "      <td>Female</td>\n",
       "      <td>74.9</td>\n",
       "      <td>1.53</td>\n",
       "      <td>179</td>\n",
       "      <td>151</td>\n",
       "      <td>66</td>\n",
       "      <td>1.30</td>\n",
       "      <td>883.0</td>\n",
       "      <td>HIIT</td>\n",
       "      <td>33.9</td>\n",
       "      <td>2.1</td>\n",
       "      <td>4</td>\n",
       "      <td>2</td>\n",
       "      <td>32.00</td>\n",
       "    </tr>\n",
       "    <tr>\n",
       "      <th>1</th>\n",
       "      <td>32</td>\n",
       "      <td>Female</td>\n",
       "      <td>68.1</td>\n",
       "      <td>1.66</td>\n",
       "      <td>167</td>\n",
       "      <td>122</td>\n",
       "      <td>54</td>\n",
       "      <td>1.11</td>\n",
       "      <td>677.0</td>\n",
       "      <td>Cardio</td>\n",
       "      <td>33.4</td>\n",
       "      <td>2.3</td>\n",
       "      <td>4</td>\n",
       "      <td>2</td>\n",
       "      <td>24.71</td>\n",
       "    </tr>\n",
       "    <tr>\n",
       "      <th>2</th>\n",
       "      <td>25</td>\n",
       "      <td>Male</td>\n",
       "      <td>53.2</td>\n",
       "      <td>1.70</td>\n",
       "      <td>190</td>\n",
       "      <td>164</td>\n",
       "      <td>56</td>\n",
       "      <td>0.59</td>\n",
       "      <td>532.0</td>\n",
       "      <td>Strength</td>\n",
       "      <td>28.8</td>\n",
       "      <td>2.1</td>\n",
       "      <td>3</td>\n",
       "      <td>1</td>\n",
       "      <td>18.41</td>\n",
       "    </tr>\n",
       "    <tr>\n",
       "      <th>3</th>\n",
       "      <td>38</td>\n",
       "      <td>Male</td>\n",
       "      <td>46.1</td>\n",
       "      <td>1.79</td>\n",
       "      <td>188</td>\n",
       "      <td>158</td>\n",
       "      <td>68</td>\n",
       "      <td>0.64</td>\n",
       "      <td>556.0</td>\n",
       "      <td>Strength</td>\n",
       "      <td>29.2</td>\n",
       "      <td>2.8</td>\n",
       "      <td>3</td>\n",
       "      <td>1</td>\n",
       "      <td>14.39</td>\n",
       "    </tr>\n",
       "    <tr>\n",
       "      <th>4</th>\n",
       "      <td>56</td>\n",
       "      <td>Female</td>\n",
       "      <td>58.0</td>\n",
       "      <td>1.68</td>\n",
       "      <td>168</td>\n",
       "      <td>156</td>\n",
       "      <td>74</td>\n",
       "      <td>1.59</td>\n",
       "      <td>1116.0</td>\n",
       "      <td>HIIT</td>\n",
       "      <td>15.5</td>\n",
       "      <td>2.7</td>\n",
       "      <td>5</td>\n",
       "      <td>3</td>\n",
       "      <td>20.55</td>\n",
       "    </tr>\n",
       "  </tbody>\n",
       "</table>\n",
       "</div>"
      ],
      "text/plain": [
       "   Age  Gender  Weight (kg)  Height (m)  Max_BPM  Avg_BPM  Resting_BPM  \\\n",
       "0   46  Female         74.9        1.53      179      151           66   \n",
       "1   32  Female         68.1        1.66      167      122           54   \n",
       "2   25    Male         53.2        1.70      190      164           56   \n",
       "3   38    Male         46.1        1.79      188      158           68   \n",
       "4   56  Female         58.0        1.68      168      156           74   \n",
       "\n",
       "   Session_Duration (hours)  Calories_Burned Workout_Type  Fat_Percentage  \\\n",
       "0                      1.30            883.0         HIIT            33.9   \n",
       "1                      1.11            677.0       Cardio            33.4   \n",
       "2                      0.59            532.0     Strength            28.8   \n",
       "3                      0.64            556.0     Strength            29.2   \n",
       "4                      1.59           1116.0         HIIT            15.5   \n",
       "\n",
       "   Water_Intake (liters)  Workout_Frequency (days/week)  Experience_Level  \\\n",
       "0                    2.1                              4                 2   \n",
       "1                    2.3                              4                 2   \n",
       "2                    2.1                              3                 1   \n",
       "3                    2.8                              3                 1   \n",
       "4                    2.7                              5                 3   \n",
       "\n",
       "     BMI  \n",
       "0  32.00  \n",
       "1  24.71  \n",
       "2  18.41  \n",
       "3  14.39  \n",
       "4  20.55  "
      ]
     },
     "execution_count": 42,
     "metadata": {},
     "output_type": "execute_result"
    }
   ],
   "source": [
    "df_gym = df_gym[df_gym['Workout_Type'] != 'Yoga'].reset_index(drop=True)\n",
    "df_gym.head()"
   ]
  },
  {
   "cell_type": "code",
   "execution_count": 43,
   "metadata": {},
   "outputs": [
    {
     "data": {
      "text/plain": [
       "array(['HIIT', 'Cardio', 'Strength'], dtype=object)"
      ]
     },
     "execution_count": 43,
     "metadata": {},
     "output_type": "execute_result"
    }
   ],
   "source": [
    "df_gym['Workout_Type'].unique()"
   ]
  },
  {
   "cell_type": "code",
   "execution_count": 44,
   "metadata": {},
   "outputs": [],
   "source": [
    "df_hr = pd.read_csv('data/heart_rate.csv')"
   ]
  },
  {
   "cell_type": "markdown",
   "metadata": {},
   "source": [
    "## Synthetic data"
   ]
  },
  {
   "cell_type": "markdown",
   "metadata": {},
   "source": [
    "### Obtain standard deviation"
   ]
  },
  {
   "cell_type": "code",
   "execution_count": 45,
   "metadata": {},
   "outputs": [],
   "source": [
    "# Convert de dataframe columns into lists\n",
    "subject_1 = df_hr.iloc[:, 0].tolist()\n",
    "subject_2 = df_hr.iloc[:, 1].tolist()\n",
    "subject_3 = df_hr.iloc[:, 2].tolist()\n",
    "subject_4 = df_hr.iloc[:, 3].tolist()\n",
    "\n",
    "\n",
    "\n",
    "#Remove nans from the lists\n",
    "subject_1 = [x for x in subject_1 if str(x) != 'nan']\n",
    "subject_2 = [x for x in subject_2 if str(x) != 'nan']\n",
    "subject_3 = [x for x in subject_3 if str(x) != 'nan']\n",
    "subject_4 = [x for x in subject_4 if str(x) != 'nan']"
   ]
  },
  {
   "cell_type": "code",
   "execution_count": 46,
   "metadata": {},
   "outputs": [
    {
     "name": "stdout",
     "output_type": "stream",
     "text": [
      "Measurements for subject 1: 1800\n",
      "Measurements for subject 2: 1800\n",
      "Measurements for subject 3: 950\n",
      "Measurements for subject 4: 891\n"
     ]
    }
   ],
   "source": [
    "print('Measurements for subject 1:', len(subject_1))\n",
    "print('Measurements for subject 2:', len(subject_2))\n",
    "print('Measurements for subject 3:', len(subject_3))\n",
    "print('Measurements for subject 4:', len(subject_4))"
   ]
  },
  {
   "cell_type": "code",
   "execution_count": 47,
   "metadata": {},
   "outputs": [
    {
     "data": {
      "text/html": [
       "<div>\n",
       "<style scoped>\n",
       "    .dataframe tbody tr th:only-of-type {\n",
       "        vertical-align: middle;\n",
       "    }\n",
       "\n",
       "    .dataframe tbody tr th {\n",
       "        vertical-align: top;\n",
       "    }\n",
       "\n",
       "    .dataframe thead th {\n",
       "        text-align: right;\n",
       "    }\n",
       "</style>\n",
       "<table border=\"1\" class=\"dataframe\">\n",
       "  <thead>\n",
       "    <tr style=\"text-align: right;\">\n",
       "      <th></th>\n",
       "      <th>Mean</th>\n",
       "      <th>Max</th>\n",
       "      <th>Min</th>\n",
       "      <th>Std</th>\n",
       "    </tr>\n",
       "  </thead>\n",
       "  <tbody>\n",
       "    <tr>\n",
       "      <th>Subject 1</th>\n",
       "      <td>92.60</td>\n",
       "      <td>106.76</td>\n",
       "      <td>73.44</td>\n",
       "      <td>5.49</td>\n",
       "    </tr>\n",
       "    <tr>\n",
       "      <th>Subject 2</th>\n",
       "      <td>96.64</td>\n",
       "      <td>104.90</td>\n",
       "      <td>80.21</td>\n",
       "      <td>5.69</td>\n",
       "    </tr>\n",
       "    <tr>\n",
       "      <th>Subject 3</th>\n",
       "      <td>58.67</td>\n",
       "      <td>75.47</td>\n",
       "      <td>52.08</td>\n",
       "      <td>3.41</td>\n",
       "    </tr>\n",
       "    <tr>\n",
       "      <th>Subject 4</th>\n",
       "      <td>58.52</td>\n",
       "      <td>77.42</td>\n",
       "      <td>52.92</td>\n",
       "      <td>3.48</td>\n",
       "    </tr>\n",
       "  </tbody>\n",
       "</table>\n",
       "</div>"
      ],
      "text/plain": [
       "            Mean     Max    Min   Std\n",
       "Subject 1  92.60  106.76  73.44  5.49\n",
       "Subject 2  96.64  104.90  80.21  5.69\n",
       "Subject 3  58.67   75.47  52.08  3.41\n",
       "Subject 4  58.52   77.42  52.92  3.48"
      ]
     },
     "execution_count": 47,
     "metadata": {},
     "output_type": "execute_result"
    }
   ],
   "source": [
    "#Mean, maximun, minimum and standard deviation of the heart rate for each subject\n",
    "subject_1_data = [round(np.mean(subject_1), 2), round(np.max(subject_1), 2), round(np.min(subject_1), 2), round(np.std(subject_1), 2), ]\n",
    "subject_2_data = [round(np.mean(subject_2), 2), round(np.max(subject_2), 2), round(np.min(subject_2), 2), round(np.std(subject_2), 2)]\n",
    "subject_3_data = [round(np.mean(subject_3), 2), round(np.max(subject_3), 2), round(np.min(subject_3), 2), round(np.std(subject_3), 2)]\n",
    "subject_4_data = [round(np.mean(subject_4), 2), round(np.max(subject_4), 2), round(np.min(subject_4), 2), round(np.std(subject_4), 2)]\n",
    "\n",
    "# Create a dataframe with the data\n",
    "df_subjects_data = pd.DataFrame([subject_1_data, subject_2_data, subject_3_data, subject_4_data], columns=['Mean', 'Max', 'Min', 'Std'])\n",
    "df_subjects_data.index = ['Subject 1', 'Subject 2', 'Subject 3', 'Subject 4']\n",
    "df_subjects_data.head()\n"
   ]
  },
  {
   "cell_type": "code",
   "execution_count": 48,
   "metadata": {},
   "outputs": [
    {
     "data": {
      "text/html": [
       "<div>\n",
       "<style scoped>\n",
       "    .dataframe tbody tr th:only-of-type {\n",
       "        vertical-align: middle;\n",
       "    }\n",
       "\n",
       "    .dataframe tbody tr th {\n",
       "        vertical-align: top;\n",
       "    }\n",
       "\n",
       "    .dataframe thead th {\n",
       "        text-align: right;\n",
       "    }\n",
       "</style>\n",
       "<table border=\"1\" class=\"dataframe\">\n",
       "  <thead>\n",
       "    <tr style=\"text-align: right;\">\n",
       "      <th></th>\n",
       "      <th>Mean</th>\n",
       "      <th>Max</th>\n",
       "      <th>Min</th>\n",
       "      <th>Std</th>\n",
       "      <th>Std Ratio</th>\n",
       "    </tr>\n",
       "  </thead>\n",
       "  <tbody>\n",
       "    <tr>\n",
       "      <th>Subject 1</th>\n",
       "      <td>92.60</td>\n",
       "      <td>106.76</td>\n",
       "      <td>73.44</td>\n",
       "      <td>5.49</td>\n",
       "      <td>0.39</td>\n",
       "    </tr>\n",
       "    <tr>\n",
       "      <th>Subject 2</th>\n",
       "      <td>96.64</td>\n",
       "      <td>104.90</td>\n",
       "      <td>80.21</td>\n",
       "      <td>5.69</td>\n",
       "      <td>0.69</td>\n",
       "    </tr>\n",
       "    <tr>\n",
       "      <th>Subject 3</th>\n",
       "      <td>58.67</td>\n",
       "      <td>75.47</td>\n",
       "      <td>52.08</td>\n",
       "      <td>3.41</td>\n",
       "      <td>0.20</td>\n",
       "    </tr>\n",
       "    <tr>\n",
       "      <th>Subject 4</th>\n",
       "      <td>58.52</td>\n",
       "      <td>77.42</td>\n",
       "      <td>52.92</td>\n",
       "      <td>3.48</td>\n",
       "      <td>0.18</td>\n",
       "    </tr>\n",
       "  </tbody>\n",
       "</table>\n",
       "</div>"
      ],
      "text/plain": [
       "            Mean     Max    Min   Std  Std Ratio\n",
       "Subject 1  92.60  106.76  73.44  5.49       0.39\n",
       "Subject 2  96.64  104.90  80.21  5.69       0.69\n",
       "Subject 3  58.67   75.47  52.08  3.41       0.20\n",
       "Subject 4  58.52   77.42  52.92  3.48       0.18"
      ]
     },
     "execution_count": 48,
     "metadata": {},
     "output_type": "execute_result"
    }
   ],
   "source": [
    "#Mean, maximun, minimum and standard deviation of the heart rate for each subject\n",
    "subject_1_data = [np.mean(subject_1), np.max(subject_1), np.min(subject_1), np.std(subject_1)]\n",
    "subject_2_data = [np.mean(subject_2), np.max(subject_2), np.min(subject_2), np.std(subject_2)]\n",
    "subject_3_data = [np.mean(subject_3), np.max(subject_3), np.min(subject_3), np.std(subject_3)]\n",
    "subject_4_data = [np.mean(subject_4), np.max(subject_4), np.min(subject_4), np.std(subject_4)]\n",
    "\n",
    "subject_1_data.append(subject_1_data[3]/(subject_1_data[1] - subject_1_data[0])) #Standard deviation represented as a its ratio of the range between the mean and maximum value\n",
    "subject_2_data.append(subject_2_data[3]/(subject_2_data[1] - subject_2_data[0]))\n",
    "subject_3_data.append(subject_3_data[3]/(subject_3_data[1] - subject_3_data[0]))\n",
    "subject_4_data.append(subject_4_data[3]/(subject_4_data[1] - subject_4_data[0]))\n",
    "\n",
    "# Create a dataframe with the data\n",
    "df_subjects_data = pd.DataFrame([subject_1_data, subject_2_data, subject_3_data, subject_4_data], columns=['Mean', 'Max', 'Min', 'Std', 'Std Ratio'])\n",
    "df_subjects_data.index = ['Subject 1', 'Subject 2', 'Subject 3', 'Subject 4']\n",
    "df_subjects_data.round(2)"
   ]
  },
  {
   "cell_type": "code",
   "execution_count": 49,
   "metadata": {},
   "outputs": [
    {
     "name": "stdout",
     "output_type": "stream",
     "text": [
      "0.36578887474025085\n"
     ]
    }
   ],
   "source": [
    "mean_std_ratio_avg_max = df_subjects_data['Std Ratio'].mean()\n",
    "print(mean_std_ratio_avg_max)"
   ]
  },
  {
   "cell_type": "code",
   "execution_count": 50,
   "metadata": {},
   "outputs": [
    {
     "data": {
      "text/html": [
       "<div>\n",
       "<style scoped>\n",
       "    .dataframe tbody tr th:only-of-type {\n",
       "        vertical-align: middle;\n",
       "    }\n",
       "\n",
       "    .dataframe tbody tr th {\n",
       "        vertical-align: top;\n",
       "    }\n",
       "\n",
       "    .dataframe thead th {\n",
       "        text-align: right;\n",
       "    }\n",
       "</style>\n",
       "<table border=\"1\" class=\"dataframe\">\n",
       "  <thead>\n",
       "    <tr style=\"text-align: right;\">\n",
       "      <th></th>\n",
       "      <th>Mean</th>\n",
       "      <th>Max</th>\n",
       "      <th>Min</th>\n",
       "      <th>Std</th>\n",
       "      <th>Std Ratio</th>\n",
       "    </tr>\n",
       "  </thead>\n",
       "  <tbody>\n",
       "    <tr>\n",
       "      <th>Subject 1</th>\n",
       "      <td>92.60</td>\n",
       "      <td>106.76</td>\n",
       "      <td>73.44</td>\n",
       "      <td>5.49</td>\n",
       "      <td>0.16</td>\n",
       "    </tr>\n",
       "    <tr>\n",
       "      <th>Subject 2</th>\n",
       "      <td>96.64</td>\n",
       "      <td>104.90</td>\n",
       "      <td>80.21</td>\n",
       "      <td>5.69</td>\n",
       "      <td>0.23</td>\n",
       "    </tr>\n",
       "    <tr>\n",
       "      <th>Subject 3</th>\n",
       "      <td>58.67</td>\n",
       "      <td>75.47</td>\n",
       "      <td>52.08</td>\n",
       "      <td>3.41</td>\n",
       "      <td>0.15</td>\n",
       "    </tr>\n",
       "    <tr>\n",
       "      <th>Subject 4</th>\n",
       "      <td>58.52</td>\n",
       "      <td>77.42</td>\n",
       "      <td>52.92</td>\n",
       "      <td>3.48</td>\n",
       "      <td>0.14</td>\n",
       "    </tr>\n",
       "  </tbody>\n",
       "</table>\n",
       "</div>"
      ],
      "text/plain": [
       "            Mean     Max    Min   Std  Std Ratio\n",
       "Subject 1  92.60  106.76  73.44  5.49       0.16\n",
       "Subject 2  96.64  104.90  80.21  5.69       0.23\n",
       "Subject 3  58.67   75.47  52.08  3.41       0.15\n",
       "Subject 4  58.52   77.42  52.92  3.48       0.14"
      ]
     },
     "execution_count": 50,
     "metadata": {},
     "output_type": "execute_result"
    }
   ],
   "source": [
    "#Mean, maximun, minimum and standard deviation of the heart rate for each subject\n",
    "subject_1_data = [np.mean(subject_1), np.max(subject_1), np.min(subject_1), np.std(subject_1)]\n",
    "subject_2_data = [np.mean(subject_2), np.max(subject_2), np.min(subject_2), np.std(subject_2)]\n",
    "subject_3_data = [np.mean(subject_3), np.max(subject_3), np.min(subject_3), np.std(subject_3)]\n",
    "subject_4_data = [np.mean(subject_4), np.max(subject_4), np.min(subject_4), np.std(subject_4)]\n",
    "\n",
    "subject_1_data.append(subject_1_data[3]/(subject_1_data[1] - subject_1_data[2])) #Standard deviation represented as a its ratio of the range between the minimum and maximum value\n",
    "subject_2_data.append(subject_2_data[3]/(subject_2_data[1] - subject_2_data[2]))\n",
    "subject_3_data.append(subject_3_data[3]/(subject_3_data[1] - subject_3_data[2]))\n",
    "subject_4_data.append(subject_4_data[3]/(subject_4_data[1] - subject_4_data[2]))\n",
    "\n",
    "# Create a dataframe with the data\n",
    "df_subjects_data = pd.DataFrame([subject_1_data, subject_2_data, subject_3_data, subject_4_data], columns=['Mean', 'Max', 'Min', 'Std', 'Std Ratio'])\n",
    "df_subjects_data.index = ['Subject 1', 'Subject 2', 'Subject 3', 'Subject 4']\n",
    "df_subjects_data.round(2)"
   ]
  },
  {
   "cell_type": "code",
   "execution_count": 51,
   "metadata": {},
   "outputs": [
    {
     "name": "stdout",
     "output_type": "stream",
     "text": [
      "0.17072102970888003\n"
     ]
    }
   ],
   "source": [
    "mean_std_ratio_min_max = df_subjects_data['Std Ratio'].mean()\n",
    "print(mean_std_ratio_min_max)"
   ]
  },
  {
   "cell_type": "markdown",
   "metadata": {},
   "source": [
    "The mean ratio of the standar deviation with respect to the interval between average and maximum heart rate values is 36.58% and between minimum and maximum is 17.07%."
   ]
  },
  {
   "cell_type": "markdown",
   "metadata": {},
   "source": [
    "### Generate synthetic data"
   ]
  },
  {
   "cell_type": "markdown",
   "metadata": {},
   "source": [
    "#### Generation study"
   ]
  },
  {
   "cell_type": "code",
   "execution_count": 52,
   "metadata": {},
   "outputs": [],
   "source": [
    "from scipy.stats import truncnorm\n",
    "\n",
    "def genarate_heart_rates_truncnorm(min_val, max_val, avg, std, N):\n",
    "    a = (min_val - avg) / std\n",
    "    b = (max_val - avg) / std\n",
    "\n",
    "    genarated_heart_rates = truncnorm.rvs(a, b, loc=avg, scale=std, size=N)\n",
    "\n",
    "    return genarated_heart_rates"
   ]
  },
  {
   "cell_type": "code",
   "execution_count": 53,
   "metadata": {},
   "outputs": [],
   "source": [
    "from scipy.stats import beta\n",
    "\n",
    "def beta_params(min_val, max_val, avg, std):\n",
    "    # Calculate α and β params of Beta distribution\n",
    "    scale = max_val - min_val\n",
    "    mu = (max_val - min_val) / scale  # Media en [0,1]\n",
    "    sigma2 = (std / scale) ** 2  # Varianza en [0,1]\n",
    "    \n",
    "    # Equations for α and β from mean and variance\n",
    "    alpha = mu * ((mu * (1 - mu)) / sigma2 - 1)\n",
    "    beta_param = (1 - mu) * ((mu * (1 - mu)) / sigma2 - 1)\n",
    "    \n",
    "    return alpha, beta_param\n",
    "\n",
    "def genarate_heart_rates_beta_old(min_val, max_val, avg, std, N):\n",
    "    # Generate random numbers with Beta distribution scaled to [min, max]\n",
    "    alpha, beta_param = beta_params(min_val, max_val, avg, std)\n",
    "    \n",
    "    if alpha <= 0 or beta_param <= 0:\n",
    "        raise ValueError(\"The parameters α and β must be positive. Check the mean and standard deviation.\")\n",
    "    \n",
    "    # Generar valores Beta en [0,1] y escalar al rango [minimo, maximo]\n",
    "    numbers = beta.rvs(alpha, beta_param, size=N)\n",
    "    numbers = min_val + numbers * (max_val - min_val)\n",
    "    \n",
    "    return numbers"
   ]
  },
  {
   "cell_type": "code",
   "execution_count": 54,
   "metadata": {},
   "outputs": [],
   "source": [
    "import scipy.stats\n",
    "import matplotlib.pyplot as plt\n",
    "\n",
    "#TODO eliminar\n",
    "def my_distribution_old(min_val, max_val, mean, std):\n",
    "    scale = max_val - min_val\n",
    "    location = min_val\n",
    "    # Mean and standard deviation of the unscaled beta distribution\n",
    "    unscaled_mean = (mean - min_val) / scale\n",
    "    unscaled_var = (std / scale) ** 2\n",
    "    # Computation of alpha and beta can be derived from mean and variance formulas\n",
    "    t = unscaled_mean / (1 - unscaled_mean)\n",
    "    beta = ((t / unscaled_var) - (t * t) - (2 * t) - 1) / ((t * t * t) + (3 * t * t) + (3 * t) + 1)\n",
    "    alpha = beta * t\n",
    "    # Not all parameters may produce a valid distribution\n",
    "    if alpha <= 0 or beta <= 0:\n",
    "        raise ValueError('Cannot create distribution for the given parameters.')\n",
    "    # Make scaled beta distribution with computed parameters\n",
    "    return scipy.stats.beta(alpha, beta, scale=scale, loc=location)\n",
    "\n",
    "def my_distribution(min_val, max_val, mean, std):\n",
    "    scale = max_val - min_val\n",
    "    mean_std = (mean - min_val) / scale\n",
    "    var_std = (std / scale) ** 2\n",
    "\n",
    "    alpha = ((1-mean_std) / var_std  - 1/mean_std) * mean_std**2\n",
    "\n",
    "    beta_param = alpha * (1 / mean_std - 1)\n",
    "\n",
    "    return scipy.stats.beta(a= alpha, b=beta_param, loc=min_val, scale=scale)\n",
    "\n",
    "def genarate_heart_rates_beta(min_val, max_val, avg, std, N, plot=False):\n",
    "    my_dist = my_distribution(min_val, max_val, avg, std)\n",
    "    \n",
    "    generated_numbers = my_dist.rvs(size=N)\n",
    "    if plot:  \n",
    "        x = np.linspace(min_val, max_val, 100)\n",
    "        plt.plot(x, my_dist.pdf(x))\n",
    "    return generated_numbers"
   ]
  },
  {
   "cell_type": "code",
   "execution_count": 55,
   "metadata": {},
   "outputs": [
    {
     "data": {
      "text/html": [
       "<div>\n",
       "<style scoped>\n",
       "    .dataframe tbody tr th:only-of-type {\n",
       "        vertical-align: middle;\n",
       "    }\n",
       "\n",
       "    .dataframe tbody tr th {\n",
       "        vertical-align: top;\n",
       "    }\n",
       "\n",
       "    .dataframe thead th {\n",
       "        text-align: right;\n",
       "    }\n",
       "</style>\n",
       "<table border=\"1\" class=\"dataframe\">\n",
       "  <thead>\n",
       "    <tr style=\"text-align: right;\">\n",
       "      <th></th>\n",
       "      <th>Age</th>\n",
       "      <th>Gender</th>\n",
       "      <th>Weight (kg)</th>\n",
       "      <th>Height (m)</th>\n",
       "      <th>Max_BPM</th>\n",
       "      <th>Avg_BPM</th>\n",
       "      <th>Resting_BPM</th>\n",
       "      <th>Session_Duration (hours)</th>\n",
       "      <th>Calories_Burned</th>\n",
       "      <th>Workout_Type</th>\n",
       "      <th>Fat_Percentage</th>\n",
       "      <th>Water_Intake (liters)</th>\n",
       "      <th>Workout_Frequency (days/week)</th>\n",
       "      <th>Experience_Level</th>\n",
       "      <th>BMI</th>\n",
       "    </tr>\n",
       "  </thead>\n",
       "  <tbody>\n",
       "    <tr>\n",
       "      <th>0</th>\n",
       "      <td>46</td>\n",
       "      <td>Female</td>\n",
       "      <td>74.9</td>\n",
       "      <td>1.53</td>\n",
       "      <td>179</td>\n",
       "      <td>151</td>\n",
       "      <td>66</td>\n",
       "      <td>1.30</td>\n",
       "      <td>883.0</td>\n",
       "      <td>HIIT</td>\n",
       "      <td>33.9</td>\n",
       "      <td>2.1</td>\n",
       "      <td>4</td>\n",
       "      <td>2</td>\n",
       "      <td>32.00</td>\n",
       "    </tr>\n",
       "    <tr>\n",
       "      <th>1</th>\n",
       "      <td>32</td>\n",
       "      <td>Female</td>\n",
       "      <td>68.1</td>\n",
       "      <td>1.66</td>\n",
       "      <td>167</td>\n",
       "      <td>122</td>\n",
       "      <td>54</td>\n",
       "      <td>1.11</td>\n",
       "      <td>677.0</td>\n",
       "      <td>Cardio</td>\n",
       "      <td>33.4</td>\n",
       "      <td>2.3</td>\n",
       "      <td>4</td>\n",
       "      <td>2</td>\n",
       "      <td>24.71</td>\n",
       "    </tr>\n",
       "    <tr>\n",
       "      <th>2</th>\n",
       "      <td>25</td>\n",
       "      <td>Male</td>\n",
       "      <td>53.2</td>\n",
       "      <td>1.70</td>\n",
       "      <td>190</td>\n",
       "      <td>164</td>\n",
       "      <td>56</td>\n",
       "      <td>0.59</td>\n",
       "      <td>532.0</td>\n",
       "      <td>Strength</td>\n",
       "      <td>28.8</td>\n",
       "      <td>2.1</td>\n",
       "      <td>3</td>\n",
       "      <td>1</td>\n",
       "      <td>18.41</td>\n",
       "    </tr>\n",
       "    <tr>\n",
       "      <th>3</th>\n",
       "      <td>38</td>\n",
       "      <td>Male</td>\n",
       "      <td>46.1</td>\n",
       "      <td>1.79</td>\n",
       "      <td>188</td>\n",
       "      <td>158</td>\n",
       "      <td>68</td>\n",
       "      <td>0.64</td>\n",
       "      <td>556.0</td>\n",
       "      <td>Strength</td>\n",
       "      <td>29.2</td>\n",
       "      <td>2.8</td>\n",
       "      <td>3</td>\n",
       "      <td>1</td>\n",
       "      <td>14.39</td>\n",
       "    </tr>\n",
       "    <tr>\n",
       "      <th>4</th>\n",
       "      <td>56</td>\n",
       "      <td>Female</td>\n",
       "      <td>58.0</td>\n",
       "      <td>1.68</td>\n",
       "      <td>168</td>\n",
       "      <td>156</td>\n",
       "      <td>74</td>\n",
       "      <td>1.59</td>\n",
       "      <td>1116.0</td>\n",
       "      <td>HIIT</td>\n",
       "      <td>15.5</td>\n",
       "      <td>2.7</td>\n",
       "      <td>5</td>\n",
       "      <td>3</td>\n",
       "      <td>20.55</td>\n",
       "    </tr>\n",
       "  </tbody>\n",
       "</table>\n",
       "</div>"
      ],
      "text/plain": [
       "   Age  Gender  Weight (kg)  Height (m)  Max_BPM  Avg_BPM  Resting_BPM  \\\n",
       "0   46  Female         74.9        1.53      179      151           66   \n",
       "1   32  Female         68.1        1.66      167      122           54   \n",
       "2   25    Male         53.2        1.70      190      164           56   \n",
       "3   38    Male         46.1        1.79      188      158           68   \n",
       "4   56  Female         58.0        1.68      168      156           74   \n",
       "\n",
       "   Session_Duration (hours)  Calories_Burned Workout_Type  Fat_Percentage  \\\n",
       "0                      1.30            883.0         HIIT            33.9   \n",
       "1                      1.11            677.0       Cardio            33.4   \n",
       "2                      0.59            532.0     Strength            28.8   \n",
       "3                      0.64            556.0     Strength            29.2   \n",
       "4                      1.59           1116.0         HIIT            15.5   \n",
       "\n",
       "   Water_Intake (liters)  Workout_Frequency (days/week)  Experience_Level  \\\n",
       "0                    2.1                              4                 2   \n",
       "1                    2.3                              4                 2   \n",
       "2                    2.1                              3                 1   \n",
       "3                    2.8                              3                 1   \n",
       "4                    2.7                              5                 3   \n",
       "\n",
       "     BMI  \n",
       "0  32.00  \n",
       "1  24.71  \n",
       "2  18.41  \n",
       "3  14.39  \n",
       "4  20.55  "
      ]
     },
     "execution_count": 55,
     "metadata": {},
     "output_type": "execute_result"
    }
   ],
   "source": [
    "df_gym.head()"
   ]
  },
  {
   "cell_type": "code",
   "execution_count": 56,
   "metadata": {},
   "outputs": [
    {
     "name": "stdout",
     "output_type": "stream",
     "text": [
      "Min: 66, Max: 179, Avg: 151, Std: 10.242088492727024, N: 78\n",
      "Using truncated normal distribution\n",
      "Generated average: 151.06\n",
      "Generated std: 8.01\n",
      "Generated min: 129.06\n",
      "Generated max: 172.59\n",
      "\n",
      "\n",
      "Using beta distribution\n",
      "Generated average: 150.90\n",
      "Generated std: 10.28\n",
      "Generated min: 126.41\n",
      "Generated max: 168.94\n"
     ]
    },
    {
     "data": {
      "image/png": "[encoded data removed]",
      "text/plain": [
       "<Figure size 640x480 with 1 Axes>"
      ]
     },
     "metadata": {},
     "output_type": "display_data"
    }
   ],
   "source": [
    "min_val, max_val, avg, N = df_gym.iloc[0]['Resting_BPM'], df_gym.iloc[0]['Max_BPM'], df_gym.iloc[0]['Avg_BPM'], math.trunc(df_gym.iloc[0]['Session_Duration (hours)'] * 60)\n",
    "std = mean_std_ratio_avg_max * (max_val - avg)\n",
    "print(f\"Min: {min_val}, Max: {max_val}, Avg: {avg}, Std: {std}, N: {N}\")\n",
    "\n",
    "\n",
    "genarated_heart_rates_truncnorm = genarate_heart_rates_truncnorm(min_val, max_val, avg, std, N)\n",
    "\n",
    "print(\"Using truncated normal distribution\")\n",
    "print(f\"Generated average: {np.mean(genarated_heart_rates_truncnorm):.2f}\")\n",
    "print(f\"Generated std: {np.std(genarated_heart_rates_truncnorm, ddof=1):.2f}\")\n",
    "print(f\"Generated min: {np.min(genarated_heart_rates_truncnorm):.2f}\")\n",
    "print(f\"Generated max: {np.max(genarated_heart_rates_truncnorm):.2f}\")\n",
    "\n",
    "genarated_heart_rates_beta = genarate_heart_rates_beta(min_val, max_val, avg, std, N, True)\n",
    "\n",
    "print(\"\\n\\nUsing beta distribution\")\n",
    "print(f\"Generated average: {np.mean(genarated_heart_rates_beta):.2f}\")\n",
    "print(f\"Generated std: {np.std(genarated_heart_rates_beta, ddof=1):.2f}\")\n",
    "print(f\"Generated min: {np.min(genarated_heart_rates_beta):.2f}\")\n",
    "print(f\"Generated max: {np.max(genarated_heart_rates_beta):.2f}\")\n"
   ]
  },
  {
   "cell_type": "code",
   "execution_count": 72,
   "metadata": {},
   "outputs": [
    {
     "name": "stdout",
     "output_type": "stream",
     "text": [
      "Error for index 57: Domain error in arguments. The `scale` parameter must be positive for all distributions, and many distributions have restrictions on shape parameters. Please see the `scipy.stats.beta` documentation for details.\n"
     ]
    },
    {
     "name": "stderr",
     "output_type": "stream",
     "text": [
      "C:\\Users\\Dani\\AppData\\Local\\Temp\\ipykernel_19776\\845120679.py:26: RuntimeWarning: invalid value encountered in scalar divide\n",
      "  alpha = ((1-mean_std) / var_std  - 1/mean_std) * mean_std**2\n"
     ]
    },
    {
     "data": {
      "image/png": "[encoded data removed]",
      "text/plain": [
       "<Figure size 640x480 with 1 Axes>"
      ]
     },
     "metadata": {},
     "output_type": "display_data"
    }
   ],
   "source": [
    "for index, row in df_gym.iloc[50:60].iterrows():\n",
    "    min_val, max_val, avg, N = row['Resting_BPM'], row['Max_BPM'], row['Avg_BPM'], math.trunc(row['Session_Duration (hours)'] * 60)\n",
    "    std = mean_std_ratio_avg_max * (max_val - avg)\n",
    "    \n",
    "    try:\n",
    "        genarated_heart_rates_session = genarate_heart_rates_beta(min_val, max_val, avg, std, N, True)\n",
    "\n",
    "        # print(f\"Min: {min_val}, Max: {max_val}, Avg: {avg}, Std: {std}, N: {N}\")\n",
    "        \n",
    "        # print(f\"Real average: {np.mean(genarated_heart_rates_session):.2f}\")\n",
    "        # print(f\"Real std: {np.std(genarated_heart_rates_session, ddof=1):.2f}\")\n",
    "        # print(f\"Real min: {np.min(genarated_heart_rates_session):.2f}\")\n",
    "        # print(f\"Real max: {np.max(genarated_heart_rates_session):.2f}\")\n",
    "\n",
    "        # print('\\n')\n",
    "    except Exception as e:\n",
    "        print(f\"Error for index {index}: {e}\")\n",
    "        continue\n"
   ]
  },
  {
   "cell_type": "markdown",
   "metadata": {},
   "source": [
    "#### Data generation"
   ]
  },
  {
   "cell_type": "code",
   "execution_count": 58,
   "metadata": {},
   "outputs": [],
   "source": [
    "def generate_heart_rates(min_val, max_val, avg, N, std_ratio):\n",
    "    std = std_ratio * (max_val - avg)\n",
    "    try:\n",
    "        return genarate_heart_rates_beta(min_val, max_val, avg, std, N, False)\n",
    "    \n",
    "    except Exception as e:\n",
    "        return None"
   ]
  },
  {
   "cell_type": "code",
   "execution_count": 59,
   "metadata": {},
   "outputs": [
    {
     "name": "stderr",
     "output_type": "stream",
     "text": [
      "C:\\Users\\Dani\\AppData\\Local\\Temp\\ipykernel_19776\\845120679.py:26: RuntimeWarning: invalid value encountered in scalar divide\n",
      "  alpha = ((1-mean_std) / var_std  - 1/mean_std) * mean_std**2\n"
     ]
    }
   ],
   "source": [
    "clients_heart_rates = []\n",
    "valid_indexes = []\n",
    "user_final_id = 0\n",
    "\n",
    "for index, row in df_gym.iterrows():\n",
    "    heart_rates = generate_heart_rates(row['Resting_BPM'], row['Max_BPM'], row['Avg_BPM'], math.trunc(row['Session_Duration (hours)'] * 60), mean_std_ratio_avg_max)\n",
    "    \n",
    "    if heart_rates is not None:\n",
    "        for hr in heart_rates:\n",
    "            clients_heart_rates.append({\n",
    "                'User_ID': user_final_id,\n",
    "                'Heart_Rate': int(hr)\n",
    "            })\n",
    "        valid_indexes.append(index)\n",
    "        user_final_id += 1\n",
    "\n",
    "df_pulses = pd.DataFrame(clients_heart_rates)\n",
    "df_gym_members_with_hr = df_gym.loc[valid_indexes].reset_index(drop=True)"
   ]
  },
  {
   "cell_type": "code",
   "execution_count": 60,
   "metadata": {},
   "outputs": [],
   "source": [
    "df_pulses.to_csv('data/gym_members_heart_rates.csv', index=False)\n",
    "df_gym_members_with_hr.to_csv('data/modified_gym_members_exercise_tracking.csv', index=False)"
   ]
  },
  {
   "cell_type": "markdown",
   "metadata": {},
   "source": [
    "# Stage 2"
   ]
  },
  {
   "cell_type": "code",
   "execution_count": 61,
   "metadata": {},
   "outputs": [],
   "source": [
    "df_users_raw = pd.read_csv('data/Million Song Dataset kaggle/User Listening History.csv')\n",
    "df_music = pd.read_csv('data/Million Song Dataset kaggle/Music Info.csv')"
   ]
  },
  {
   "cell_type": "markdown",
   "metadata": {},
   "source": [
    "We only take into account users that have listened to at least 10 songs"
   ]
  },
  {
   "cell_type": "code",
   "execution_count": 62,
   "metadata": {},
   "outputs": [],
   "source": [
    "df_user_counts = df_users_raw['user_id'].value_counts().reset_index()\n",
    "df_user_counts.columns = ['user_id', 'count']"
   ]
  },
  {
   "cell_type": "code",
   "execution_count": 63,
   "metadata": {},
   "outputs": [
    {
     "data": {
      "text/plain": [
       "(8332242, 3)"
      ]
     },
     "execution_count": 63,
     "metadata": {},
     "output_type": "execute_result"
    }
   ],
   "source": [
    "df_users = df_users_raw[df_users_raw['user_id'].isin(df_user_counts[df_user_counts['count'] > 5]['user_id'])].reset_index(drop=True)\n",
    "df_users.shape"
   ]
  },
  {
   "cell_type": "code",
   "execution_count": 64,
   "metadata": {},
   "outputs": [
    {
     "data": {
      "text/html": [
       "<div>\n",
       "<style scoped>\n",
       "    .dataframe tbody tr th:only-of-type {\n",
       "        vertical-align: middle;\n",
       "    }\n",
       "\n",
       "    .dataframe tbody tr th {\n",
       "        vertical-align: top;\n",
       "    }\n",
       "\n",
       "    .dataframe thead th {\n",
       "        text-align: right;\n",
       "    }\n",
       "</style>\n",
       "<table border=\"1\" class=\"dataframe\">\n",
       "  <thead>\n",
       "    <tr style=\"text-align: right;\">\n",
       "      <th></th>\n",
       "      <th>track_id</th>\n",
       "      <th>user_id</th>\n",
       "      <th>playcount</th>\n",
       "    </tr>\n",
       "  </thead>\n",
       "  <tbody>\n",
       "    <tr>\n",
       "      <th>0</th>\n",
       "      <td>TRIRLYL128F42539D1</td>\n",
       "      <td>b80344d063b5ccb3212f76538f3d9e43d87dca9e</td>\n",
       "      <td>1</td>\n",
       "    </tr>\n",
       "    <tr>\n",
       "      <th>1</th>\n",
       "      <td>TRFUPBA128F934F7E1</td>\n",
       "      <td>b80344d063b5ccb3212f76538f3d9e43d87dca9e</td>\n",
       "      <td>1</td>\n",
       "    </tr>\n",
       "    <tr>\n",
       "      <th>2</th>\n",
       "      <td>TRLQPQJ128F42AA94F</td>\n",
       "      <td>b80344d063b5ccb3212f76538f3d9e43d87dca9e</td>\n",
       "      <td>1</td>\n",
       "    </tr>\n",
       "    <tr>\n",
       "      <th>3</th>\n",
       "      <td>TRTUCUY128F92E1D24</td>\n",
       "      <td>b80344d063b5ccb3212f76538f3d9e43d87dca9e</td>\n",
       "      <td>1</td>\n",
       "    </tr>\n",
       "    <tr>\n",
       "      <th>4</th>\n",
       "      <td>TRHDDQG12903CB53EE</td>\n",
       "      <td>b80344d063b5ccb3212f76538f3d9e43d87dca9e</td>\n",
       "      <td>1</td>\n",
       "    </tr>\n",
       "    <tr>\n",
       "      <th>...</th>\n",
       "      <td>...</td>\n",
       "      <td>...</td>\n",
       "      <td>...</td>\n",
       "    </tr>\n",
       "    <tr>\n",
       "      <th>8332237</th>\n",
       "      <td>TRBKFKL128E078ED76</td>\n",
       "      <td>b7815dbb206eb2831ce0fe040d0aa537e2e800f7</td>\n",
       "      <td>1</td>\n",
       "    </tr>\n",
       "    <tr>\n",
       "      <th>8332238</th>\n",
       "      <td>TRYFXPG128E078ECBD</td>\n",
       "      <td>b7815dbb206eb2831ce0fe040d0aa537e2e800f7</td>\n",
       "      <td>1</td>\n",
       "    </tr>\n",
       "    <tr>\n",
       "      <th>8332239</th>\n",
       "      <td>TROBUUZ128F4263002</td>\n",
       "      <td>b7815dbb206eb2831ce0fe040d0aa537e2e800f7</td>\n",
       "      <td>1</td>\n",
       "    </tr>\n",
       "    <tr>\n",
       "      <th>8332240</th>\n",
       "      <td>TROEWXC128F148C83E</td>\n",
       "      <td>b7815dbb206eb2831ce0fe040d0aa537e2e800f7</td>\n",
       "      <td>1</td>\n",
       "    </tr>\n",
       "    <tr>\n",
       "      <th>8332241</th>\n",
       "      <td>TROHQNO128F146ECCB</td>\n",
       "      <td>b7815dbb206eb2831ce0fe040d0aa537e2e800f7</td>\n",
       "      <td>1</td>\n",
       "    </tr>\n",
       "  </tbody>\n",
       "</table>\n",
       "<p>8332242 rows × 3 columns</p>\n",
       "</div>"
      ],
      "text/plain": [
       "                   track_id                                   user_id  \\\n",
       "0        TRIRLYL128F42539D1  b80344d063b5ccb3212f76538f3d9e43d87dca9e   \n",
       "1        TRFUPBA128F934F7E1  b80344d063b5ccb3212f76538f3d9e43d87dca9e   \n",
       "2        TRLQPQJ128F42AA94F  b80344d063b5ccb3212f76538f3d9e43d87dca9e   \n",
       "3        TRTUCUY128F92E1D24  b80344d063b5ccb3212f76538f3d9e43d87dca9e   \n",
       "4        TRHDDQG12903CB53EE  b80344d063b5ccb3212f76538f3d9e43d87dca9e   \n",
       "...                     ...                                       ...   \n",
       "8332237  TRBKFKL128E078ED76  b7815dbb206eb2831ce0fe040d0aa537e2e800f7   \n",
       "8332238  TRYFXPG128E078ECBD  b7815dbb206eb2831ce0fe040d0aa537e2e800f7   \n",
       "8332239  TROBUUZ128F4263002  b7815dbb206eb2831ce0fe040d0aa537e2e800f7   \n",
       "8332240  TROEWXC128F148C83E  b7815dbb206eb2831ce0fe040d0aa537e2e800f7   \n",
       "8332241  TROHQNO128F146ECCB  b7815dbb206eb2831ce0fe040d0aa537e2e800f7   \n",
       "\n",
       "         playcount  \n",
       "0                1  \n",
       "1                1  \n",
       "2                1  \n",
       "3                1  \n",
       "4                1  \n",
       "...            ...  \n",
       "8332237          1  \n",
       "8332238          1  \n",
       "8332239          1  \n",
       "8332240          1  \n",
       "8332241          1  \n",
       "\n",
       "[8332242 rows x 3 columns]"
      ]
     },
     "execution_count": 64,
     "metadata": {},
     "output_type": "execute_result"
    }
   ],
   "source": [
    "df_users"
   ]
  },
  {
   "cell_type": "code",
   "execution_count": 65,
   "metadata": {},
   "outputs": [],
   "source": [
    "df_users.to_csv('data/User Listening History_modified.csv', index=False)"
   ]
  },
  {
   "cell_type": "code",
   "execution_count": null,
   "metadata": {},
   "outputs": [],
   "source": []
  }
 ],
 "metadata": {
  "kernelspec": {
   "display_name": "Master-IA",
   "language": "python",
   "name": "python3"
  },
  "language_info": {
   "codemirror_mode": {
    "name": "ipython",
    "version": 3
   },
   "file_extension": ".py",
   "mimetype": "text/x-python",
   "name": "python",
   "nbconvert_exporter": "python",
   "pygments_lexer": "ipython3",
   "version": "3.10.15"
  }
 },
 "nbformat": 4,
 "nbformat_minor": 2
}
