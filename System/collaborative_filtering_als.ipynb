{
 "cells": [
  {
   "cell_type": "markdown",
   "id": "67221f5a",
   "metadata": {},
   "source": [
    "# Collaborative filtering"
   ]
  },
  {
   "cell_type": "markdown",
   "id": "c5c1ed38",
   "metadata": {},
   "source": [
    "## Data loading"
   ]
  },
  {
   "cell_type": "code",
   "execution_count": 1,
   "id": "db3d9cc6",
   "metadata": {},
   "outputs": [
    {
     "name": "stdout",
     "output_type": "stream",
     "text": [
      "1\n"
     ]
    }
   ],
   "source": [
    "import os\n",
    "os.environ[\"OPENBLAS_NUM_THREADS\"] = \"1\"\n",
    "print(os.environ.get(\"OPENBLAS_NUM_THREADS\"))"
   ]
  },
  {
   "cell_type": "code",
   "execution_count": 2,
   "id": "b3a25959",
   "metadata": {},
   "outputs": [],
   "source": [
    "import pandas as pd\n",
    "import numpy as np\n",
    "import matplotlib.pyplot as plt\n",
    "import seaborn as sns\n",
    "from tqdm import tqdm\n",
    "import pickle\n",
    "RANDOM_STATE = 5482"
   ]
  },
  {
   "cell_type": "code",
   "execution_count": 3,
   "id": "ffc525f8",
   "metadata": {},
   "outputs": [],
   "source": [
    "#df_users = pd.read_csv('data/train_triplets.txt', sep='\\t', header=None, names=['user_id', 'song_id', 'play_count'])\n",
    "df_users_raw = pd.read_csv('data/Million Song Dataset kaggle/User Listening History.csv')"
   ]
  },
  {
   "cell_type": "code",
   "execution_count": 4,
   "id": "f58987a6",
   "metadata": {},
   "outputs": [],
   "source": [
    "df_music = pd.read_csv('data/Million Song Dataset kaggle/Music Info.csv')"
   ]
  },
  {
   "cell_type": "code",
   "execution_count": 5,
   "id": "b3f3becc",
   "metadata": {},
   "outputs": [
    {
     "data": {
      "text/plain": [
       "track_id     object\n",
       "user_id      object\n",
       "playcount     int64\n",
       "dtype: object"
      ]
     },
     "execution_count": 5,
     "metadata": {},
     "output_type": "execute_result"
    }
   ],
   "source": [
    "df_users_raw.dtypes"
   ]
  },
  {
   "cell_type": "code",
   "execution_count": 6,
   "id": "853a6217",
   "metadata": {},
   "outputs": [
    {
     "data": {
      "text/plain": [
       "(9711301, 3)"
      ]
     },
     "execution_count": 6,
     "metadata": {},
     "output_type": "execute_result"
    }
   ],
   "source": [
    "df_users_raw.shape"
   ]
  },
  {
   "cell_type": "code",
   "execution_count": 7,
   "id": "8a64eaa0",
   "metadata": {},
   "outputs": [
    {
     "data": {
      "text/plain": [
       "962037"
      ]
     },
     "execution_count": 7,
     "metadata": {},
     "output_type": "execute_result"
    }
   ],
   "source": [
    "num_distinct_users_raw = df_users_raw['user_id'].nunique()\n",
    "num_distinct_users_raw"
   ]
  },
  {
   "cell_type": "markdown",
   "id": "8f2e76b6",
   "metadata": {},
   "source": [
    "We only take into account users that have listened more than 5 songs"
   ]
  },
  {
   "cell_type": "code",
   "execution_count": 8,
   "id": "53d63cce",
   "metadata": {},
   "outputs": [
    {
     "data": {
      "text/html": [
       "<div>\n",
       "<style scoped>\n",
       "    .dataframe tbody tr th:only-of-type {\n",
       "        vertical-align: middle;\n",
       "    }\n",
       "\n",
       "    .dataframe tbody tr th {\n",
       "        vertical-align: top;\n",
       "    }\n",
       "\n",
       "    .dataframe thead th {\n",
       "        text-align: right;\n",
       "    }\n",
       "</style>\n",
       "<table border=\"1\" class=\"dataframe\">\n",
       "  <thead>\n",
       "    <tr style=\"text-align: right;\">\n",
       "      <th></th>\n",
       "      <th>user_id</th>\n",
       "      <th>count</th>\n",
       "    </tr>\n",
       "  </thead>\n",
       "  <tbody>\n",
       "    <tr>\n",
       "      <th>0</th>\n",
       "      <td>ec6dfcf19485cb011e0b22637075037aae34cf26</td>\n",
       "      <td>784</td>\n",
       "    </tr>\n",
       "    <tr>\n",
       "      <th>1</th>\n",
       "      <td>4e11f45d732f4861772b2906f81a7d384552ad12</td>\n",
       "      <td>384</td>\n",
       "    </tr>\n",
       "    <tr>\n",
       "      <th>2</th>\n",
       "      <td>726da71c2c2ea119119a7957517fccd028d1be76</td>\n",
       "      <td>376</td>\n",
       "    </tr>\n",
       "    <tr>\n",
       "      <th>3</th>\n",
       "      <td>113255a012b2affeab62607563d03fbdf31b08e7</td>\n",
       "      <td>367</td>\n",
       "    </tr>\n",
       "    <tr>\n",
       "      <th>4</th>\n",
       "      <td>7adec7f006cb09482d36609d205293d8b61f030e</td>\n",
       "      <td>366</td>\n",
       "    </tr>\n",
       "    <tr>\n",
       "      <th>...</th>\n",
       "      <td>...</td>\n",
       "      <td>...</td>\n",
       "    </tr>\n",
       "    <tr>\n",
       "      <th>962032</th>\n",
       "      <td>19e70c61de7bbb0ca3fc39c81a7e6b7eede69aa1</td>\n",
       "      <td>1</td>\n",
       "    </tr>\n",
       "    <tr>\n",
       "      <th>962033</th>\n",
       "      <td>7154895e6b692062033eecb3fe59ad240bb02811</td>\n",
       "      <td>1</td>\n",
       "    </tr>\n",
       "    <tr>\n",
       "      <th>962034</th>\n",
       "      <td>5d563bc9f80ddb3bce489c84b453409a88bd37e9</td>\n",
       "      <td>1</td>\n",
       "    </tr>\n",
       "    <tr>\n",
       "      <th>962035</th>\n",
       "      <td>779074ba35bd5f14913635819233a01dc5ecc9de</td>\n",
       "      <td>1</td>\n",
       "    </tr>\n",
       "    <tr>\n",
       "      <th>962036</th>\n",
       "      <td>b4d94644a0e17fdf220cdc9262cd9f0521efe410</td>\n",
       "      <td>1</td>\n",
       "    </tr>\n",
       "  </tbody>\n",
       "</table>\n",
       "<p>962037 rows × 2 columns</p>\n",
       "</div>"
      ],
      "text/plain": [
       "                                         user_id  count\n",
       "0       ec6dfcf19485cb011e0b22637075037aae34cf26    784\n",
       "1       4e11f45d732f4861772b2906f81a7d384552ad12    384\n",
       "2       726da71c2c2ea119119a7957517fccd028d1be76    376\n",
       "3       113255a012b2affeab62607563d03fbdf31b08e7    367\n",
       "4       7adec7f006cb09482d36609d205293d8b61f030e    366\n",
       "...                                          ...    ...\n",
       "962032  19e70c61de7bbb0ca3fc39c81a7e6b7eede69aa1      1\n",
       "962033  7154895e6b692062033eecb3fe59ad240bb02811      1\n",
       "962034  5d563bc9f80ddb3bce489c84b453409a88bd37e9      1\n",
       "962035  779074ba35bd5f14913635819233a01dc5ecc9de      1\n",
       "962036  b4d94644a0e17fdf220cdc9262cd9f0521efe410      1\n",
       "\n",
       "[962037 rows x 2 columns]"
      ]
     },
     "execution_count": 8,
     "metadata": {},
     "output_type": "execute_result"
    }
   ],
   "source": [
    "df_user_counts = df_users_raw['user_id'].value_counts().reset_index()\n",
    "df_user_counts.columns = ['user_id', 'count']\n",
    "df_user_counts"
   ]
  },
  {
   "cell_type": "code",
   "execution_count": 9,
   "id": "a35bb04b",
   "metadata": {},
   "outputs": [
    {
     "data": {
      "text/plain": [
       "(8332242, 3)"
      ]
     },
     "execution_count": 9,
     "metadata": {},
     "output_type": "execute_result"
    }
   ],
   "source": [
    "df_users = df_users_raw[df_users_raw['user_id'].isin(df_user_counts[df_user_counts['count'] > 5]['user_id'])].reset_index(drop=True)\n",
    "#df_users = df_users_raw\n",
    "df_users.shape"
   ]
  },
  {
   "cell_type": "code",
   "execution_count": 10,
   "id": "ca868344",
   "metadata": {},
   "outputs": [
    {
     "data": {
      "text/plain": [
       "464573"
      ]
     },
     "execution_count": 10,
     "metadata": {},
     "output_type": "execute_result"
    }
   ],
   "source": [
    "num_distinct_users = df_users['user_id'].nunique()\n",
    "num_distinct_users"
   ]
  },
  {
   "cell_type": "code",
   "execution_count": 11,
   "id": "e505d33a",
   "metadata": {},
   "outputs": [],
   "source": [
    "data_df = df_users_raw.groupby('track_id').size().reset_index(name='count')"
   ]
  },
  {
   "cell_type": "code",
   "execution_count": 12,
   "id": "66cbc02d",
   "metadata": {},
   "outputs": [
    {
     "data": {
      "text/html": [
       "<div>\n",
       "<style scoped>\n",
       "    .dataframe tbody tr th:only-of-type {\n",
       "        vertical-align: middle;\n",
       "    }\n",
       "\n",
       "    .dataframe tbody tr th {\n",
       "        vertical-align: top;\n",
       "    }\n",
       "\n",
       "    .dataframe thead th {\n",
       "        text-align: right;\n",
       "    }\n",
       "</style>\n",
       "<table border=\"1\" class=\"dataframe\">\n",
       "  <thead>\n",
       "    <tr style=\"text-align: right;\">\n",
       "      <th></th>\n",
       "      <th>track_id</th>\n",
       "      <th>count</th>\n",
       "    </tr>\n",
       "  </thead>\n",
       "  <tbody>\n",
       "    <tr>\n",
       "      <th>0</th>\n",
       "      <td>TRAAAED128E0783FAB</td>\n",
       "      <td>161</td>\n",
       "    </tr>\n",
       "    <tr>\n",
       "      <th>1</th>\n",
       "      <td>TRAAAHD128F42635A5</td>\n",
       "      <td>2</td>\n",
       "    </tr>\n",
       "    <tr>\n",
       "      <th>2</th>\n",
       "      <td>TRAAAQO12903CD8E1C</td>\n",
       "      <td>1</td>\n",
       "    </tr>\n",
       "    <tr>\n",
       "      <th>3</th>\n",
       "      <td>TRAABJS128F9325C99</td>\n",
       "      <td>945</td>\n",
       "    </tr>\n",
       "    <tr>\n",
       "      <th>4</th>\n",
       "      <td>TRAABXA128F9326351</td>\n",
       "      <td>18</td>\n",
       "    </tr>\n",
       "    <tr>\n",
       "      <th>...</th>\n",
       "      <td>...</td>\n",
       "      <td>...</td>\n",
       "    </tr>\n",
       "    <tr>\n",
       "      <th>30454</th>\n",
       "      <td>TRZZYMU128E0792400</td>\n",
       "      <td>1140</td>\n",
       "    </tr>\n",
       "    <tr>\n",
       "      <th>30455</th>\n",
       "      <td>TRZZZCL128F428BB80</td>\n",
       "      <td>19</td>\n",
       "    </tr>\n",
       "    <tr>\n",
       "      <th>30456</th>\n",
       "      <td>TRZZZCN128F9317A03</td>\n",
       "      <td>15</td>\n",
       "    </tr>\n",
       "    <tr>\n",
       "      <th>30457</th>\n",
       "      <td>TRZZZHL128F9329CFB</td>\n",
       "      <td>116</td>\n",
       "    </tr>\n",
       "    <tr>\n",
       "      <th>30458</th>\n",
       "      <td>TRZZZRJ128F42819AF</td>\n",
       "      <td>857</td>\n",
       "    </tr>\n",
       "  </tbody>\n",
       "</table>\n",
       "<p>30459 rows × 2 columns</p>\n",
       "</div>"
      ],
      "text/plain": [
       "                 track_id  count\n",
       "0      TRAAAED128E0783FAB    161\n",
       "1      TRAAAHD128F42635A5      2\n",
       "2      TRAAAQO12903CD8E1C      1\n",
       "3      TRAABJS128F9325C99    945\n",
       "4      TRAABXA128F9326351     18\n",
       "...                   ...    ...\n",
       "30454  TRZZYMU128E0792400   1140\n",
       "30455  TRZZZCL128F428BB80     19\n",
       "30456  TRZZZCN128F9317A03     15\n",
       "30457  TRZZZHL128F9329CFB    116\n",
       "30458  TRZZZRJ128F42819AF    857\n",
       "\n",
       "[30459 rows x 2 columns]"
      ]
     },
     "execution_count": 12,
     "metadata": {},
     "output_type": "execute_result"
    }
   ],
   "source": [
    "data_df"
   ]
  },
  {
   "cell_type": "code",
   "execution_count": 13,
   "id": "b05fd93f",
   "metadata": {},
   "outputs": [
    {
     "data": {
      "text/html": [
       "<div>\n",
       "<style scoped>\n",
       "    .dataframe tbody tr th:only-of-type {\n",
       "        vertical-align: middle;\n",
       "    }\n",
       "\n",
       "    .dataframe tbody tr th {\n",
       "        vertical-align: top;\n",
       "    }\n",
       "\n",
       "    .dataframe thead th {\n",
       "        text-align: right;\n",
       "    }\n",
       "</style>\n",
       "<table border=\"1\" class=\"dataframe\">\n",
       "  <thead>\n",
       "    <tr style=\"text-align: right;\">\n",
       "      <th></th>\n",
       "      <th>track_id</th>\n",
       "      <th>name</th>\n",
       "      <th>artist</th>\n",
       "      <th>spotify_preview_url</th>\n",
       "      <th>spotify_id</th>\n",
       "      <th>tags</th>\n",
       "      <th>genre</th>\n",
       "      <th>year</th>\n",
       "      <th>duration_ms</th>\n",
       "      <th>danceability</th>\n",
       "      <th>...</th>\n",
       "      <th>key</th>\n",
       "      <th>loudness</th>\n",
       "      <th>mode</th>\n",
       "      <th>speechiness</th>\n",
       "      <th>acousticness</th>\n",
       "      <th>instrumentalness</th>\n",
       "      <th>liveness</th>\n",
       "      <th>valence</th>\n",
       "      <th>tempo</th>\n",
       "      <th>time_signature</th>\n",
       "    </tr>\n",
       "  </thead>\n",
       "  <tbody>\n",
       "    <tr>\n",
       "      <th>0</th>\n",
       "      <td>TRIOREW128F424EAF0</td>\n",
       "      <td>Mr. Brightside</td>\n",
       "      <td>The Killers</td>\n",
       "      <td>https://p.scdn.co/mp3-preview/4d26180e6961fd46...</td>\n",
       "      <td>09ZQ5TmUG8TSL56n0knqrj</td>\n",
       "      <td>rock, alternative, indie, alternative_rock, in...</td>\n",
       "      <td>NaN</td>\n",
       "      <td>2004</td>\n",
       "      <td>222200</td>\n",
       "      <td>0.355</td>\n",
       "      <td>...</td>\n",
       "      <td>1</td>\n",
       "      <td>-4.360</td>\n",
       "      <td>1</td>\n",
       "      <td>0.0746</td>\n",
       "      <td>0.001190</td>\n",
       "      <td>0.000000</td>\n",
       "      <td>0.0971</td>\n",
       "      <td>0.240</td>\n",
       "      <td>148.114</td>\n",
       "      <td>4</td>\n",
       "    </tr>\n",
       "    <tr>\n",
       "      <th>1</th>\n",
       "      <td>TRRIVDJ128F429B0E8</td>\n",
       "      <td>Wonderwall</td>\n",
       "      <td>Oasis</td>\n",
       "      <td>https://p.scdn.co/mp3-preview/d012e536916c927b...</td>\n",
       "      <td>06UfBBDISthj1ZJAtX4xjj</td>\n",
       "      <td>rock, alternative, indie, pop, alternative_roc...</td>\n",
       "      <td>NaN</td>\n",
       "      <td>2006</td>\n",
       "      <td>258613</td>\n",
       "      <td>0.409</td>\n",
       "      <td>...</td>\n",
       "      <td>2</td>\n",
       "      <td>-4.373</td>\n",
       "      <td>1</td>\n",
       "      <td>0.0336</td>\n",
       "      <td>0.000807</td>\n",
       "      <td>0.000000</td>\n",
       "      <td>0.2070</td>\n",
       "      <td>0.651</td>\n",
       "      <td>174.426</td>\n",
       "      <td>4</td>\n",
       "    </tr>\n",
       "    <tr>\n",
       "      <th>2</th>\n",
       "      <td>TROUVHL128F426C441</td>\n",
       "      <td>Come as You Are</td>\n",
       "      <td>Nirvana</td>\n",
       "      <td>https://p.scdn.co/mp3-preview/a1c11bb1cb231031...</td>\n",
       "      <td>0keNu0t0tqsWtExGM3nT1D</td>\n",
       "      <td>rock, alternative, alternative_rock, 90s, grunge</td>\n",
       "      <td>RnB</td>\n",
       "      <td>1991</td>\n",
       "      <td>218920</td>\n",
       "      <td>0.508</td>\n",
       "      <td>...</td>\n",
       "      <td>4</td>\n",
       "      <td>-5.783</td>\n",
       "      <td>0</td>\n",
       "      <td>0.0400</td>\n",
       "      <td>0.000175</td>\n",
       "      <td>0.000459</td>\n",
       "      <td>0.0878</td>\n",
       "      <td>0.543</td>\n",
       "      <td>120.012</td>\n",
       "      <td>4</td>\n",
       "    </tr>\n",
       "    <tr>\n",
       "      <th>3</th>\n",
       "      <td>TRUEIND128F93038C4</td>\n",
       "      <td>Take Me Out</td>\n",
       "      <td>Franz Ferdinand</td>\n",
       "      <td>https://p.scdn.co/mp3-preview/399c401370438be4...</td>\n",
       "      <td>0ancVQ9wEcHVd0RrGICTE4</td>\n",
       "      <td>rock, alternative, indie, alternative_rock, in...</td>\n",
       "      <td>NaN</td>\n",
       "      <td>2004</td>\n",
       "      <td>237026</td>\n",
       "      <td>0.279</td>\n",
       "      <td>...</td>\n",
       "      <td>9</td>\n",
       "      <td>-8.851</td>\n",
       "      <td>1</td>\n",
       "      <td>0.0371</td>\n",
       "      <td>0.000389</td>\n",
       "      <td>0.000655</td>\n",
       "      <td>0.1330</td>\n",
       "      <td>0.490</td>\n",
       "      <td>104.560</td>\n",
       "      <td>4</td>\n",
       "    </tr>\n",
       "    <tr>\n",
       "      <th>4</th>\n",
       "      <td>TRLNZBD128F935E4D8</td>\n",
       "      <td>Creep</td>\n",
       "      <td>Radiohead</td>\n",
       "      <td>https://p.scdn.co/mp3-preview/e7eb60e9466bc3a2...</td>\n",
       "      <td>01QoK9DA7VTeTSE3MNzp4I</td>\n",
       "      <td>rock, alternative, indie, alternative_rock, in...</td>\n",
       "      <td>RnB</td>\n",
       "      <td>2008</td>\n",
       "      <td>238640</td>\n",
       "      <td>0.515</td>\n",
       "      <td>...</td>\n",
       "      <td>7</td>\n",
       "      <td>-9.935</td>\n",
       "      <td>1</td>\n",
       "      <td>0.0369</td>\n",
       "      <td>0.010200</td>\n",
       "      <td>0.000141</td>\n",
       "      <td>0.1290</td>\n",
       "      <td>0.104</td>\n",
       "      <td>91.841</td>\n",
       "      <td>4</td>\n",
       "    </tr>\n",
       "  </tbody>\n",
       "</table>\n",
       "<p>5 rows × 21 columns</p>\n",
       "</div>"
      ],
      "text/plain": [
       "             track_id             name           artist  \\\n",
       "0  TRIOREW128F424EAF0   Mr. Brightside      The Killers   \n",
       "1  TRRIVDJ128F429B0E8       Wonderwall            Oasis   \n",
       "2  TROUVHL128F426C441  Come as You Are          Nirvana   \n",
       "3  TRUEIND128F93038C4      Take Me Out  Franz Ferdinand   \n",
       "4  TRLNZBD128F935E4D8            Creep        Radiohead   \n",
       "\n",
       "                                 spotify_preview_url              spotify_id  \\\n",
       "0  https://p.scdn.co/mp3-preview/4d26180e6961fd46...  09ZQ5TmUG8TSL56n0knqrj   \n",
       "1  https://p.scdn.co/mp3-preview/d012e536916c927b...  06UfBBDISthj1ZJAtX4xjj   \n",
       "2  https://p.scdn.co/mp3-preview/a1c11bb1cb231031...  0keNu0t0tqsWtExGM3nT1D   \n",
       "3  https://p.scdn.co/mp3-preview/399c401370438be4...  0ancVQ9wEcHVd0RrGICTE4   \n",
       "4  https://p.scdn.co/mp3-preview/e7eb60e9466bc3a2...  01QoK9DA7VTeTSE3MNzp4I   \n",
       "\n",
       "                                                tags genre  year  duration_ms  \\\n",
       "0  rock, alternative, indie, alternative_rock, in...   NaN  2004       222200   \n",
       "1  rock, alternative, indie, pop, alternative_roc...   NaN  2006       258613   \n",
       "2   rock, alternative, alternative_rock, 90s, grunge   RnB  1991       218920   \n",
       "3  rock, alternative, indie, alternative_rock, in...   NaN  2004       237026   \n",
       "4  rock, alternative, indie, alternative_rock, in...   RnB  2008       238640   \n",
       "\n",
       "   danceability  ...  key  loudness  mode  speechiness  acousticness  \\\n",
       "0         0.355  ...    1    -4.360     1       0.0746      0.001190   \n",
       "1         0.409  ...    2    -4.373     1       0.0336      0.000807   \n",
       "2         0.508  ...    4    -5.783     0       0.0400      0.000175   \n",
       "3         0.279  ...    9    -8.851     1       0.0371      0.000389   \n",
       "4         0.515  ...    7    -9.935     1       0.0369      0.010200   \n",
       "\n",
       "   instrumentalness  liveness  valence    tempo  time_signature  \n",
       "0          0.000000    0.0971    0.240  148.114               4  \n",
       "1          0.000000    0.2070    0.651  174.426               4  \n",
       "2          0.000459    0.0878    0.543  120.012               4  \n",
       "3          0.000655    0.1330    0.490  104.560               4  \n",
       "4          0.000141    0.1290    0.104   91.841               4  \n",
       "\n",
       "[5 rows x 21 columns]"
      ]
     },
     "execution_count": 13,
     "metadata": {},
     "output_type": "execute_result"
    }
   ],
   "source": [
    "df_music.head()"
   ]
  },
  {
   "cell_type": "code",
   "execution_count": 14,
   "id": "17f8844f",
   "metadata": {},
   "outputs": [
    {
     "data": {
      "text/html": [
       "<div>\n",
       "<style scoped>\n",
       "    .dataframe tbody tr th:only-of-type {\n",
       "        vertical-align: middle;\n",
       "    }\n",
       "\n",
       "    .dataframe tbody tr th {\n",
       "        vertical-align: top;\n",
       "    }\n",
       "\n",
       "    .dataframe thead th {\n",
       "        text-align: right;\n",
       "    }\n",
       "</style>\n",
       "<table border=\"1\" class=\"dataframe\">\n",
       "  <thead>\n",
       "    <tr style=\"text-align: right;\">\n",
       "      <th></th>\n",
       "      <th>track_id</th>\n",
       "      <th>name</th>\n",
       "      <th>artist</th>\n",
       "      <th>energy</th>\n",
       "    </tr>\n",
       "  </thead>\n",
       "  <tbody>\n",
       "    <tr>\n",
       "      <th>0</th>\n",
       "      <td>TRIOREW128F424EAF0</td>\n",
       "      <td>Mr. Brightside</td>\n",
       "      <td>The Killers</td>\n",
       "      <td>0.918</td>\n",
       "    </tr>\n",
       "    <tr>\n",
       "      <th>1</th>\n",
       "      <td>TRRIVDJ128F429B0E8</td>\n",
       "      <td>Wonderwall</td>\n",
       "      <td>Oasis</td>\n",
       "      <td>0.892</td>\n",
       "    </tr>\n",
       "    <tr>\n",
       "      <th>2</th>\n",
       "      <td>TROUVHL128F426C441</td>\n",
       "      <td>Come as You Are</td>\n",
       "      <td>Nirvana</td>\n",
       "      <td>0.826</td>\n",
       "    </tr>\n",
       "    <tr>\n",
       "      <th>3</th>\n",
       "      <td>TRUEIND128F93038C4</td>\n",
       "      <td>Take Me Out</td>\n",
       "      <td>Franz Ferdinand</td>\n",
       "      <td>0.664</td>\n",
       "    </tr>\n",
       "    <tr>\n",
       "      <th>4</th>\n",
       "      <td>TRLNZBD128F935E4D8</td>\n",
       "      <td>Creep</td>\n",
       "      <td>Radiohead</td>\n",
       "      <td>0.430</td>\n",
       "    </tr>\n",
       "  </tbody>\n",
       "</table>\n",
       "</div>"
      ],
      "text/plain": [
       "             track_id             name           artist  energy\n",
       "0  TRIOREW128F424EAF0   Mr. Brightside      The Killers   0.918\n",
       "1  TRRIVDJ128F429B0E8       Wonderwall            Oasis   0.892\n",
       "2  TROUVHL128F426C441  Come as You Are          Nirvana   0.826\n",
       "3  TRUEIND128F93038C4      Take Me Out  Franz Ferdinand   0.664\n",
       "4  TRLNZBD128F935E4D8            Creep        Radiohead   0.430"
      ]
     },
     "execution_count": 14,
     "metadata": {},
     "output_type": "execute_result"
    }
   ],
   "source": [
    "df_music_info = df_music[['track_id', 'name', 'artist', 'energy']]\n",
    "df_music_info.head()"
   ]
  },
  {
   "cell_type": "code",
   "execution_count": 15,
   "id": "b0fcb896",
   "metadata": {},
   "outputs": [
    {
     "name": "stdout",
     "output_type": "stream",
     "text": [
      "(50683, 5)\n"
     ]
    },
    {
     "data": {
      "text/html": [
       "<div>\n",
       "<style scoped>\n",
       "    .dataframe tbody tr th:only-of-type {\n",
       "        vertical-align: middle;\n",
       "    }\n",
       "\n",
       "    .dataframe tbody tr th {\n",
       "        vertical-align: top;\n",
       "    }\n",
       "\n",
       "    .dataframe thead th {\n",
       "        text-align: right;\n",
       "    }\n",
       "</style>\n",
       "<table border=\"1\" class=\"dataframe\">\n",
       "  <thead>\n",
       "    <tr style=\"text-align: right;\">\n",
       "      <th></th>\n",
       "      <th>track_id</th>\n",
       "      <th>name</th>\n",
       "      <th>artist</th>\n",
       "      <th>energy</th>\n",
       "      <th>playcount</th>\n",
       "    </tr>\n",
       "  </thead>\n",
       "  <tbody>\n",
       "    <tr>\n",
       "      <th>0</th>\n",
       "      <td>TRIOREW128F424EAF0</td>\n",
       "      <td>Mr. Brightside</td>\n",
       "      <td>The Killers</td>\n",
       "      <td>0.918</td>\n",
       "      <td>32.0</td>\n",
       "    </tr>\n",
       "    <tr>\n",
       "      <th>1</th>\n",
       "      <td>TRRIVDJ128F429B0E8</td>\n",
       "      <td>Wonderwall</td>\n",
       "      <td>Oasis</td>\n",
       "      <td>0.892</td>\n",
       "      <td>283.0</td>\n",
       "    </tr>\n",
       "    <tr>\n",
       "      <th>2</th>\n",
       "      <td>TROUVHL128F426C441</td>\n",
       "      <td>Come as You Are</td>\n",
       "      <td>Nirvana</td>\n",
       "      <td>0.826</td>\n",
       "      <td>0.0</td>\n",
       "    </tr>\n",
       "    <tr>\n",
       "      <th>3</th>\n",
       "      <td>TRUEIND128F93038C4</td>\n",
       "      <td>Take Me Out</td>\n",
       "      <td>Franz Ferdinand</td>\n",
       "      <td>0.664</td>\n",
       "      <td>17.0</td>\n",
       "    </tr>\n",
       "    <tr>\n",
       "      <th>4</th>\n",
       "      <td>TRLNZBD128F935E4D8</td>\n",
       "      <td>Creep</td>\n",
       "      <td>Radiohead</td>\n",
       "      <td>0.430</td>\n",
       "      <td>0.0</td>\n",
       "    </tr>\n",
       "  </tbody>\n",
       "</table>\n",
       "</div>"
      ],
      "text/plain": [
       "             track_id             name           artist  energy  playcount\n",
       "0  TRIOREW128F424EAF0   Mr. Brightside      The Killers   0.918       32.0\n",
       "1  TRRIVDJ128F429B0E8       Wonderwall            Oasis   0.892      283.0\n",
       "2  TROUVHL128F426C441  Come as You Are          Nirvana   0.826        0.0\n",
       "3  TRUEIND128F93038C4      Take Me Out  Franz Ferdinand   0.664       17.0\n",
       "4  TRLNZBD128F935E4D8            Creep        Radiohead   0.430        0.0"
      ]
     },
     "execution_count": 15,
     "metadata": {},
     "output_type": "execute_result"
    }
   ],
   "source": [
    "df_music_count = df_music_info.merge(\n",
    "    df_users.groupby('track_id').size().reset_index(name='playcount'),\n",
    "    on='track_id',\n",
    "    how='left'\n",
    ")\n",
    "df_music_count = df_music_count.fillna(0)\n",
    "print(df_music_count.shape)\n",
    "df_music_count.head()"
   ]
  },
  {
   "cell_type": "code",
   "execution_count": 16,
   "id": "13f5ea7a",
   "metadata": {},
   "outputs": [],
   "source": [
    "# df_music_count = df_music_info.merge(\n",
    "#     df_users.groupby('track_id').size().reset_index(name='playcount'),\n",
    "#     on='track_id',\n",
    "#     how='inner'\n",
    "# )\n",
    "# print(df_music_count.shape)\n",
    "# df_music_count.head()"
   ]
  },
  {
   "cell_type": "markdown",
   "id": "e5db63d8",
   "metadata": {},
   "source": [
    "## Interaction Matrix"
   ]
  },
  {
   "cell_type": "code",
   "execution_count": 17,
   "id": "73ade2f2",
   "metadata": {},
   "outputs": [],
   "source": [
    "df_users_agg = df_users.groupby('user_id')['playcount'].agg(\n",
    "    #total_playcount='sum',\n",
    "    max_playcount='max'\n",
    ").reset_index()\n",
    "df_users_agg = df_users_agg.rename(columns={'playcount': 'max_playcount'})"
   ]
  },
  {
   "cell_type": "code",
   "execution_count": 18,
   "id": "50476db3",
   "metadata": {},
   "outputs": [],
   "source": [
    "df_users_rating = df_users.merge(df_users_agg, on='user_id')"
   ]
  },
  {
   "cell_type": "code",
   "execution_count": 19,
   "id": "2d2c2add",
   "metadata": {},
   "outputs": [],
   "source": [
    "from scipy.sparse import csr_matrix, csc_matrix"
   ]
  },
  {
   "cell_type": "markdown",
   "id": "a92f8c72",
   "metadata": {},
   "source": [
    "We codify each user and song to a unique integer ID"
   ]
  },
  {
   "cell_type": "code",
   "execution_count": 20,
   "id": "034e30c7",
   "metadata": {},
   "outputs": [],
   "source": [
    "user_codes, user_uniques = pd.factorize(df_users['user_id'])\n",
    "track_codes, track_uniques = pd.factorize(df_users['track_id'])"
   ]
  },
  {
   "cell_type": "markdown",
   "id": "931664f7",
   "metadata": {},
   "source": [
    "## Matrix Factorization: Alternating Least Squares (ALS)"
   ]
  },
  {
   "cell_type": "markdown",
   "id": "446270f6",
   "metadata": {},
   "source": [
    "Aleternating Least Squares performs very well for sparse and implicit data. So we shall calculate the interaction matrix as the playcount or as proposed in the original ALS paper:\n",
    "\n",
    "$$\n",
    "\\text{confidence}_{ui} = 1 + \\alpha \\cdot r_{ui}\n",
    "$$\n",
    "\n",
    "We also calculate it with a bm25 weighting scheme to reduce the effect of a single user listening too many times to the same song and to direct somo of the confidence score to the most popular items, as proposed on the Implicit library documentation\n"
   ]
  },
  {
   "cell_type": "code",
   "execution_count": 21,
   "id": "ad6ea933",
   "metadata": {},
   "outputs": [],
   "source": [
    "ALPHA = 40 #Value proposed in the paper \"A Matrix Factorization Approach to Online Recommendation with Implicit Feedback\" by Hu et al. (2008)\n",
    "\n",
    "confidence_values = 1 + ALPHA * df_users_rating['playcount']\n",
    "\n",
    "interaction_matrix_user_item_paper = csr_matrix(\n",
    "    (confidence_values, (user_codes, track_codes)),\n",
    "    shape=(len(user_uniques), len(track_uniques))\n",
    ")\n"
   ]
  },
  {
   "cell_type": "code",
   "execution_count": 22,
   "id": "e0a4f331",
   "metadata": {},
   "outputs": [
    {
     "name": "stderr",
     "output_type": "stream",
     "text": [
      "c:\\Users\\danih\\anaconda3\\envs\\MasterIA\\Lib\\site-packages\\tqdm\\auto.py:21: TqdmWarning: IProgress not found. Please update jupyter and ipywidgets. See https://ipywidgets.readthedocs.io/en/stable/user_install.html\n",
      "  from .autonotebook import tqdm as notebook_tqdm\n"
     ]
    }
   ],
   "source": [
    "from implicit.nearest_neighbours import bm25_weight\n",
    "\n",
    "\n",
    "interaction_matrix_user_item_bm25_aux = csr_matrix(\n",
    "    (df_users_rating['playcount'], (user_codes, track_codes)),\n",
    "    shape=(len(user_uniques), len(track_uniques))\n",
    ")\n",
    "\n",
    "interaction_matrix_user_item_bm25 = bm25_weight(interaction_matrix_user_item_bm25_aux).tocsr() #We use K1 and B parameters as default values (K1=100, B=0.8)\n"
   ]
  },
  {
   "cell_type": "code",
   "execution_count": 23,
   "id": "5918ab0a",
   "metadata": {},
   "outputs": [],
   "source": [
    "from implicit.als import AlternatingLeastSquares"
   ]
  },
  {
   "cell_type": "code",
   "execution_count": 24,
   "id": "01e7f477",
   "metadata": {},
   "outputs": [],
   "source": [
    "class ALSRecommender:\n",
    "    def __init__(self, interaction_matrix, track_uniques, df_music_info, als_model=None):\n",
    "        self.interaction_matrix = interaction_matrix\n",
    "        self.track_uniques = track_uniques\n",
    "        self.df_music_info = df_music_info\n",
    "\n",
    "        if als_model is None:\n",
    "            self.als_model = AlternatingLeastSquares(factors=50, regularization=0.1, iterations=20, num_threads=-1, random_state=RANDOM_STATE)\n",
    "            self.als_model.fit(self.interaction_matrix)\n",
    "        else:\n",
    "            self.als_model = als_model\n",
    "\n",
    "        self.user_index = None\n",
    "        self.recommendations = None # List of tuples (track_id, energy, similarity, has been recommended)\n",
    "\n",
    "    def make_recommendations(self, user_index, n=100):\n",
    "        self.user_index = user_index\n",
    "\n",
    "        user_items = self.interaction_matrix.tocsr()[user_index]\n",
    "\n",
    "\n",
    "        top_n_recommendations_indexes, top_n_recommendations_scores = self.als_model.recommend(user_index, user_items, N=n, filter_already_liked_items=True)\n",
    "\n",
    "        # for i in range(len(top_n_recommendations_indexes)):\n",
    "        #     print(f\"Track ID: {self.track_uniques[top_n_recommendations_indexes[i]]}, Similarity: {top_n_recommendations_scores[i]}\")\n",
    "\n",
    "\n",
    "        track_ids = self.track_uniques[top_n_recommendations_indexes].tolist()\n",
    "        \n",
    "        df_filtered = self.df_music_info.set_index('track_id').loc[track_ids][['energy']].reset_index()\n",
    "\n",
    "        self.recommendations = [(track_id, energy, similarity, False) for (track_id, energy), similarity in zip(df_filtered.itertuples(index=False, name=None), top_n_recommendations_scores)]\n",
    "        return self.recommendations\n",
    "\n",
    "    \n",
    "    def recommend_song(self, energy, energy_margin=0.05):\n",
    "        if self.recommendations is None:\n",
    "            raise ValueError(\"No recommendations available. Please call make_recommendations first.\")\n",
    "        \n",
    "        closest_track_index = None\n",
    "        distance_to_energy = float('inf')\n",
    "\n",
    "        for i, (track_id, track_energy, similarity, has_been_recommended) in enumerate(self.recommendations):\n",
    "            distance = abs(track_energy - energy)\n",
    "\n",
    "            if not has_been_recommended and distance <= energy_margin:\n",
    "                self.recommendations[i] = (track_id, track_energy, similarity, True)\n",
    "                return (track_id, track_energy)\n",
    "            \n",
    "            if not has_been_recommended and distance < distance_to_energy:\n",
    "                closest_track_index = i\n",
    "                distance_to_energy = distance\n",
    "        \n",
    "        if closest_track_index is not None:\n",
    "            track_id, track_energy, _, _= self.recommendations[closest_track_index]\n",
    "            self.recommendations[closest_track_index] = (track_id, track_energy, similarity, True)\n",
    "            return (track_id, track_energy)\n",
    "\n",
    "        raise ValueError(\"All recommendations have already been recommended\")\n",
    "\n",
    "\n",
    "    def get_recommendations(self):\n",
    "        if self.recommendations is None:\n",
    "            raise ValueError(\"No recommendations available. Please call make_recommendations first.\")\n",
    "        return self.recommendations\n",
    "\n",
    "\n",
    "    def get_recommendations_ids(self):\n",
    "        if self.recommendations is None:\n",
    "            raise ValueError(\"No recommendations available. Please call make_recommendations first.\")\n",
    "        return [track_id for track_id, _, _, _ in self.recommendations]\n",
    "    \n",
    "    def get_recommendations_info(self):\n",
    "        track_ids = [track_id for track_id, _, _, _ in self.recommendations]\n",
    "        df_ordered = self.df_music_info.set_index('track_id').loc[track_ids].reset_index()\n",
    "        return df_ordered"
   ]
  },
  {
   "cell_type": "markdown",
   "id": "31701cb5",
   "metadata": {},
   "source": [
    "### Example"
   ]
  },
  {
   "cell_type": "code",
   "execution_count": null,
   "id": "8491f3e8",
   "metadata": {},
   "outputs": [
    {
     "data": {
      "text/html": [
       "<div>\n",
       "<style scoped>\n",
       "    .dataframe tbody tr th:only-of-type {\n",
       "        vertical-align: middle;\n",
       "    }\n",
       "\n",
       "    .dataframe tbody tr th {\n",
       "        vertical-align: top;\n",
       "    }\n",
       "\n",
       "    .dataframe thead th {\n",
       "        text-align: right;\n",
       "    }\n",
       "</style>\n",
       "<table border=\"1\" class=\"dataframe\">\n",
       "  <thead>\n",
       "    <tr style=\"text-align: right;\">\n",
       "      <th></th>\n",
       "      <th>track_id</th>\n",
       "      <th>name</th>\n",
       "      <th>artist</th>\n",
       "      <th>energy</th>\n",
       "    </tr>\n",
       "  </thead>\n",
       "  <tbody>\n",
       "    <tr>\n",
       "      <th>79</th>\n",
       "      <td>TRAAHSY128F147BB5C</td>\n",
       "      <td>Speed of Sound</td>\n",
       "      <td>Coldplay</td>\n",
       "      <td>0.8980</td>\n",
       "    </tr>\n",
       "    <tr>\n",
       "      <th>796</th>\n",
       "      <td>TRDLMWP128F426BF6C</td>\n",
       "      <td>Ragged Wood</td>\n",
       "      <td>Fleet Foxes</td>\n",
       "      <td>0.6850</td>\n",
       "    </tr>\n",
       "    <tr>\n",
       "      <th>1158</th>\n",
       "      <td>TRPUGUW128F426BF6F</td>\n",
       "      <td>He Doesn't Know Why</td>\n",
       "      <td>Fleet Foxes</td>\n",
       "      <td>0.5580</td>\n",
       "    </tr>\n",
       "    <tr>\n",
       "      <th>1743</th>\n",
       "      <td>TRRYCBO128F932A2C7</td>\n",
       "      <td>Love Shack</td>\n",
       "      <td>The B-52's</td>\n",
       "      <td>0.9020</td>\n",
       "    </tr>\n",
       "    <tr>\n",
       "      <th>2350</th>\n",
       "      <td>TRFUPBA128F934F7E1</td>\n",
       "      <td>Paper Gangsta</td>\n",
       "      <td>Lady Gaga</td>\n",
       "      <td>0.5300</td>\n",
       "    </tr>\n",
       "    <tr>\n",
       "      <th>2585</th>\n",
       "      <td>TRVODUZ128F934D094</td>\n",
       "      <td>All That We Perceive</td>\n",
       "      <td>Thievery Corporation</td>\n",
       "      <td>0.8340</td>\n",
       "    </tr>\n",
       "    <tr>\n",
       "      <th>2722</th>\n",
       "      <td>TRHDDQG12903CB53EE</td>\n",
       "      <td>Heaven's Gonna Burn Your Eyes</td>\n",
       "      <td>Thievery Corporation</td>\n",
       "      <td>0.3370</td>\n",
       "    </tr>\n",
       "    <tr>\n",
       "      <th>5416</th>\n",
       "      <td>TRTUCUY128F92E1D24</td>\n",
       "      <td>Stacked Actors</td>\n",
       "      <td>Foo Fighters</td>\n",
       "      <td>0.9340</td>\n",
       "    </tr>\n",
       "    <tr>\n",
       "      <th>5428</th>\n",
       "      <td>TRLXSNR128F429361D</td>\n",
       "      <td>Generator</td>\n",
       "      <td>Foo Fighters</td>\n",
       "      <td>0.9240</td>\n",
       "    </tr>\n",
       "    <tr>\n",
       "      <th>5819</th>\n",
       "      <td>TRADVZX128F426BF79</td>\n",
       "      <td>Sun Giant</td>\n",
       "      <td>Fleet Foxes</td>\n",
       "      <td>0.0626</td>\n",
       "    </tr>\n",
       "    <tr>\n",
       "      <th>8654</th>\n",
       "      <td>TRUTULC128F4293712</td>\n",
       "      <td>Gimme Stitches</td>\n",
       "      <td>Foo Fighters</td>\n",
       "      <td>0.9580</td>\n",
       "    </tr>\n",
       "    <tr>\n",
       "      <th>8745</th>\n",
       "      <td>TRDCZUX128F4263A74</td>\n",
       "      <td>City Love</td>\n",
       "      <td>John Mayer</td>\n",
       "      <td>0.5480</td>\n",
       "    </tr>\n",
       "    <tr>\n",
       "      <th>12359</th>\n",
       "      <td>TRQLOHS128F42435AE</td>\n",
       "      <td>Holes To Heaven</td>\n",
       "      <td>Jack Johnson</td>\n",
       "      <td>0.6310</td>\n",
       "    </tr>\n",
       "    <tr>\n",
       "      <th>14106</th>\n",
       "      <td>TRVVWSW128F4292931</td>\n",
       "      <td>Trani</td>\n",
       "      <td>Kings of Leon</td>\n",
       "      <td>0.4060</td>\n",
       "    </tr>\n",
       "    <tr>\n",
       "      <th>16778</th>\n",
       "      <td>TRMSZXT128F92F7816</td>\n",
       "      <td>Love Song For No One</td>\n",
       "      <td>John Mayer</td>\n",
       "      <td>0.7550</td>\n",
       "    </tr>\n",
       "    <tr>\n",
       "      <th>21910</th>\n",
       "      <td>TRAUCNU128F42671EB</td>\n",
       "      <td>Tu Quieres Volver</td>\n",
       "      <td>Sarah Brightman</td>\n",
       "      <td>0.3760</td>\n",
       "    </tr>\n",
       "    <tr>\n",
       "      <th>27758</th>\n",
       "      <td>TRIRLYL128F42539D1</td>\n",
       "      <td>Nothing From Nothing</td>\n",
       "      <td>Billy Preston</td>\n",
       "      <td>0.8340</td>\n",
       "    </tr>\n",
       "    <tr>\n",
       "      <th>38473</th>\n",
       "      <td>TRLQPQJ128F42AA94F</td>\n",
       "      <td>Soy</td>\n",
       "      <td>Gipsy Kings</td>\n",
       "      <td>0.5920</td>\n",
       "    </tr>\n",
       "    <tr>\n",
       "      <th>49246</th>\n",
       "      <td>TRGRDEC128F423C07D</td>\n",
       "      <td>Let It Be Sung</td>\n",
       "      <td>Jack Johnson</td>\n",
       "      <td>0.4690</td>\n",
       "    </tr>\n",
       "    <tr>\n",
       "      <th>49560</th>\n",
       "      <td>TRUYKTB128F1459197</td>\n",
       "      <td>Obiero</td>\n",
       "      <td>Ayub Ogada</td>\n",
       "      <td>0.0605</td>\n",
       "    </tr>\n",
       "  </tbody>\n",
       "</table>\n",
       "</div>"
      ],
      "text/plain": [
       "                 track_id                           name  \\\n",
       "79     TRAAHSY128F147BB5C                 Speed of Sound   \n",
       "796    TRDLMWP128F426BF6C                    Ragged Wood   \n",
       "1158   TRPUGUW128F426BF6F            He Doesn't Know Why   \n",
       "1743   TRRYCBO128F932A2C7                     Love Shack   \n",
       "2350   TRFUPBA128F934F7E1                  Paper Gangsta   \n",
       "2585   TRVODUZ128F934D094           All That We Perceive   \n",
       "2722   TRHDDQG12903CB53EE  Heaven's Gonna Burn Your Eyes   \n",
       "5416   TRTUCUY128F92E1D24                 Stacked Actors   \n",
       "5428   TRLXSNR128F429361D                      Generator   \n",
       "5819   TRADVZX128F426BF79                      Sun Giant   \n",
       "8654   TRUTULC128F4293712                 Gimme Stitches   \n",
       "8745   TRDCZUX128F4263A74                      City Love   \n",
       "12359  TRQLOHS128F42435AE                Holes To Heaven   \n",
       "14106  TRVVWSW128F4292931                          Trani   \n",
       "16778  TRMSZXT128F92F7816           Love Song For No One   \n",
       "21910  TRAUCNU128F42671EB              Tu Quieres Volver   \n",
       "27758  TRIRLYL128F42539D1           Nothing From Nothing   \n",
       "38473  TRLQPQJ128F42AA94F                            Soy   \n",
       "49246  TRGRDEC128F423C07D                 Let It Be Sung   \n",
       "49560  TRUYKTB128F1459197                         Obiero   \n",
       "\n",
       "                     artist  energy  \n",
       "79                 Coldplay  0.8980  \n",
       "796             Fleet Foxes  0.6850  \n",
       "1158            Fleet Foxes  0.5580  \n",
       "1743             The B-52's  0.9020  \n",
       "2350              Lady Gaga  0.5300  \n",
       "2585   Thievery Corporation  0.8340  \n",
       "2722   Thievery Corporation  0.3370  \n",
       "5416           Foo Fighters  0.9340  \n",
       "5428           Foo Fighters  0.9240  \n",
       "5819            Fleet Foxes  0.0626  \n",
       "8654           Foo Fighters  0.9580  \n",
       "8745             John Mayer  0.5480  \n",
       "12359          Jack Johnson  0.6310  \n",
       "14106         Kings of Leon  0.4060  \n",
       "16778            John Mayer  0.7550  \n",
       "21910       Sarah Brightman  0.3760  \n",
       "27758         Billy Preston  0.8340  \n",
       "38473           Gipsy Kings  0.5920  \n",
       "49246          Jack Johnson  0.4690  \n",
       "49560            Ayub Ogada  0.0605  "
      ]
     },
     "execution_count": 36,
     "metadata": {},
     "output_type": "execute_result"
    }
   ],
   "source": [
    "user_index = 0 #User for wich recommendations will be made\n",
    "user_listened_songs = df_users[df_users['user_id'] == user_uniques[user_index]].track_id\n",
    "df_music_info[df_music_info['track_id'].isin(user_listened_songs)]"
   ]
  },
  {
   "cell_type": "code",
   "execution_count": null,
   "id": "507a28fb",
   "metadata": {},
   "outputs": [
    {
     "name": "stderr",
     "output_type": "stream",
     "text": [
      "100%|██████████| 20/20 [00:31<00:00,  1.56s/it]\n"
     ]
    }
   ],
   "source": [
    "als_model_paper = AlternatingLeastSquares(factors=50, regularization=0.1, iterations=20, num_threads=-1, random_state=RANDOM_STATE)\n",
    "als_model_paper.fit(interaction_matrix_user_item_paper)"
   ]
  },
  {
   "cell_type": "code",
   "execution_count": 38,
   "id": "6d81f57e",
   "metadata": {},
   "outputs": [
    {
     "data": {
      "text/html": [
       "<div>\n",
       "<style scoped>\n",
       "    .dataframe tbody tr th:only-of-type {\n",
       "        vertical-align: middle;\n",
       "    }\n",
       "\n",
       "    .dataframe tbody tr th {\n",
       "        vertical-align: top;\n",
       "    }\n",
       "\n",
       "    .dataframe thead th {\n",
       "        text-align: right;\n",
       "    }\n",
       "</style>\n",
       "<table border=\"1\" class=\"dataframe\">\n",
       "  <thead>\n",
       "    <tr style=\"text-align: right;\">\n",
       "      <th></th>\n",
       "      <th>track_id</th>\n",
       "      <th>name</th>\n",
       "      <th>artist</th>\n",
       "      <th>energy</th>\n",
       "    </tr>\n",
       "  </thead>\n",
       "  <tbody>\n",
       "    <tr>\n",
       "      <th>0</th>\n",
       "      <td>TRXWAZC128F9314B3E</td>\n",
       "      <td>Heartbreak Warfare</td>\n",
       "      <td>John Mayer</td>\n",
       "      <td>0.5720</td>\n",
       "    </tr>\n",
       "    <tr>\n",
       "      <th>1</th>\n",
       "      <td>TRONYHY128F92C9D11</td>\n",
       "      <td>Revelry</td>\n",
       "      <td>Kings of Leon</td>\n",
       "      <td>0.7480</td>\n",
       "    </tr>\n",
       "    <tr>\n",
       "      <th>2</th>\n",
       "      <td>TRPFYYL128F92F7144</td>\n",
       "      <td>Float On</td>\n",
       "      <td>Modest Mouse</td>\n",
       "      <td>0.8930</td>\n",
       "    </tr>\n",
       "    <tr>\n",
       "      <th>3</th>\n",
       "      <td>TRRXGAK128EF349F1A</td>\n",
       "      <td>The Way I Are</td>\n",
       "      <td>Timbaland</td>\n",
       "      <td>0.9460</td>\n",
       "    </tr>\n",
       "    <tr>\n",
       "      <th>4</th>\n",
       "      <td>TRFTUIW128E0784B9F</td>\n",
       "      <td>Bubble Toes</td>\n",
       "      <td>Jack Johnson</td>\n",
       "      <td>0.5320</td>\n",
       "    </tr>\n",
       "    <tr>\n",
       "      <th>5</th>\n",
       "      <td>TRAEUIW12903D018F0</td>\n",
       "      <td>You And Your Heart</td>\n",
       "      <td>Jack Johnson</td>\n",
       "      <td>0.5520</td>\n",
       "    </tr>\n",
       "    <tr>\n",
       "      <th>6</th>\n",
       "      <td>TROWQGL128E0784BAA</td>\n",
       "      <td>Taylor</td>\n",
       "      <td>Jack Johnson</td>\n",
       "      <td>0.7250</td>\n",
       "    </tr>\n",
       "    <tr>\n",
       "      <th>7</th>\n",
       "      <td>TRZNAHL128F9327D5A</td>\n",
       "      <td>Gears</td>\n",
       "      <td>Miss May I</td>\n",
       "      <td>0.9750</td>\n",
       "    </tr>\n",
       "    <tr>\n",
       "      <th>8</th>\n",
       "      <td>TRWAUCC128F428E6FD</td>\n",
       "      <td>Staple It Together</td>\n",
       "      <td>Jack Johnson</td>\n",
       "      <td>0.7940</td>\n",
       "    </tr>\n",
       "    <tr>\n",
       "      <th>9</th>\n",
       "      <td>TRCQYJE128E078FA49</td>\n",
       "      <td>The News</td>\n",
       "      <td>Jack Johnson</td>\n",
       "      <td>0.0818</td>\n",
       "    </tr>\n",
       "    <tr>\n",
       "      <th>10</th>\n",
       "      <td>TRXDINI128F146B94D</td>\n",
       "      <td>Rosemary</td>\n",
       "      <td>Deftones</td>\n",
       "      <td>0.6130</td>\n",
       "    </tr>\n",
       "    <tr>\n",
       "      <th>11</th>\n",
       "      <td>TRGGLQD12903D1256C</td>\n",
       "      <td>Fortunate Fool</td>\n",
       "      <td>Jack Johnson</td>\n",
       "      <td>0.2670</td>\n",
       "    </tr>\n",
       "    <tr>\n",
       "      <th>12</th>\n",
       "      <td>TROMKCG128F9320C09</td>\n",
       "      <td>Uprising</td>\n",
       "      <td>Sabaton</td>\n",
       "      <td>0.8660</td>\n",
       "    </tr>\n",
       "    <tr>\n",
       "      <th>13</th>\n",
       "      <td>TREQOIZ128F42BCE96</td>\n",
       "      <td>I'm Gonna Find Another You</td>\n",
       "      <td>John Mayer</td>\n",
       "      <td>0.3420</td>\n",
       "    </tr>\n",
       "    <tr>\n",
       "      <th>14</th>\n",
       "      <td>TRLXFKL128F426BF75</td>\n",
       "      <td>Oliver James</td>\n",
       "      <td>Fleet Foxes</td>\n",
       "      <td>0.0635</td>\n",
       "    </tr>\n",
       "    <tr>\n",
       "      <th>15</th>\n",
       "      <td>TRQEMRN128F933B4B2</td>\n",
       "      <td>Sun It Rises</td>\n",
       "      <td>Fleet Foxes</td>\n",
       "      <td>0.2750</td>\n",
       "    </tr>\n",
       "    <tr>\n",
       "      <th>16</th>\n",
       "      <td>TRJQRAP128F9314B3F</td>\n",
       "      <td>All We Ever Do Is Say Goodbye</td>\n",
       "      <td>John Mayer</td>\n",
       "      <td>0.5100</td>\n",
       "    </tr>\n",
       "    <tr>\n",
       "      <th>17</th>\n",
       "      <td>TRMGGGR128F42889D4</td>\n",
       "      <td>We're Going To Be Friends</td>\n",
       "      <td>Jack Johnson</td>\n",
       "      <td>0.3140</td>\n",
       "    </tr>\n",
       "    <tr>\n",
       "      <th>18</th>\n",
       "      <td>TRGEIDA128F933B4B8</td>\n",
       "      <td>Tiger Mountain Peasant Song</td>\n",
       "      <td>Fleet Foxes</td>\n",
       "      <td>0.1460</td>\n",
       "    </tr>\n",
       "    <tr>\n",
       "      <th>19</th>\n",
       "      <td>TRJZRTR128F9314B42</td>\n",
       "      <td>Perfectly Lonely</td>\n",
       "      <td>John Mayer</td>\n",
       "      <td>0.5300</td>\n",
       "    </tr>\n",
       "  </tbody>\n",
       "</table>\n",
       "</div>"
      ],
      "text/plain": [
       "              track_id                           name         artist  energy\n",
       "0   TRXWAZC128F9314B3E             Heartbreak Warfare     John Mayer  0.5720\n",
       "1   TRONYHY128F92C9D11                        Revelry  Kings of Leon  0.7480\n",
       "2   TRPFYYL128F92F7144                       Float On   Modest Mouse  0.8930\n",
       "3   TRRXGAK128EF349F1A                  The Way I Are      Timbaland  0.9460\n",
       "4   TRFTUIW128E0784B9F                    Bubble Toes   Jack Johnson  0.5320\n",
       "5   TRAEUIW12903D018F0             You And Your Heart   Jack Johnson  0.5520\n",
       "6   TROWQGL128E0784BAA                         Taylor   Jack Johnson  0.7250\n",
       "7   TRZNAHL128F9327D5A                          Gears     Miss May I  0.9750\n",
       "8   TRWAUCC128F428E6FD             Staple It Together   Jack Johnson  0.7940\n",
       "9   TRCQYJE128E078FA49                       The News   Jack Johnson  0.0818\n",
       "10  TRXDINI128F146B94D                       Rosemary       Deftones  0.6130\n",
       "11  TRGGLQD12903D1256C                 Fortunate Fool   Jack Johnson  0.2670\n",
       "12  TROMKCG128F9320C09                       Uprising        Sabaton  0.8660\n",
       "13  TREQOIZ128F42BCE96     I'm Gonna Find Another You     John Mayer  0.3420\n",
       "14  TRLXFKL128F426BF75                   Oliver James    Fleet Foxes  0.0635\n",
       "15  TRQEMRN128F933B4B2                   Sun It Rises    Fleet Foxes  0.2750\n",
       "16  TRJQRAP128F9314B3F  All We Ever Do Is Say Goodbye     John Mayer  0.5100\n",
       "17  TRMGGGR128F42889D4      We're Going To Be Friends   Jack Johnson  0.3140\n",
       "18  TRGEIDA128F933B4B8    Tiger Mountain Peasant Song    Fleet Foxes  0.1460\n",
       "19  TRJZRTR128F9314B42               Perfectly Lonely     John Mayer  0.5300"
      ]
     },
     "execution_count": 38,
     "metadata": {},
     "output_type": "execute_result"
    }
   ],
   "source": [
    "als_recommender = ALSRecommender(interaction_matrix_user_item_paper, track_uniques, df_music_info, als_model=als_model_paper)\n",
    "als_recommender.make_recommendations(0, n=20)\n",
    "als_recommender.get_recommendations_info()"
   ]
  },
  {
   "cell_type": "code",
   "execution_count": 27,
   "id": "22b0b81f",
   "metadata": {},
   "outputs": [
    {
     "data": {
      "text/html": [
       "<div>\n",
       "<style scoped>\n",
       "    .dataframe tbody tr th:only-of-type {\n",
       "        vertical-align: middle;\n",
       "    }\n",
       "\n",
       "    .dataframe tbody tr th {\n",
       "        vertical-align: top;\n",
       "    }\n",
       "\n",
       "    .dataframe thead th {\n",
       "        text-align: right;\n",
       "    }\n",
       "</style>\n",
       "<table border=\"1\" class=\"dataframe\">\n",
       "  <thead>\n",
       "    <tr style=\"text-align: right;\">\n",
       "      <th></th>\n",
       "      <th>track_id</th>\n",
       "      <th>name</th>\n",
       "      <th>artist</th>\n",
       "      <th>energy</th>\n",
       "    </tr>\n",
       "  </thead>\n",
       "  <tbody>\n",
       "    <tr>\n",
       "      <th>16769</th>\n",
       "      <td>TREQOIZ128F42BCE96</td>\n",
       "      <td>I'm Gonna Find Another You</td>\n",
       "      <td>John Mayer</td>\n",
       "      <td>0.342</td>\n",
       "    </tr>\n",
       "  </tbody>\n",
       "</table>\n",
       "</div>"
      ],
      "text/plain": [
       "                 track_id                        name      artist  energy\n",
       "16769  TREQOIZ128F42BCE96  I'm Gonna Find Another You  John Mayer   0.342"
      ]
     },
     "execution_count": 27,
     "metadata": {},
     "output_type": "execute_result"
    }
   ],
   "source": [
    "recommended_song = als_recommender.recommend_song(0.4)\n",
    "df_music_info[df_music_info['track_id'] == recommended_song[0]]"
   ]
  },
  {
   "cell_type": "code",
   "execution_count": 28,
   "id": "a9be0a57",
   "metadata": {},
   "outputs": [
    {
     "name": "stderr",
     "output_type": "stream",
     "text": [
      "100%|██████████| 20/20 [00:31<00:00,  1.56s/it]\n"
     ]
    }
   ],
   "source": [
    "als_model_bm25 = AlternatingLeastSquares(factors=50, regularization=0.1, iterations=20, num_threads=-1, random_state=RANDOM_STATE)\n",
    "als_model_bm25.fit(interaction_matrix_user_item_bm25)"
   ]
  },
  {
   "cell_type": "code",
   "execution_count": 29,
   "id": "fb36f7f8",
   "metadata": {},
   "outputs": [
    {
     "data": {
      "text/html": [
       "<div>\n",
       "<style scoped>\n",
       "    .dataframe tbody tr th:only-of-type {\n",
       "        vertical-align: middle;\n",
       "    }\n",
       "\n",
       "    .dataframe tbody tr th {\n",
       "        vertical-align: top;\n",
       "    }\n",
       "\n",
       "    .dataframe thead th {\n",
       "        text-align: right;\n",
       "    }\n",
       "</style>\n",
       "<table border=\"1\" class=\"dataframe\">\n",
       "  <thead>\n",
       "    <tr style=\"text-align: right;\">\n",
       "      <th></th>\n",
       "      <th>track_id</th>\n",
       "      <th>name</th>\n",
       "      <th>artist</th>\n",
       "      <th>energy</th>\n",
       "    </tr>\n",
       "  </thead>\n",
       "  <tbody>\n",
       "    <tr>\n",
       "      <th>0</th>\n",
       "      <td>TRCQYJE128E078FA49</td>\n",
       "      <td>The News</td>\n",
       "      <td>Jack Johnson</td>\n",
       "      <td>0.0818</td>\n",
       "    </tr>\n",
       "    <tr>\n",
       "      <th>1</th>\n",
       "      <td>TRFTUIW128E0784B9F</td>\n",
       "      <td>Bubble Toes</td>\n",
       "      <td>Jack Johnson</td>\n",
       "      <td>0.5320</td>\n",
       "    </tr>\n",
       "    <tr>\n",
       "      <th>2</th>\n",
       "      <td>TRWAUCC128F428E6FD</td>\n",
       "      <td>Staple It Together</td>\n",
       "      <td>Jack Johnson</td>\n",
       "      <td>0.7940</td>\n",
       "    </tr>\n",
       "    <tr>\n",
       "      <th>3</th>\n",
       "      <td>TRAEUIW12903D018F0</td>\n",
       "      <td>You And Your Heart</td>\n",
       "      <td>Jack Johnson</td>\n",
       "      <td>0.5520</td>\n",
       "    </tr>\n",
       "    <tr>\n",
       "      <th>4</th>\n",
       "      <td>TRJQRAP128F9314B3F</td>\n",
       "      <td>All We Ever Do Is Say Goodbye</td>\n",
       "      <td>John Mayer</td>\n",
       "      <td>0.5100</td>\n",
       "    </tr>\n",
       "    <tr>\n",
       "      <th>5</th>\n",
       "      <td>TRXWAZC128F9314B3E</td>\n",
       "      <td>Heartbreak Warfare</td>\n",
       "      <td>John Mayer</td>\n",
       "      <td>0.5720</td>\n",
       "    </tr>\n",
       "    <tr>\n",
       "      <th>6</th>\n",
       "      <td>TREQOIZ128F42BCE96</td>\n",
       "      <td>I'm Gonna Find Another You</td>\n",
       "      <td>John Mayer</td>\n",
       "      <td>0.3420</td>\n",
       "    </tr>\n",
       "    <tr>\n",
       "      <th>7</th>\n",
       "      <td>TROWQGL128E0784BAA</td>\n",
       "      <td>Taylor</td>\n",
       "      <td>Jack Johnson</td>\n",
       "      <td>0.7250</td>\n",
       "    </tr>\n",
       "    <tr>\n",
       "      <th>8</th>\n",
       "      <td>TRJZRTR128F9314B42</td>\n",
       "      <td>Perfectly Lonely</td>\n",
       "      <td>John Mayer</td>\n",
       "      <td>0.5300</td>\n",
       "    </tr>\n",
       "    <tr>\n",
       "      <th>9</th>\n",
       "      <td>TRXDINI128F146B94D</td>\n",
       "      <td>Rosemary</td>\n",
       "      <td>Deftones</td>\n",
       "      <td>0.6130</td>\n",
       "    </tr>\n",
       "    <tr>\n",
       "      <th>10</th>\n",
       "      <td>TRHJCOG128F429DAA7</td>\n",
       "      <td>Ghost Dream</td>\n",
       "      <td>Blouse</td>\n",
       "      <td>0.7470</td>\n",
       "    </tr>\n",
       "    <tr>\n",
       "      <th>11</th>\n",
       "      <td>TRGGLQD12903D1256C</td>\n",
       "      <td>Fortunate Fool</td>\n",
       "      <td>Jack Johnson</td>\n",
       "      <td>0.2670</td>\n",
       "    </tr>\n",
       "    <tr>\n",
       "      <th>12</th>\n",
       "      <td>TRQEMRN128F933B4B2</td>\n",
       "      <td>Sun It Rises</td>\n",
       "      <td>Fleet Foxes</td>\n",
       "      <td>0.2750</td>\n",
       "    </tr>\n",
       "    <tr>\n",
       "      <th>13</th>\n",
       "      <td>TRMGGGR128F42889D4</td>\n",
       "      <td>We're Going To Be Friends</td>\n",
       "      <td>Jack Johnson</td>\n",
       "      <td>0.3140</td>\n",
       "    </tr>\n",
       "    <tr>\n",
       "      <th>14</th>\n",
       "      <td>TRYBFNR128F426BE3D</td>\n",
       "      <td>Flume</td>\n",
       "      <td>Bon Iver</td>\n",
       "      <td>0.1860</td>\n",
       "    </tr>\n",
       "    <tr>\n",
       "      <th>15</th>\n",
       "      <td>TRBZZOG128F9314B47</td>\n",
       "      <td>Do You Know Me</td>\n",
       "      <td>John Mayer</td>\n",
       "      <td>0.3170</td>\n",
       "    </tr>\n",
       "    <tr>\n",
       "      <th>16</th>\n",
       "      <td>TRUJOHU128F424E6A6</td>\n",
       "      <td>White Winter Hymnal</td>\n",
       "      <td>Fleet Foxes</td>\n",
       "      <td>0.4970</td>\n",
       "    </tr>\n",
       "    <tr>\n",
       "      <th>17</th>\n",
       "      <td>TRGYEZE128F92F52B2</td>\n",
       "      <td>Great Indoors</td>\n",
       "      <td>John Mayer</td>\n",
       "      <td>0.6170</td>\n",
       "    </tr>\n",
       "    <tr>\n",
       "      <th>18</th>\n",
       "      <td>TRVZILF128F42748EF</td>\n",
       "      <td>If I Never See Your Face Again</td>\n",
       "      <td>Maroon 5</td>\n",
       "      <td>0.7810</td>\n",
       "    </tr>\n",
       "    <tr>\n",
       "      <th>19</th>\n",
       "      <td>TRBXLFU128F427A494</td>\n",
       "      <td>Creature Fear</td>\n",
       "      <td>Bon Iver</td>\n",
       "      <td>0.1250</td>\n",
       "    </tr>\n",
       "  </tbody>\n",
       "</table>\n",
       "</div>"
      ],
      "text/plain": [
       "              track_id                            name        artist  energy\n",
       "0   TRCQYJE128E078FA49                        The News  Jack Johnson  0.0818\n",
       "1   TRFTUIW128E0784B9F                     Bubble Toes  Jack Johnson  0.5320\n",
       "2   TRWAUCC128F428E6FD              Staple It Together  Jack Johnson  0.7940\n",
       "3   TRAEUIW12903D018F0              You And Your Heart  Jack Johnson  0.5520\n",
       "4   TRJQRAP128F9314B3F   All We Ever Do Is Say Goodbye    John Mayer  0.5100\n",
       "5   TRXWAZC128F9314B3E              Heartbreak Warfare    John Mayer  0.5720\n",
       "6   TREQOIZ128F42BCE96      I'm Gonna Find Another You    John Mayer  0.3420\n",
       "7   TROWQGL128E0784BAA                          Taylor  Jack Johnson  0.7250\n",
       "8   TRJZRTR128F9314B42                Perfectly Lonely    John Mayer  0.5300\n",
       "9   TRXDINI128F146B94D                        Rosemary      Deftones  0.6130\n",
       "10  TRHJCOG128F429DAA7                     Ghost Dream        Blouse  0.7470\n",
       "11  TRGGLQD12903D1256C                  Fortunate Fool  Jack Johnson  0.2670\n",
       "12  TRQEMRN128F933B4B2                    Sun It Rises   Fleet Foxes  0.2750\n",
       "13  TRMGGGR128F42889D4       We're Going To Be Friends  Jack Johnson  0.3140\n",
       "14  TRYBFNR128F426BE3D                           Flume      Bon Iver  0.1860\n",
       "15  TRBZZOG128F9314B47                  Do You Know Me    John Mayer  0.3170\n",
       "16  TRUJOHU128F424E6A6             White Winter Hymnal   Fleet Foxes  0.4970\n",
       "17  TRGYEZE128F92F52B2                   Great Indoors    John Mayer  0.6170\n",
       "18  TRVZILF128F42748EF  If I Never See Your Face Again      Maroon 5  0.7810\n",
       "19  TRBXLFU128F427A494                   Creature Fear      Bon Iver  0.1250"
      ]
     },
     "execution_count": 29,
     "metadata": {},
     "output_type": "execute_result"
    }
   ],
   "source": [
    "als_recommender_bm25 = ALSRecommender(interaction_matrix_user_item_bm25, track_uniques, df_music_info, als_model=als_model_bm25)\n",
    "als_recommender_bm25.make_recommendations(0, n=20)\n",
    "als_recommender_bm25.get_recommendations_info()"
   ]
  },
  {
   "cell_type": "code",
   "execution_count": 30,
   "id": "e97439a9",
   "metadata": {},
   "outputs": [
    {
     "data": {
      "text/html": [
       "<div>\n",
       "<style scoped>\n",
       "    .dataframe tbody tr th:only-of-type {\n",
       "        vertical-align: middle;\n",
       "    }\n",
       "\n",
       "    .dataframe tbody tr th {\n",
       "        vertical-align: top;\n",
       "    }\n",
       "\n",
       "    .dataframe thead th {\n",
       "        text-align: right;\n",
       "    }\n",
       "</style>\n",
       "<table border=\"1\" class=\"dataframe\">\n",
       "  <thead>\n",
       "    <tr style=\"text-align: right;\">\n",
       "      <th></th>\n",
       "      <th>track_id</th>\n",
       "      <th>name</th>\n",
       "      <th>artist</th>\n",
       "      <th>energy</th>\n",
       "    </tr>\n",
       "  </thead>\n",
       "  <tbody>\n",
       "    <tr>\n",
       "      <th>16769</th>\n",
       "      <td>TREQOIZ128F42BCE96</td>\n",
       "      <td>I'm Gonna Find Another You</td>\n",
       "      <td>John Mayer</td>\n",
       "      <td>0.342</td>\n",
       "    </tr>\n",
       "  </tbody>\n",
       "</table>\n",
       "</div>"
      ],
      "text/plain": [
       "                 track_id                        name      artist  energy\n",
       "16769  TREQOIZ128F42BCE96  I'm Gonna Find Another You  John Mayer   0.342"
      ]
     },
     "execution_count": 30,
     "metadata": {},
     "output_type": "execute_result"
    }
   ],
   "source": [
    "recommended_song = als_recommender_bm25.recommend_song(0.4)\n",
    "df_music_info[df_music_info['track_id'] == recommended_song[0]]"
   ]
  },
  {
   "cell_type": "markdown",
   "id": "0e65bc0e",
   "metadata": {},
   "source": [
    "### Experiments"
   ]
  },
  {
   "cell_type": "markdown",
   "id": "ab5b3f43",
   "metadata": {},
   "source": [
    "#### Confidence value proposed in article vs bm25"
   ]
  },
  {
   "cell_type": "code",
   "execution_count": 31,
   "id": "bdbd141d",
   "metadata": {},
   "outputs": [
    {
     "name": "stdout",
     "output_type": "stream",
     "text": [
      "First different recommendation for each user: (-1 = every recommendation is the same)\n",
      "[1, 1, 1, 1, 0, 1, 1, 0, 0, 1, 0, 0, 0, 0, 0, 0, 0, 0, 0, 0]\n"
     ]
    }
   ],
   "source": [
    "random_generator = np.random.default_rng(seed=RANDOM_STATE)\n",
    "random_users = random_generator.choice(np.arange(len(user_uniques)), size=20, replace=False)\n",
    "\n",
    "first_different_recommendation = []\n",
    "\n",
    "for rand_user in random_users:\n",
    "    als_recommender = ALSRecommender(interaction_matrix_user_item_paper, track_uniques, df_music_info, als_model=als_model_paper)\n",
    "    als_recommender.make_recommendations(rand_user, n=200)\n",
    "    paper_recommendations = als_recommender.get_recommendations_ids()\n",
    "\n",
    "    als_recommender = ALSRecommender(interaction_matrix_user_item_bm25, track_uniques, df_music_info, als_model=als_model_bm25)\n",
    "    als_recommender.make_recommendations(rand_user, n=200)\n",
    "    bm25_recommendations = als_recommender.get_recommendations_ids()\n",
    "\n",
    "    for i in range(len(paper_recommendations)):\n",
    "        if paper_recommendations[i] != bm25_recommendations[i]:\n",
    "            first_different_recommendation.append(i)\n",
    "            break\n",
    "    else:\n",
    "        first_different_recommendation.append(-1)\n",
    "\n",
    "print(\"First different recommendation for each user: (-1 = every recommendation is the same)\")\n",
    "print(first_different_recommendation)"
   ]
  },
  {
   "cell_type": "code",
   "execution_count": 32,
   "id": "d39d2022",
   "metadata": {},
   "outputs": [],
   "source": [
    "analized_user = random_users[0]\n",
    "\n",
    "als_recommender = ALSRecommender(interaction_matrix_user_item_paper, track_uniques, df_music_info, als_model=als_model_paper)\n",
    "als_recommender.make_recommendations(analized_user, n=200)\n",
    "paper_recommendations = als_recommender.get_recommendations_info()\n",
    "\n",
    "als_recommender = ALSRecommender(interaction_matrix_user_item_bm25, track_uniques, df_music_info, als_model=als_model_bm25)\n",
    "als_recommender.make_recommendations(analized_user, n=200)\n",
    "bm25_recommendations = als_recommender.get_recommendations_info()"
   ]
  },
  {
   "cell_type": "code",
   "execution_count": 33,
   "id": "a3067a37",
   "metadata": {},
   "outputs": [
    {
     "data": {
      "text/html": [
       "<div>\n",
       "<style scoped>\n",
       "    .dataframe tbody tr th:only-of-type {\n",
       "        vertical-align: middle;\n",
       "    }\n",
       "\n",
       "    .dataframe tbody tr th {\n",
       "        vertical-align: top;\n",
       "    }\n",
       "\n",
       "    .dataframe thead th {\n",
       "        text-align: right;\n",
       "    }\n",
       "</style>\n",
       "<table border=\"1\" class=\"dataframe\">\n",
       "  <thead>\n",
       "    <tr style=\"text-align: right;\">\n",
       "      <th></th>\n",
       "      <th>track_id</th>\n",
       "      <th>name</th>\n",
       "      <th>artist</th>\n",
       "      <th>energy</th>\n",
       "    </tr>\n",
       "  </thead>\n",
       "  <tbody>\n",
       "    <tr>\n",
       "      <th>0</th>\n",
       "      <td>TRLVQME128F931BAF3</td>\n",
       "      <td>Vanilla Twilight</td>\n",
       "      <td>Owl City</td>\n",
       "      <td>0.523</td>\n",
       "    </tr>\n",
       "    <tr>\n",
       "      <th>1</th>\n",
       "      <td>TRJZRTR128F9314B42</td>\n",
       "      <td>Perfectly Lonely</td>\n",
       "      <td>John Mayer</td>\n",
       "      <td>0.530</td>\n",
       "    </tr>\n",
       "    <tr>\n",
       "      <th>2</th>\n",
       "      <td>TRVSJOM12903CD2DC1</td>\n",
       "      <td>One Less Lonely Girl</td>\n",
       "      <td>Justin Bieber</td>\n",
       "      <td>0.750</td>\n",
       "    </tr>\n",
       "    <tr>\n",
       "      <th>3</th>\n",
       "      <td>TRDGUPO128F9332CF6</td>\n",
       "      <td>Down To Earth</td>\n",
       "      <td>Bungle</td>\n",
       "      <td>0.904</td>\n",
       "    </tr>\n",
       "    <tr>\n",
       "      <th>4</th>\n",
       "      <td>TRSUSWW128F93463BF</td>\n",
       "      <td>Imma Be</td>\n",
       "      <td>Black Eyed Peas</td>\n",
       "      <td>0.539</td>\n",
       "    </tr>\n",
       "    <tr>\n",
       "      <th>5</th>\n",
       "      <td>TRBNYBX128F422EC61</td>\n",
       "      <td>Hey There Delilah</td>\n",
       "      <td>Plain White T's</td>\n",
       "      <td>0.261</td>\n",
       "    </tr>\n",
       "    <tr>\n",
       "      <th>6</th>\n",
       "      <td>TRGCHLH12903CB7352</td>\n",
       "      <td>Party In The U.S.A.</td>\n",
       "      <td>The Barden Bellas</td>\n",
       "      <td>0.360</td>\n",
       "    </tr>\n",
       "    <tr>\n",
       "      <th>7</th>\n",
       "      <td>TRCPXID128F92D5D3C</td>\n",
       "      <td>Halo</td>\n",
       "      <td>Depeche Mode</td>\n",
       "      <td>0.508</td>\n",
       "    </tr>\n",
       "    <tr>\n",
       "      <th>8</th>\n",
       "      <td>TRYEGSH12903CD2DCE</td>\n",
       "      <td>Overboard</td>\n",
       "      <td>Justin Bieber</td>\n",
       "      <td>0.790</td>\n",
       "    </tr>\n",
       "    <tr>\n",
       "      <th>9</th>\n",
       "      <td>TRTKLFX12903CD2DC2</td>\n",
       "      <td>First Dance</td>\n",
       "      <td>Justin Bieber</td>\n",
       "      <td>0.520</td>\n",
       "    </tr>\n",
       "    <tr>\n",
       "      <th>10</th>\n",
       "      <td>TRFTUIW128E0784B9F</td>\n",
       "      <td>Bubble Toes</td>\n",
       "      <td>Jack Johnson</td>\n",
       "      <td>0.532</td>\n",
       "    </tr>\n",
       "    <tr>\n",
       "      <th>11</th>\n",
       "      <td>TRZEDRT12903CD2DCC</td>\n",
       "      <td>Runaway Love</td>\n",
       "      <td>Justin Bieber</td>\n",
       "      <td>0.633</td>\n",
       "    </tr>\n",
       "    <tr>\n",
       "      <th>12</th>\n",
       "      <td>TRFNGJS128F92F9EEE</td>\n",
       "      <td>Already Gone</td>\n",
       "      <td>Kelly Clarkson</td>\n",
       "      <td>0.859</td>\n",
       "    </tr>\n",
       "    <tr>\n",
       "      <th>13</th>\n",
       "      <td>TRWAQOC12903CB84CA</td>\n",
       "      <td>Sexy Bitch</td>\n",
       "      <td>David Guetta</td>\n",
       "      <td>0.595</td>\n",
       "    </tr>\n",
       "    <tr>\n",
       "      <th>14</th>\n",
       "      <td>TRZYAGJ128F9332CEF</td>\n",
       "      <td>Favorite Girl</td>\n",
       "      <td>Justin Bieber</td>\n",
       "      <td>0.681</td>\n",
       "    </tr>\n",
       "    <tr>\n",
       "      <th>15</th>\n",
       "      <td>TRUFTBY128F93450B8</td>\n",
       "      <td>Alejandro</td>\n",
       "      <td>Lady Gaga</td>\n",
       "      <td>0.800</td>\n",
       "    </tr>\n",
       "    <tr>\n",
       "      <th>16</th>\n",
       "      <td>TRNFVQI128F931BAEA</td>\n",
       "      <td>The Saltwater Room</td>\n",
       "      <td>Owl City</td>\n",
       "      <td>0.686</td>\n",
       "    </tr>\n",
       "    <tr>\n",
       "      <th>17</th>\n",
       "      <td>TRGMZNT128F92DE267</td>\n",
       "      <td>Tim McGraw</td>\n",
       "      <td>Taylor Swift</td>\n",
       "      <td>0.445</td>\n",
       "    </tr>\n",
       "    <tr>\n",
       "      <th>18</th>\n",
       "      <td>TRPGPDK12903CCC651</td>\n",
       "      <td>Bring Me To Life</td>\n",
       "      <td>Katherine Jenkins</td>\n",
       "      <td>0.563</td>\n",
       "    </tr>\n",
       "    <tr>\n",
       "      <th>19</th>\n",
       "      <td>TROMKCG128F9320C09</td>\n",
       "      <td>Uprising</td>\n",
       "      <td>Sabaton</td>\n",
       "      <td>0.866</td>\n",
       "    </tr>\n",
       "  </tbody>\n",
       "</table>\n",
       "</div>"
      ],
      "text/plain": [
       "              track_id                  name             artist  energy\n",
       "0   TRLVQME128F931BAF3      Vanilla Twilight           Owl City   0.523\n",
       "1   TRJZRTR128F9314B42      Perfectly Lonely         John Mayer   0.530\n",
       "2   TRVSJOM12903CD2DC1  One Less Lonely Girl      Justin Bieber   0.750\n",
       "3   TRDGUPO128F9332CF6         Down To Earth             Bungle   0.904\n",
       "4   TRSUSWW128F93463BF               Imma Be    Black Eyed Peas   0.539\n",
       "5   TRBNYBX128F422EC61     Hey There Delilah    Plain White T's   0.261\n",
       "6   TRGCHLH12903CB7352   Party In The U.S.A.  The Barden Bellas   0.360\n",
       "7   TRCPXID128F92D5D3C                  Halo       Depeche Mode   0.508\n",
       "8   TRYEGSH12903CD2DCE             Overboard      Justin Bieber   0.790\n",
       "9   TRTKLFX12903CD2DC2           First Dance      Justin Bieber   0.520\n",
       "10  TRFTUIW128E0784B9F           Bubble Toes       Jack Johnson   0.532\n",
       "11  TRZEDRT12903CD2DCC          Runaway Love      Justin Bieber   0.633\n",
       "12  TRFNGJS128F92F9EEE          Already Gone     Kelly Clarkson   0.859\n",
       "13  TRWAQOC12903CB84CA            Sexy Bitch       David Guetta   0.595\n",
       "14  TRZYAGJ128F9332CEF         Favorite Girl      Justin Bieber   0.681\n",
       "15  TRUFTBY128F93450B8             Alejandro          Lady Gaga   0.800\n",
       "16  TRNFVQI128F931BAEA    The Saltwater Room           Owl City   0.686\n",
       "17  TRGMZNT128F92DE267            Tim McGraw       Taylor Swift   0.445\n",
       "18  TRPGPDK12903CCC651      Bring Me To Life  Katherine Jenkins   0.563\n",
       "19  TROMKCG128F9320C09              Uprising            Sabaton   0.866"
      ]
     },
     "execution_count": 33,
     "metadata": {},
     "output_type": "execute_result"
    }
   ],
   "source": [
    "paper_recommendations.head(20)"
   ]
  },
  {
   "cell_type": "code",
   "execution_count": 34,
   "id": "f3c9f352",
   "metadata": {},
   "outputs": [
    {
     "data": {
      "text/html": [
       "<div>\n",
       "<style scoped>\n",
       "    .dataframe tbody tr th:only-of-type {\n",
       "        vertical-align: middle;\n",
       "    }\n",
       "\n",
       "    .dataframe tbody tr th {\n",
       "        vertical-align: top;\n",
       "    }\n",
       "\n",
       "    .dataframe thead th {\n",
       "        text-align: right;\n",
       "    }\n",
       "</style>\n",
       "<table border=\"1\" class=\"dataframe\">\n",
       "  <thead>\n",
       "    <tr style=\"text-align: right;\">\n",
       "      <th></th>\n",
       "      <th>track_id</th>\n",
       "      <th>name</th>\n",
       "      <th>artist</th>\n",
       "      <th>energy</th>\n",
       "    </tr>\n",
       "  </thead>\n",
       "  <tbody>\n",
       "    <tr>\n",
       "      <th>0</th>\n",
       "      <td>TRLVQME128F931BAF3</td>\n",
       "      <td>Vanilla Twilight</td>\n",
       "      <td>Owl City</td>\n",
       "      <td>0.523</td>\n",
       "    </tr>\n",
       "    <tr>\n",
       "      <th>1</th>\n",
       "      <td>TRVSJOM12903CD2DC1</td>\n",
       "      <td>One Less Lonely Girl</td>\n",
       "      <td>Justin Bieber</td>\n",
       "      <td>0.750</td>\n",
       "    </tr>\n",
       "    <tr>\n",
       "      <th>2</th>\n",
       "      <td>TRDGUPO128F9332CF6</td>\n",
       "      <td>Down To Earth</td>\n",
       "      <td>Bungle</td>\n",
       "      <td>0.904</td>\n",
       "    </tr>\n",
       "    <tr>\n",
       "      <th>3</th>\n",
       "      <td>TRCKWGF12903CD2DCD</td>\n",
       "      <td>Never Let You Go</td>\n",
       "      <td>Third Eye Blind</td>\n",
       "      <td>0.940</td>\n",
       "    </tr>\n",
       "    <tr>\n",
       "      <th>4</th>\n",
       "      <td>TRJZRTR128F9314B42</td>\n",
       "      <td>Perfectly Lonely</td>\n",
       "      <td>John Mayer</td>\n",
       "      <td>0.530</td>\n",
       "    </tr>\n",
       "    <tr>\n",
       "      <th>5</th>\n",
       "      <td>TRYEGSH12903CD2DCE</td>\n",
       "      <td>Overboard</td>\n",
       "      <td>Justin Bieber</td>\n",
       "      <td>0.790</td>\n",
       "    </tr>\n",
       "    <tr>\n",
       "      <th>6</th>\n",
       "      <td>TRGCHLH12903CB7352</td>\n",
       "      <td>Party In The U.S.A.</td>\n",
       "      <td>The Barden Bellas</td>\n",
       "      <td>0.360</td>\n",
       "    </tr>\n",
       "    <tr>\n",
       "      <th>7</th>\n",
       "      <td>TRTKLFX12903CD2DC2</td>\n",
       "      <td>First Dance</td>\n",
       "      <td>Justin Bieber</td>\n",
       "      <td>0.520</td>\n",
       "    </tr>\n",
       "    <tr>\n",
       "      <th>8</th>\n",
       "      <td>TRZEDRT12903CD2DCC</td>\n",
       "      <td>Runaway Love</td>\n",
       "      <td>Justin Bieber</td>\n",
       "      <td>0.633</td>\n",
       "    </tr>\n",
       "    <tr>\n",
       "      <th>9</th>\n",
       "      <td>TRBNYBX128F422EC61</td>\n",
       "      <td>Hey There Delilah</td>\n",
       "      <td>Plain White T's</td>\n",
       "      <td>0.261</td>\n",
       "    </tr>\n",
       "    <tr>\n",
       "      <th>10</th>\n",
       "      <td>TRGMZNT128F92DE267</td>\n",
       "      <td>Tim McGraw</td>\n",
       "      <td>Taylor Swift</td>\n",
       "      <td>0.445</td>\n",
       "    </tr>\n",
       "    <tr>\n",
       "      <th>11</th>\n",
       "      <td>TRZYAGJ128F9332CEF</td>\n",
       "      <td>Favorite Girl</td>\n",
       "      <td>Justin Bieber</td>\n",
       "      <td>0.681</td>\n",
       "    </tr>\n",
       "    <tr>\n",
       "      <th>12</th>\n",
       "      <td>TRCPXID128F92D5D3C</td>\n",
       "      <td>Halo</td>\n",
       "      <td>Depeche Mode</td>\n",
       "      <td>0.508</td>\n",
       "    </tr>\n",
       "    <tr>\n",
       "      <th>13</th>\n",
       "      <td>TRJQRAP128F9314B3F</td>\n",
       "      <td>All We Ever Do Is Say Goodbye</td>\n",
       "      <td>John Mayer</td>\n",
       "      <td>0.510</td>\n",
       "    </tr>\n",
       "    <tr>\n",
       "      <th>14</th>\n",
       "      <td>TROMKCG128F9320C09</td>\n",
       "      <td>Uprising</td>\n",
       "      <td>Sabaton</td>\n",
       "      <td>0.866</td>\n",
       "    </tr>\n",
       "    <tr>\n",
       "      <th>15</th>\n",
       "      <td>TRONYHY128F92C9D11</td>\n",
       "      <td>Revelry</td>\n",
       "      <td>Kings of Leon</td>\n",
       "      <td>0.748</td>\n",
       "    </tr>\n",
       "    <tr>\n",
       "      <th>16</th>\n",
       "      <td>TRFTUIW128E0784B9F</td>\n",
       "      <td>Bubble Toes</td>\n",
       "      <td>Jack Johnson</td>\n",
       "      <td>0.532</td>\n",
       "    </tr>\n",
       "    <tr>\n",
       "      <th>17</th>\n",
       "      <td>TRNFVQI128F931BAEA</td>\n",
       "      <td>The Saltwater Room</td>\n",
       "      <td>Owl City</td>\n",
       "      <td>0.686</td>\n",
       "    </tr>\n",
       "    <tr>\n",
       "      <th>18</th>\n",
       "      <td>TRSUSWW128F93463BF</td>\n",
       "      <td>Imma Be</td>\n",
       "      <td>Black Eyed Peas</td>\n",
       "      <td>0.539</td>\n",
       "    </tr>\n",
       "    <tr>\n",
       "      <th>19</th>\n",
       "      <td>TRVYJCY128F92DE225</td>\n",
       "      <td>Hey Stephen</td>\n",
       "      <td>Taylor Swift</td>\n",
       "      <td>0.555</td>\n",
       "    </tr>\n",
       "  </tbody>\n",
       "</table>\n",
       "</div>"
      ],
      "text/plain": [
       "              track_id                           name             artist  \\\n",
       "0   TRLVQME128F931BAF3               Vanilla Twilight           Owl City   \n",
       "1   TRVSJOM12903CD2DC1           One Less Lonely Girl      Justin Bieber   \n",
       "2   TRDGUPO128F9332CF6                  Down To Earth             Bungle   \n",
       "3   TRCKWGF12903CD2DCD               Never Let You Go    Third Eye Blind   \n",
       "4   TRJZRTR128F9314B42               Perfectly Lonely         John Mayer   \n",
       "5   TRYEGSH12903CD2DCE                      Overboard      Justin Bieber   \n",
       "6   TRGCHLH12903CB7352            Party In The U.S.A.  The Barden Bellas   \n",
       "7   TRTKLFX12903CD2DC2                    First Dance      Justin Bieber   \n",
       "8   TRZEDRT12903CD2DCC                   Runaway Love      Justin Bieber   \n",
       "9   TRBNYBX128F422EC61              Hey There Delilah    Plain White T's   \n",
       "10  TRGMZNT128F92DE267                     Tim McGraw       Taylor Swift   \n",
       "11  TRZYAGJ128F9332CEF                  Favorite Girl      Justin Bieber   \n",
       "12  TRCPXID128F92D5D3C                           Halo       Depeche Mode   \n",
       "13  TRJQRAP128F9314B3F  All We Ever Do Is Say Goodbye         John Mayer   \n",
       "14  TROMKCG128F9320C09                       Uprising            Sabaton   \n",
       "15  TRONYHY128F92C9D11                        Revelry      Kings of Leon   \n",
       "16  TRFTUIW128E0784B9F                    Bubble Toes       Jack Johnson   \n",
       "17  TRNFVQI128F931BAEA             The Saltwater Room           Owl City   \n",
       "18  TRSUSWW128F93463BF                        Imma Be    Black Eyed Peas   \n",
       "19  TRVYJCY128F92DE225                    Hey Stephen       Taylor Swift   \n",
       "\n",
       "    energy  \n",
       "0    0.523  \n",
       "1    0.750  \n",
       "2    0.904  \n",
       "3    0.940  \n",
       "4    0.530  \n",
       "5    0.790  \n",
       "6    0.360  \n",
       "7    0.520  \n",
       "8    0.633  \n",
       "9    0.261  \n",
       "10   0.445  \n",
       "11   0.681  \n",
       "12   0.508  \n",
       "13   0.510  \n",
       "14   0.866  \n",
       "15   0.748  \n",
       "16   0.532  \n",
       "17   0.686  \n",
       "18   0.539  \n",
       "19   0.555  "
      ]
     },
     "execution_count": 34,
     "metadata": {},
     "output_type": "execute_result"
    }
   ],
   "source": [
    "bm25_recommendations.head(20)"
   ]
  },
  {
   "cell_type": "code",
   "execution_count": 35,
   "id": "69e304f7",
   "metadata": {},
   "outputs": [
    {
     "name": "stdout",
     "output_type": "stream",
     "text": [
      "Percentage of paper recommendations that are in bm25 recomendations: 78.00%\n"
     ]
    }
   ],
   "source": [
    "paper_ids = set(paper_recommendations['track_id'].head(50))\n",
    "bm25_ids = set(bm25_recommendations['track_id'].head(50))\n",
    "porcentaje = len(paper_ids & bm25_ids) / len(paper_ids) * 100\n",
    "print(f\"Percentage of paper recommendations that are in bm25 recomendations: {porcentaje:.2f}%\")"
   ]
  },
  {
   "cell_type": "code",
   "execution_count": 36,
   "id": "cbb4b527",
   "metadata": {},
   "outputs": [
    {
     "name": "stdout",
     "output_type": "stream",
     "text": [
      "Percentage of overlap between paper and bm25 recommendations for each user:\n",
      "First 20 recommendations: [80.0, 70.0, 70.0, 80.0, 85.0, 75.0, 65.0, 80.0, 85.0, 80.0, 35.0, 60.0, 70.0, 40.0, 35.0, 55.0, 5.0, 80.0, 80.0, 15.0]\n",
      "First 50 recommendations: [78.0, 68.0, 72.0, 78.0, 80.0, 98.0, 76.0, 58.0, 76.0, 78.0, 46.0, 64.0, 72.0, 36.0, 46.0, 82.0, 16.0, 78.0, 76.0, 36.0]\n",
      "First 200 recommendations: [67.0, 70.0, 69.0, 82.0, 71.5, 70.5, 89.0, 64.0, 74.5, 57.5, 57.0, 61.5, 83.0, 59.5, 47.5, 76.0, 37.0, 63.5, 67.5, 45.0]\n",
      "Average percentage of overlap for 20 first recommendations: 62.25%\n",
      "Median percentage of overlap for 20 first recommendations: 70.00%\n",
      "Average percentage of overlap for 50 first recommendations: 65.70%\n",
      "Median percentage of overlap for 50 first recommendations: 74.00%\n",
      "Average percentage of overlap for 200 first recommendations: 65.62%\n",
      "Median percentage of overlap for 200 first recommendations: 67.25%\n"
     ]
    }
   ],
   "source": [
    "percentage_overlap_20 = []\n",
    "percentage_overlap_50 = []\n",
    "percentage_overlap_200 = []\n",
    "\n",
    "for rand_user in random_users:\n",
    "    als_recommender = ALSRecommender(interaction_matrix_user_item_paper, track_uniques, df_music_info, als_model=als_model_paper)\n",
    "    als_recommender.make_recommendations(rand_user, n=200)\n",
    "    paper_recommendations = als_recommender.get_recommendations_info()\n",
    "\n",
    "    als_recommender = ALSRecommender(interaction_matrix_user_item_bm25, track_uniques, df_music_info, als_model=als_model_bm25)\n",
    "    als_recommender.make_recommendations(rand_user, n=200)\n",
    "    bm25_recommendations = als_recommender.get_recommendations_info()\n",
    "\n",
    "    paper_ids_20 = set(paper_recommendations['track_id'].head(20))\n",
    "    bm25_ids_20 = set(bm25_recommendations['track_id'].head(20))\n",
    "\n",
    "    paper_ids_50 = set(paper_recommendations['track_id'].head(50))\n",
    "    bm25_ids_50 = set(bm25_recommendations['track_id'].head(50))\n",
    "\n",
    "    paper_ids_200 = set(paper_recommendations['track_id'])\n",
    "    bm25_ids_200 = set(bm25_recommendations['track_id'])\n",
    "\n",
    "\n",
    "    overlap = round(len(paper_ids_20 & bm25_ids_20) / len(paper_ids_20) * 100, 2)\n",
    "    percentage_overlap_20.append(overlap)\n",
    "\n",
    "    overlap = round(len(paper_ids_50 & bm25_ids_50) / len(paper_ids_50) * 100, 2)\n",
    "    percentage_overlap_50.append(overlap)\n",
    "\n",
    "    overlap = round(len(paper_ids_200 & bm25_ids_200) / len(paper_ids_200) * 100, 2)\n",
    "    percentage_overlap_200.append(overlap)\n",
    "\n",
    "print(\"Percentage of overlap between paper and bm25 recommendations for each user:\")\n",
    "print(f\"First 20 recommendations: {percentage_overlap_20}\")\n",
    "print(f\"First 50 recommendations: {percentage_overlap_50}\")\n",
    "print(f\"First 200 recommendations: {percentage_overlap_200}\")\n",
    "\n",
    "print(f\"Average percentage of overlap for 20 first recommendations: {np.mean(percentage_overlap_20):.2f}%\")\n",
    "print(f\"Median percentage of overlap for 20 first recommendations: {np.median(percentage_overlap_20):.2f}%\")\n",
    "\n",
    "print(f\"Average percentage of overlap for 50 first recommendations: {np.mean(percentage_overlap_50):.2f}%\")\n",
    "print(f\"Median percentage of overlap for 50 first recommendations: {np.median(percentage_overlap_50):.2f}%\")\n",
    "\n",
    "print(f\"Average percentage of overlap for 200 first recommendations: {np.mean(percentage_overlap_200):.2f}%\")\n",
    "print(f\"Median percentage of overlap for 200 first recommendations: {np.median(percentage_overlap_200):.2f}%\")"
   ]
  },
  {
   "cell_type": "code",
   "execution_count": 179,
   "id": "ab6a4007",
   "metadata": {},
   "outputs": [],
   "source": [
    "from implicit.evaluation import leave_k_out_split, mean_average_precision_at_k\n",
    "from scipy.sparse import lil_matrix\n",
    "from tqdm import tqdm"
   ]
  },
  {
   "cell_type": "code",
   "execution_count": 175,
   "id": "938ceb0d",
   "metadata": {},
   "outputs": [],
   "source": [
    "#TODO: Eliminar, solo para pruebas\n",
    "import numpy as np\n",
    "from scipy.sparse import csr_matrix\n",
    "\n",
    "def compare_matrices(train_matrix, test_matrix, full_matrix, limit=30):\n",
    "    \"\"\"\n",
    "    Muestra las posiciones no nulas en train_matrix y test_matrix con sus respectivos valores\n",
    "    también en la matriz original (full_matrix).\n",
    "\n",
    "    Args:\n",
    "        train_matrix (csr_matrix): Matriz de entrenamiento.\n",
    "        test_matrix (csr_matrix): Matriz de prueba.\n",
    "        full_matrix (csr_matrix): Matriz completa original.\n",
    "        limit (int): Límite de valores a mostrar por matriz.\n",
    "    \"\"\"\n",
    "    print(\"Valores no nulos en train_matrix:\")\n",
    "    train_coo = train_matrix.tocoo()\n",
    "    for i, (r, c, v) in enumerate(zip(train_coo.row, train_coo.col, train_coo.data)):\n",
    "        if i >= limit:\n",
    "            break\n",
    "        full_val = full_matrix[r, c]\n",
    "        test_val = test_matrix[r, c]\n",
    "        is_equal = True if full_val == v else False\n",
    "        print(f\"(fila {r}, col {c}): train={v}, test={test_val}, original={full_val}, is_equal={is_equal}\")\n",
    "\n",
    "    print(\"\\nValores no nulos en test_matrix:\")\n",
    "    test_coo = test_matrix.tocoo()\n",
    "    for i, (r, c, v) in enumerate(zip(test_coo.row, test_coo.col, test_coo.data)):\n",
    "        if i >= limit:\n",
    "            break\n",
    "        full_val = full_matrix[r, c]\n",
    "        train_val = train_matrix[r, c]\n",
    "        is_equal_2 = True if full_val == v else False\n",
    "        print(f\"(fila {r}, col {c}): test={v}, train={train_val}, original={full_val}, is_equal={is_equal_2}\")  \n"
   ]
  },
  {
   "cell_type": "code",
   "execution_count": 167,
   "id": "74bf71ef",
   "metadata": {},
   "outputs": [],
   "source": [
    "def build_split_from_indices(matrix, test_users, test_items):\n",
    "    train_lil = matrix.tolil()\n",
    "    test_lil = lil_matrix(matrix.shape)\n",
    "\n",
    "   \n",
    "    for u, i in zip(test_users, test_items):\n",
    "        val = matrix[u, i]\n",
    "        train_lil[u, i] = 0\n",
    "        test_lil[u, i] = val\n",
    "\n",
    "    \n",
    "    train = train_lil.tocsr()\n",
    "    test = test_lil.tocsr()\n",
    "    return train, test\n",
    "\n",
    "def generate_2_splits(interaction_matrix_1, interaction_matrix_2, k=1, random_state=RANDOM_STATE):\n",
    "    train_matrix_1, test_matrix_1 = leave_k_out_split(interaction_matrix_1, K = k, random_state=random_state)\n",
    "    test_users, test_items = test_matrix_1.nonzero()\n",
    "    train_matrix_2, test_matrix_2 = build_split_from_indices(interaction_matrix_2, test_users, test_items)\n",
    "    return train_matrix_1, test_matrix_1, train_matrix_2, test_matrix_2"
   ]
  },
  {
   "cell_type": "code",
   "execution_count": 168,
   "id": "aa41ce2a",
   "metadata": {},
   "outputs": [],
   "source": [
    "train_matrix_paper, test_matrix_paper, train_matrix_bm25, test_matrix_bm25 = generate_2_splits(interaction_matrix_user_item_paper, interaction_matrix_user_item_bm25, k=1)"
   ]
  },
  {
   "cell_type": "code",
   "execution_count": 177,
   "id": "fa876a04",
   "metadata": {},
   "outputs": [
    {
     "name": "stderr",
     "output_type": "stream",
     "text": [
      "100%|██████████| 20/20 [00:31<00:00,  1.56s/it]\n",
      "100%|██████████| 464573/464573 [00:55<00:00, 8441.55it/s]\n",
      "100%|██████████| 20/20 [00:31<00:00,  1.59s/it]\n",
      "100%|██████████| 464573/464573 [00:55<00:00, 8332.19it/s]\n"
     ]
    }
   ],
   "source": [
    "als_model_paper = AlternatingLeastSquares(factors=50, regularization=0.1, iterations=20, num_threads=-1, random_state=RANDOM_STATE)\n",
    "als_model_paper.fit(train_matrix_paper)\n",
    "score_paper = mean_average_precision_at_k(als_model_paper, train_matrix_paper, test_matrix_paper, K=20, num_threads=-1)\n",
    "\n",
    "als_model_bm25 = AlternatingLeastSquares(factors=50, regularization=0.1, iterations=20, num_threads=-1, random_state=RANDOM_STATE)\n",
    "als_model_bm25.fit(train_matrix_bm25)\n",
    "score_bm25 = mean_average_precision_at_k(als_model_bm25, train_matrix_bm25, test_matrix_bm25, K=20, num_threads=-1)"
   ]
  },
  {
   "cell_type": "code",
   "execution_count": 178,
   "id": "905ea5e6",
   "metadata": {},
   "outputs": [
    {
     "name": "stdout",
     "output_type": "stream",
     "text": [
      "MAP@20 for original confidences: 0.0893\n",
      "MAP@20 for BM25 confidences: 0.0842\n"
     ]
    }
   ],
   "source": [
    "print(f\"MAP@20 for original confidences: {score_paper:.4f}\")\n",
    "print(f\"MAP@20 for BM25 confidences: {score_bm25:.4f}\")"
   ]
  },
  {
   "cell_type": "code",
   "execution_count": 181,
   "id": "23a77af1",
   "metadata": {},
   "outputs": [
    {
     "name": "stdout",
     "output_type": "stream",
     "text": [
      "Evaluation of original and BM25 confidence matrices with 10 different train/test splits:\n"
     ]
    },
    {
     "name": "stderr",
     "output_type": "stream",
     "text": [
      "100%|██████████| 10/10 [37:13<00:00, 223.36s/it]"
     ]
    },
    {
     "name": "stdout",
     "output_type": "stream",
     "text": [
      "Evaluation completed.\n"
     ]
    },
    {
     "name": "stderr",
     "output_type": "stream",
     "text": [
      "\n"
     ]
    }
   ],
   "source": [
    "random_states_list = [5873, 429, 9842, 7130, 1059, 886, 3247, 9011, 1678, 352]\n",
    "paper_scores = []\n",
    "bm25_scores = []\n",
    "print(\"Evaluation of original and BM25 confidence matrices with 10 different train/test splits:\")\n",
    "for i in tqdm(range(10)):\n",
    "    train_paper, test_paper, train_bm25, test_bm25 = generate_2_splits(interaction_matrix_user_item_paper, interaction_matrix_user_item_bm25, k=1, random_state=random_states_list[i])\n",
    "    als_model_paper = AlternatingLeastSquares(factors=50, regularization=0.1, iterations=20, num_threads=-1, random_state=random_states_list[i])\n",
    "    als_model_paper.fit(train_paper, show_progress=False)\n",
    "    score_paper = mean_average_precision_at_k(als_model_paper, train_paper, test_paper, K=20, num_threads=-1, show_progress=False)\n",
    "    paper_scores.append(score_paper)\n",
    "\n",
    "    als_model_bm25 = AlternatingLeastSquares(factors=50, regularization=0.1, iterations=20, num_threads=-1, random_state=random_states_list[i])\n",
    "    als_model_bm25.fit(train_bm25, show_progress=False)\n",
    "    score_bm25 = mean_average_precision_at_k(als_model_bm25, train_bm25, test_bm25, K=20, num_threads=-1, show_progress=False)\n",
    "    bm25_scores.append(score_bm25)\n",
    "\n",
    "print(\"Evaluation completed.\")"
   ]
  },
  {
   "cell_type": "code",
   "execution_count": 183,
   "id": "d20e9bcb",
   "metadata": {},
   "outputs": [
    {
     "name": "stdout",
     "output_type": "stream",
     "text": [
      "Scores for original confidences:\n",
      "[0.08896445002836646, 0.08915422417070401, 0.08989397600573149, 0.08958843864594061, 0.08935815102118516, 0.08935843005968298, 0.08954142005269897, 0.08935469925358973, 0.08910756228297675, 0.08871314916270552]\n",
      "Scores for BM25 confidences:\n",
      "[0.08422967660038869, 0.08444234670763376, 0.0842870391996571, 0.08453593440667856, 0.08441099266392685, 0.08381616742525742, 0.08454149355938541, 0.08472622613425947, 0.0836921808844973, 0.08446551724867414]\n"
     ]
    }
   ],
   "source": [
    "print(\"Scores for original confidences:\")\n",
    "print(paper_scores)\n",
    "print(\"Scores for BM25 confidences:\")\n",
    "print(bm25_scores)"
   ]
  },
  {
   "cell_type": "code",
   "execution_count": 186,
   "id": "c80e05cb",
   "metadata": {},
   "outputs": [
    {
     "name": "stdout",
     "output_type": "stream",
     "text": [
      "Original paper confidences:\n",
      "Average MAP@20: 0.0893\n",
      "BM25 confidences:\n",
      "Average MAP@20: 0.0843\n"
     ]
    }
   ],
   "source": [
    "print(\"Original paper confidences:\")\n",
    "print(f\"Average MAP@20: {np.mean(paper_scores):.4f}\")\n",
    "print(\"BM25 confidences:\")\n",
    "print(f\"Average MAP@20: {np.mean(bm25_scores):.4f}\")"
   ]
  },
  {
   "cell_type": "code",
   "execution_count": 187,
   "id": "e831a92f",
   "metadata": {},
   "outputs": [
    {
     "data": {
      "image/png": "[encoded data removed]",
      "text/plain": [
       "<Figure size 800x500 with 1 Axes>"
      ]
     },
     "metadata": {},
     "output_type": "display_data"
    }
   ],
   "source": [
    "plt.figure(figsize=(8, 5))\n",
    "plt.plot(paper_scores, label='Original Confidences (Paper)')\n",
    "plt.plot(bm25_scores, label='BM25 Confidences')\n",
    "plt.xlabel('Split Index')\n",
    "plt.ylabel('MAP@20')\n",
    "plt.title('MAP@20 Scores for Different Confidence Schemes')\n",
    "plt.legend()\n",
    "plt.grid(True)\n",
    "plt.show()"
   ]
  },
  {
   "cell_type": "markdown",
   "id": "4bdeb1d1",
   "metadata": {},
   "source": [
    "The original paper method outperforms slightly to the bm25 aproach in every single train/test split, so we will use this confidences in the final model. Even so, the differences in results are very small, and the bm25 approach should present similar performance."
   ]
  },
  {
   "cell_type": "markdown",
   "id": "951e1cf0",
   "metadata": {},
   "source": [
    "### Hyperparameters"
   ]
  },
  {
   "cell_type": "code",
   "execution_count": 25,
   "id": "cf3183c4",
   "metadata": {},
   "outputs": [],
   "source": [
    "from implicit.evaluation import leave_k_out_split, mean_average_precision_at_k, ndcg_at_k\n",
    "from sklearn.model_selection import ParameterSampler"
   ]
  },
  {
   "cell_type": "code",
   "execution_count": 25,
   "id": "8e3d5bce",
   "metadata": {},
   "outputs": [],
   "source": [
    "train_matrix_params, val_matrix_params = leave_k_out_split(interaction_matrix_user_item_paper, K = 1, random_state=RANDOM_STATE)"
   ]
  },
  {
   "cell_type": "code",
   "execution_count": 27,
   "id": "3df2c958",
   "metadata": {},
   "outputs": [],
   "source": [
    "parameter_distribution = {\n",
    "    'factors': [16, 32, 50, 64, 100, 128, 164, 200],\n",
    "    'regularization': [0.001, 0.01, 0.1, 1.0],\n",
    "    'alpha': [0.1, 1, 5, 10, 20, 50, 100]\n",
    "}\n",
    "\n",
    "random_params = list(ParameterSampler(parameter_distribution, n_iter=40, random_state=RANDOM_STATE))"
   ]
  },
  {
   "cell_type": "code",
   "execution_count": 28,
   "id": "b1a82a2e",
   "metadata": {},
   "outputs": [
    {
     "data": {
      "text/plain": [
       "[{'regularization': 0.1, 'factors': 128, 'alpha': 1},\n",
       " {'regularization': 0.01, 'factors': 50, 'alpha': 1},\n",
       " {'regularization': 0.001, 'factors': 200, 'alpha': 1},\n",
       " {'regularization': 0.001, 'factors': 16, 'alpha': 1},\n",
       " {'regularization': 1.0, 'factors': 128, 'alpha': 10},\n",
       " {'regularization': 0.01, 'factors': 200, 'alpha': 100},\n",
       " {'regularization': 1.0, 'factors': 164, 'alpha': 20},\n",
       " {'regularization': 0.001, 'factors': 100, 'alpha': 100},\n",
       " {'regularization': 0.01, 'factors': 32, 'alpha': 10},\n",
       " {'regularization': 0.1, 'factors': 100, 'alpha': 20},\n",
       " {'regularization': 0.01, 'factors': 64, 'alpha': 10},\n",
       " {'regularization': 1.0, 'factors': 200, 'alpha': 0.1},\n",
       " {'regularization': 0.001, 'factors': 128, 'alpha': 100},\n",
       " {'regularization': 0.01, 'factors': 16, 'alpha': 0.1},\n",
       " {'regularization': 1.0, 'factors': 100, 'alpha': 5},\n",
       " {'regularization': 1.0, 'factors': 50, 'alpha': 20},\n",
       " {'regularization': 0.1, 'factors': 64, 'alpha': 100},\n",
       " {'regularization': 1.0, 'factors': 100, 'alpha': 100},\n",
       " {'regularization': 1.0, 'factors': 200, 'alpha': 1},\n",
       " {'regularization': 0.01, 'factors': 32, 'alpha': 50},\n",
       " {'regularization': 0.01, 'factors': 16, 'alpha': 20},\n",
       " {'regularization': 1.0, 'factors': 50, 'alpha': 50},\n",
       " {'regularization': 0.01, 'factors': 164, 'alpha': 100},\n",
       " {'regularization': 0.001, 'factors': 200, 'alpha': 20},\n",
       " {'regularization': 0.1, 'factors': 16, 'alpha': 50},\n",
       " {'regularization': 0.1, 'factors': 164, 'alpha': 100},\n",
       " {'regularization': 0.1, 'factors': 100, 'alpha': 5},\n",
       " {'regularization': 0.01, 'factors': 100, 'alpha': 0.1},\n",
       " {'regularization': 0.01, 'factors': 64, 'alpha': 5},\n",
       " {'regularization': 0.001, 'factors': 50, 'alpha': 20},\n",
       " {'regularization': 1.0, 'factors': 164, 'alpha': 50},\n",
       " {'regularization': 0.1, 'factors': 200, 'alpha': 5},\n",
       " {'regularization': 0.001, 'factors': 200, 'alpha': 0.1},\n",
       " {'regularization': 1.0, 'factors': 164, 'alpha': 5},\n",
       " {'regularization': 1.0, 'factors': 32, 'alpha': 0.1},\n",
       " {'regularization': 0.1, 'factors': 200, 'alpha': 50},\n",
       " {'regularization': 0.001, 'factors': 32, 'alpha': 1},\n",
       " {'regularization': 0.1, 'factors': 16, 'alpha': 10},\n",
       " {'regularization': 0.1, 'factors': 16, 'alpha': 0.1},\n",
       " {'regularization': 1.0, 'factors': 128, 'alpha': 0.1}]"
      ]
     },
     "execution_count": 28,
     "metadata": {},
     "output_type": "execute_result"
    }
   ],
   "source": [
    "random_params"
   ]
  },
  {
   "cell_type": "code",
   "execution_count": 87,
   "id": "f5de5190",
   "metadata": {},
   "outputs": [],
   "source": [
    "def study_params(train_matrix, val_matrix, params, save_results=False):\n",
    "    map_scores = []\n",
    "    ndcg_scores = []\n",
    "\n",
    "    for param_comb in tqdm(params):\n",
    "        als_model = AlternatingLeastSquares(\n",
    "            factors=param_comb['factors'],\n",
    "            regularization=param_comb['regularization'],\n",
    "            alpha=param_comb['alpha'],\n",
    "            iterations=20,\n",
    "            num_threads=1,  # Use 1 thread for reproducibility\n",
    "            random_state=RANDOM_STATE\n",
    "        )\n",
    "        \n",
    "        als_model.fit(train_matrix, show_progress=False)\n",
    "        score = mean_average_precision_at_k(als_model, train_matrix, val_matrix, K=20, num_threads=1, show_progress=False)\n",
    "        ndcg_score = ndcg_at_k(als_model, train_matrix, val_matrix, K=20, num_threads=1, show_progress=False)\n",
    "\n",
    "        map_scores.append(score)\n",
    "        ndcg_scores.append(ndcg_score)\n",
    "\n",
    "        if save_results:\n",
    "            result = {\n",
    "                'factors': param_comb['factors'],\n",
    "                'regularization': param_comb['regularization'],\n",
    "                'alpha': param_comb['alpha'],\n",
    "                'map_score': score,\n",
    "                'ndcg_score': ndcg_score\n",
    "            }\n",
    "            pd.DataFrame([result]).to_csv('als_hyperparameter_tuning_results.csv', mode='a', header=False, index=False)\n",
    "\n",
    "    return map_scores, ndcg_scores\n",
    "\n",
    "#TODO: Eliminar la siguiente funcion, es solo para pruebas\n",
    "def study_params_aux(train_matrix, val_matrix, params, save_results=False):\n",
    "    print(f\"Training ALS model with parameters: {params}\")\n",
    "    als_model_aux = AlternatingLeastSquares(\n",
    "        factors=params['factors'],\n",
    "        regularization=params['regularization'],\n",
    "        alpha=params['alpha'],\n",
    "        iterations=20,\n",
    "        num_threads=1,\n",
    "        random_state=RANDOM_STATE\n",
    "    )\n",
    "    \n",
    "    als_model_aux.fit(train_matrix, show_progress=True)\n",
    "    return als_model_aux\n",
    "\n",
    "def get_study_results(als_model_get, train_matrix_get, val_matrix_get, params_get):\n",
    "    map_score = mean_average_precision_at_k(als_model_get, train_matrix_get, val_matrix_get, K=20, num_threads=1, show_progress=True)\n",
    "    ndcg_score = ndcg_at_k(als_model_get, train_matrix_get, val_matrix_get, K=20, num_threads=1, show_progress=True)\n",
    "    return map_score, ndcg_score"
   ]
  },
  {
   "cell_type": "code",
   "execution_count": 233,
   "id": "05e476c5",
   "metadata": {},
   "outputs": [
    {
     "name": "stderr",
     "output_type": "stream",
     "text": [
      "100%|██████████| 40/40 [2:01:23<00:00, 182.08s/it]  \n"
     ]
    }
   ],
   "source": [
    "map_scores, ndcg_scores = study_params(train_matrix_params, val_matrix_params, random_params)"
   ]
  },
  {
   "cell_type": "code",
   "execution_count": 234,
   "id": "5830db0b",
   "metadata": {},
   "outputs": [
    {
     "name": "stdout",
     "output_type": "stream",
     "text": [
      "MAP@20 scores:\n",
      "[0.12699784727508506, 0.0885354325029938, 0.14085655947761763, 0.05340488778538374, 0.11578972866021496, 0.0433851113471124, 0.11116081655378261, 0.038391661719802184, 0.05465574807462367, 0.0848493048484323, 0.07919559177437391, 0.12842629080589157, 0.04226631906815013, 0.05191832214059563, 0.11243768716961486, 0.06398351998782019, 0.03913858516119153, 0.053107635897414386, 0.14404979896606365, 0.035038156136214874, 0.030311123871653776, 0.05039833752920595, 0.04434814426474127, 0.10296180829734083, 0.022380601669369702, 0.04747925018735282, 0.10885884670913526, 0.10675132185749783, 0.08734247244467429, 0.059573588143476304, 0.07975272226851828, 0.13612979079828907, 0.12777875074644132, 0.13389848031455942, 0.06985754902993678, 0.07060589226034995, 0.07203955660962706, 0.03884116605890718, 0.05198405743032584, 0.11515106143365571]\n",
      "NDCG@20 scores:\n",
      "[0.17213834854556145, 0.12569910096703193, 0.1886220801650881, 0.07979171481489748, 0.15844579337662418, 0.06040367395304742, 0.15076915499509616, 0.05631646820546197, 0.08226808682343677, 0.11945616326500114, 0.11464531686692524, 0.17059075754886402, 0.06063810787308774, 0.07676001418413568, 0.15606942847965335, 0.09583070228063355, 0.05827413333144386, 0.07728103692545693, 0.19137550601746678, 0.05391955902696416, 0.04866915091780251, 0.07645202470590423, 0.06233408902810775, 0.13796067147102237, 0.036684439286164966, 0.06710583822867056, 0.15132371102300637, 0.14475376113253904, 0.12563781187486373, 0.08841375722077645, 0.11070324014305778, 0.18074043729209818, 0.17004371804690843, 0.1797106883523729, 0.09950886049598845, 0.09700005050571375, 0.1043044868229628, 0.06083732255885293, 0.07684798750255485, 0.15474765600415935]\n"
     ]
    }
   ],
   "source": [
    "print(\"MAP@20 scores:\")\n",
    "print(map_scores)\n",
    "print(\"NDCG@20 scores:\")\n",
    "print(ndcg_scores)"
   ]
  },
  {
   "cell_type": "code",
   "execution_count": 235,
   "id": "ec28046d",
   "metadata": {},
   "outputs": [],
   "source": [
    "with open('hyperparams.txt', 'w') as f:\n",
    "    f.write('random_params = ' + repr(random_params) + '\\n')\n",
    "    f.write('map_scores = ' + repr(map_scores) + '\\n')\n",
    "    f.write('ndcg_scores = ' + repr(ndcg_scores) + '\\n')"
   ]
  },
  {
   "cell_type": "code",
   "execution_count": 236,
   "id": "87a27f62",
   "metadata": {},
   "outputs": [
    {
     "name": "stdout",
     "output_type": "stream",
     "text": [
      "Best MAP: index=18, params={'regularization': 1.0, 'factors': 200, 'alpha': 1}, MAP=0.14404979896606365\n",
      "Best NDCG: index=18, params={'regularization': 1.0, 'factors': 200, 'alpha': 1}, NDCG=0.19137550601746678\n"
     ]
    }
   ],
   "source": [
    "best_map_idx = max(range(len(map_scores)), key=lambda i: map_scores[i])\n",
    "best_ndcg_idx = max(range(len(ndcg_scores)), key=lambda i: ndcg_scores[i])\n",
    "\n",
    "best_map_params = random_params[best_map_idx]\n",
    "best_ndcg_params = random_params[best_ndcg_idx]\n",
    "\n",
    "print(f\"Best MAP: index={best_map_idx}, params={best_map_params}, MAP={map_scores[best_map_idx]}\")\n",
    "print(f\"Best NDCG: index={best_ndcg_idx}, params={best_ndcg_params}, NDCG={ndcg_scores[best_ndcg_idx]}\")\n"
   ]
  },
  {
   "cell_type": "code",
   "execution_count": 240,
   "id": "45563bc7",
   "metadata": {},
   "outputs": [
    {
     "name": "stdout",
     "output_type": "stream",
     "text": [
      "Second to fifth best MAP@20 scores and their parameters:\n",
      "Index: 2, MAP@20: 0.1409, Params: {'regularization': 0.001, 'factors': 200, 'alpha': 1}\n",
      "Index: 31, MAP@20: 0.1361, Params: {'regularization': 0.1, 'factors': 200, 'alpha': 5}\n",
      "Index: 33, MAP@20: 0.1339, Params: {'regularization': 1.0, 'factors': 164, 'alpha': 5}\n",
      "Index: 11, MAP@20: 0.1284, Params: {'regularization': 1.0, 'factors': 200, 'alpha': 0.1}\n",
      "\n",
      "Second to fifth best NDCG@20 scores and their parameters:\n",
      "Index: 2, NDCG@20: 0.1886, Params: {'regularization': 0.001, 'factors': 200, 'alpha': 1}\n",
      "Index: 31, NDCG@20: 0.1807, Params: {'regularization': 0.1, 'factors': 200, 'alpha': 5}\n",
      "Index: 33, NDCG@20: 0.1797, Params: {'regularization': 1.0, 'factors': 164, 'alpha': 5}\n",
      "Index: 0, NDCG@20: 0.1721, Params: {'regularization': 0.1, 'factors': 128, 'alpha': 1}\n"
     ]
    }
   ],
   "source": [
    "print(\"Second to fifth best MAP@20 scores and their parameters:\")\n",
    "for idx in sorted(range(len(map_scores)), key=lambda i: map_scores[i], reverse=True)[1:5]:\n",
    "    print(f\"Index: {idx}, MAP@20: {map_scores[idx]:.4f}, Params: {random_params[idx]}\")\n",
    "\n",
    "print(\"\\nSecond to fifth best NDCG@20 scores and their parameters:\")\n",
    "for idx in sorted(range(len(ndcg_scores)), key=lambda i: ndcg_scores[i], reverse=True)[1:5]:\n",
    "    print(f\"Index: {idx}, NDCG@20: {ndcg_scores[idx]:.4f}, Params: {random_params[idx]}\")"
   ]
  },
  {
   "cell_type": "code",
   "execution_count": 239,
   "id": "109028cd",
   "metadata": {},
   "outputs": [
    {
     "data": {
      "image/png": "[encoded data removed]",
      "text/plain": [
       "<Figure size 1800x800 with 6 Axes>"
      ]
     },
     "metadata": {},
     "output_type": "display_data"
    }
   ],
   "source": [
    "import seaborn as sns\n",
    "\n",
    "# Prepare data for plotting\n",
    "results_df = pd.DataFrame(random_params)\n",
    "results_df['MAP@20'] = map_scores\n",
    "results_df['NDCG@20'] = ndcg_scores\n",
    "\n",
    "fig, axes = plt.subplots(2, 3, figsize=(18, 8))\n",
    "\n",
    "# MAP@20 plots\n",
    "sns.scatterplot(data=results_df, x='factors', y='MAP@20', hue='regularization', size='alpha', ax=axes[0, 0])\n",
    "axes[0, 0].set_title('MAP@20 vs Factors')\n",
    "sns.scatterplot(data=results_df, x='regularization', y='MAP@20', hue='factors', size='alpha', ax=axes[0, 1])\n",
    "axes[0, 1].set_title('MAP@20 vs Regularization')\n",
    "sns.scatterplot(data=results_df, x='alpha', y='MAP@20', hue='factors', size='regularization', ax=axes[0, 2])\n",
    "axes[0, 2].set_title('MAP@20 vs Alpha')\n",
    "\n",
    "# NDCG@20 plots\n",
    "sns.scatterplot(data=results_df, x='factors', y='NDCG@20', hue='regularization', size='alpha', ax=axes[1, 0])\n",
    "axes[1, 0].set_title('NDCG@20 vs Factors')\n",
    "sns.scatterplot(data=results_df, x='regularization', y='NDCG@20', hue='factors', size='alpha', ax=axes[1, 1])\n",
    "axes[1, 1].set_title('NDCG@20 vs Regularization')\n",
    "sns.scatterplot(data=results_df, x='alpha', y='NDCG@20', hue='factors', size='regularization', ax=axes[1, 2])\n",
    "axes[1, 2].set_title('NDCG@20 vs Alpha')\n",
    "\n",
    "plt.tight_layout()\n",
    "plt.show()"
   ]
  },
  {
   "cell_type": "code",
   "execution_count": 243,
   "id": "d33b9f07",
   "metadata": {},
   "outputs": [
    {
     "data": {
      "image/png": "[encoded data removed]",
      "text/plain": [
       "<Figure size 600x400 with 1 Axes>"
      ]
     },
     "metadata": {},
     "output_type": "display_data"
    }
   ],
   "source": [
    "plt.figure(figsize=(6, 4))\n",
    "sns.scatterplot(\n",
    "    data=results_df[results_df['regularization'].isin([0.001, 0.01, 0.1, 1.0])],\n",
    "    x='regularization', y='MAP@20'\n",
    ")\n",
    "plt.xscale('log')\n",
    "plt.xticks([0.001, 0.01, 0.1, 1.0], ['0.001', '0.01', '0.1', '1.0'])\n",
    "plt.xlabel('Regularization')\n",
    "plt.ylabel('MAP@20')\n",
    "plt.title('MAP@20 vs Regularization')\n",
    "plt.grid(True, axis='y')\n",
    "plt.show()\n"
   ]
  },
  {
   "cell_type": "markdown",
   "id": "a4d5704f",
   "metadata": {},
   "source": [
    "We can understand the following information:\n",
    "- We see that the bigger the latent factor number, the better results.\n",
    "- Alpha = 1 gives the best results overall.\n",
    "- Regarding regularization, 1 and 0.001 have similar results, but the worst results for 1 are better than for 0.001. For a value of 0.01, the results vary a lot, having the worst MAP@20 but also a maximum value near of those of 0.001 and 1. The worst regularization value is 0.01, because the maximum value of MAP@20 is much distant from the others.\n",
    "\n",
    "Knowing that the bigger the latent factor the better we will try bigger values. We will use alpha = 1 and regularization = 1, due to them giving the best results."
   ]
  },
  {
   "cell_type": "code",
   "execution_count": 69,
   "id": "a0476421",
   "metadata": {},
   "outputs": [],
   "source": [
    "from sklearn.model_selection import ParameterGrid\n",
    "\n",
    "factors_params = {\n",
    "    'factors': [200, 300, 400, 500, 800, 900, 1000, 1500],\n",
    "    'regularization': [1.0],\n",
    "    'alpha': [1.0]\n",
    "}\n",
    "\n",
    "factors_combinations = list(ParameterGrid(factors_params))"
   ]
  },
  {
   "cell_type": "code",
   "execution_count": 28,
   "id": "bea4a29c",
   "metadata": {},
   "outputs": [],
   "source": [
    "#train_matrix_params, val_matrix_params = leave_k_out_split(interaction_matrix_user_item_paper, K = 1, random_state=RANDOM_STATE)"
   ]
  },
  {
   "cell_type": "code",
   "execution_count": 29,
   "id": "4c7cd53d",
   "metadata": {},
   "outputs": [],
   "source": [
    "from scipy.sparse import save_npz, load_npz"
   ]
  },
  {
   "cell_type": "code",
   "execution_count": 30,
   "id": "3f462f34",
   "metadata": {},
   "outputs": [],
   "source": [
    "# save_npz('matrices/train_matrix_factors.npz', train_matrix_params)\n",
    "# save_npz('matrices/val_matrix_factors.npz', val_matrix_params)"
   ]
  },
  {
   "cell_type": "code",
   "execution_count": 31,
   "id": "70c504cc",
   "metadata": {},
   "outputs": [],
   "source": [
    "train_matrix_params = load_npz('matrices/train_matrix_factors.npz')\n",
    "val_matrix_params = load_npz('matrices/val_matrix_factors.npz')"
   ]
  },
  {
   "cell_type": "code",
   "execution_count": null,
   "id": "0e8ae990",
   "metadata": {},
   "outputs": [],
   "source": [
    "map_scores_factor, ndcg_scores_factor = study_params(train_matrix_params, val_matrix_params, factors_combinations)"
   ]
  },
  {
   "cell_type": "code",
   "execution_count": 82,
   "id": "131421b2",
   "metadata": {},
   "outputs": [
    {
     "name": "stdout",
     "output_type": "stream",
     "text": [
      "MAP@20 scores for factors 200, 300, 400, 500, 800, 900, 1000, 1500:\n",
      "[0.14477722274190374, 0.1583293520842317, 0.16699895820148475, 0.1722154027876685, 0.17796792482736085, 0.1779805207540662, 0.17815333351201645, 0.1758062110672245]\n",
      "NDCG@20 scores for factors 200, 300, 400, 500, 800, 900, 1000, 1500:\n",
      "[0.19223209246576894, 0.20643171316420653, 0.21494385872594304, 0.21979486789853672, 0.2246152572759066, 0.22450945444952958, 0.2244050079609581, 0.22134566754692409]\n"
     ]
    }
   ],
   "source": [
    "print(\"MAP@20 scores for factors 200, 300, 400, 500, 800, 900, 1000, 1500:\")\n",
    "print(map_scores_factor)\n",
    "print(\"NDCG@20 scores for factors 200, 300, 400, 500, 800, 900, 1000, 1500:\")\n",
    "print(ndcg_scores_factor)"
   ]
  },
  {
   "cell_type": "code",
   "execution_count": 83,
   "id": "d3104a8b",
   "metadata": {},
   "outputs": [
    {
     "data": {
      "image/png": "[encoded data removed]",
      "text/plain": [
       "<Figure size 800x500 with 1 Axes>"
      ]
     },
     "metadata": {},
     "output_type": "display_data"
    }
   ],
   "source": [
    "plt.figure(figsize=(8, 5))\n",
    "plt.plot([c['factors'] for c in factors_combinations[:len(map_scores_factor)]], map_scores_factor, marker='o', label='MAP@20')\n",
    "plt.plot([c['factors'] for c in factors_combinations[:len(map_scores_factor)]], ndcg_scores_factor, marker='s', label='NDCG@20')\n",
    "plt.xlabel('Number of Latent Factors')\n",
    "plt.ylabel('Score')\n",
    "plt.title('MAP@20 and NDCG@20 vs Number of Latent Factors')\n",
    "plt.legend()\n",
    "plt.grid(True)\n",
    "plt.show()"
   ]
  },
  {
   "cell_type": "markdown",
   "id": "b1503553",
   "metadata": {},
   "source": [
    "TODO: escribir por qué\n",
    "\n",
    "We will use 800 (best in ndcg, worst in map, but simpler model) (0.00002 vs 0.0011)"
   ]
  },
  {
   "cell_type": "code",
   "execution_count": 85,
   "id": "8a07233a",
   "metadata": {},
   "outputs": [],
   "source": [
    "final_factors_params = {\n",
    "    'factors': [800],\n",
    "    'regularization': [0.001, 0.01, 0.1, 1.0],\n",
    "    'alpha': [1.0]\n",
    "}\n",
    "\n",
    "final_factors_combinations = list(ParameterGrid(final_factors_params))"
   ]
  },
  {
   "cell_type": "code",
   "execution_count": 86,
   "id": "e4afcf79",
   "metadata": {},
   "outputs": [
    {
     "data": {
      "text/plain": [
       "[{'alpha': 1.0, 'factors': 800, 'regularization': 0.001},\n",
       " {'alpha': 1.0, 'factors': 800, 'regularization': 0.01},\n",
       " {'alpha': 1.0, 'factors': 800, 'regularization': 0.1},\n",
       " {'alpha': 1.0, 'factors': 800, 'regularization': 1.0}]"
      ]
     },
     "execution_count": 86,
     "metadata": {},
     "output_type": "execute_result"
    }
   ],
   "source": [
    "final_factors_combinations"
   ]
  },
  {
   "cell_type": "code",
   "execution_count": 88,
   "id": "07a0b2d5",
   "metadata": {},
   "outputs": [
    {
     "name": "stderr",
     "output_type": "stream",
     "text": [
      "100%|██████████| 4/4 [2:13:37<00:00, 2004.25s/it]  \n"
     ]
    }
   ],
   "source": [
    "map_scores_final, ndcg_scores_final = study_params(train_matrix_params, val_matrix_params, final_factors_combinations)"
   ]
  },
  {
   "cell_type": "code",
   "execution_count": 89,
   "id": "c2f3445d",
   "metadata": {},
   "outputs": [
    {
     "name": "stdout",
     "output_type": "stream",
     "text": [
      "MAP@20 scores for 0.001, 0.01, 0.1, 1.0 regularization with 800 factors:\n",
      "[0.1776062080730677, 0.17668823241132442, 0.17491329187483468, 0.17788857199655253]\n",
      "NDCG@20 scores for 0.001, 0.01, 0.1, 1.0 regularization with 800 factors:\n",
      "[0.224194905741419, 0.22298806624327155, 0.22074566351487487, 0.2245502299012312]\n"
     ]
    }
   ],
   "source": [
    "print(\"MAP@20 scores for 0.001, 0.01, 0.1, 1.0 regularization with 800 factors:\")\n",
    "print(map_scores_final)\n",
    "print(\"NDCG@20 scores for 0.001, 0.01, 0.1, 1.0 regularization with 800 factors:\")\n",
    "print(ndcg_scores_final)"
   ]
  },
  {
   "cell_type": "code",
   "execution_count": 90,
   "id": "fc363086",
   "metadata": {},
   "outputs": [
    {
     "name": "stdout",
     "output_type": "stream",
     "text": [
      "Best MAP: index=3, params={'alpha': 1.0, 'factors': 800, 'regularization': 1.0}, MAP=0.17788857199655253\n",
      "Best NDCG: index=3, params={'alpha': 1.0, 'factors': 800, 'regularization': 1.0}, NDCG=0.2245502299012312\n"
     ]
    }
   ],
   "source": [
    "best_map_idx_final = max(range(len(map_scores_final)), key=lambda i: map_scores_final[i])\n",
    "best_ndcg_idx_final = max(range(len(ndcg_scores_final)), key=lambda i: ndcg_scores_final[i])\n",
    "\n",
    "best_map_params_final = final_factors_combinations[best_map_idx_final]\n",
    "best_ndcg_params_final = final_factors_combinations[best_ndcg_idx_final]\n",
    "\n",
    "print(f\"Best MAP: index={best_map_idx_final}, params={best_map_params_final}, MAP={map_scores_final[best_map_idx_final]}\")\n",
    "print(f\"Best NDCG: index={best_ndcg_idx_final}, params={best_ndcg_params_final}, NDCG={ndcg_scores_final[best_ndcg_idx_final]}\")"
   ]
  },
  {
   "cell_type": "code",
   "execution_count": 91,
   "id": "fad00f70",
   "metadata": {},
   "outputs": [
    {
     "name": "stdout",
     "output_type": "stream",
     "text": [
      "Regularization values ordered by MAP@20:\n",
      "Index: 3, Regularization: 1.0, MAP@20: 0.1779\n",
      "Index: 0, Regularization: 0.001, MAP@20: 0.1776\n",
      "Index: 1, Regularization: 0.01, MAP@20: 0.1767\n",
      "Index: 2, Regularization: 0.1, MAP@20: 0.1749\n",
      "Regularization values ordered by NDCG@20:\n",
      "Index: 3, Regularization: 1.0, NDCG@20: 0.2246\n",
      "Index: 0, Regularization: 0.001, NDCG@20: 0.2242\n",
      "Index: 1, Regularization: 0.01, NDCG@20: 0.2230\n",
      "Index: 2, Regularization: 0.1, NDCG@20: 0.2207\n"
     ]
    }
   ],
   "source": [
    "print(\"Regularization values ordered by MAP@20:\")\n",
    "for idx in sorted(range(len(map_scores_final)), key=lambda i: map_scores_final[i], reverse=True):\n",
    "    print(f\"Index: {idx}, Regularization: {final_factors_combinations[idx]['regularization']}, MAP@20: {map_scores_final[idx]:.4f}\")\n",
    "print(\"Regularization values ordered by NDCG@20:\")\n",
    "for idx in sorted(range(len(ndcg_scores_final)), key=lambda i: ndcg_scores_final[i], reverse=True):\n",
    "    print(f\"Index: {idx}, Regularization: {final_factors_combinations[idx]['regularization']}, NDCG@20: {ndcg_scores_final[idx]:.4f}\")"
   ]
  },
  {
   "cell_type": "code",
   "execution_count": 104,
   "id": "0b0669e5",
   "metadata": {},
   "outputs": [
    {
     "data": {
      "image/png": "[encoded data removed]",
      "text/plain": [
       "<Figure size 800x500 with 1 Axes>"
      ]
     },
     "metadata": {},
     "output_type": "display_data"
    }
   ],
   "source": [
    "regularization_values = [\"0.001\", \"0.01\", \"0.1\", \"1\"]\n",
    "plt.figure(figsize=(8, 5))\n",
    "\n",
    "# Plot MAP@20\n",
    "plt.plot(regularization_values, map_scores_final, marker='o', label='MAP@20')\n",
    "\n",
    "# Plot NDCG@20\n",
    "plt.plot(regularization_values, ndcg_scores_final, marker='s', label='NDCG@20')\n",
    "\n",
    "plt.xlabel('Regularization')\n",
    "plt.ylabel('Score')\n",
    "plt.title('Performance vs Regularization (800 factors)')\n",
    "plt.legend()\n",
    "plt.grid(True)\n",
    "plt.tight_layout()\n",
    "plt.show()"
   ]
  },
  {
   "cell_type": "markdown",
   "id": "8f475f08",
   "metadata": {},
   "source": [
    "Final parameters:\n",
    "- Latent factors: 800\n",
    "- Alpha: 1\n",
    "- Regularization: 1"
   ]
  },
  {
   "cell_type": "code",
   "execution_count": null,
   "id": "2053b975",
   "metadata": {},
   "outputs": [],
   "source": []
  }
 ],
 "metadata": {
  "kernelspec": {
   "display_name": "MasterIA",
   "language": "python",
   "name": "python3"
  },
  "language_info": {
   "codemirror_mode": {
    "name": "ipython",
    "version": 3
   },
   "file_extension": ".py",
   "mimetype": "text/x-python",
   "name": "python",
   "nbconvert_exporter": "python",
   "pygments_lexer": "ipython3",
   "version": "3.12.11"
  }
 },
 "nbformat": 4,
 "nbformat_minor": 5
}
