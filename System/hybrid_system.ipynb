{
 "cells": [
  {
   "cell_type": "markdown",
   "id": "67221f5a",
   "metadata": {},
   "source": [
    "# Hybrid system"
   ]
  },
  {
   "cell_type": "markdown",
   "id": "d20df65c",
   "metadata": {},
   "source": [
    "- Coger subsets aleatorios\n",
    "- Ver si usar item based collab porque tiene mas escalabilidad, user based necesita calcular la similitud de todos los pares de usuarios"
   ]
  },
  {
   "cell_type": "markdown",
   "id": "c5c1ed38",
   "metadata": {},
   "source": [
    "## Data loading"
   ]
  },
  {
   "cell_type": "code",
   "execution_count": 1,
   "id": "b3a25959",
   "metadata": {},
   "outputs": [],
   "source": [
    "import pandas as pd\n",
    "import numpy as np\n",
    "import matplotlib.pyplot as plt\n",
    "RANDOM_STATE = 123"
   ]
  },
  {
   "cell_type": "code",
   "execution_count": 2,
   "id": "ffc525f8",
   "metadata": {},
   "outputs": [],
   "source": [
    "#df_users = pd.read_csv('data/train_triplets.txt', sep='\\t', header=None, names=['user_id', 'song_id', 'play_count'])\n",
    "df_users_raw = pd.read_csv('data/Million Song Dataset kaggle/User Listening History.csv')"
   ]
  },
  {
   "cell_type": "code",
   "execution_count": 3,
   "id": "f58987a6",
   "metadata": {},
   "outputs": [],
   "source": [
    "df_music = pd.read_csv('data/Million Song Dataset kaggle/Music Info.csv')"
   ]
  },
  {
   "cell_type": "code",
   "execution_count": 4,
   "id": "b3f3becc",
   "metadata": {},
   "outputs": [
    {
     "data": {
      "text/plain": [
       "track_id     object\n",
       "user_id      object\n",
       "playcount     int64\n",
       "dtype: object"
      ]
     },
     "execution_count": 4,
     "metadata": {},
     "output_type": "execute_result"
    }
   ],
   "source": [
    "df_users_raw.dtypes"
   ]
  },
  {
   "cell_type": "code",
   "execution_count": 5,
   "id": "853a6217",
   "metadata": {},
   "outputs": [
    {
     "data": {
      "text/plain": [
       "(9711301, 3)"
      ]
     },
     "execution_count": 5,
     "metadata": {},
     "output_type": "execute_result"
    }
   ],
   "source": [
    "df_users_raw.shape"
   ]
  },
  {
   "cell_type": "code",
   "execution_count": 6,
   "id": "8a64eaa0",
   "metadata": {},
   "outputs": [
    {
     "data": {
      "text/plain": [
       "962037"
      ]
     },
     "execution_count": 6,
     "metadata": {},
     "output_type": "execute_result"
    }
   ],
   "source": [
    "num_distinct_users = df_users_raw['user_id'].nunique()\n",
    "num_distinct_users"
   ]
  },
  {
   "cell_type": "markdown",
   "id": "8f2e76b6",
   "metadata": {},
   "source": [
    "We only take into account users that have listened to at least 10 songs"
   ]
  },
  {
   "cell_type": "code",
   "execution_count": 7,
   "id": "53d63cce",
   "metadata": {},
   "outputs": [
    {
     "data": {
      "text/html": [
       "<div>\n",
       "<style scoped>\n",
       "    .dataframe tbody tr th:only-of-type {\n",
       "        vertical-align: middle;\n",
       "    }\n",
       "\n",
       "    .dataframe tbody tr th {\n",
       "        vertical-align: top;\n",
       "    }\n",
       "\n",
       "    .dataframe thead th {\n",
       "        text-align: right;\n",
       "    }\n",
       "</style>\n",
       "<table border=\"1\" class=\"dataframe\">\n",
       "  <thead>\n",
       "    <tr style=\"text-align: right;\">\n",
       "      <th></th>\n",
       "      <th>user_id</th>\n",
       "      <th>count</th>\n",
       "    </tr>\n",
       "  </thead>\n",
       "  <tbody>\n",
       "    <tr>\n",
       "      <th>0</th>\n",
       "      <td>ec6dfcf19485cb011e0b22637075037aae34cf26</td>\n",
       "      <td>784</td>\n",
       "    </tr>\n",
       "    <tr>\n",
       "      <th>1</th>\n",
       "      <td>4e11f45d732f4861772b2906f81a7d384552ad12</td>\n",
       "      <td>384</td>\n",
       "    </tr>\n",
       "    <tr>\n",
       "      <th>2</th>\n",
       "      <td>726da71c2c2ea119119a7957517fccd028d1be76</td>\n",
       "      <td>376</td>\n",
       "    </tr>\n",
       "    <tr>\n",
       "      <th>3</th>\n",
       "      <td>113255a012b2affeab62607563d03fbdf31b08e7</td>\n",
       "      <td>367</td>\n",
       "    </tr>\n",
       "    <tr>\n",
       "      <th>4</th>\n",
       "      <td>7adec7f006cb09482d36609d205293d8b61f030e</td>\n",
       "      <td>366</td>\n",
       "    </tr>\n",
       "    <tr>\n",
       "      <th>...</th>\n",
       "      <td>...</td>\n",
       "      <td>...</td>\n",
       "    </tr>\n",
       "    <tr>\n",
       "      <th>962032</th>\n",
       "      <td>19e70c61de7bbb0ca3fc39c81a7e6b7eede69aa1</td>\n",
       "      <td>1</td>\n",
       "    </tr>\n",
       "    <tr>\n",
       "      <th>962033</th>\n",
       "      <td>7154895e6b692062033eecb3fe59ad240bb02811</td>\n",
       "      <td>1</td>\n",
       "    </tr>\n",
       "    <tr>\n",
       "      <th>962034</th>\n",
       "      <td>5d563bc9f80ddb3bce489c84b453409a88bd37e9</td>\n",
       "      <td>1</td>\n",
       "    </tr>\n",
       "    <tr>\n",
       "      <th>962035</th>\n",
       "      <td>779074ba35bd5f14913635819233a01dc5ecc9de</td>\n",
       "      <td>1</td>\n",
       "    </tr>\n",
       "    <tr>\n",
       "      <th>962036</th>\n",
       "      <td>b4d94644a0e17fdf220cdc9262cd9f0521efe410</td>\n",
       "      <td>1</td>\n",
       "    </tr>\n",
       "  </tbody>\n",
       "</table>\n",
       "<p>962037 rows × 2 columns</p>\n",
       "</div>"
      ],
      "text/plain": [
       "                                         user_id  count\n",
       "0       ec6dfcf19485cb011e0b22637075037aae34cf26    784\n",
       "1       4e11f45d732f4861772b2906f81a7d384552ad12    384\n",
       "2       726da71c2c2ea119119a7957517fccd028d1be76    376\n",
       "3       113255a012b2affeab62607563d03fbdf31b08e7    367\n",
       "4       7adec7f006cb09482d36609d205293d8b61f030e    366\n",
       "...                                          ...    ...\n",
       "962032  19e70c61de7bbb0ca3fc39c81a7e6b7eede69aa1      1\n",
       "962033  7154895e6b692062033eecb3fe59ad240bb02811      1\n",
       "962034  5d563bc9f80ddb3bce489c84b453409a88bd37e9      1\n",
       "962035  779074ba35bd5f14913635819233a01dc5ecc9de      1\n",
       "962036  b4d94644a0e17fdf220cdc9262cd9f0521efe410      1\n",
       "\n",
       "[962037 rows x 2 columns]"
      ]
     },
     "execution_count": 7,
     "metadata": {},
     "output_type": "execute_result"
    }
   ],
   "source": [
    "df_user_counts = df_users_raw['user_id'].value_counts().reset_index()\n",
    "df_user_counts.columns = ['user_id', 'count']\n",
    "df_user_counts"
   ]
  },
  {
   "cell_type": "code",
   "execution_count": 8,
   "id": "a35bb04b",
   "metadata": {},
   "outputs": [
    {
     "data": {
      "text/plain": [
       "(8332242, 3)"
      ]
     },
     "execution_count": 8,
     "metadata": {},
     "output_type": "execute_result"
    }
   ],
   "source": [
    "df_users = df_users_raw[df_users_raw['user_id'].isin(df_user_counts[df_user_counts['count'] > 5]['user_id'])].reset_index(drop=True)\n",
    "#df_users = df_users_raw\n",
    "df_users.shape"
   ]
  },
  {
   "cell_type": "code",
   "execution_count": 9,
   "id": "e505d33a",
   "metadata": {},
   "outputs": [],
   "source": [
    "data_df = df_users_raw.groupby('track_id').size().reset_index(name='count')"
   ]
  },
  {
   "cell_type": "code",
   "execution_count": 10,
   "id": "66cbc02d",
   "metadata": {},
   "outputs": [
    {
     "data": {
      "text/html": [
       "<div>\n",
       "<style scoped>\n",
       "    .dataframe tbody tr th:only-of-type {\n",
       "        vertical-align: middle;\n",
       "    }\n",
       "\n",
       "    .dataframe tbody tr th {\n",
       "        vertical-align: top;\n",
       "    }\n",
       "\n",
       "    .dataframe thead th {\n",
       "        text-align: right;\n",
       "    }\n",
       "</style>\n",
       "<table border=\"1\" class=\"dataframe\">\n",
       "  <thead>\n",
       "    <tr style=\"text-align: right;\">\n",
       "      <th></th>\n",
       "      <th>track_id</th>\n",
       "      <th>count</th>\n",
       "    </tr>\n",
       "  </thead>\n",
       "  <tbody>\n",
       "    <tr>\n",
       "      <th>0</th>\n",
       "      <td>TRAAAED128E0783FAB</td>\n",
       "      <td>161</td>\n",
       "    </tr>\n",
       "    <tr>\n",
       "      <th>1</th>\n",
       "      <td>TRAAAHD128F42635A5</td>\n",
       "      <td>2</td>\n",
       "    </tr>\n",
       "    <tr>\n",
       "      <th>2</th>\n",
       "      <td>TRAAAQO12903CD8E1C</td>\n",
       "      <td>1</td>\n",
       "    </tr>\n",
       "    <tr>\n",
       "      <th>3</th>\n",
       "      <td>TRAABJS128F9325C99</td>\n",
       "      <td>945</td>\n",
       "    </tr>\n",
       "    <tr>\n",
       "      <th>4</th>\n",
       "      <td>TRAABXA128F9326351</td>\n",
       "      <td>18</td>\n",
       "    </tr>\n",
       "    <tr>\n",
       "      <th>...</th>\n",
       "      <td>...</td>\n",
       "      <td>...</td>\n",
       "    </tr>\n",
       "    <tr>\n",
       "      <th>30454</th>\n",
       "      <td>TRZZYMU128E0792400</td>\n",
       "      <td>1140</td>\n",
       "    </tr>\n",
       "    <tr>\n",
       "      <th>30455</th>\n",
       "      <td>TRZZZCL128F428BB80</td>\n",
       "      <td>19</td>\n",
       "    </tr>\n",
       "    <tr>\n",
       "      <th>30456</th>\n",
       "      <td>TRZZZCN128F9317A03</td>\n",
       "      <td>15</td>\n",
       "    </tr>\n",
       "    <tr>\n",
       "      <th>30457</th>\n",
       "      <td>TRZZZHL128F9329CFB</td>\n",
       "      <td>116</td>\n",
       "    </tr>\n",
       "    <tr>\n",
       "      <th>30458</th>\n",
       "      <td>TRZZZRJ128F42819AF</td>\n",
       "      <td>857</td>\n",
       "    </tr>\n",
       "  </tbody>\n",
       "</table>\n",
       "<p>30459 rows × 2 columns</p>\n",
       "</div>"
      ],
      "text/plain": [
       "                 track_id  count\n",
       "0      TRAAAED128E0783FAB    161\n",
       "1      TRAAAHD128F42635A5      2\n",
       "2      TRAAAQO12903CD8E1C      1\n",
       "3      TRAABJS128F9325C99    945\n",
       "4      TRAABXA128F9326351     18\n",
       "...                   ...    ...\n",
       "30454  TRZZYMU128E0792400   1140\n",
       "30455  TRZZZCL128F428BB80     19\n",
       "30456  TRZZZCN128F9317A03     15\n",
       "30457  TRZZZHL128F9329CFB    116\n",
       "30458  TRZZZRJ128F42819AF    857\n",
       "\n",
       "[30459 rows x 2 columns]"
      ]
     },
     "execution_count": 10,
     "metadata": {},
     "output_type": "execute_result"
    }
   ],
   "source": [
    "data_df"
   ]
  },
  {
   "cell_type": "code",
   "execution_count": 11,
   "id": "b05fd93f",
   "metadata": {},
   "outputs": [
    {
     "data": {
      "text/html": [
       "<div>\n",
       "<style scoped>\n",
       "    .dataframe tbody tr th:only-of-type {\n",
       "        vertical-align: middle;\n",
       "    }\n",
       "\n",
       "    .dataframe tbody tr th {\n",
       "        vertical-align: top;\n",
       "    }\n",
       "\n",
       "    .dataframe thead th {\n",
       "        text-align: right;\n",
       "    }\n",
       "</style>\n",
       "<table border=\"1\" class=\"dataframe\">\n",
       "  <thead>\n",
       "    <tr style=\"text-align: right;\">\n",
       "      <th></th>\n",
       "      <th>track_id</th>\n",
       "      <th>name</th>\n",
       "      <th>artist</th>\n",
       "      <th>spotify_preview_url</th>\n",
       "      <th>spotify_id</th>\n",
       "      <th>tags</th>\n",
       "      <th>genre</th>\n",
       "      <th>year</th>\n",
       "      <th>duration_ms</th>\n",
       "      <th>danceability</th>\n",
       "      <th>...</th>\n",
       "      <th>key</th>\n",
       "      <th>loudness</th>\n",
       "      <th>mode</th>\n",
       "      <th>speechiness</th>\n",
       "      <th>acousticness</th>\n",
       "      <th>instrumentalness</th>\n",
       "      <th>liveness</th>\n",
       "      <th>valence</th>\n",
       "      <th>tempo</th>\n",
       "      <th>time_signature</th>\n",
       "    </tr>\n",
       "  </thead>\n",
       "  <tbody>\n",
       "    <tr>\n",
       "      <th>0</th>\n",
       "      <td>TRIOREW128F424EAF0</td>\n",
       "      <td>Mr. Brightside</td>\n",
       "      <td>The Killers</td>\n",
       "      <td>https://p.scdn.co/mp3-preview/4d26180e6961fd46...</td>\n",
       "      <td>09ZQ5TmUG8TSL56n0knqrj</td>\n",
       "      <td>rock, alternative, indie, alternative_rock, in...</td>\n",
       "      <td>NaN</td>\n",
       "      <td>2004</td>\n",
       "      <td>222200</td>\n",
       "      <td>0.355</td>\n",
       "      <td>...</td>\n",
       "      <td>1</td>\n",
       "      <td>-4.360</td>\n",
       "      <td>1</td>\n",
       "      <td>0.0746</td>\n",
       "      <td>0.001190</td>\n",
       "      <td>0.000000</td>\n",
       "      <td>0.0971</td>\n",
       "      <td>0.240</td>\n",
       "      <td>148.114</td>\n",
       "      <td>4</td>\n",
       "    </tr>\n",
       "    <tr>\n",
       "      <th>1</th>\n",
       "      <td>TRRIVDJ128F429B0E8</td>\n",
       "      <td>Wonderwall</td>\n",
       "      <td>Oasis</td>\n",
       "      <td>https://p.scdn.co/mp3-preview/d012e536916c927b...</td>\n",
       "      <td>06UfBBDISthj1ZJAtX4xjj</td>\n",
       "      <td>rock, alternative, indie, pop, alternative_roc...</td>\n",
       "      <td>NaN</td>\n",
       "      <td>2006</td>\n",
       "      <td>258613</td>\n",
       "      <td>0.409</td>\n",
       "      <td>...</td>\n",
       "      <td>2</td>\n",
       "      <td>-4.373</td>\n",
       "      <td>1</td>\n",
       "      <td>0.0336</td>\n",
       "      <td>0.000807</td>\n",
       "      <td>0.000000</td>\n",
       "      <td>0.2070</td>\n",
       "      <td>0.651</td>\n",
       "      <td>174.426</td>\n",
       "      <td>4</td>\n",
       "    </tr>\n",
       "    <tr>\n",
       "      <th>2</th>\n",
       "      <td>TROUVHL128F426C441</td>\n",
       "      <td>Come as You Are</td>\n",
       "      <td>Nirvana</td>\n",
       "      <td>https://p.scdn.co/mp3-preview/a1c11bb1cb231031...</td>\n",
       "      <td>0keNu0t0tqsWtExGM3nT1D</td>\n",
       "      <td>rock, alternative, alternative_rock, 90s, grunge</td>\n",
       "      <td>RnB</td>\n",
       "      <td>1991</td>\n",
       "      <td>218920</td>\n",
       "      <td>0.508</td>\n",
       "      <td>...</td>\n",
       "      <td>4</td>\n",
       "      <td>-5.783</td>\n",
       "      <td>0</td>\n",
       "      <td>0.0400</td>\n",
       "      <td>0.000175</td>\n",
       "      <td>0.000459</td>\n",
       "      <td>0.0878</td>\n",
       "      <td>0.543</td>\n",
       "      <td>120.012</td>\n",
       "      <td>4</td>\n",
       "    </tr>\n",
       "    <tr>\n",
       "      <th>3</th>\n",
       "      <td>TRUEIND128F93038C4</td>\n",
       "      <td>Take Me Out</td>\n",
       "      <td>Franz Ferdinand</td>\n",
       "      <td>https://p.scdn.co/mp3-preview/399c401370438be4...</td>\n",
       "      <td>0ancVQ9wEcHVd0RrGICTE4</td>\n",
       "      <td>rock, alternative, indie, alternative_rock, in...</td>\n",
       "      <td>NaN</td>\n",
       "      <td>2004</td>\n",
       "      <td>237026</td>\n",
       "      <td>0.279</td>\n",
       "      <td>...</td>\n",
       "      <td>9</td>\n",
       "      <td>-8.851</td>\n",
       "      <td>1</td>\n",
       "      <td>0.0371</td>\n",
       "      <td>0.000389</td>\n",
       "      <td>0.000655</td>\n",
       "      <td>0.1330</td>\n",
       "      <td>0.490</td>\n",
       "      <td>104.560</td>\n",
       "      <td>4</td>\n",
       "    </tr>\n",
       "    <tr>\n",
       "      <th>4</th>\n",
       "      <td>TRLNZBD128F935E4D8</td>\n",
       "      <td>Creep</td>\n",
       "      <td>Radiohead</td>\n",
       "      <td>https://p.scdn.co/mp3-preview/e7eb60e9466bc3a2...</td>\n",
       "      <td>01QoK9DA7VTeTSE3MNzp4I</td>\n",
       "      <td>rock, alternative, indie, alternative_rock, in...</td>\n",
       "      <td>RnB</td>\n",
       "      <td>2008</td>\n",
       "      <td>238640</td>\n",
       "      <td>0.515</td>\n",
       "      <td>...</td>\n",
       "      <td>7</td>\n",
       "      <td>-9.935</td>\n",
       "      <td>1</td>\n",
       "      <td>0.0369</td>\n",
       "      <td>0.010200</td>\n",
       "      <td>0.000141</td>\n",
       "      <td>0.1290</td>\n",
       "      <td>0.104</td>\n",
       "      <td>91.841</td>\n",
       "      <td>4</td>\n",
       "    </tr>\n",
       "  </tbody>\n",
       "</table>\n",
       "<p>5 rows × 21 columns</p>\n",
       "</div>"
      ],
      "text/plain": [
       "             track_id             name           artist  \\\n",
       "0  TRIOREW128F424EAF0   Mr. Brightside      The Killers   \n",
       "1  TRRIVDJ128F429B0E8       Wonderwall            Oasis   \n",
       "2  TROUVHL128F426C441  Come as You Are          Nirvana   \n",
       "3  TRUEIND128F93038C4      Take Me Out  Franz Ferdinand   \n",
       "4  TRLNZBD128F935E4D8            Creep        Radiohead   \n",
       "\n",
       "                                 spotify_preview_url              spotify_id  \\\n",
       "0  https://p.scdn.co/mp3-preview/4d26180e6961fd46...  09ZQ5TmUG8TSL56n0knqrj   \n",
       "1  https://p.scdn.co/mp3-preview/d012e536916c927b...  06UfBBDISthj1ZJAtX4xjj   \n",
       "2  https://p.scdn.co/mp3-preview/a1c11bb1cb231031...  0keNu0t0tqsWtExGM3nT1D   \n",
       "3  https://p.scdn.co/mp3-preview/399c401370438be4...  0ancVQ9wEcHVd0RrGICTE4   \n",
       "4  https://p.scdn.co/mp3-preview/e7eb60e9466bc3a2...  01QoK9DA7VTeTSE3MNzp4I   \n",
       "\n",
       "                                                tags genre  year  duration_ms  \\\n",
       "0  rock, alternative, indie, alternative_rock, in...   NaN  2004       222200   \n",
       "1  rock, alternative, indie, pop, alternative_roc...   NaN  2006       258613   \n",
       "2   rock, alternative, alternative_rock, 90s, grunge   RnB  1991       218920   \n",
       "3  rock, alternative, indie, alternative_rock, in...   NaN  2004       237026   \n",
       "4  rock, alternative, indie, alternative_rock, in...   RnB  2008       238640   \n",
       "\n",
       "   danceability  ...  key  loudness  mode  speechiness  acousticness  \\\n",
       "0         0.355  ...    1    -4.360     1       0.0746      0.001190   \n",
       "1         0.409  ...    2    -4.373     1       0.0336      0.000807   \n",
       "2         0.508  ...    4    -5.783     0       0.0400      0.000175   \n",
       "3         0.279  ...    9    -8.851     1       0.0371      0.000389   \n",
       "4         0.515  ...    7    -9.935     1       0.0369      0.010200   \n",
       "\n",
       "   instrumentalness  liveness  valence    tempo  time_signature  \n",
       "0          0.000000    0.0971    0.240  148.114               4  \n",
       "1          0.000000    0.2070    0.651  174.426               4  \n",
       "2          0.000459    0.0878    0.543  120.012               4  \n",
       "3          0.000655    0.1330    0.490  104.560               4  \n",
       "4          0.000141    0.1290    0.104   91.841               4  \n",
       "\n",
       "[5 rows x 21 columns]"
      ]
     },
     "execution_count": 11,
     "metadata": {},
     "output_type": "execute_result"
    }
   ],
   "source": [
    "df_music.head()"
   ]
  },
  {
   "cell_type": "code",
   "execution_count": 12,
   "id": "17f8844f",
   "metadata": {},
   "outputs": [
    {
     "data": {
      "text/html": [
       "<div>\n",
       "<style scoped>\n",
       "    .dataframe tbody tr th:only-of-type {\n",
       "        vertical-align: middle;\n",
       "    }\n",
       "\n",
       "    .dataframe tbody tr th {\n",
       "        vertical-align: top;\n",
       "    }\n",
       "\n",
       "    .dataframe thead th {\n",
       "        text-align: right;\n",
       "    }\n",
       "</style>\n",
       "<table border=\"1\" class=\"dataframe\">\n",
       "  <thead>\n",
       "    <tr style=\"text-align: right;\">\n",
       "      <th></th>\n",
       "      <th>track_id</th>\n",
       "      <th>name</th>\n",
       "      <th>artist</th>\n",
       "      <th>energy</th>\n",
       "    </tr>\n",
       "  </thead>\n",
       "  <tbody>\n",
       "    <tr>\n",
       "      <th>0</th>\n",
       "      <td>TRIOREW128F424EAF0</td>\n",
       "      <td>Mr. Brightside</td>\n",
       "      <td>The Killers</td>\n",
       "      <td>0.918</td>\n",
       "    </tr>\n",
       "    <tr>\n",
       "      <th>1</th>\n",
       "      <td>TRRIVDJ128F429B0E8</td>\n",
       "      <td>Wonderwall</td>\n",
       "      <td>Oasis</td>\n",
       "      <td>0.892</td>\n",
       "    </tr>\n",
       "    <tr>\n",
       "      <th>2</th>\n",
       "      <td>TROUVHL128F426C441</td>\n",
       "      <td>Come as You Are</td>\n",
       "      <td>Nirvana</td>\n",
       "      <td>0.826</td>\n",
       "    </tr>\n",
       "    <tr>\n",
       "      <th>3</th>\n",
       "      <td>TRUEIND128F93038C4</td>\n",
       "      <td>Take Me Out</td>\n",
       "      <td>Franz Ferdinand</td>\n",
       "      <td>0.664</td>\n",
       "    </tr>\n",
       "    <tr>\n",
       "      <th>4</th>\n",
       "      <td>TRLNZBD128F935E4D8</td>\n",
       "      <td>Creep</td>\n",
       "      <td>Radiohead</td>\n",
       "      <td>0.430</td>\n",
       "    </tr>\n",
       "  </tbody>\n",
       "</table>\n",
       "</div>"
      ],
      "text/plain": [
       "             track_id             name           artist  energy\n",
       "0  TRIOREW128F424EAF0   Mr. Brightside      The Killers   0.918\n",
       "1  TRRIVDJ128F429B0E8       Wonderwall            Oasis   0.892\n",
       "2  TROUVHL128F426C441  Come as You Are          Nirvana   0.826\n",
       "3  TRUEIND128F93038C4      Take Me Out  Franz Ferdinand   0.664\n",
       "4  TRLNZBD128F935E4D8            Creep        Radiohead   0.430"
      ]
     },
     "execution_count": 12,
     "metadata": {},
     "output_type": "execute_result"
    }
   ],
   "source": [
    "df_music_info = df_music[['track_id', 'name', 'artist', 'energy']]\n",
    "df_music_info.head()"
   ]
  },
  {
   "cell_type": "code",
   "execution_count": 13,
   "id": "b0fcb896",
   "metadata": {},
   "outputs": [
    {
     "name": "stdout",
     "output_type": "stream",
     "text": [
      "(50683, 5)\n"
     ]
    },
    {
     "data": {
      "text/html": [
       "<div>\n",
       "<style scoped>\n",
       "    .dataframe tbody tr th:only-of-type {\n",
       "        vertical-align: middle;\n",
       "    }\n",
       "\n",
       "    .dataframe tbody tr th {\n",
       "        vertical-align: top;\n",
       "    }\n",
       "\n",
       "    .dataframe thead th {\n",
       "        text-align: right;\n",
       "    }\n",
       "</style>\n",
       "<table border=\"1\" class=\"dataframe\">\n",
       "  <thead>\n",
       "    <tr style=\"text-align: right;\">\n",
       "      <th></th>\n",
       "      <th>track_id</th>\n",
       "      <th>name</th>\n",
       "      <th>artist</th>\n",
       "      <th>energy</th>\n",
       "      <th>playcount</th>\n",
       "    </tr>\n",
       "  </thead>\n",
       "  <tbody>\n",
       "    <tr>\n",
       "      <th>0</th>\n",
       "      <td>TRIOREW128F424EAF0</td>\n",
       "      <td>Mr. Brightside</td>\n",
       "      <td>The Killers</td>\n",
       "      <td>0.918</td>\n",
       "      <td>32.0</td>\n",
       "    </tr>\n",
       "    <tr>\n",
       "      <th>1</th>\n",
       "      <td>TRRIVDJ128F429B0E8</td>\n",
       "      <td>Wonderwall</td>\n",
       "      <td>Oasis</td>\n",
       "      <td>0.892</td>\n",
       "      <td>283.0</td>\n",
       "    </tr>\n",
       "    <tr>\n",
       "      <th>2</th>\n",
       "      <td>TROUVHL128F426C441</td>\n",
       "      <td>Come as You Are</td>\n",
       "      <td>Nirvana</td>\n",
       "      <td>0.826</td>\n",
       "      <td>0.0</td>\n",
       "    </tr>\n",
       "    <tr>\n",
       "      <th>3</th>\n",
       "      <td>TRUEIND128F93038C4</td>\n",
       "      <td>Take Me Out</td>\n",
       "      <td>Franz Ferdinand</td>\n",
       "      <td>0.664</td>\n",
       "      <td>17.0</td>\n",
       "    </tr>\n",
       "    <tr>\n",
       "      <th>4</th>\n",
       "      <td>TRLNZBD128F935E4D8</td>\n",
       "      <td>Creep</td>\n",
       "      <td>Radiohead</td>\n",
       "      <td>0.430</td>\n",
       "      <td>0.0</td>\n",
       "    </tr>\n",
       "  </tbody>\n",
       "</table>\n",
       "</div>"
      ],
      "text/plain": [
       "             track_id             name           artist  energy  playcount\n",
       "0  TRIOREW128F424EAF0   Mr. Brightside      The Killers   0.918       32.0\n",
       "1  TRRIVDJ128F429B0E8       Wonderwall            Oasis   0.892      283.0\n",
       "2  TROUVHL128F426C441  Come as You Are          Nirvana   0.826        0.0\n",
       "3  TRUEIND128F93038C4      Take Me Out  Franz Ferdinand   0.664       17.0\n",
       "4  TRLNZBD128F935E4D8            Creep        Radiohead   0.430        0.0"
      ]
     },
     "execution_count": 13,
     "metadata": {},
     "output_type": "execute_result"
    }
   ],
   "source": [
    "df_music_count = df_music_info.merge(\n",
    "    df_users.groupby('track_id').size().reset_index(name='playcount'),\n",
    "    on='track_id',\n",
    "    how='left'\n",
    ")\n",
    "df_music_count = df_music_count.fillna(0)\n",
    "print(df_music_count.shape)\n",
    "df_music_count.head()"
   ]
  },
  {
   "cell_type": "markdown",
   "id": "c45fc187",
   "metadata": {},
   "source": [
    "We load the asigned cluster for each song previously calculated"
   ]
  },
  {
   "cell_type": "code",
   "execution_count": 14,
   "id": "6891dd5c",
   "metadata": {},
   "outputs": [],
   "source": [
    "id_to_cluster = pd.read_csv('data/track_clusters.csv', index_col=0).iloc[:, 0]"
   ]
  },
  {
   "cell_type": "code",
   "execution_count": 15,
   "id": "37f1c8c3",
   "metadata": {},
   "outputs": [
    {
     "data": {
      "text/plain": [
       "track_id\n",
       "TRIOREW128F424EAF0    4\n",
       "TRRIVDJ128F429B0E8    4\n",
       "TROUVHL128F426C441    3\n",
       "TRUEIND128F93038C4    2\n",
       "TRLNZBD128F935E4D8    2\n",
       "                     ..\n",
       "TRQYCFV128F9322F50    3\n",
       "TRHQCSH128F42724B7    4\n",
       "TRZRODK128F92D68D7    0\n",
       "TRGLMEM128F9322F63    3\n",
       "TRIPFKO128F42383FE    2\n",
       "Name: 0, Length: 50683, dtype: int64"
      ]
     },
     "execution_count": 15,
     "metadata": {},
     "output_type": "execute_result"
    }
   ],
   "source": [
    "id_to_cluster"
   ]
  },
  {
   "cell_type": "markdown",
   "id": "e5db63d8",
   "metadata": {},
   "source": [
    "## Interaction Matrix"
   ]
  },
  {
   "cell_type": "code",
   "execution_count": 16,
   "id": "73ade2f2",
   "metadata": {},
   "outputs": [],
   "source": [
    "df_users_agg = df_users.groupby('user_id')['playcount'].agg(\n",
    "    #total_playcount='sum',\n",
    "    max_playcount='max'\n",
    ").reset_index()\n",
    "df_users_agg = df_users_agg.rename(columns={'playcount': 'max_playcount'})"
   ]
  },
  {
   "cell_type": "code",
   "execution_count": 17,
   "id": "50476db3",
   "metadata": {},
   "outputs": [],
   "source": [
    "df_users_rating = df_users.merge(df_users_agg, on='user_id')"
   ]
  },
  {
   "cell_type": "markdown",
   "id": "233c380f",
   "metadata": {},
   "source": [
    "We create 2 interaction matrix\n",
    "- Binary version: 1 indicates a user has interacted with the song and 0 indicates he has not\n",
    "- Weighted version: Rating in range (0,1], calculated as (user playcount) / (playcount of user's most listened song). Gives more rating to those more listened by a user"
   ]
  },
  {
   "cell_type": "code",
   "execution_count": 18,
   "id": "1360e4be",
   "metadata": {},
   "outputs": [],
   "source": [
    "df_users_rating['rating'] = df_users_rating['playcount'] / df_users_rating['max_playcount']"
   ]
  },
  {
   "cell_type": "code",
   "execution_count": 19,
   "id": "fd97436f",
   "metadata": {},
   "outputs": [
    {
     "data": {
      "text/html": [
       "<div>\n",
       "<style scoped>\n",
       "    .dataframe tbody tr th:only-of-type {\n",
       "        vertical-align: middle;\n",
       "    }\n",
       "\n",
       "    .dataframe tbody tr th {\n",
       "        vertical-align: top;\n",
       "    }\n",
       "\n",
       "    .dataframe thead th {\n",
       "        text-align: right;\n",
       "    }\n",
       "</style>\n",
       "<table border=\"1\" class=\"dataframe\">\n",
       "  <thead>\n",
       "    <tr style=\"text-align: right;\">\n",
       "      <th></th>\n",
       "      <th>user_id</th>\n",
       "      <th>max_playcount</th>\n",
       "    </tr>\n",
       "  </thead>\n",
       "  <tbody>\n",
       "    <tr>\n",
       "      <th>333783</th>\n",
       "      <td>b80344d063b5ccb3212f76538f3d9e43d87dca9e</td>\n",
       "      <td>2</td>\n",
       "    </tr>\n",
       "  </tbody>\n",
       "</table>\n",
       "</div>"
      ],
      "text/plain": [
       "                                         user_id  max_playcount\n",
       "333783  b80344d063b5ccb3212f76538f3d9e43d87dca9e              2"
      ]
     },
     "execution_count": 19,
     "metadata": {},
     "output_type": "execute_result"
    }
   ],
   "source": [
    "df_users_agg[df_users_agg['user_id'] == 'b80344d063b5ccb3212f76538f3d9e43d87dca9e']"
   ]
  },
  {
   "cell_type": "markdown",
   "id": "e3a5895d",
   "metadata": {},
   "source": [
    "For the interaction matrix, we shall use a sparse matrix, due to users only listening to a small subset of the songs"
   ]
  },
  {
   "cell_type": "code",
   "execution_count": 20,
   "id": "2d2c2add",
   "metadata": {},
   "outputs": [],
   "source": [
    "from scipy.sparse import csr_matrix, csc_matrix"
   ]
  },
  {
   "cell_type": "markdown",
   "id": "a92f8c72",
   "metadata": {},
   "source": [
    "We codify each user and song to a unique integer ID"
   ]
  },
  {
   "cell_type": "code",
   "execution_count": 21,
   "id": "034e30c7",
   "metadata": {},
   "outputs": [],
   "source": [
    "user_codes, user_uniques = pd.factorize(df_users['user_id'])\n",
    "track_codes, track_uniques = pd.factorize(df_users['track_id'])"
   ]
  },
  {
   "cell_type": "code",
   "execution_count": 22,
   "id": "e5cde331",
   "metadata": {},
   "outputs": [],
   "source": [
    "interaction_matrix_user_item = csr_matrix((df_users_rating['playcount'], (user_codes, track_codes)), shape=(len(user_uniques), len(track_uniques)))"
   ]
  },
  {
   "cell_type": "markdown",
   "id": "931664f7",
   "metadata": {},
   "source": [
    "## Matrix Factorization: Alternating Least Squares (ALS)"
   ]
  },
  {
   "cell_type": "code",
   "execution_count": 23,
   "id": "5918ab0a",
   "metadata": {},
   "outputs": [],
   "source": [
    "from implicit.als import AlternatingLeastSquares"
   ]
  },
  {
   "cell_type": "code",
   "execution_count": 106,
   "id": "01e7f477",
   "metadata": {},
   "outputs": [],
   "source": [
    "class ALSRecommender:\n",
    "    def __init__(self, interaction_matrix, track_uniques, df_music_info, als_model=None):\n",
    "        self.interaction_matrix = interaction_matrix\n",
    "        self.track_uniques = track_uniques\n",
    "        self.df_music_info = df_music_info\n",
    "\n",
    "        if als_model is None:\n",
    "            self.als_model = AlternatingLeastSquares(factors=50, regularization=0.1, iterations=20, num_threads=-1, random_state=RANDOM_STATE)\n",
    "            self.als_model.fit(self.interaction_matrix)\n",
    "        else:\n",
    "            self.als_model = als_model\n",
    "\n",
    "        self.user_index = None\n",
    "        self.recommendations = None # List of tuples (track_id, energy, similarity, has been recommended)\n",
    "\n",
    "    def make_recommendations(self, user_index, n=100):\n",
    "        self.user_index = user_index\n",
    "\n",
    "        user_items = self.interaction_matrix.tocsr()[user_index]\n",
    "\n",
    "        top_n_recommendations_indexes, top_n_recommendations_scores = self.als_model.recommend(user_index, user_items, N=n, filter_already_liked_items=True)\n",
    "\n",
    "        track_ids = self.track_uniques[top_n_recommendations_indexes].tolist()\n",
    "        \n",
    "        df_filtered = self.df_music_info.set_index('track_id').loc[track_ids][['energy']].reset_index()\n",
    "\n",
    "        self.recommendations = [(track_id, energy, similarity, False) for (track_id, energy), similarity in zip(df_filtered.itertuples(index=False, name=None), top_n_recommendations_scores)]\n",
    "\n",
    "        return self.recommendations\n",
    "\n",
    "    \n",
    "    def recommend_song(self, energy, energy_margin=0.05):\n",
    "        if self.recommendations is None:\n",
    "            raise ValueError(\"No recommendations available. Please call make_recommendations first.\")\n",
    "        \n",
    "        closest_track_index = None\n",
    "        distance_to_energy = float('inf')\n",
    "\n",
    "        for i, (track_id, track_energy, similarity, has_been_recommended) in enumerate(self.recommendations):\n",
    "            distance = abs(track_energy - energy)\n",
    "\n",
    "            if not has_been_recommended and distance <= energy_margin:\n",
    "                self.recommendations[i] = (track_id, track_energy, similarity, True)\n",
    "                return (track_id, track_energy)\n",
    "            \n",
    "            if not has_been_recommended and distance < distance_to_energy:\n",
    "                closest_track_index = i\n",
    "                distance_to_energy = distance\n",
    "        \n",
    "        if closest_track_index is not None:\n",
    "            track_id, track_energy, _, _= self.recommendations[closest_track_index]\n",
    "            self.recommendations[closest_track_index] = (track_id, track_energy, similarity, True)\n",
    "            return (track_id, track_energy)\n",
    "\n",
    "        raise ValueError(\"All recommendations have already been recommended\")\n",
    "\n",
    "\n",
    "    def get_recommendations(self):\n",
    "        if self.recommendations is None:\n",
    "            raise ValueError(\"No recommendations available. Please call make_recommendations first.\")\n",
    "        return self.recommendations\n",
    "\n",
    "\n",
    "    def get_recommendations_ids(self):\n",
    "        if self.recommendations is None:\n",
    "            raise ValueError(\"No recommendations available. Please call make_recommendations first.\")\n",
    "        return [track_id for track_id, _, _, _ in self.recommendations]\n",
    "    \n",
    "    def get_recommendations_info(self):\n",
    "        track_ids = [track_id for track_id, _, _, _ in self.recommendations]\n",
    "        df_ordered = self.df_music_info.set_index('track_id').loc[track_ids].reset_index()\n",
    "        return df_ordered"
   ]
  },
  {
   "cell_type": "markdown",
   "id": "bd3419a6",
   "metadata": {},
   "source": [
    "## Kmeans content-based filtering"
   ]
  },
  {
   "cell_type": "code",
   "execution_count": 107,
   "id": "fccfd435",
   "metadata": {},
   "outputs": [],
   "source": [
    "class KmeansContentBasedRecommender: #For user history\n",
    "    def __init__(self, id_to_cluster):\n",
    "        self.id_to_cluster = id_to_cluster\n",
    "        self.recommendations = None\n",
    "    \n",
    "    def make_cluster_recommendation(self, user_history):\n",
    "        clusters = self.id_to_cluster[user_history]\n",
    "        cluster_counts = clusters.value_counts()\n",
    "        self.recommended_cluster = cluster_counts / len(clusters)\n",
    "        return self.recommended_cluster\n",
    "\n",
    "    def get_recommended_cluster(self):\n",
    "        if self.recommended_cluster is None:\n",
    "            raise ValueError(\"No cluster recommendation available. Please call make_cluster_recommendation first.\")\n",
    "        return self.recommendations\n",
    "    "
   ]
  },
  {
   "cell_type": "markdown",
   "id": "5d54f597",
   "metadata": {},
   "source": [
    "## Hybrid recommender"
   ]
  },
  {
   "cell_type": "code",
   "execution_count": null,
   "id": "e938dba5",
   "metadata": {},
   "outputs": [],
   "source": [
    "class HybridRecommender:\n",
    "    def __init__(self, interaction_matrix_user_item, track_uniques, df_music_info, df_users, id_to_cluster, als_recommender = None, content_based_recommender = None):\n",
    "        if als_recommender is not None:\n",
    "            self.collaborative_als_recommender = als_recommender\n",
    "        else:\n",
    "            self.collaborative_als_recommender = ALSRecommender(interaction_matrix_user_item, track_uniques, df_music_info)\n",
    "        \n",
    "        if content_based_recommender is not None:\n",
    "            self.content_based_recommender = content_based_recommender  \n",
    "        else:\n",
    "            self.content_based_recommender = KmeansContentBasedRecommender(id_to_cluster)\n",
    "\n",
    "        self.df_music_info = df_music_info\n",
    "        self.df_users = df_users\n",
    "        self.id_to_cluster = id_to_cluster\n",
    "        self.recommendations = None # List of tuples (track_id, energy, similarity, has been recommended)\n",
    "\n",
    "    \n",
    "    def make_recommendations(self, user_index, n=100):\n",
    "\n",
    "        user_id = df_users['user_id'].unique()[user_index]\n",
    "        user_history = self.df_users[self.df_users['user_id'] == user_id]['track_id']\n",
    "        collaborative_recomendations = self.collaborative_als_recommender.make_recommendations(user_index, n)\n",
    "        content_based_cluster_recommendation = self.content_based_recommender.make_cluster_recommendation(user_history)\n",
    "        self.recommendations = []\n",
    "        \n",
    "        #We will apply a penalization to the collaborative filtering recommendation based on the user cluster preferences obtained by the content-based recommendation\n",
    "        for track_id, energy, similarity, has_been_recommended in collaborative_recomendations:\n",
    "            multiplier = 0.01 #Default multiplier. Used if the song's cluster is not in the user's cluster preferences (content-based recommendation)\n",
    "            song_cluster = self.id_to_cluster[track_id]\n",
    "            if song_cluster in content_based_cluster_recommendation.index:\n",
    "                multiplier = content_based_cluster_recommendation[song_cluster]\n",
    "            \n",
    "            #print(track_id, song_cluster, multiplier)\n",
    "\n",
    "            self.recommendations.append((track_id, energy, similarity * multiplier, has_been_recommended))\n",
    "        self.recommendations = sorted(self.recommendations, key=lambda x: x[2], reverse=True)  # Sort new similarity\n",
    "\n",
    "\n",
    "    def make_recommendations_only_collaborative(self, user_index, n=100):\n",
    "        self.recommendations = self.collaborative_als_recommender.make_recommendations(user_index, n)\n",
    "    \n",
    "    def recommend_song(self, energy, energy_margin=0.05):\n",
    "        return self.als_recommender.recommend_song(energy, energy_margin)\n",
    "    \n",
    "    def get_recommendations(self):\n",
    "        if self.recommendations is None:\n",
    "            raise ValueError(\"No recommendations available. Please call make_recommendations first.\")\n",
    "        return self.recommendations\n",
    "    \n",
    "    def get_recommendations_ids(self):\n",
    "        if self.recommendations is None:\n",
    "            raise ValueError(\"No recommendations available. Please call make_recommendations first.\")\n",
    "        return [track_id for track_id, _, _, _ in self.recommendations]\n",
    "    \n",
    "    def get_recommendations_info(self):\n",
    "        if self.recommendations is None:\n",
    "            raise ValueError(\"No recommendations available. Please call make_recommendations first.\")\n",
    "        track_ids = [track_id for track_id, _, _, _ in self.recommendations]\n",
    "        df_ordered = self.df_music_info.set_index('track_id').loc[track_ids].reset_index()\n",
    "        return df_ordered"
   ]
  },
  {
   "cell_type": "markdown",
   "id": "31701cb5",
   "metadata": {},
   "source": [
    "### Example"
   ]
  },
  {
   "cell_type": "code",
   "execution_count": 27,
   "id": "8491f3e8",
   "metadata": {},
   "outputs": [],
   "source": [
    "user_index = 0 #User for wich recommendations will be made\n",
    "# user_listened_songs = df_users[df_users['user_id'] == user_uniques[user_index]].track_id\n",
    "# df_music_info[df_music_info['track_id'].isin(user_listened_songs)]"
   ]
  },
  {
   "cell_type": "code",
   "execution_count": 28,
   "id": "2fd94d93",
   "metadata": {},
   "outputs": [
    {
     "name": "stderr",
     "output_type": "stream",
     "text": [
      "c:\\Users\\Dani\\.conda\\envs\\Master-IA\\lib\\site-packages\\implicit\\cpu\\als.py:95: RuntimeWarning: OpenBLAS is configured to use 12 threads. It is highly recommended to disable its internal threadpool by setting the environment variable 'OPENBLAS_NUM_THREADS=1' or by calling 'threadpoolctl.threadpool_limits(1, \"blas\")'. Having OpenBLAS use a threadpool can lead to severe performance issues here.\n",
      "  check_blas_config()\n"
     ]
    },
    {
     "data": {
      "application/vnd.jupyter.widget-view+json": {
       "model_id": "3e755a0d4ce0452e979befadd8c321a9",
       "version_major": 2,
       "version_minor": 0
      },
      "text/plain": [
       "  0%|          | 0/20 [00:00<?, ?it/s]"
      ]
     },
     "metadata": {},
     "output_type": "display_data"
    }
   ],
   "source": [
    "als_model = AlternatingLeastSquares(factors=50, regularization=0.1, iterations=20, num_threads=-1, random_state=RANDOM_STATE)\n",
    "als_model.fit(interaction_matrix_user_item)"
   ]
  },
  {
   "cell_type": "code",
   "execution_count": 109,
   "id": "6b926a38",
   "metadata": {},
   "outputs": [],
   "source": [
    "als_recommender = ALSRecommender(interaction_matrix_user_item, track_uniques, df_music_info, als_model=als_model)"
   ]
  },
  {
   "cell_type": "code",
   "execution_count": 171,
   "id": "3e9fd28c",
   "metadata": {},
   "outputs": [
    {
     "data": {
      "text/html": [
       "<div>\n",
       "<style scoped>\n",
       "    .dataframe tbody tr th:only-of-type {\n",
       "        vertical-align: middle;\n",
       "    }\n",
       "\n",
       "    .dataframe tbody tr th {\n",
       "        vertical-align: top;\n",
       "    }\n",
       "\n",
       "    .dataframe thead th {\n",
       "        text-align: right;\n",
       "    }\n",
       "</style>\n",
       "<table border=\"1\" class=\"dataframe\">\n",
       "  <thead>\n",
       "    <tr style=\"text-align: right;\">\n",
       "      <th></th>\n",
       "      <th>track_id</th>\n",
       "      <th>name</th>\n",
       "      <th>artist</th>\n",
       "      <th>energy</th>\n",
       "    </tr>\n",
       "  </thead>\n",
       "  <tbody>\n",
       "    <tr>\n",
       "      <th>0</th>\n",
       "      <td>TRUJOHU128F424E6A6</td>\n",
       "      <td>White Winter Hymnal</td>\n",
       "      <td>Fleet Foxes</td>\n",
       "      <td>0.4970</td>\n",
       "    </tr>\n",
       "    <tr>\n",
       "      <th>1</th>\n",
       "      <td>TRQEMRN128F933B4B2</td>\n",
       "      <td>Sun It Rises</td>\n",
       "      <td>Fleet Foxes</td>\n",
       "      <td>0.2750</td>\n",
       "    </tr>\n",
       "    <tr>\n",
       "      <th>2</th>\n",
       "      <td>TRGEIDA128F933B4B8</td>\n",
       "      <td>Tiger Mountain Peasant Song</td>\n",
       "      <td>Fleet Foxes</td>\n",
       "      <td>0.1460</td>\n",
       "    </tr>\n",
       "    <tr>\n",
       "      <th>3</th>\n",
       "      <td>TRVRIBZ128F426BF71</td>\n",
       "      <td>Your Protector</td>\n",
       "      <td>Fleet Foxes</td>\n",
       "      <td>0.5370</td>\n",
       "    </tr>\n",
       "    <tr>\n",
       "      <th>4</th>\n",
       "      <td>TRLXFKL128F426BF75</td>\n",
       "      <td>Oliver James</td>\n",
       "      <td>Fleet Foxes</td>\n",
       "      <td>0.0635</td>\n",
       "    </tr>\n",
       "    <tr>\n",
       "      <th>5</th>\n",
       "      <td>TRKABMK128F426BF72</td>\n",
       "      <td>Meadowlarks</td>\n",
       "      <td>Fleet Foxes</td>\n",
       "      <td>0.1660</td>\n",
       "    </tr>\n",
       "    <tr>\n",
       "      <th>6</th>\n",
       "      <td>TRFTUIW128E0784B9F</td>\n",
       "      <td>Bubble Toes</td>\n",
       "      <td>Jack Johnson</td>\n",
       "      <td>0.5320</td>\n",
       "    </tr>\n",
       "    <tr>\n",
       "      <th>7</th>\n",
       "      <td>TRDJRES128F933B4BA</td>\n",
       "      <td>Quiet Houses</td>\n",
       "      <td>Fleet Foxes</td>\n",
       "      <td>0.6680</td>\n",
       "    </tr>\n",
       "    <tr>\n",
       "      <th>8</th>\n",
       "      <td>TRXWAZC128F9314B3E</td>\n",
       "      <td>Heartbreak Warfare</td>\n",
       "      <td>John Mayer</td>\n",
       "      <td>0.5720</td>\n",
       "    </tr>\n",
       "    <tr>\n",
       "      <th>9</th>\n",
       "      <td>TRCQYJE128E078FA49</td>\n",
       "      <td>The News</td>\n",
       "      <td>Jack Johnson</td>\n",
       "      <td>0.0818</td>\n",
       "    </tr>\n",
       "  </tbody>\n",
       "</table>\n",
       "</div>"
      ],
      "text/plain": [
       "             track_id                         name        artist  energy\n",
       "0  TRUJOHU128F424E6A6          White Winter Hymnal   Fleet Foxes  0.4970\n",
       "1  TRQEMRN128F933B4B2                 Sun It Rises   Fleet Foxes  0.2750\n",
       "2  TRGEIDA128F933B4B8  Tiger Mountain Peasant Song   Fleet Foxes  0.1460\n",
       "3  TRVRIBZ128F426BF71               Your Protector   Fleet Foxes  0.5370\n",
       "4  TRLXFKL128F426BF75                 Oliver James   Fleet Foxes  0.0635\n",
       "5  TRKABMK128F426BF72                  Meadowlarks   Fleet Foxes  0.1660\n",
       "6  TRFTUIW128E0784B9F                  Bubble Toes  Jack Johnson  0.5320\n",
       "7  TRDJRES128F933B4BA                 Quiet Houses   Fleet Foxes  0.6680\n",
       "8  TRXWAZC128F9314B3E           Heartbreak Warfare    John Mayer  0.5720\n",
       "9  TRCQYJE128E078FA49                     The News  Jack Johnson  0.0818"
      ]
     },
     "execution_count": 171,
     "metadata": {},
     "output_type": "execute_result"
    }
   ],
   "source": [
    "hybrid_recommender = HybridRecommender(interaction_matrix_user_item, track_uniques, df_music_info, df_users, id_to_cluster, als_recommender=als_recommender)\n",
    "hybrid_recommender.make_recommendations_only_collaborative(user_index, n=10)\n",
    "hybrid_recommender.get_recommendations_info().head(20)"
   ]
  },
  {
   "cell_type": "code",
   "execution_count": 172,
   "id": "fcf3fc6b",
   "metadata": {},
   "outputs": [
    {
     "data": {
      "text/html": [
       "<div>\n",
       "<style scoped>\n",
       "    .dataframe tbody tr th:only-of-type {\n",
       "        vertical-align: middle;\n",
       "    }\n",
       "\n",
       "    .dataframe tbody tr th {\n",
       "        vertical-align: top;\n",
       "    }\n",
       "\n",
       "    .dataframe thead th {\n",
       "        text-align: right;\n",
       "    }\n",
       "</style>\n",
       "<table border=\"1\" class=\"dataframe\">\n",
       "  <thead>\n",
       "    <tr style=\"text-align: right;\">\n",
       "      <th></th>\n",
       "      <th>track_id</th>\n",
       "      <th>name</th>\n",
       "      <th>artist</th>\n",
       "      <th>energy</th>\n",
       "    </tr>\n",
       "  </thead>\n",
       "  <tbody>\n",
       "    <tr>\n",
       "      <th>0</th>\n",
       "      <td>TRUJOHU128F424E6A6</td>\n",
       "      <td>White Winter Hymnal</td>\n",
       "      <td>Fleet Foxes</td>\n",
       "      <td>0.4970</td>\n",
       "    </tr>\n",
       "    <tr>\n",
       "      <th>1</th>\n",
       "      <td>TRFTUIW128E0784B9F</td>\n",
       "      <td>Bubble Toes</td>\n",
       "      <td>Jack Johnson</td>\n",
       "      <td>0.5320</td>\n",
       "    </tr>\n",
       "    <tr>\n",
       "      <th>2</th>\n",
       "      <td>TRXWAZC128F9314B3E</td>\n",
       "      <td>Heartbreak Warfare</td>\n",
       "      <td>John Mayer</td>\n",
       "      <td>0.5720</td>\n",
       "    </tr>\n",
       "    <tr>\n",
       "      <th>3</th>\n",
       "      <td>TRQEMRN128F933B4B2</td>\n",
       "      <td>Sun It Rises</td>\n",
       "      <td>Fleet Foxes</td>\n",
       "      <td>0.2750</td>\n",
       "    </tr>\n",
       "    <tr>\n",
       "      <th>4</th>\n",
       "      <td>TRGEIDA128F933B4B8</td>\n",
       "      <td>Tiger Mountain Peasant Song</td>\n",
       "      <td>Fleet Foxes</td>\n",
       "      <td>0.1460</td>\n",
       "    </tr>\n",
       "    <tr>\n",
       "      <th>5</th>\n",
       "      <td>TRLXFKL128F426BF75</td>\n",
       "      <td>Oliver James</td>\n",
       "      <td>Fleet Foxes</td>\n",
       "      <td>0.0635</td>\n",
       "    </tr>\n",
       "    <tr>\n",
       "      <th>6</th>\n",
       "      <td>TRKABMK128F426BF72</td>\n",
       "      <td>Meadowlarks</td>\n",
       "      <td>Fleet Foxes</td>\n",
       "      <td>0.1660</td>\n",
       "    </tr>\n",
       "    <tr>\n",
       "      <th>7</th>\n",
       "      <td>TRCQYJE128E078FA49</td>\n",
       "      <td>The News</td>\n",
       "      <td>Jack Johnson</td>\n",
       "      <td>0.0818</td>\n",
       "    </tr>\n",
       "    <tr>\n",
       "      <th>8</th>\n",
       "      <td>TRVRIBZ128F426BF71</td>\n",
       "      <td>Your Protector</td>\n",
       "      <td>Fleet Foxes</td>\n",
       "      <td>0.5370</td>\n",
       "    </tr>\n",
       "    <tr>\n",
       "      <th>9</th>\n",
       "      <td>TRDJRES128F933B4BA</td>\n",
       "      <td>Quiet Houses</td>\n",
       "      <td>Fleet Foxes</td>\n",
       "      <td>0.6680</td>\n",
       "    </tr>\n",
       "  </tbody>\n",
       "</table>\n",
       "</div>"
      ],
      "text/plain": [
       "             track_id                         name        artist  energy\n",
       "0  TRUJOHU128F424E6A6          White Winter Hymnal   Fleet Foxes  0.4970\n",
       "1  TRFTUIW128E0784B9F                  Bubble Toes  Jack Johnson  0.5320\n",
       "2  TRXWAZC128F9314B3E           Heartbreak Warfare    John Mayer  0.5720\n",
       "3  TRQEMRN128F933B4B2                 Sun It Rises   Fleet Foxes  0.2750\n",
       "4  TRGEIDA128F933B4B8  Tiger Mountain Peasant Song   Fleet Foxes  0.1460\n",
       "5  TRLXFKL128F426BF75                 Oliver James   Fleet Foxes  0.0635\n",
       "6  TRKABMK128F426BF72                  Meadowlarks   Fleet Foxes  0.1660\n",
       "7  TRCQYJE128E078FA49                     The News  Jack Johnson  0.0818\n",
       "8  TRVRIBZ128F426BF71               Your Protector   Fleet Foxes  0.5370\n",
       "9  TRDJRES128F933B4BA                 Quiet Houses   Fleet Foxes  0.6680"
      ]
     },
     "execution_count": 172,
     "metadata": {},
     "output_type": "execute_result"
    }
   ],
   "source": [
    "hybrid_recommender.make_recommendations(user_index, n=10)\n",
    "hybrid_recommender.get_recommendations_info().head(20)"
   ]
  }
 ],
 "metadata": {
  "kernelspec": {
   "display_name": "Master-IA",
   "language": "python",
   "name": "python3"
  },
  "language_info": {
   "codemirror_mode": {
    "name": "ipython",
    "version": 3
   },
   "file_extension": ".py",
   "mimetype": "text/x-python",
   "name": "python",
   "nbconvert_exporter": "python",
   "pygments_lexer": "ipython3",
   "version": "3.10.15"
  }
 },
 "nbformat": 4,
 "nbformat_minor": 5
}
