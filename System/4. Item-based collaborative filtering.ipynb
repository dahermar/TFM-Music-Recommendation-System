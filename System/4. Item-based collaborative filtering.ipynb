{
 "cells": [
  {
   "cell_type": "markdown",
   "id": "67221f5a",
   "metadata": {},
   "source": [
    "# 4. Item-based Collaborative Filtering"
   ]
  },
  {
   "cell_type": "markdown",
   "id": "c5c1ed38",
   "metadata": {},
   "source": [
    "## Data loading"
   ]
  },
  {
   "cell_type": "code",
   "execution_count": 39,
   "id": "b3a25959",
   "metadata": {},
   "outputs": [],
   "source": [
    "import pandas as pd\n",
    "import numpy as np\n",
    "import matplotlib.pyplot as plt\n",
    "from tqdm import tqdm\n",
    "RANDOM_STATE = 5482"
   ]
  },
  {
   "cell_type": "markdown",
   "id": "678ca9bd",
   "metadata": {},
   "source": [
    "We load the modified user database obtained in the data_generator.ipynb file. It contains data of only users with more than 5 listened songs. By doing this we reduce the noise added by users with only a few songs listened."
   ]
  },
  {
   "cell_type": "code",
   "execution_count": 4,
   "id": "af0c4b94",
   "metadata": {},
   "outputs": [
    {
     "data": {
      "text/plain": [
       "(8332242, 3)"
      ]
     },
     "execution_count": 4,
     "metadata": {},
     "output_type": "execute_result"
    }
   ],
   "source": [
    "df_users = pd.read_csv('data/User Listening History_modified.csv')\n",
    "df_users.shape"
   ]
  },
  {
   "cell_type": "code",
   "execution_count": 3,
   "id": "f58987a6",
   "metadata": {},
   "outputs": [],
   "source": [
    "df_music = pd.read_csv('data/Million Song Dataset kaggle/Music Info.csv')"
   ]
  },
  {
   "cell_type": "code",
   "execution_count": 5,
   "id": "ca868344",
   "metadata": {},
   "outputs": [
    {
     "data": {
      "text/plain": [
       "464573"
      ]
     },
     "execution_count": 5,
     "metadata": {},
     "output_type": "execute_result"
    }
   ],
   "source": [
    "num_distinct_users = df_users['user_id'].nunique()\n",
    "num_distinct_users"
   ]
  },
  {
   "cell_type": "code",
   "execution_count": 6,
   "id": "17f8844f",
   "metadata": {},
   "outputs": [
    {
     "data": {
      "text/html": [
       "<div>\n",
       "<style scoped>\n",
       "    .dataframe tbody tr th:only-of-type {\n",
       "        vertical-align: middle;\n",
       "    }\n",
       "\n",
       "    .dataframe tbody tr th {\n",
       "        vertical-align: top;\n",
       "    }\n",
       "\n",
       "    .dataframe thead th {\n",
       "        text-align: right;\n",
       "    }\n",
       "</style>\n",
       "<table border=\"1\" class=\"dataframe\">\n",
       "  <thead>\n",
       "    <tr style=\"text-align: right;\">\n",
       "      <th></th>\n",
       "      <th>track_id</th>\n",
       "      <th>name</th>\n",
       "      <th>artist</th>\n",
       "      <th>energy</th>\n",
       "    </tr>\n",
       "  </thead>\n",
       "  <tbody>\n",
       "    <tr>\n",
       "      <th>0</th>\n",
       "      <td>TRIOREW128F424EAF0</td>\n",
       "      <td>Mr. Brightside</td>\n",
       "      <td>The Killers</td>\n",
       "      <td>0.918</td>\n",
       "    </tr>\n",
       "    <tr>\n",
       "      <th>1</th>\n",
       "      <td>TRRIVDJ128F429B0E8</td>\n",
       "      <td>Wonderwall</td>\n",
       "      <td>Oasis</td>\n",
       "      <td>0.892</td>\n",
       "    </tr>\n",
       "    <tr>\n",
       "      <th>2</th>\n",
       "      <td>TROUVHL128F426C441</td>\n",
       "      <td>Come as You Are</td>\n",
       "      <td>Nirvana</td>\n",
       "      <td>0.826</td>\n",
       "    </tr>\n",
       "    <tr>\n",
       "      <th>3</th>\n",
       "      <td>TRUEIND128F93038C4</td>\n",
       "      <td>Take Me Out</td>\n",
       "      <td>Franz Ferdinand</td>\n",
       "      <td>0.664</td>\n",
       "    </tr>\n",
       "    <tr>\n",
       "      <th>4</th>\n",
       "      <td>TRLNZBD128F935E4D8</td>\n",
       "      <td>Creep</td>\n",
       "      <td>Radiohead</td>\n",
       "      <td>0.430</td>\n",
       "    </tr>\n",
       "  </tbody>\n",
       "</table>\n",
       "</div>"
      ],
      "text/plain": [
       "             track_id             name           artist  energy\n",
       "0  TRIOREW128F424EAF0   Mr. Brightside      The Killers   0.918\n",
       "1  TRRIVDJ128F429B0E8       Wonderwall            Oasis   0.892\n",
       "2  TROUVHL128F426C441  Come as You Are          Nirvana   0.826\n",
       "3  TRUEIND128F93038C4      Take Me Out  Franz Ferdinand   0.664\n",
       "4  TRLNZBD128F935E4D8            Creep        Radiohead   0.430"
      ]
     },
     "execution_count": 6,
     "metadata": {},
     "output_type": "execute_result"
    }
   ],
   "source": [
    "df_music_info = df_music[['track_id', 'name', 'artist', 'energy']]\n",
    "df_music_info.head()"
   ]
  },
  {
   "cell_type": "code",
   "execution_count": 7,
   "id": "b0fcb896",
   "metadata": {},
   "outputs": [
    {
     "name": "stdout",
     "output_type": "stream",
     "text": [
      "(50683, 5)\n"
     ]
    },
    {
     "data": {
      "text/html": [
       "<div>\n",
       "<style scoped>\n",
       "    .dataframe tbody tr th:only-of-type {\n",
       "        vertical-align: middle;\n",
       "    }\n",
       "\n",
       "    .dataframe tbody tr th {\n",
       "        vertical-align: top;\n",
       "    }\n",
       "\n",
       "    .dataframe thead th {\n",
       "        text-align: right;\n",
       "    }\n",
       "</style>\n",
       "<table border=\"1\" class=\"dataframe\">\n",
       "  <thead>\n",
       "    <tr style=\"text-align: right;\">\n",
       "      <th></th>\n",
       "      <th>track_id</th>\n",
       "      <th>name</th>\n",
       "      <th>artist</th>\n",
       "      <th>energy</th>\n",
       "      <th>playcount</th>\n",
       "    </tr>\n",
       "  </thead>\n",
       "  <tbody>\n",
       "    <tr>\n",
       "      <th>0</th>\n",
       "      <td>TRIOREW128F424EAF0</td>\n",
       "      <td>Mr. Brightside</td>\n",
       "      <td>The Killers</td>\n",
       "      <td>0.918</td>\n",
       "      <td>32.0</td>\n",
       "    </tr>\n",
       "    <tr>\n",
       "      <th>1</th>\n",
       "      <td>TRRIVDJ128F429B0E8</td>\n",
       "      <td>Wonderwall</td>\n",
       "      <td>Oasis</td>\n",
       "      <td>0.892</td>\n",
       "      <td>283.0</td>\n",
       "    </tr>\n",
       "    <tr>\n",
       "      <th>2</th>\n",
       "      <td>TROUVHL128F426C441</td>\n",
       "      <td>Come as You Are</td>\n",
       "      <td>Nirvana</td>\n",
       "      <td>0.826</td>\n",
       "      <td>0.0</td>\n",
       "    </tr>\n",
       "    <tr>\n",
       "      <th>3</th>\n",
       "      <td>TRUEIND128F93038C4</td>\n",
       "      <td>Take Me Out</td>\n",
       "      <td>Franz Ferdinand</td>\n",
       "      <td>0.664</td>\n",
       "      <td>17.0</td>\n",
       "    </tr>\n",
       "    <tr>\n",
       "      <th>4</th>\n",
       "      <td>TRLNZBD128F935E4D8</td>\n",
       "      <td>Creep</td>\n",
       "      <td>Radiohead</td>\n",
       "      <td>0.430</td>\n",
       "      <td>0.0</td>\n",
       "    </tr>\n",
       "  </tbody>\n",
       "</table>\n",
       "</div>"
      ],
      "text/plain": [
       "             track_id             name           artist  energy  playcount\n",
       "0  TRIOREW128F424EAF0   Mr. Brightside      The Killers   0.918       32.0\n",
       "1  TRRIVDJ128F429B0E8       Wonderwall            Oasis   0.892      283.0\n",
       "2  TROUVHL128F426C441  Come as You Are          Nirvana   0.826        0.0\n",
       "3  TRUEIND128F93038C4      Take Me Out  Franz Ferdinand   0.664       17.0\n",
       "4  TRLNZBD128F935E4D8            Creep        Radiohead   0.430        0.0"
      ]
     },
     "execution_count": 7,
     "metadata": {},
     "output_type": "execute_result"
    }
   ],
   "source": [
    "df_music_count = df_music_info.merge(\n",
    "    df_users.groupby('track_id').size().reset_index(name='playcount'),\n",
    "    on='track_id',\n",
    "    how='left'\n",
    ")\n",
    "df_music_count = df_music_count.fillna(0)\n",
    "print(df_music_count.shape)\n",
    "df_music_count.head()"
   ]
  },
  {
   "cell_type": "markdown",
   "id": "e5db63d8",
   "metadata": {},
   "source": [
    "## Interaction Matrix"
   ]
  },
  {
   "cell_type": "code",
   "execution_count": 8,
   "id": "73ade2f2",
   "metadata": {},
   "outputs": [],
   "source": [
    "df_users_agg = df_users.groupby('user_id')['playcount'].agg(\n",
    "    #total_playcount='sum',\n",
    "    max_playcount='max'\n",
    ").reset_index()\n",
    "df_users_agg = df_users_agg.rename(columns={'playcount': 'max_playcount'})"
   ]
  },
  {
   "cell_type": "code",
   "execution_count": 9,
   "id": "50476db3",
   "metadata": {},
   "outputs": [],
   "source": [
    "df_users_rating = df_users.merge(df_users_agg, on='user_id')"
   ]
  },
  {
   "cell_type": "markdown",
   "id": "233c380f",
   "metadata": {},
   "source": [
    "We create 2 interaction matrix\n",
    "- Binary version: 1 indicates a user has interacted with the song and 0 indicates he has not\n",
    "- Weighted version: Rating in range (0,1], calculated as (user playcount) / (playcount of user's most listened song). Gives more rating to those more listened by a user"
   ]
  },
  {
   "cell_type": "code",
   "execution_count": 10,
   "id": "1360e4be",
   "metadata": {},
   "outputs": [
    {
     "data": {
      "text/html": [
       "<div>\n",
       "<style scoped>\n",
       "    .dataframe tbody tr th:only-of-type {\n",
       "        vertical-align: middle;\n",
       "    }\n",
       "\n",
       "    .dataframe tbody tr th {\n",
       "        vertical-align: top;\n",
       "    }\n",
       "\n",
       "    .dataframe thead th {\n",
       "        text-align: right;\n",
       "    }\n",
       "</style>\n",
       "<table border=\"1\" class=\"dataframe\">\n",
       "  <thead>\n",
       "    <tr style=\"text-align: right;\">\n",
       "      <th></th>\n",
       "      <th>track_id</th>\n",
       "      <th>user_id</th>\n",
       "      <th>playcount</th>\n",
       "      <th>max_playcount</th>\n",
       "      <th>rating</th>\n",
       "    </tr>\n",
       "  </thead>\n",
       "  <tbody>\n",
       "    <tr>\n",
       "      <th>0</th>\n",
       "      <td>TRIRLYL128F42539D1</td>\n",
       "      <td>b80344d063b5ccb3212f76538f3d9e43d87dca9e</td>\n",
       "      <td>1</td>\n",
       "      <td>2</td>\n",
       "      <td>0.5</td>\n",
       "    </tr>\n",
       "    <tr>\n",
       "      <th>1</th>\n",
       "      <td>TRFUPBA128F934F7E1</td>\n",
       "      <td>b80344d063b5ccb3212f76538f3d9e43d87dca9e</td>\n",
       "      <td>1</td>\n",
       "      <td>2</td>\n",
       "      <td>0.5</td>\n",
       "    </tr>\n",
       "    <tr>\n",
       "      <th>2</th>\n",
       "      <td>TRLQPQJ128F42AA94F</td>\n",
       "      <td>b80344d063b5ccb3212f76538f3d9e43d87dca9e</td>\n",
       "      <td>1</td>\n",
       "      <td>2</td>\n",
       "      <td>0.5</td>\n",
       "    </tr>\n",
       "    <tr>\n",
       "      <th>3</th>\n",
       "      <td>TRTUCUY128F92E1D24</td>\n",
       "      <td>b80344d063b5ccb3212f76538f3d9e43d87dca9e</td>\n",
       "      <td>1</td>\n",
       "      <td>2</td>\n",
       "      <td>0.5</td>\n",
       "    </tr>\n",
       "    <tr>\n",
       "      <th>4</th>\n",
       "      <td>TRHDDQG12903CB53EE</td>\n",
       "      <td>b80344d063b5ccb3212f76538f3d9e43d87dca9e</td>\n",
       "      <td>1</td>\n",
       "      <td>2</td>\n",
       "      <td>0.5</td>\n",
       "    </tr>\n",
       "  </tbody>\n",
       "</table>\n",
       "</div>"
      ],
      "text/plain": [
       "             track_id                                   user_id  playcount  \\\n",
       "0  TRIRLYL128F42539D1  b80344d063b5ccb3212f76538f3d9e43d87dca9e          1   \n",
       "1  TRFUPBA128F934F7E1  b80344d063b5ccb3212f76538f3d9e43d87dca9e          1   \n",
       "2  TRLQPQJ128F42AA94F  b80344d063b5ccb3212f76538f3d9e43d87dca9e          1   \n",
       "3  TRTUCUY128F92E1D24  b80344d063b5ccb3212f76538f3d9e43d87dca9e          1   \n",
       "4  TRHDDQG12903CB53EE  b80344d063b5ccb3212f76538f3d9e43d87dca9e          1   \n",
       "\n",
       "   max_playcount  rating  \n",
       "0              2     0.5  \n",
       "1              2     0.5  \n",
       "2              2     0.5  \n",
       "3              2     0.5  \n",
       "4              2     0.5  "
      ]
     },
     "execution_count": 10,
     "metadata": {},
     "output_type": "execute_result"
    }
   ],
   "source": [
    "df_users_rating['rating'] = df_users_rating['playcount'] / df_users_rating['max_playcount']\n",
    "df_users_rating.head()"
   ]
  },
  {
   "cell_type": "markdown",
   "id": "a0cd030c",
   "metadata": {},
   "source": [
    "To create the interaction matrix, we can not reproduce the next line because it needs 218 GB of RAM to create the table"
   ]
  },
  {
   "cell_type": "code",
   "execution_count": 21,
   "id": "5209ae04",
   "metadata": {},
   "outputs": [],
   "source": [
    "#df_music_pivoted = df_users.pivot(index='user_id', columns='track_id', values='rating').fillna(0)"
   ]
  },
  {
   "cell_type": "markdown",
   "id": "10018c2e",
   "metadata": {},
   "source": [
    "Also, the data in the interaction matrix will be very sparse, due to users only listening to a small subset of the songs. Because of that, we will use a sparse matrix"
   ]
  },
  {
   "cell_type": "code",
   "execution_count": null,
   "id": "92523625",
   "metadata": {},
   "outputs": [],
   "source": [
    "from scipy.sparse import csc_matrix"
   ]
  },
  {
   "cell_type": "markdown",
   "id": "a92f8c72",
   "metadata": {},
   "source": [
    "We codify each user and song to a unique integer ID"
   ]
  },
  {
   "cell_type": "code",
   "execution_count": 13,
   "id": "034e30c7",
   "metadata": {},
   "outputs": [],
   "source": [
    "user_codes, user_uniques = pd.factorize(df_users['user_id'])\n",
    "track_codes, track_uniques = pd.factorize(df_users['track_id'])"
   ]
  },
  {
   "cell_type": "markdown",
   "id": "612b03b2",
   "metadata": {},
   "source": [
    "We create the interaction matrix as a sparse csc matrix. We use csc and not scr because in item-based collaborative filtering we will be accessing the data by columns, which csc is optimized for."
   ]
  },
  {
   "cell_type": "code",
   "execution_count": 14,
   "id": "74e0134b",
   "metadata": {},
   "outputs": [],
   "source": [
    "interaction_matrix_csc_binary = csc_matrix((np.ones(len(df_users)), (user_codes, track_codes)),shape=(len(user_uniques), len(track_uniques)))\n",
    "interaction_matrix_csc_weighted = csc_matrix((df_users_rating['rating'], (user_codes, track_codes)),shape=(len(user_uniques), len(track_uniques)))"
   ]
  },
  {
   "cell_type": "code",
   "execution_count": 15,
   "id": "1edab087",
   "metadata": {},
   "outputs": [
    {
     "data": {
      "text/plain": [
       "(464573, 30201)"
      ]
     },
     "execution_count": 15,
     "metadata": {},
     "output_type": "execute_result"
    }
   ],
   "source": [
    "interaction_matrix_csc_binary.shape"
   ]
  },
  {
   "cell_type": "code",
   "execution_count": 22,
   "id": "80ae1d37",
   "metadata": {},
   "outputs": [
    {
     "name": "stdout",
     "output_type": "stream",
     "text": [
      "Disk space occupied by csc interaction matrix: 95.47 MB\n"
     ]
    }
   ],
   "source": [
    "memory_usage_bytes = (\n",
    "    interaction_matrix_csc_weighted.data.nbytes +\n",
    "    interaction_matrix_csc_weighted.indptr.nbytes +\n",
    "    interaction_matrix_csc_weighted.indices.nbytes\n",
    ")\n",
    "memory_usage_mb = memory_usage_bytes / (1024 ** 2)\n",
    "print(f\"Disk space occupied by csc interaction matrix: {memory_usage_mb:.2f} MB\")"
   ]
  },
  {
   "cell_type": "markdown",
   "id": "17b1c3b8",
   "metadata": {},
   "source": [
    "The sparse matrix has a size of only 95.47 MB, while the normal matrix as a dataframe was 218 GB"
   ]
  },
  {
   "cell_type": "code",
   "execution_count": 19,
   "id": "79a68d60",
   "metadata": {},
   "outputs": [
    {
     "data": {
      "text/plain": [
       "matrix([[1., 1., 1., 1., 1., 1., 1., 1., 1., 1.],\n",
       "        [0., 0., 0., 0., 0., 0., 0., 0., 0., 0.],\n",
       "        [0., 0., 0., 0., 0., 0., 0., 0., 0., 0.],\n",
       "        [0., 0., 0., 0., 0., 0., 0., 0., 0., 0.],\n",
       "        [0., 0., 0., 0., 0., 0., 0., 0., 0., 0.],\n",
       "        [0., 0., 0., 0., 0., 0., 0., 0., 0., 0.],\n",
       "        [0., 0., 0., 0., 0., 0., 0., 0., 0., 0.],\n",
       "        [0., 0., 0., 0., 0., 0., 0., 0., 0., 0.],\n",
       "        [0., 0., 0., 0., 0., 0., 0., 0., 0., 0.],\n",
       "        [0., 0., 0., 0., 0., 0., 0., 0., 0., 0.]])"
      ]
     },
     "execution_count": 19,
     "metadata": {},
     "output_type": "execute_result"
    }
   ],
   "source": [
    "interaction_matrix_csc_binary[:10, :10].todense()"
   ]
  },
  {
   "cell_type": "code",
   "execution_count": 20,
   "id": "03eee505",
   "metadata": {},
   "outputs": [
    {
     "data": {
      "text/plain": [
       "matrix([[0.5, 0.5, 0.5, 0.5, 0.5, 0.5, 0.5, 0.5, 1. , 0.5],\n",
       "        [0. , 0. , 0. , 0. , 0. , 0. , 0. , 0. , 0. , 0. ],\n",
       "        [0. , 0. , 0. , 0. , 0. , 0. , 0. , 0. , 0. , 0. ],\n",
       "        [0. , 0. , 0. , 0. , 0. , 0. , 0. , 0. , 0. , 0. ],\n",
       "        [0. , 0. , 0. , 0. , 0. , 0. , 0. , 0. , 0. , 0. ],\n",
       "        [0. , 0. , 0. , 0. , 0. , 0. , 0. , 0. , 0. , 0. ],\n",
       "        [0. , 0. , 0. , 0. , 0. , 0. , 0. , 0. , 0. , 0. ],\n",
       "        [0. , 0. , 0. , 0. , 0. , 0. , 0. , 0. , 0. , 0. ],\n",
       "        [0. , 0. , 0. , 0. , 0. , 0. , 0. , 0. , 0. , 0. ],\n",
       "        [0. , 0. , 0. , 0. , 0. , 0. , 0. , 0. , 0. , 0. ]])"
      ]
     },
     "execution_count": 20,
     "metadata": {},
     "output_type": "execute_result"
    }
   ],
   "source": [
    "interaction_matrix_csc_weighted[:10, :10].todense()"
   ]
  },
  {
   "cell_type": "markdown",
   "id": "7a8e06e4",
   "metadata": {},
   "source": [
    "## Item based collaborative filtering model"
   ]
  },
  {
   "cell_type": "markdown",
   "id": "edc9a922",
   "metadata": {},
   "source": [
    "We use cosine similarity as a similarity metric. We can precalculate the similarities."
   ]
  },
  {
   "cell_type": "code",
   "execution_count": 21,
   "id": "6b9e3ca2",
   "metadata": {},
   "outputs": [],
   "source": [
    "from sklearn.metrics.pairwise import cosine_similarity\n",
    "from scipy.sparse import csc_matrix\n",
    "\n",
    "# Calculate item-based (track-based) cosine similarity\n",
    "# Transpose interaction_matrix_weighted to get items as rows\n",
    "item_based_similarity = cosine_similarity(interaction_matrix_csc_weighted.T, dense_output=False)\n",
    "item_based_similarity = csc_matrix(item_based_similarity)"
   ]
  },
  {
   "cell_type": "markdown",
   "id": "e57f5a2e",
   "metadata": {},
   "source": [
    "Only 7 seconds to compute"
   ]
  },
  {
   "cell_type": "code",
   "execution_count": 23,
   "id": "a33f5207",
   "metadata": {},
   "outputs": [
    {
     "name": "stdout",
     "output_type": "stream",
     "text": [
      "Disk space occupied by item_based_similarity matrix: 934.39 MB\n"
     ]
    }
   ],
   "source": [
    "memory_usage_bytes = (\n",
    "    item_based_similarity.data.nbytes +\n",
    "    item_based_similarity.indptr.nbytes +\n",
    "    item_based_similarity.indices.nbytes\n",
    ")\n",
    "memory_usage_mb = memory_usage_bytes / (1024 ** 2)\n",
    "print(f\"Disk space occupied by item_based_similarity matrix: {memory_usage_mb:.2f} MB\")"
   ]
  },
  {
   "cell_type": "code",
   "execution_count": 24,
   "id": "e5564635",
   "metadata": {},
   "outputs": [
    {
     "data": {
      "text/plain": [
       "(30201, 30201)"
      ]
     },
     "execution_count": 24,
     "metadata": {},
     "output_type": "execute_result"
    }
   ],
   "source": [
    "item_based_similarity.shape"
   ]
  },
  {
   "cell_type": "markdown",
   "id": "0c56f93b",
   "metadata": {},
   "source": [
    "The size of the matrix is ($num_{songs}$ x $num_{songs}$)"
   ]
  },
  {
   "cell_type": "code",
   "execution_count": 26,
   "id": "19bb5e47",
   "metadata": {},
   "outputs": [],
   "source": [
    "class ItemBasedRecommender:\n",
    "    def __init__(self, interaction_matrix, item_similarity, track_uniques, df_music_info):\n",
    "        self.interaction_matrix = interaction_matrix\n",
    "        self.item_similarity = item_similarity\n",
    "        self.track_uniques = track_uniques\n",
    "        self.df_music_info = df_music_info\n",
    "        self.user_index = None\n",
    "        self.recommendations = None \n",
    "\n",
    "    def make_recommendations(self, user_index, n=100):\n",
    "        self.user_index = user_index\n",
    "        user_ratings = self.interaction_matrix[self.user_index]\n",
    "        interacted = user_ratings.nonzero()[1]\n",
    "        similarities = self.item_similarity.dot(user_ratings.T).toarray().ravel()\n",
    "        similarities[interacted] = -np.inf\n",
    "        top_n_index = np.argpartition(similarities, -n)[-n:]\n",
    "        top_n_index = top_n_index[np.argsort(similarities[top_n_index])[::-1]]\n",
    "\n",
    "\n",
    "        track_ids = self.track_uniques[top_n_index].tolist()\n",
    "        df_filtered = self.df_music_info.set_index('track_id').loc[track_ids][['energy']].reset_index()\n",
    "        index_to_similarity = {idx: similarities[idx] for idx in top_n_index}\n",
    "\n",
    "        self.recommendations = [(track_id, energy, index_to_similarity[self.track_uniques.tolist().index(track_id)], False) for track_id, energy in df_filtered.itertuples(index=False, name=None)]\n",
    "\n",
    "    \n",
    "    def recommend_song(self, energy, energy_margin=0.05):\n",
    "        if self.recommendations is None:\n",
    "            raise ValueError(\"No recommendations available. Please call make_recommendations first.\")\n",
    "        \n",
    "        closest_track_index = None\n",
    "        distance_to_energy = float('inf')\n",
    "\n",
    "        for i, (track_id, track_energy, similarity, has_been_recommended) in enumerate(self.recommendations):\n",
    "            distance = abs(track_energy - energy)\n",
    "\n",
    "            if not has_been_recommended and distance <= energy_margin:\n",
    "                self.recommendations[i] = (track_id, track_energy, similarity, True)\n",
    "                return (track_id, track_energy)\n",
    "            \n",
    "            if not has_been_recommended and distance < distance_to_energy:\n",
    "                closest_track_index = i\n",
    "                distance_to_energy = distance\n",
    "        \n",
    "        if closest_track_index is not None:\n",
    "            track_id, track_energy, _, _= self.recommendations[closest_track_index]\n",
    "            self.recommendations[closest_track_index] = (track_id, track_energy, similarity, True)\n",
    "            return (track_id, track_energy)\n",
    "\n",
    "        raise ValueError(\"All recommendations have already been recommended\")\n",
    "\n",
    "\n",
    "    def get_recommendations(self):\n",
    "        if self.recommendations is None:\n",
    "            raise ValueError(\"No recommendations available. Please call make_recommendations first.\")\n",
    "        return self.recommendations\n",
    "\n",
    "\n",
    "    def get_recommendations_ids(self):\n",
    "        if self.recommendations is None:\n",
    "            raise ValueError(\"No recommendations available. Please call make_recommendations first.\")\n",
    "        return [track_id for track_id, _, _, _ in self.recommendations]\n",
    "    \n",
    "    def get_recommendations_info(self):\n",
    "        track_ids_ordered = [track_id for track_id, _, _, _ in self.recommendations]\n",
    "        df_ordered = self.df_music_info.set_index('track_id').loc[track_ids_ordered].reset_index()\n",
    "        return df_ordered"
   ]
  },
  {
   "cell_type": "markdown",
   "id": "8e4abda7",
   "metadata": {},
   "source": [
    "## Example"
   ]
  },
  {
   "cell_type": "code",
   "execution_count": 36,
   "id": "e2ae9b09",
   "metadata": {},
   "outputs": [],
   "source": [
    "user_index = 0 #User for wich recommendations will be made"
   ]
  },
  {
   "cell_type": "markdown",
   "id": "3fdccc13",
   "metadata": {},
   "source": [
    "Songs the user has listened to"
   ]
  },
  {
   "cell_type": "code",
   "execution_count": 37,
   "id": "4861bbf5",
   "metadata": {},
   "outputs": [
    {
     "data": {
      "text/html": [
       "<div>\n",
       "<style scoped>\n",
       "    .dataframe tbody tr th:only-of-type {\n",
       "        vertical-align: middle;\n",
       "    }\n",
       "\n",
       "    .dataframe tbody tr th {\n",
       "        vertical-align: top;\n",
       "    }\n",
       "\n",
       "    .dataframe thead th {\n",
       "        text-align: right;\n",
       "    }\n",
       "</style>\n",
       "<table border=\"1\" class=\"dataframe\">\n",
       "  <thead>\n",
       "    <tr style=\"text-align: right;\">\n",
       "      <th></th>\n",
       "      <th>track_id</th>\n",
       "      <th>name</th>\n",
       "      <th>artist</th>\n",
       "      <th>energy</th>\n",
       "    </tr>\n",
       "  </thead>\n",
       "  <tbody>\n",
       "    <tr>\n",
       "      <th>79</th>\n",
       "      <td>TRAAHSY128F147BB5C</td>\n",
       "      <td>Speed of Sound</td>\n",
       "      <td>Coldplay</td>\n",
       "      <td>0.8980</td>\n",
       "    </tr>\n",
       "    <tr>\n",
       "      <th>796</th>\n",
       "      <td>TRDLMWP128F426BF6C</td>\n",
       "      <td>Ragged Wood</td>\n",
       "      <td>Fleet Foxes</td>\n",
       "      <td>0.6850</td>\n",
       "    </tr>\n",
       "    <tr>\n",
       "      <th>1158</th>\n",
       "      <td>TRPUGUW128F426BF6F</td>\n",
       "      <td>He Doesn't Know Why</td>\n",
       "      <td>Fleet Foxes</td>\n",
       "      <td>0.5580</td>\n",
       "    </tr>\n",
       "    <tr>\n",
       "      <th>1743</th>\n",
       "      <td>TRRYCBO128F932A2C7</td>\n",
       "      <td>Love Shack</td>\n",
       "      <td>The B-52's</td>\n",
       "      <td>0.9020</td>\n",
       "    </tr>\n",
       "    <tr>\n",
       "      <th>2350</th>\n",
       "      <td>TRFUPBA128F934F7E1</td>\n",
       "      <td>Paper Gangsta</td>\n",
       "      <td>Lady Gaga</td>\n",
       "      <td>0.5300</td>\n",
       "    </tr>\n",
       "    <tr>\n",
       "      <th>2585</th>\n",
       "      <td>TRVODUZ128F934D094</td>\n",
       "      <td>All That We Perceive</td>\n",
       "      <td>Thievery Corporation</td>\n",
       "      <td>0.8340</td>\n",
       "    </tr>\n",
       "    <tr>\n",
       "      <th>2722</th>\n",
       "      <td>TRHDDQG12903CB53EE</td>\n",
       "      <td>Heaven's Gonna Burn Your Eyes</td>\n",
       "      <td>Thievery Corporation</td>\n",
       "      <td>0.3370</td>\n",
       "    </tr>\n",
       "    <tr>\n",
       "      <th>5416</th>\n",
       "      <td>TRTUCUY128F92E1D24</td>\n",
       "      <td>Stacked Actors</td>\n",
       "      <td>Foo Fighters</td>\n",
       "      <td>0.9340</td>\n",
       "    </tr>\n",
       "    <tr>\n",
       "      <th>5428</th>\n",
       "      <td>TRLXSNR128F429361D</td>\n",
       "      <td>Generator</td>\n",
       "      <td>Foo Fighters</td>\n",
       "      <td>0.9240</td>\n",
       "    </tr>\n",
       "    <tr>\n",
       "      <th>5819</th>\n",
       "      <td>TRADVZX128F426BF79</td>\n",
       "      <td>Sun Giant</td>\n",
       "      <td>Fleet Foxes</td>\n",
       "      <td>0.0626</td>\n",
       "    </tr>\n",
       "    <tr>\n",
       "      <th>8654</th>\n",
       "      <td>TRUTULC128F4293712</td>\n",
       "      <td>Gimme Stitches</td>\n",
       "      <td>Foo Fighters</td>\n",
       "      <td>0.9580</td>\n",
       "    </tr>\n",
       "    <tr>\n",
       "      <th>8745</th>\n",
       "      <td>TRDCZUX128F4263A74</td>\n",
       "      <td>City Love</td>\n",
       "      <td>John Mayer</td>\n",
       "      <td>0.5480</td>\n",
       "    </tr>\n",
       "    <tr>\n",
       "      <th>12359</th>\n",
       "      <td>TRQLOHS128F42435AE</td>\n",
       "      <td>Holes To Heaven</td>\n",
       "      <td>Jack Johnson</td>\n",
       "      <td>0.6310</td>\n",
       "    </tr>\n",
       "    <tr>\n",
       "      <th>14106</th>\n",
       "      <td>TRVVWSW128F4292931</td>\n",
       "      <td>Trani</td>\n",
       "      <td>Kings of Leon</td>\n",
       "      <td>0.4060</td>\n",
       "    </tr>\n",
       "    <tr>\n",
       "      <th>16778</th>\n",
       "      <td>TRMSZXT128F92F7816</td>\n",
       "      <td>Love Song For No One</td>\n",
       "      <td>John Mayer</td>\n",
       "      <td>0.7550</td>\n",
       "    </tr>\n",
       "    <tr>\n",
       "      <th>21910</th>\n",
       "      <td>TRAUCNU128F42671EB</td>\n",
       "      <td>Tu Quieres Volver</td>\n",
       "      <td>Sarah Brightman</td>\n",
       "      <td>0.3760</td>\n",
       "    </tr>\n",
       "    <tr>\n",
       "      <th>27758</th>\n",
       "      <td>TRIRLYL128F42539D1</td>\n",
       "      <td>Nothing From Nothing</td>\n",
       "      <td>Billy Preston</td>\n",
       "      <td>0.8340</td>\n",
       "    </tr>\n",
       "    <tr>\n",
       "      <th>38473</th>\n",
       "      <td>TRLQPQJ128F42AA94F</td>\n",
       "      <td>Soy</td>\n",
       "      <td>Gipsy Kings</td>\n",
       "      <td>0.5920</td>\n",
       "    </tr>\n",
       "    <tr>\n",
       "      <th>49246</th>\n",
       "      <td>TRGRDEC128F423C07D</td>\n",
       "      <td>Let It Be Sung</td>\n",
       "      <td>Jack Johnson</td>\n",
       "      <td>0.4690</td>\n",
       "    </tr>\n",
       "    <tr>\n",
       "      <th>49560</th>\n",
       "      <td>TRUYKTB128F1459197</td>\n",
       "      <td>Obiero</td>\n",
       "      <td>Ayub Ogada</td>\n",
       "      <td>0.0605</td>\n",
       "    </tr>\n",
       "  </tbody>\n",
       "</table>\n",
       "</div>"
      ],
      "text/plain": [
       "                 track_id                           name  \\\n",
       "79     TRAAHSY128F147BB5C                 Speed of Sound   \n",
       "796    TRDLMWP128F426BF6C                    Ragged Wood   \n",
       "1158   TRPUGUW128F426BF6F            He Doesn't Know Why   \n",
       "1743   TRRYCBO128F932A2C7                     Love Shack   \n",
       "2350   TRFUPBA128F934F7E1                  Paper Gangsta   \n",
       "2585   TRVODUZ128F934D094           All That We Perceive   \n",
       "2722   TRHDDQG12903CB53EE  Heaven's Gonna Burn Your Eyes   \n",
       "5416   TRTUCUY128F92E1D24                 Stacked Actors   \n",
       "5428   TRLXSNR128F429361D                      Generator   \n",
       "5819   TRADVZX128F426BF79                      Sun Giant   \n",
       "8654   TRUTULC128F4293712                 Gimme Stitches   \n",
       "8745   TRDCZUX128F4263A74                      City Love   \n",
       "12359  TRQLOHS128F42435AE                Holes To Heaven   \n",
       "14106  TRVVWSW128F4292931                          Trani   \n",
       "16778  TRMSZXT128F92F7816           Love Song For No One   \n",
       "21910  TRAUCNU128F42671EB              Tu Quieres Volver   \n",
       "27758  TRIRLYL128F42539D1           Nothing From Nothing   \n",
       "38473  TRLQPQJ128F42AA94F                            Soy   \n",
       "49246  TRGRDEC128F423C07D                 Let It Be Sung   \n",
       "49560  TRUYKTB128F1459197                         Obiero   \n",
       "\n",
       "                     artist  energy  \n",
       "79                 Coldplay  0.8980  \n",
       "796             Fleet Foxes  0.6850  \n",
       "1158            Fleet Foxes  0.5580  \n",
       "1743             The B-52's  0.9020  \n",
       "2350              Lady Gaga  0.5300  \n",
       "2585   Thievery Corporation  0.8340  \n",
       "2722   Thievery Corporation  0.3370  \n",
       "5416           Foo Fighters  0.9340  \n",
       "5428           Foo Fighters  0.9240  \n",
       "5819            Fleet Foxes  0.0626  \n",
       "8654           Foo Fighters  0.9580  \n",
       "8745             John Mayer  0.5480  \n",
       "12359          Jack Johnson  0.6310  \n",
       "14106         Kings of Leon  0.4060  \n",
       "16778            John Mayer  0.7550  \n",
       "21910       Sarah Brightman  0.3760  \n",
       "27758         Billy Preston  0.8340  \n",
       "38473           Gipsy Kings  0.5920  \n",
       "49246          Jack Johnson  0.4690  \n",
       "49560            Ayub Ogada  0.0605  "
      ]
     },
     "execution_count": 37,
     "metadata": {},
     "output_type": "execute_result"
    }
   ],
   "source": [
    "user_listened_songs = df_users[df_users['user_id'] == user_uniques[user_index]].track_id\n",
    "df_music_info[df_music_info['track_id'].isin(user_listened_songs)]"
   ]
  },
  {
   "cell_type": "code",
   "execution_count": 38,
   "id": "390306c8",
   "metadata": {},
   "outputs": [
    {
     "data": {
      "text/html": [
       "<div>\n",
       "<style scoped>\n",
       "    .dataframe tbody tr th:only-of-type {\n",
       "        vertical-align: middle;\n",
       "    }\n",
       "\n",
       "    .dataframe tbody tr th {\n",
       "        vertical-align: top;\n",
       "    }\n",
       "\n",
       "    .dataframe thead th {\n",
       "        text-align: right;\n",
       "    }\n",
       "</style>\n",
       "<table border=\"1\" class=\"dataframe\">\n",
       "  <thead>\n",
       "    <tr style=\"text-align: right;\">\n",
       "      <th></th>\n",
       "      <th>track_id</th>\n",
       "      <th>name</th>\n",
       "      <th>artist</th>\n",
       "      <th>energy</th>\n",
       "    </tr>\n",
       "  </thead>\n",
       "  <tbody>\n",
       "    <tr>\n",
       "      <th>0</th>\n",
       "      <td>TRDJRES128F933B4BA</td>\n",
       "      <td>Quiet Houses</td>\n",
       "      <td>Fleet Foxes</td>\n",
       "      <td>0.6680</td>\n",
       "    </tr>\n",
       "    <tr>\n",
       "      <th>1</th>\n",
       "      <td>TRKOHVA128F426BF70</td>\n",
       "      <td>Heard Them Stirring</td>\n",
       "      <td>Fleet Foxes</td>\n",
       "      <td>0.4700</td>\n",
       "    </tr>\n",
       "    <tr>\n",
       "      <th>2</th>\n",
       "      <td>TRQEMRN128F933B4B2</td>\n",
       "      <td>Sun It Rises</td>\n",
       "      <td>Fleet Foxes</td>\n",
       "      <td>0.2750</td>\n",
       "    </tr>\n",
       "    <tr>\n",
       "      <th>3</th>\n",
       "      <td>TRKABMK128F426BF72</td>\n",
       "      <td>Meadowlarks</td>\n",
       "      <td>Fleet Foxes</td>\n",
       "      <td>0.1660</td>\n",
       "    </tr>\n",
       "    <tr>\n",
       "      <th>4</th>\n",
       "      <td>TRGEIDA128F933B4B8</td>\n",
       "      <td>Tiger Mountain Peasant Song</td>\n",
       "      <td>Fleet Foxes</td>\n",
       "      <td>0.1460</td>\n",
       "    </tr>\n",
       "    <tr>\n",
       "      <th>5</th>\n",
       "      <td>TRVRIBZ128F426BF71</td>\n",
       "      <td>Your Protector</td>\n",
       "      <td>Fleet Foxes</td>\n",
       "      <td>0.5370</td>\n",
       "    </tr>\n",
       "    <tr>\n",
       "      <th>6</th>\n",
       "      <td>TRLXFKL128F426BF75</td>\n",
       "      <td>Oliver James</td>\n",
       "      <td>Fleet Foxes</td>\n",
       "      <td>0.0635</td>\n",
       "    </tr>\n",
       "    <tr>\n",
       "      <th>7</th>\n",
       "      <td>TRUJOHU128F424E6A6</td>\n",
       "      <td>White Winter Hymnal</td>\n",
       "      <td>Fleet Foxes</td>\n",
       "      <td>0.4970</td>\n",
       "    </tr>\n",
       "    <tr>\n",
       "      <th>8</th>\n",
       "      <td>TRSBMHN128F426BF7E</td>\n",
       "      <td>Innocent Son</td>\n",
       "      <td>Fleet Foxes</td>\n",
       "      <td>0.0201</td>\n",
       "    </tr>\n",
       "    <tr>\n",
       "      <th>9</th>\n",
       "      <td>TRVCFUI128F92E1D42</td>\n",
       "      <td>Live-In Skin</td>\n",
       "      <td>Foo Fighters</td>\n",
       "      <td>0.9670</td>\n",
       "    </tr>\n",
       "    <tr>\n",
       "      <th>10</th>\n",
       "      <td>TRGYEZE128F92F52B2</td>\n",
       "      <td>Great Indoors</td>\n",
       "      <td>John Mayer</td>\n",
       "      <td>0.6170</td>\n",
       "    </tr>\n",
       "    <tr>\n",
       "      <th>11</th>\n",
       "      <td>TRAEWVG128F428AC7F</td>\n",
       "      <td>X-Static</td>\n",
       "      <td>Foo Fighters</td>\n",
       "      <td>0.8680</td>\n",
       "    </tr>\n",
       "    <tr>\n",
       "      <th>12</th>\n",
       "      <td>TRXWFSA128F933E284</td>\n",
       "      <td>Meu Destino</td>\n",
       "      <td>Thievery Corporation</td>\n",
       "      <td>0.5730</td>\n",
       "    </tr>\n",
       "    <tr>\n",
       "      <th>13</th>\n",
       "      <td>TRWMJVC128F934D0A5</td>\n",
       "      <td>Liberation Front</td>\n",
       "      <td>Thievery Corporation</td>\n",
       "      <td>0.9750</td>\n",
       "    </tr>\n",
       "    <tr>\n",
       "      <th>14</th>\n",
       "      <td>TRKYRGV128F428941E</td>\n",
       "      <td>Weenie Beenie</td>\n",
       "      <td>Foo Fighters</td>\n",
       "      <td>0.9930</td>\n",
       "    </tr>\n",
       "    <tr>\n",
       "      <th>15</th>\n",
       "      <td>TRBIVWU128F92CA9D2</td>\n",
       "      <td>Skin and Bones</td>\n",
       "      <td>Foo Fighters</td>\n",
       "      <td>0.3960</td>\n",
       "    </tr>\n",
       "    <tr>\n",
       "      <th>16</th>\n",
       "      <td>TRJDTBE128F4289421</td>\n",
       "      <td>For All the Cows</td>\n",
       "      <td>Foo Fighters</td>\n",
       "      <td>0.5420</td>\n",
       "    </tr>\n",
       "    <tr>\n",
       "      <th>17</th>\n",
       "      <td>TRBMCNX128F428AC7E</td>\n",
       "      <td>Floaty</td>\n",
       "      <td>Foo Fighters</td>\n",
       "      <td>0.9410</td>\n",
       "    </tr>\n",
       "    <tr>\n",
       "      <th>18</th>\n",
       "      <td>TRDBQXT128F4289423</td>\n",
       "      <td>Wattershed</td>\n",
       "      <td>Foo Fighters</td>\n",
       "      <td>0.9670</td>\n",
       "    </tr>\n",
       "    <tr>\n",
       "      <th>19</th>\n",
       "      <td>TRORBHC128F42AD0F4</td>\n",
       "      <td>No Way Back</td>\n",
       "      <td>Foo Fighters</td>\n",
       "      <td>0.9570</td>\n",
       "    </tr>\n",
       "  </tbody>\n",
       "</table>\n",
       "</div>"
      ],
      "text/plain": [
       "              track_id                         name                artist  \\\n",
       "0   TRDJRES128F933B4BA                 Quiet Houses           Fleet Foxes   \n",
       "1   TRKOHVA128F426BF70          Heard Them Stirring           Fleet Foxes   \n",
       "2   TRQEMRN128F933B4B2                 Sun It Rises           Fleet Foxes   \n",
       "3   TRKABMK128F426BF72                  Meadowlarks           Fleet Foxes   \n",
       "4   TRGEIDA128F933B4B8  Tiger Mountain Peasant Song           Fleet Foxes   \n",
       "5   TRVRIBZ128F426BF71               Your Protector           Fleet Foxes   \n",
       "6   TRLXFKL128F426BF75                 Oliver James           Fleet Foxes   \n",
       "7   TRUJOHU128F424E6A6          White Winter Hymnal           Fleet Foxes   \n",
       "8   TRSBMHN128F426BF7E                 Innocent Son           Fleet Foxes   \n",
       "9   TRVCFUI128F92E1D42                 Live-In Skin          Foo Fighters   \n",
       "10  TRGYEZE128F92F52B2                Great Indoors            John Mayer   \n",
       "11  TRAEWVG128F428AC7F                     X-Static          Foo Fighters   \n",
       "12  TRXWFSA128F933E284                  Meu Destino  Thievery Corporation   \n",
       "13  TRWMJVC128F934D0A5             Liberation Front  Thievery Corporation   \n",
       "14  TRKYRGV128F428941E                Weenie Beenie          Foo Fighters   \n",
       "15  TRBIVWU128F92CA9D2               Skin and Bones          Foo Fighters   \n",
       "16  TRJDTBE128F4289421             For All the Cows          Foo Fighters   \n",
       "17  TRBMCNX128F428AC7E                       Floaty          Foo Fighters   \n",
       "18  TRDBQXT128F4289423                   Wattershed          Foo Fighters   \n",
       "19  TRORBHC128F42AD0F4                  No Way Back          Foo Fighters   \n",
       "\n",
       "    energy  \n",
       "0   0.6680  \n",
       "1   0.4700  \n",
       "2   0.2750  \n",
       "3   0.1660  \n",
       "4   0.1460  \n",
       "5   0.5370  \n",
       "6   0.0635  \n",
       "7   0.4970  \n",
       "8   0.0201  \n",
       "9   0.9670  \n",
       "10  0.6170  \n",
       "11  0.8680  \n",
       "12  0.5730  \n",
       "13  0.9750  \n",
       "14  0.9930  \n",
       "15  0.3960  \n",
       "16  0.5420  \n",
       "17  0.9410  \n",
       "18  0.9670  \n",
       "19  0.9570  "
      ]
     },
     "execution_count": 38,
     "metadata": {},
     "output_type": "execute_result"
    }
   ],
   "source": [
    "item_based_recommender = ItemBasedRecommender(interaction_matrix_csc_binary, item_based_similarity, track_uniques, df_music_info)\n",
    "item_based_recommender.make_recommendations(user_index, n=20)\n",
    "item_based_recommender.get_recommendations_info().head(50)"
   ]
  },
  {
   "cell_type": "code",
   "execution_count": 39,
   "id": "26448c97",
   "metadata": {},
   "outputs": [
    {
     "data": {
      "text/html": [
       "<div>\n",
       "<style scoped>\n",
       "    .dataframe tbody tr th:only-of-type {\n",
       "        vertical-align: middle;\n",
       "    }\n",
       "\n",
       "    .dataframe tbody tr th {\n",
       "        vertical-align: top;\n",
       "    }\n",
       "\n",
       "    .dataframe thead th {\n",
       "        text-align: right;\n",
       "    }\n",
       "</style>\n",
       "<table border=\"1\" class=\"dataframe\">\n",
       "  <thead>\n",
       "    <tr style=\"text-align: right;\">\n",
       "      <th></th>\n",
       "      <th>track_id</th>\n",
       "      <th>name</th>\n",
       "      <th>artist</th>\n",
       "      <th>energy</th>\n",
       "    </tr>\n",
       "  </thead>\n",
       "  <tbody>\n",
       "    <tr>\n",
       "      <th>8610</th>\n",
       "      <td>TRBIVWU128F92CA9D2</td>\n",
       "      <td>Skin and Bones</td>\n",
       "      <td>Foo Fighters</td>\n",
       "      <td>0.396</td>\n",
       "    </tr>\n",
       "  </tbody>\n",
       "</table>\n",
       "</div>"
      ],
      "text/plain": [
       "                track_id            name        artist  energy\n",
       "8610  TRBIVWU128F92CA9D2  Skin and Bones  Foo Fighters   0.396"
      ]
     },
     "execution_count": 39,
     "metadata": {},
     "output_type": "execute_result"
    }
   ],
   "source": [
    "recommended_song = item_based_recommender.recommend_song(0.4)\n",
    "df_music_info[df_music_info['track_id'] == recommended_song[0]]"
   ]
  },
  {
   "cell_type": "code",
   "execution_count": 40,
   "id": "661d87e9",
   "metadata": {},
   "outputs": [
    {
     "data": {
      "text/html": [
       "<div>\n",
       "<style scoped>\n",
       "    .dataframe tbody tr th:only-of-type {\n",
       "        vertical-align: middle;\n",
       "    }\n",
       "\n",
       "    .dataframe tbody tr th {\n",
       "        vertical-align: top;\n",
       "    }\n",
       "\n",
       "    .dataframe thead th {\n",
       "        text-align: right;\n",
       "    }\n",
       "</style>\n",
       "<table border=\"1\" class=\"dataframe\">\n",
       "  <thead>\n",
       "    <tr style=\"text-align: right;\">\n",
       "      <th></th>\n",
       "      <th>track_id</th>\n",
       "      <th>name</th>\n",
       "      <th>artist</th>\n",
       "      <th>energy</th>\n",
       "    </tr>\n",
       "  </thead>\n",
       "  <tbody>\n",
       "    <tr>\n",
       "      <th>1272</th>\n",
       "      <td>TRKOHVA128F426BF70</td>\n",
       "      <td>Heard Them Stirring</td>\n",
       "      <td>Fleet Foxes</td>\n",
       "      <td>0.47</td>\n",
       "    </tr>\n",
       "  </tbody>\n",
       "</table>\n",
       "</div>"
      ],
      "text/plain": [
       "                track_id                 name       artist  energy\n",
       "1272  TRKOHVA128F426BF70  Heard Them Stirring  Fleet Foxes    0.47"
      ]
     },
     "execution_count": 40,
     "metadata": {},
     "output_type": "execute_result"
    }
   ],
   "source": [
    "recommended_song = item_based_recommender.recommend_song(0.4)\n",
    "df_music_info[df_music_info['track_id'] == recommended_song[0]]"
   ]
  },
  {
   "cell_type": "code",
   "execution_count": 41,
   "id": "c76edbca",
   "metadata": {},
   "outputs": [
    {
     "data": {
      "text/html": [
       "<div>\n",
       "<style scoped>\n",
       "    .dataframe tbody tr th:only-of-type {\n",
       "        vertical-align: middle;\n",
       "    }\n",
       "\n",
       "    .dataframe tbody tr th {\n",
       "        vertical-align: top;\n",
       "    }\n",
       "\n",
       "    .dataframe thead th {\n",
       "        text-align: right;\n",
       "    }\n",
       "</style>\n",
       "<table border=\"1\" class=\"dataframe\">\n",
       "  <thead>\n",
       "    <tr style=\"text-align: right;\">\n",
       "      <th></th>\n",
       "      <th>track_id</th>\n",
       "      <th>name</th>\n",
       "      <th>artist</th>\n",
       "      <th>energy</th>\n",
       "    </tr>\n",
       "  </thead>\n",
       "  <tbody>\n",
       "    <tr>\n",
       "      <th>5152</th>\n",
       "      <td>TRUJOHU128F424E6A6</td>\n",
       "      <td>White Winter Hymnal</td>\n",
       "      <td>Fleet Foxes</td>\n",
       "      <td>0.497</td>\n",
       "    </tr>\n",
       "  </tbody>\n",
       "</table>\n",
       "</div>"
      ],
      "text/plain": [
       "                track_id                 name       artist  energy\n",
       "5152  TRUJOHU128F424E6A6  White Winter Hymnal  Fleet Foxes   0.497"
      ]
     },
     "execution_count": 41,
     "metadata": {},
     "output_type": "execute_result"
    }
   ],
   "source": [
    "recommended_song = item_based_recommender.recommend_song(0.4)\n",
    "df_music_info[df_music_info['track_id'] == recommended_song[0]]"
   ]
  },
  {
   "cell_type": "markdown",
   "id": "dfa6d0e9",
   "metadata": {},
   "source": [
    "## Experiments"
   ]
  },
  {
   "cell_type": "markdown",
   "id": "03b81673",
   "metadata": {},
   "source": [
    "#### Weighted vs binary matrix"
   ]
  },
  {
   "cell_type": "markdown",
   "id": "5b650992",
   "metadata": {},
   "source": [
    "We will compare the results with weighted and binary ratings"
   ]
  },
  {
   "cell_type": "code",
   "execution_count": 42,
   "id": "343dd64d",
   "metadata": {},
   "outputs": [
    {
     "name": "stdout",
     "output_type": "stream",
     "text": [
      "First different recommendation for each user: (-1 = every recommendation is the same)\n",
      "[0, 0, 0, 0, 2, 8, -1, 0, 3, 11, 0, 0, 0, 0, 0, 1, 2, 2, 3, 8]\n"
     ]
    }
   ],
   "source": [
    "def compare_lists(list1, list2):\n",
    "    min_len = min(len(list1), len(list2))\n",
    "\n",
    "    for i in range(len(list1)):\n",
    "        if list1[i] != list2[i]:\n",
    "            print(f\"They defer in position {i}\")\n",
    "            break\n",
    "    else:\n",
    "        print(\"They are the same for all positions up to the minimum length.\")\n",
    "\n",
    "\n",
    "#Random subset of users\n",
    "random_generator = np.random.default_rng(seed=RANDOM_STATE)\n",
    "random_users = random_generator.choice(np.arange(len(user_uniques)), size=20, replace=False)\n",
    "\n",
    "first_different_recommendation = []\n",
    "\n",
    "for rand_user in random_users:\n",
    "    item_based_recommender = ItemBasedRecommender(interaction_matrix_csc_weighted, item_based_similarity, track_uniques, df_music_info)\n",
    "    item_based_recommender.make_recommendations(rand_user, n=200)\n",
    "    weighted_recommendations = item_based_recommender.get_recommendations_ids()\n",
    "\n",
    "    item_based_recommender = ItemBasedRecommender(interaction_matrix_csc_binary, item_based_similarity, track_uniques, df_music_info)\n",
    "    item_based_recommender.make_recommendations(rand_user, n=200)\n",
    "    binary_recommendations = item_based_recommender.get_recommendations_ids()\n",
    "\n",
    "    for i in range(len(weighted_recommendations)):\n",
    "        if weighted_recommendations[i] != binary_recommendations[i]:\n",
    "            first_different_recommendation.append(i)\n",
    "            break\n",
    "    else:\n",
    "        first_different_recommendation.append(-1)\n",
    "\n",
    "print(\"First different recommendation for each user: (-1 = every recommendation is the same)\")\n",
    "print(first_different_recommendation)"
   ]
  },
  {
   "cell_type": "markdown",
   "id": "bfac0099",
   "metadata": {},
   "source": [
    "We can see that recommendations defer in most of the cases. We will analyse a case where the recommendations are not the same"
   ]
  },
  {
   "cell_type": "code",
   "execution_count": 43,
   "id": "ea3ef6a3",
   "metadata": {},
   "outputs": [],
   "source": [
    "analized_user = random_users[0]"
   ]
  },
  {
   "cell_type": "code",
   "execution_count": 44,
   "id": "55c17e60",
   "metadata": {},
   "outputs": [],
   "source": [
    "item_based_recommender = ItemBasedRecommender(interaction_matrix_csc_weighted, item_based_similarity, track_uniques, df_music_info)\n",
    "item_based_recommender.make_recommendations(analized_user, n=200)\n",
    "weighted_recommendations = item_based_recommender.get_recommendations_info()\n",
    "\n",
    "item_based_recommender = ItemBasedRecommender(interaction_matrix_csc_binary, item_based_similarity, track_uniques, df_music_info)\n",
    "item_based_recommender.make_recommendations(analized_user, n=200)\n",
    "binary_recommendations = item_based_recommender.get_recommendations_info()"
   ]
  },
  {
   "cell_type": "code",
   "execution_count": 45,
   "id": "f0349133",
   "metadata": {},
   "outputs": [
    {
     "data": {
      "text/html": [
       "<div>\n",
       "<style scoped>\n",
       "    .dataframe tbody tr th:only-of-type {\n",
       "        vertical-align: middle;\n",
       "    }\n",
       "\n",
       "    .dataframe tbody tr th {\n",
       "        vertical-align: top;\n",
       "    }\n",
       "\n",
       "    .dataframe thead th {\n",
       "        text-align: right;\n",
       "    }\n",
       "</style>\n",
       "<table border=\"1\" class=\"dataframe\">\n",
       "  <thead>\n",
       "    <tr style=\"text-align: right;\">\n",
       "      <th></th>\n",
       "      <th>track_id</th>\n",
       "      <th>name</th>\n",
       "      <th>artist</th>\n",
       "      <th>energy</th>\n",
       "    </tr>\n",
       "  </thead>\n",
       "  <tbody>\n",
       "    <tr>\n",
       "      <th>0</th>\n",
       "      <td>TRDGUPO128F9332CF6</td>\n",
       "      <td>Down To Earth</td>\n",
       "      <td>Bungle</td>\n",
       "      <td>0.904</td>\n",
       "    </tr>\n",
       "    <tr>\n",
       "      <th>1</th>\n",
       "      <td>TRVSJOM12903CD2DC1</td>\n",
       "      <td>One Less Lonely Girl</td>\n",
       "      <td>Justin Bieber</td>\n",
       "      <td>0.750</td>\n",
       "    </tr>\n",
       "    <tr>\n",
       "      <th>2</th>\n",
       "      <td>TRYEGSH12903CD2DCE</td>\n",
       "      <td>Overboard</td>\n",
       "      <td>Justin Bieber</td>\n",
       "      <td>0.790</td>\n",
       "    </tr>\n",
       "    <tr>\n",
       "      <th>3</th>\n",
       "      <td>TRZEDRT12903CD2DCC</td>\n",
       "      <td>Runaway Love</td>\n",
       "      <td>Justin Bieber</td>\n",
       "      <td>0.633</td>\n",
       "    </tr>\n",
       "    <tr>\n",
       "      <th>4</th>\n",
       "      <td>TRCKWGF12903CD2DCD</td>\n",
       "      <td>Never Let You Go</td>\n",
       "      <td>Third Eye Blind</td>\n",
       "      <td>0.940</td>\n",
       "    </tr>\n",
       "    <tr>\n",
       "      <th>5</th>\n",
       "      <td>TRTKLFX12903CD2DC2</td>\n",
       "      <td>First Dance</td>\n",
       "      <td>Justin Bieber</td>\n",
       "      <td>0.520</td>\n",
       "    </tr>\n",
       "    <tr>\n",
       "      <th>6</th>\n",
       "      <td>TRZYAGJ128F9332CEF</td>\n",
       "      <td>Favorite Girl</td>\n",
       "      <td>Justin Bieber</td>\n",
       "      <td>0.681</td>\n",
       "    </tr>\n",
       "    <tr>\n",
       "      <th>7</th>\n",
       "      <td>TRLVQME128F931BAF3</td>\n",
       "      <td>Vanilla Twilight</td>\n",
       "      <td>Owl City</td>\n",
       "      <td>0.523</td>\n",
       "    </tr>\n",
       "    <tr>\n",
       "      <th>8</th>\n",
       "      <td>TRIQIAF128E0788692</td>\n",
       "      <td>Try a Little Tenderness</td>\n",
       "      <td>Michael Bublé</td>\n",
       "      <td>0.245</td>\n",
       "    </tr>\n",
       "    <tr>\n",
       "      <th>9</th>\n",
       "      <td>TRCPXID128F92D5D3C</td>\n",
       "      <td>Halo</td>\n",
       "      <td>Depeche Mode</td>\n",
       "      <td>0.508</td>\n",
       "    </tr>\n",
       "    <tr>\n",
       "      <th>10</th>\n",
       "      <td>TRUFTBY128F93450B8</td>\n",
       "      <td>Alejandro</td>\n",
       "      <td>Lady Gaga</td>\n",
       "      <td>0.800</td>\n",
       "    </tr>\n",
       "    <tr>\n",
       "      <th>11</th>\n",
       "      <td>TRLNFKN128F931BAF2</td>\n",
       "      <td>The Tip Of The Iceberg</td>\n",
       "      <td>Owl City</td>\n",
       "      <td>0.772</td>\n",
       "    </tr>\n",
       "    <tr>\n",
       "      <th>12</th>\n",
       "      <td>TRSUSWW128F93463BF</td>\n",
       "      <td>Imma Be</td>\n",
       "      <td>Black Eyed Peas</td>\n",
       "      <td>0.539</td>\n",
       "    </tr>\n",
       "    <tr>\n",
       "      <th>13</th>\n",
       "      <td>TROMKCG128F9320C09</td>\n",
       "      <td>Uprising</td>\n",
       "      <td>Sabaton</td>\n",
       "      <td>0.866</td>\n",
       "    </tr>\n",
       "    <tr>\n",
       "      <th>14</th>\n",
       "      <td>TRJZRTR128F9314B42</td>\n",
       "      <td>Perfectly Lonely</td>\n",
       "      <td>John Mayer</td>\n",
       "      <td>0.530</td>\n",
       "    </tr>\n",
       "    <tr>\n",
       "      <th>15</th>\n",
       "      <td>TRWAQOC12903CB84CA</td>\n",
       "      <td>Sexy Bitch</td>\n",
       "      <td>David Guetta</td>\n",
       "      <td>0.595</td>\n",
       "    </tr>\n",
       "    <tr>\n",
       "      <th>16</th>\n",
       "      <td>TRPGPDK12903CCC651</td>\n",
       "      <td>Bring Me To Life</td>\n",
       "      <td>Katherine Jenkins</td>\n",
       "      <td>0.563</td>\n",
       "    </tr>\n",
       "    <tr>\n",
       "      <th>17</th>\n",
       "      <td>TRNFVQI128F931BAEA</td>\n",
       "      <td>The Saltwater Room</td>\n",
       "      <td>Owl City</td>\n",
       "      <td>0.686</td>\n",
       "    </tr>\n",
       "    <tr>\n",
       "      <th>18</th>\n",
       "      <td>TRBNYBX128F422EC61</td>\n",
       "      <td>Hey There Delilah</td>\n",
       "      <td>Plain White T's</td>\n",
       "      <td>0.261</td>\n",
       "    </tr>\n",
       "    <tr>\n",
       "      <th>19</th>\n",
       "      <td>TRGCHLH12903CB7352</td>\n",
       "      <td>Party In The U.S.A.</td>\n",
       "      <td>The Barden Bellas</td>\n",
       "      <td>0.360</td>\n",
       "    </tr>\n",
       "  </tbody>\n",
       "</table>\n",
       "</div>"
      ],
      "text/plain": [
       "              track_id                     name             artist  energy\n",
       "0   TRDGUPO128F9332CF6            Down To Earth             Bungle   0.904\n",
       "1   TRVSJOM12903CD2DC1     One Less Lonely Girl      Justin Bieber   0.750\n",
       "2   TRYEGSH12903CD2DCE                Overboard      Justin Bieber   0.790\n",
       "3   TRZEDRT12903CD2DCC             Runaway Love      Justin Bieber   0.633\n",
       "4   TRCKWGF12903CD2DCD         Never Let You Go    Third Eye Blind   0.940\n",
       "5   TRTKLFX12903CD2DC2              First Dance      Justin Bieber   0.520\n",
       "6   TRZYAGJ128F9332CEF            Favorite Girl      Justin Bieber   0.681\n",
       "7   TRLVQME128F931BAF3         Vanilla Twilight           Owl City   0.523\n",
       "8   TRIQIAF128E0788692  Try a Little Tenderness      Michael Bublé   0.245\n",
       "9   TRCPXID128F92D5D3C                     Halo       Depeche Mode   0.508\n",
       "10  TRUFTBY128F93450B8                Alejandro          Lady Gaga   0.800\n",
       "11  TRLNFKN128F931BAF2   The Tip Of The Iceberg           Owl City   0.772\n",
       "12  TRSUSWW128F93463BF                  Imma Be    Black Eyed Peas   0.539\n",
       "13  TROMKCG128F9320C09                 Uprising            Sabaton   0.866\n",
       "14  TRJZRTR128F9314B42         Perfectly Lonely         John Mayer   0.530\n",
       "15  TRWAQOC12903CB84CA               Sexy Bitch       David Guetta   0.595\n",
       "16  TRPGPDK12903CCC651         Bring Me To Life  Katherine Jenkins   0.563\n",
       "17  TRNFVQI128F931BAEA       The Saltwater Room           Owl City   0.686\n",
       "18  TRBNYBX128F422EC61        Hey There Delilah    Plain White T's   0.261\n",
       "19  TRGCHLH12903CB7352      Party In The U.S.A.  The Barden Bellas   0.360"
      ]
     },
     "execution_count": 45,
     "metadata": {},
     "output_type": "execute_result"
    }
   ],
   "source": [
    "weighted_recommendations.head(20)"
   ]
  },
  {
   "cell_type": "code",
   "execution_count": 46,
   "id": "7b6d2756",
   "metadata": {},
   "outputs": [
    {
     "data": {
      "text/html": [
       "<div>\n",
       "<style scoped>\n",
       "    .dataframe tbody tr th:only-of-type {\n",
       "        vertical-align: middle;\n",
       "    }\n",
       "\n",
       "    .dataframe tbody tr th {\n",
       "        vertical-align: top;\n",
       "    }\n",
       "\n",
       "    .dataframe thead th {\n",
       "        text-align: right;\n",
       "    }\n",
       "</style>\n",
       "<table border=\"1\" class=\"dataframe\">\n",
       "  <thead>\n",
       "    <tr style=\"text-align: right;\">\n",
       "      <th></th>\n",
       "      <th>track_id</th>\n",
       "      <th>name</th>\n",
       "      <th>artist</th>\n",
       "      <th>energy</th>\n",
       "    </tr>\n",
       "  </thead>\n",
       "  <tbody>\n",
       "    <tr>\n",
       "      <th>0</th>\n",
       "      <td>TRVSJOM12903CD2DC1</td>\n",
       "      <td>One Less Lonely Girl</td>\n",
       "      <td>Justin Bieber</td>\n",
       "      <td>0.750</td>\n",
       "    </tr>\n",
       "    <tr>\n",
       "      <th>1</th>\n",
       "      <td>TRDGUPO128F9332CF6</td>\n",
       "      <td>Down To Earth</td>\n",
       "      <td>Bungle</td>\n",
       "      <td>0.904</td>\n",
       "    </tr>\n",
       "    <tr>\n",
       "      <th>2</th>\n",
       "      <td>TRYEGSH12903CD2DCE</td>\n",
       "      <td>Overboard</td>\n",
       "      <td>Justin Bieber</td>\n",
       "      <td>0.790</td>\n",
       "    </tr>\n",
       "    <tr>\n",
       "      <th>3</th>\n",
       "      <td>TRZEDRT12903CD2DCC</td>\n",
       "      <td>Runaway Love</td>\n",
       "      <td>Justin Bieber</td>\n",
       "      <td>0.633</td>\n",
       "    </tr>\n",
       "    <tr>\n",
       "      <th>4</th>\n",
       "      <td>TRCKWGF12903CD2DCD</td>\n",
       "      <td>Never Let You Go</td>\n",
       "      <td>Third Eye Blind</td>\n",
       "      <td>0.940</td>\n",
       "    </tr>\n",
       "    <tr>\n",
       "      <th>5</th>\n",
       "      <td>TRIQIAF128E0788692</td>\n",
       "      <td>Try a Little Tenderness</td>\n",
       "      <td>Michael Bublé</td>\n",
       "      <td>0.245</td>\n",
       "    </tr>\n",
       "    <tr>\n",
       "      <th>6</th>\n",
       "      <td>TRLVQME128F931BAF3</td>\n",
       "      <td>Vanilla Twilight</td>\n",
       "      <td>Owl City</td>\n",
       "      <td>0.523</td>\n",
       "    </tr>\n",
       "    <tr>\n",
       "      <th>7</th>\n",
       "      <td>TRTKLFX12903CD2DC2</td>\n",
       "      <td>First Dance</td>\n",
       "      <td>Justin Bieber</td>\n",
       "      <td>0.520</td>\n",
       "    </tr>\n",
       "    <tr>\n",
       "      <th>8</th>\n",
       "      <td>TRZYAGJ128F9332CEF</td>\n",
       "      <td>Favorite Girl</td>\n",
       "      <td>Justin Bieber</td>\n",
       "      <td>0.681</td>\n",
       "    </tr>\n",
       "    <tr>\n",
       "      <th>9</th>\n",
       "      <td>TRLNFKN128F931BAF2</td>\n",
       "      <td>The Tip Of The Iceberg</td>\n",
       "      <td>Owl City</td>\n",
       "      <td>0.772</td>\n",
       "    </tr>\n",
       "    <tr>\n",
       "      <th>10</th>\n",
       "      <td>TRCPXID128F92D5D3C</td>\n",
       "      <td>Halo</td>\n",
       "      <td>Depeche Mode</td>\n",
       "      <td>0.508</td>\n",
       "    </tr>\n",
       "    <tr>\n",
       "      <th>11</th>\n",
       "      <td>TRUFTBY128F93450B8</td>\n",
       "      <td>Alejandro</td>\n",
       "      <td>Lady Gaga</td>\n",
       "      <td>0.800</td>\n",
       "    </tr>\n",
       "    <tr>\n",
       "      <th>12</th>\n",
       "      <td>TRNFVQI128F931BAEA</td>\n",
       "      <td>The Saltwater Room</td>\n",
       "      <td>Owl City</td>\n",
       "      <td>0.686</td>\n",
       "    </tr>\n",
       "    <tr>\n",
       "      <th>13</th>\n",
       "      <td>TRJZRTR128F9314B42</td>\n",
       "      <td>Perfectly Lonely</td>\n",
       "      <td>John Mayer</td>\n",
       "      <td>0.530</td>\n",
       "    </tr>\n",
       "    <tr>\n",
       "      <th>14</th>\n",
       "      <td>TROMKCG128F9320C09</td>\n",
       "      <td>Uprising</td>\n",
       "      <td>Sabaton</td>\n",
       "      <td>0.866</td>\n",
       "    </tr>\n",
       "    <tr>\n",
       "      <th>15</th>\n",
       "      <td>TRSUSWW128F93463BF</td>\n",
       "      <td>Imma Be</td>\n",
       "      <td>Black Eyed Peas</td>\n",
       "      <td>0.539</td>\n",
       "    </tr>\n",
       "    <tr>\n",
       "      <th>16</th>\n",
       "      <td>TRWAQOC12903CB84CA</td>\n",
       "      <td>Sexy Bitch</td>\n",
       "      <td>David Guetta</td>\n",
       "      <td>0.595</td>\n",
       "    </tr>\n",
       "    <tr>\n",
       "      <th>17</th>\n",
       "      <td>TRPGPDK12903CCC651</td>\n",
       "      <td>Bring Me To Life</td>\n",
       "      <td>Katherine Jenkins</td>\n",
       "      <td>0.563</td>\n",
       "    </tr>\n",
       "    <tr>\n",
       "      <th>18</th>\n",
       "      <td>TRTUWMO128F92F2A09</td>\n",
       "      <td>Dear Vienna</td>\n",
       "      <td>Owl City</td>\n",
       "      <td>0.691</td>\n",
       "    </tr>\n",
       "    <tr>\n",
       "      <th>19</th>\n",
       "      <td>TRBNYBX128F422EC61</td>\n",
       "      <td>Hey There Delilah</td>\n",
       "      <td>Plain White T's</td>\n",
       "      <td>0.261</td>\n",
       "    </tr>\n",
       "  </tbody>\n",
       "</table>\n",
       "</div>"
      ],
      "text/plain": [
       "              track_id                     name             artist  energy\n",
       "0   TRVSJOM12903CD2DC1     One Less Lonely Girl      Justin Bieber   0.750\n",
       "1   TRDGUPO128F9332CF6            Down To Earth             Bungle   0.904\n",
       "2   TRYEGSH12903CD2DCE                Overboard      Justin Bieber   0.790\n",
       "3   TRZEDRT12903CD2DCC             Runaway Love      Justin Bieber   0.633\n",
       "4   TRCKWGF12903CD2DCD         Never Let You Go    Third Eye Blind   0.940\n",
       "5   TRIQIAF128E0788692  Try a Little Tenderness      Michael Bublé   0.245\n",
       "6   TRLVQME128F931BAF3         Vanilla Twilight           Owl City   0.523\n",
       "7   TRTKLFX12903CD2DC2              First Dance      Justin Bieber   0.520\n",
       "8   TRZYAGJ128F9332CEF            Favorite Girl      Justin Bieber   0.681\n",
       "9   TRLNFKN128F931BAF2   The Tip Of The Iceberg           Owl City   0.772\n",
       "10  TRCPXID128F92D5D3C                     Halo       Depeche Mode   0.508\n",
       "11  TRUFTBY128F93450B8                Alejandro          Lady Gaga   0.800\n",
       "12  TRNFVQI128F931BAEA       The Saltwater Room           Owl City   0.686\n",
       "13  TRJZRTR128F9314B42         Perfectly Lonely         John Mayer   0.530\n",
       "14  TROMKCG128F9320C09                 Uprising            Sabaton   0.866\n",
       "15  TRSUSWW128F93463BF                  Imma Be    Black Eyed Peas   0.539\n",
       "16  TRWAQOC12903CB84CA               Sexy Bitch       David Guetta   0.595\n",
       "17  TRPGPDK12903CCC651         Bring Me To Life  Katherine Jenkins   0.563\n",
       "18  TRTUWMO128F92F2A09              Dear Vienna           Owl City   0.691\n",
       "19  TRBNYBX128F422EC61        Hey There Delilah    Plain White T's   0.261"
      ]
     },
     "execution_count": 46,
     "metadata": {},
     "output_type": "execute_result"
    }
   ],
   "source": [
    "binary_recommendations.head(20)"
   ]
  },
  {
   "cell_type": "markdown",
   "id": "70ecd419",
   "metadata": {},
   "source": [
    "We can see that even the order is not the same, most of the items are. Now we will calculate how many of the items recomended with the weighted ratings are recommended using the binary ratings"
   ]
  },
  {
   "cell_type": "code",
   "execution_count": 47,
   "id": "01e0153f",
   "metadata": {},
   "outputs": [
    {
     "name": "stdout",
     "output_type": "stream",
     "text": [
      "Percentage of wieghted recommendations that are in binary recomendations: 96.00%\n"
     ]
    }
   ],
   "source": [
    "weighted_ids = set(weighted_recommendations['track_id'].head(50))\n",
    "binary_ids = set(binary_recommendations['track_id'].head(50))\n",
    "porcentaje = len(weighted_ids & binary_ids) / len(weighted_ids) * 100\n",
    "print(f\"Percentage of wieghted recommendations that are in binary recomendations: {porcentaje:.2f}%\")"
   ]
  },
  {
   "cell_type": "markdown",
   "id": "f6a2c7bd",
   "metadata": {},
   "source": [
    "96% of the items are the same in the first 50 recommendations of both systems. So, for this user, the use of weighted or binary rating system does not seem to have much impact. We will study the overlap of the other users of the subset"
   ]
  },
  {
   "cell_type": "code",
   "execution_count": 48,
   "id": "e73c027d",
   "metadata": {},
   "outputs": [
    {
     "name": "stdout",
     "output_type": "stream",
     "text": [
      "Percentage of overlap between weighted and binary recommendations for each user:\n",
      "First 20 recommendations: [95.0, 50.0, 70.0, 25.0, 65.0, 100.0, 100.0, 40.0, 60.0, 95.0, 85.0, 60.0, 65.0, 45.0, 40.0, 70.0, 95.0, 75.0, 95.0, 100.0]\n",
      "First 50 recommendations: [96.0, 58.0, 72.0, 72.0, 94.0, 88.0, 100.0, 66.0, 74.0, 100.0, 58.0, 82.0, 80.0, 86.0, 72.0, 74.0, 78.0, 96.0, 86.0, 86.0]\n",
      "First 200 recommendations: [95.5, 69.0, 80.0, 78.5, 89.0, 90.5, 100.0, 73.5, 93.0, 97.5, 85.5, 72.5, 78.0, 88.0, 55.5, 80.5, 75.0, 95.0, 80.5, 87.5]\n",
      "Average percentage of overlap for 20 first recommendations: 71.50%\n",
      "Median percentage of overlap for 20 first recommendations: 70.00%\n",
      "Average percentage of overlap for 50 first recommendations: 80.90%\n",
      "Median percentage of overlap for 50 first recommendations: 81.00%\n",
      "Average percentage of overlap for 200 first recommendations: 83.22%\n",
      "Median percentage of overlap for 200 first recommendations: 83.00%\n"
     ]
    }
   ],
   "source": [
    "percentage_overlap_20 = []\n",
    "percentage_overlap_50 = []\n",
    "percentage_overlap_200 = []\n",
    "\n",
    "for rand_user in random_users:\n",
    "    item_based_recommender = ItemBasedRecommender(interaction_matrix_csc_weighted, item_based_similarity, track_uniques, df_music_info)\n",
    "    item_based_recommender.make_recommendations(rand_user, n=200)\n",
    "    weighted_recommendations = item_based_recommender.get_recommendations_info()\n",
    "\n",
    "    item_based_recommender = ItemBasedRecommender(interaction_matrix_csc_binary, item_based_similarity, track_uniques, df_music_info)\n",
    "    item_based_recommender.make_recommendations(rand_user, n=200)\n",
    "    binary_recommendations = item_based_recommender.get_recommendations_info()\n",
    "\n",
    "    weighted_ids_20 = set(weighted_recommendations['track_id'].head(20))\n",
    "    binary_ids_20 = set(binary_recommendations['track_id'].head(20))\n",
    "\n",
    "    weighted_ids_50 = set(weighted_recommendations['track_id'].head(50))\n",
    "    binary_ids_50 = set(binary_recommendations['track_id'].head(50))\n",
    "\n",
    "    weighted_ids_200 = set(weighted_recommendations['track_id'])\n",
    "    binary_ids_200 = set(binary_recommendations['track_id'])\n",
    "\n",
    "\n",
    "    overlap = round(len(weighted_ids_20 & binary_ids_20) / len(weighted_ids_20) * 100, 2)\n",
    "    percentage_overlap_20.append(overlap)\n",
    "\n",
    "    overlap = round(len(weighted_ids_50 & binary_ids_50) / len(weighted_ids_50) * 100, 2)\n",
    "    percentage_overlap_50.append(overlap)\n",
    "\n",
    "    overlap = round(len(weighted_ids_200 & binary_ids_200) / len(weighted_ids_200) * 100, 2)\n",
    "    percentage_overlap_200.append(overlap)\n",
    "\n",
    "print(\"Percentage of overlap between weighted and binary recommendations for each user:\")\n",
    "print(f\"First 20 recommendations: {percentage_overlap_20}\")\n",
    "print(f\"First 50 recommendations: {percentage_overlap_50}\")\n",
    "print(f\"First 200 recommendations: {percentage_overlap_200}\")\n",
    "\n",
    "print(f\"Average percentage of overlap for 20 first recommendations: {np.mean(percentage_overlap_20):.2f}%\")\n",
    "print(f\"Median percentage of overlap for 20 first recommendations: {np.median(percentage_overlap_20):.2f}%\")\n",
    "\n",
    "print(f\"Average percentage of overlap for 50 first recommendations: {np.mean(percentage_overlap_50):.2f}%\")\n",
    "print(f\"Median percentage of overlap for 50 first recommendations: {np.median(percentage_overlap_50):.2f}%\")\n",
    "\n",
    "print(f\"Average percentage of overlap for 200 first recommendations: {np.mean(percentage_overlap_200):.2f}%\")\n",
    "print(f\"Median percentage of overlap for 200 first recommendations: {np.median(percentage_overlap_200):.2f}%\")"
   ]
  },
  {
   "cell_type": "markdown",
   "id": "b5c0ce68",
   "metadata": {},
   "source": [
    "We can see that there are not much differences in most of the cases using the weighted or binary rating method.\n",
    "\n",
    "We will use a validation set to evaluate the performance of both matrices, using MAP@20 and NDCG@20 metrics"
   ]
  },
  {
   "cell_type": "code",
   "execution_count": 32,
   "id": "a6721175",
   "metadata": {},
   "outputs": [],
   "source": [
    "from implicit.evaluation import leave_k_out_split\n",
    "from scipy.sparse import lil_matrix"
   ]
  },
  {
   "cell_type": "code",
   "execution_count": 33,
   "id": "2ce05a95",
   "metadata": {},
   "outputs": [],
   "source": [
    "def build_split_from_indices(matrix, test_users, test_items):\n",
    "    train_lil = matrix.tolil()\n",
    "    test_lil = lil_matrix(matrix.shape)\n",
    "\n",
    "   \n",
    "    for u, i in zip(test_users, test_items):\n",
    "        val = matrix[u, i]\n",
    "        train_lil[u, i] = 0\n",
    "        test_lil[u, i] = val\n",
    "\n",
    "    \n",
    "    train = train_lil.tocsr()\n",
    "    test = test_lil.tocsr()\n",
    "    return train, test\n",
    "\n",
    "def generate_2_splits(interaction_matrix_1, interaction_matrix_2, k=1, random_state=RANDOM_STATE):\n",
    "    train_matrix_1, test_matrix_1 = leave_k_out_split(interaction_matrix_1, K = k, random_state=random_state)\n",
    "    test_users, test_items = test_matrix_1.nonzero()\n",
    "    train_matrix_2, test_matrix_2 = build_split_from_indices(interaction_matrix_2, test_users, test_items)\n",
    "    return train_matrix_1, test_matrix_1, train_matrix_2, test_matrix_2"
   ]
  },
  {
   "cell_type": "markdown",
   "id": "45a15fe7",
   "metadata": {},
   "source": [
    "Comparation metrics"
   ]
  },
  {
   "cell_type": "code",
   "execution_count": 37,
   "id": "f6e2aedc",
   "metadata": {},
   "outputs": [],
   "source": [
    "def apk(real, predicted, k=20):\n",
    "    if len(predicted) > k:\n",
    "        predicted = predicted[:k]\n",
    "\n",
    "    score = 0.0\n",
    "    hits = 0.0\n",
    "\n",
    "    for i, p in enumerate(predicted):\n",
    "        if p in real and p not in predicted[:i]:  # avoid duplicate hits\n",
    "            hits += 1.0\n",
    "            score += hits / (i + 1.0)\n",
    "\n",
    "    return score / min(len(real), k) if real else 0.0\n",
    "\n",
    "\n",
    "def mapk(actual_list, predicted_list, k=10):\n",
    "    return np.mean([apk(a, p, k) for a, p in zip(actual_list, predicted_list)])"
   ]
  },
  {
   "cell_type": "code",
   "execution_count": 38,
   "id": "cd44afae",
   "metadata": {},
   "outputs": [],
   "source": [
    "def dcg(relevance_scores, k):\n",
    "    relevance_scores = np.asarray(relevance_scores, dtype=float)[:k]\n",
    "    if relevance_scores.size:\n",
    "        return np.sum(relevance_scores / np.log2(np.arange(2, relevance_scores.size + 2)))\n",
    "    return 0.0\n",
    "\n",
    "\n",
    "def ndcg(actual, predicted, k=10):\n",
    "    predicted = predicted[:k]\n",
    "    relevance_scores = [1 if p in actual else 0 for p in predicted]\n",
    "    ideal_scores = sorted(relevance_scores, reverse=True)\n",
    "\n",
    "    actual_dcg = dcg(relevance_scores, k)\n",
    "    ideal_dcg = dcg(ideal_scores, k)\n",
    "\n",
    "    return actual_dcg / ideal_dcg if ideal_dcg > 0 else 0.0\n",
    "\n",
    "\n",
    "def mean_ndcg(actual_list, predicted_list, k=10):\n",
    "    return np.mean([ndcg(a, p, k) for a, p in zip(actual_list, predicted_list)])\n"
   ]
  },
  {
   "cell_type": "code",
   "execution_count": null,
   "id": "1c240248",
   "metadata": {},
   "outputs": [],
   "source": [
    "train_matrix_binary, test_matrix_binary, train_matrix_weighted, test_matrix_weighted = generate_2_splits(interaction_matrix_csc_binary, interaction_matrix_csc_weighted, k=1)"
   ]
  },
  {
   "cell_type": "code",
   "execution_count": 35,
   "id": "1def4610",
   "metadata": {},
   "outputs": [],
   "source": [
    "similarity_matrix_binary = cosine_similarity(train_matrix_binary.T, dense_output=False)\n",
    "similarity_matrix_binary = csc_matrix(similarity_matrix_binary)\n",
    "\n",
    "similarity_matrix_weighted = cosine_similarity(train_matrix_weighted.T, dense_output=False)\n",
    "similarity_matrix_weighted = csc_matrix(similarity_matrix_weighted)\n",
    "\n",
    "item_based_recommender_binary = ItemBasedRecommender(train_matrix_binary, similarity_matrix_binary, track_uniques, df_music_info)\n",
    "item_based_recommender_weighted = ItemBasedRecommender(train_matrix_weighted, similarity_matrix_weighted, track_uniques, df_music_info)"
   ]
  },
  {
   "cell_type": "code",
   "execution_count": 49,
   "id": "63324293",
   "metadata": {},
   "outputs": [],
   "source": [
    "rng = np.random.RandomState(RANDOM_STATE)\n",
    "user_indices = rng.choice(train_matrix_binary.shape[0], size=num_distinct_users, replace=False)"
   ]
  },
  {
   "cell_type": "code",
   "execution_count": 50,
   "id": "0e11f794",
   "metadata": {},
   "outputs": [
    {
     "name": "stderr",
     "output_type": "stream",
     "text": [
      "100%|██████████| 464573/464573 [6:01:37<00:00, 21.41it/s]   \n"
     ]
    }
   ],
   "source": [
    "real_items = []\n",
    "predicted_items_binary = []\n",
    "predicted_items_weighted = []\n",
    "\n",
    "\n",
    "for user_index in tqdm(user_indices):\n",
    "    real_indexes = test_matrix_binary[user_index].nonzero()[1]\n",
    "    real_items.append(set(track_uniques[real_indexes]))\n",
    "\n",
    "    item_based_recommender_binary.make_recommendations(user_index, n=20)\n",
    "    predicted_items_binary.append(item_based_recommender_binary.get_recommendations_ids())\n",
    "\n",
    "    item_based_recommender_weighted.make_recommendations(user_index, n=20)\n",
    "    predicted_items_weighted.append(item_based_recommender_weighted.get_recommendations_ids())"
   ]
  },
  {
   "cell_type": "code",
   "execution_count": 51,
   "id": "902996a3",
   "metadata": {},
   "outputs": [],
   "source": [
    "mapk_binary = mapk(real_items, predicted_items_binary, k=20)\n",
    "mapk_weighted = mapk(real_items, predicted_items_weighted, k=20)\n",
    "\n",
    "ndcg_binary = mean_ndcg(real_items, predicted_items_binary, k=20)\n",
    "ndcg_weighted = mean_ndcg(real_items, predicted_items_weighted, k=20)"
   ]
  },
  {
   "cell_type": "code",
   "execution_count": 52,
   "id": "eb63d6e9",
   "metadata": {},
   "outputs": [
    {
     "data": {
      "text/html": [
       "<div>\n",
       "<style scoped>\n",
       "    .dataframe tbody tr th:only-of-type {\n",
       "        vertical-align: middle;\n",
       "    }\n",
       "\n",
       "    .dataframe tbody tr th {\n",
       "        vertical-align: top;\n",
       "    }\n",
       "\n",
       "    .dataframe thead th {\n",
       "        text-align: right;\n",
       "    }\n",
       "</style>\n",
       "<table border=\"1\" class=\"dataframe\">\n",
       "  <thead>\n",
       "    <tr style=\"text-align: right;\">\n",
       "      <th></th>\n",
       "      <th>Modelo</th>\n",
       "      <th>MAP@20</th>\n",
       "      <th>NDCG@20</th>\n",
       "    </tr>\n",
       "  </thead>\n",
       "  <tbody>\n",
       "    <tr>\n",
       "      <th>0</th>\n",
       "      <td>Binary</td>\n",
       "      <td>0.173308</td>\n",
       "      <td>0.217894</td>\n",
       "    </tr>\n",
       "    <tr>\n",
       "      <th>1</th>\n",
       "      <td>Weighted</td>\n",
       "      <td>0.157009</td>\n",
       "      <td>0.199702</td>\n",
       "    </tr>\n",
       "  </tbody>\n",
       "</table>\n",
       "</div>"
      ],
      "text/plain": [
       "     Modelo    MAP@20   NDCG@20\n",
       "0    Binary  0.173308  0.217894\n",
       "1  Weighted  0.157009  0.199702"
      ]
     },
     "execution_count": 52,
     "metadata": {},
     "output_type": "execute_result"
    }
   ],
   "source": [
    "results_df = pd.DataFrame({\n",
    "    'Modelo': ['Binary', 'Weighted'],\n",
    "    'MAP@20': [mapk_binary, mapk_weighted],\n",
    "    'NDCG@20': [ndcg_binary, ndcg_weighted]\n",
    "})\n",
    "\n",
    "results_df"
   ]
  },
  {
   "cell_type": "code",
   "execution_count": 53,
   "id": "0c194c7d",
   "metadata": {},
   "outputs": [
    {
     "data": {
      "text/html": [
       "<div>\n",
       "<style scoped>\n",
       "    .dataframe tbody tr th:only-of-type {\n",
       "        vertical-align: middle;\n",
       "    }\n",
       "\n",
       "    .dataframe tbody tr th {\n",
       "        vertical-align: top;\n",
       "    }\n",
       "\n",
       "    .dataframe thead th {\n",
       "        text-align: right;\n",
       "    }\n",
       "</style>\n",
       "<table border=\"1\" class=\"dataframe\">\n",
       "  <thead>\n",
       "    <tr style=\"text-align: right;\">\n",
       "      <th></th>\n",
       "      <th>Matrix</th>\n",
       "      <th>MAP@20</th>\n",
       "      <th>NDCG@20</th>\n",
       "    </tr>\n",
       "  </thead>\n",
       "  <tbody>\n",
       "    <tr>\n",
       "      <th>0</th>\n",
       "      <td>Binary</td>\n",
       "      <td>0.173308</td>\n",
       "      <td>0.217894</td>\n",
       "    </tr>\n",
       "    <tr>\n",
       "      <th>1</th>\n",
       "      <td>Weighted</td>\n",
       "      <td>0.157009</td>\n",
       "      <td>0.199702</td>\n",
       "    </tr>\n",
       "  </tbody>\n",
       "</table>\n",
       "</div>"
      ],
      "text/plain": [
       "     Matrix    MAP@20   NDCG@20\n",
       "0    Binary  0.173308  0.217894\n",
       "1  Weighted  0.157009  0.199702"
      ]
     },
     "execution_count": 53,
     "metadata": {},
     "output_type": "execute_result"
    }
   ],
   "source": [
    "results_df = pd.DataFrame({\n",
    "    'Matrix': ['Binary', 'Weighted'],\n",
    "    'MAP@20': [mapk_binary, mapk_weighted],\n",
    "    'NDCG@20': [ndcg_binary, ndcg_weighted]\n",
    "})\n",
    "\n",
    "results_df"
   ]
  },
  {
   "cell_type": "code",
   "execution_count": null,
   "id": "72fa653b",
   "metadata": {},
   "outputs": [],
   "source": []
  }
 ],
 "metadata": {
  "kernelspec": {
   "display_name": "MasterIA",
   "language": "python",
   "name": "python3"
  },
  "language_info": {
   "codemirror_mode": {
    "name": "ipython",
    "version": 3
   },
   "file_extension": ".py",
   "mimetype": "text/x-python",
   "name": "python",
   "nbconvert_exporter": "python",
   "pygments_lexer": "ipython3",
   "version": "3.12.11"
  }
 },
 "nbformat": 4,
 "nbformat_minor": 5
}
