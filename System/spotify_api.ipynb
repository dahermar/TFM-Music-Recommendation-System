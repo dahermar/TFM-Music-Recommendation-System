{
 "cells": [
  {
   "cell_type": "code",
   "execution_count": 2,
   "id": "23572776",
   "metadata": {},
   "outputs": [],
   "source": [
    "import pandas as pd\n",
    "import spotipy\n",
    "from spotipy.oauth2 import SpotifyClientCredentials"
   ]
  },
  {
   "cell_type": "code",
   "execution_count": 12,
   "id": "26908cea",
   "metadata": {},
   "outputs": [],
   "source": [
    "df_music = pd.read_csv('data/Million Song Dataset kaggle/Music Info.csv')"
   ]
  },
  {
   "cell_type": "code",
   "execution_count": 13,
   "id": "70cca61b",
   "metadata": {},
   "outputs": [
    {
     "data": {
      "text/plain": [
       "Index(['track_id', 'name', 'artist', 'spotify_preview_url', 'spotify_id',\n",
       "       'tags', 'genre', 'year', 'duration_ms', 'danceability', 'energy', 'key',\n",
       "       'loudness', 'mode', 'speechiness', 'acousticness', 'instrumentalness',\n",
       "       'liveness', 'valence', 'tempo', 'time_signature'],\n",
       "      dtype='object')"
      ]
     },
     "execution_count": 13,
     "metadata": {},
     "output_type": "execute_result"
    }
   ],
   "source": [
    "df_music.columns"
   ]
  },
  {
   "cell_type": "code",
   "execution_count": 16,
   "id": "bbc481b9",
   "metadata": {},
   "outputs": [
    {
     "data": {
      "text/html": [
       "<div>\n",
       "<style scoped>\n",
       "    .dataframe tbody tr th:only-of-type {\n",
       "        vertical-align: middle;\n",
       "    }\n",
       "\n",
       "    .dataframe tbody tr th {\n",
       "        vertical-align: top;\n",
       "    }\n",
       "\n",
       "    .dataframe thead th {\n",
       "        text-align: right;\n",
       "    }\n",
       "</style>\n",
       "<table border=\"1\" class=\"dataframe\">\n",
       "  <thead>\n",
       "    <tr style=\"text-align: right;\">\n",
       "      <th></th>\n",
       "      <th>track_id</th>\n",
       "      <th>spotify_id</th>\n",
       "      <th>name</th>\n",
       "      <th>artist</th>\n",
       "      <th>genre</th>\n",
       "    </tr>\n",
       "  </thead>\n",
       "  <tbody>\n",
       "    <tr>\n",
       "      <th>0</th>\n",
       "      <td>TRIOREW128F424EAF0</td>\n",
       "      <td>09ZQ5TmUG8TSL56n0knqrj</td>\n",
       "      <td>Mr. Brightside</td>\n",
       "      <td>The Killers</td>\n",
       "      <td>NaN</td>\n",
       "    </tr>\n",
       "    <tr>\n",
       "      <th>1</th>\n",
       "      <td>TRRIVDJ128F429B0E8</td>\n",
       "      <td>06UfBBDISthj1ZJAtX4xjj</td>\n",
       "      <td>Wonderwall</td>\n",
       "      <td>Oasis</td>\n",
       "      <td>NaN</td>\n",
       "    </tr>\n",
       "    <tr>\n",
       "      <th>2</th>\n",
       "      <td>TROUVHL128F426C441</td>\n",
       "      <td>0keNu0t0tqsWtExGM3nT1D</td>\n",
       "      <td>Come as You Are</td>\n",
       "      <td>Nirvana</td>\n",
       "      <td>RnB</td>\n",
       "    </tr>\n",
       "    <tr>\n",
       "      <th>3</th>\n",
       "      <td>TRUEIND128F93038C4</td>\n",
       "      <td>0ancVQ9wEcHVd0RrGICTE4</td>\n",
       "      <td>Take Me Out</td>\n",
       "      <td>Franz Ferdinand</td>\n",
       "      <td>NaN</td>\n",
       "    </tr>\n",
       "    <tr>\n",
       "      <th>4</th>\n",
       "      <td>TRLNZBD128F935E4D8</td>\n",
       "      <td>01QoK9DA7VTeTSE3MNzp4I</td>\n",
       "      <td>Creep</td>\n",
       "      <td>Radiohead</td>\n",
       "      <td>RnB</td>\n",
       "    </tr>\n",
       "  </tbody>\n",
       "</table>\n",
       "</div>"
      ],
      "text/plain": [
       "             track_id              spotify_id             name  \\\n",
       "0  TRIOREW128F424EAF0  09ZQ5TmUG8TSL56n0knqrj   Mr. Brightside   \n",
       "1  TRRIVDJ128F429B0E8  06UfBBDISthj1ZJAtX4xjj       Wonderwall   \n",
       "2  TROUVHL128F426C441  0keNu0t0tqsWtExGM3nT1D  Come as You Are   \n",
       "3  TRUEIND128F93038C4  0ancVQ9wEcHVd0RrGICTE4      Take Me Out   \n",
       "4  TRLNZBD128F935E4D8  01QoK9DA7VTeTSE3MNzp4I            Creep   \n",
       "\n",
       "            artist genre  \n",
       "0      The Killers   NaN  \n",
       "1            Oasis   NaN  \n",
       "2          Nirvana   RnB  \n",
       "3  Franz Ferdinand   NaN  \n",
       "4        Radiohead   RnB  "
      ]
     },
     "execution_count": 16,
     "metadata": {},
     "output_type": "execute_result"
    }
   ],
   "source": [
    "df_music = df_music[['track_id', 'spotify_id', 'name', 'artist', 'genre']]\n",
    "df_music.head()"
   ]
  },
  {
   "cell_type": "code",
   "execution_count": 19,
   "id": "e6690bf4",
   "metadata": {},
   "outputs": [
    {
     "data": {
      "text/html": [
       "<div>\n",
       "<style scoped>\n",
       "    .dataframe tbody tr th:only-of-type {\n",
       "        vertical-align: middle;\n",
       "    }\n",
       "\n",
       "    .dataframe tbody tr th {\n",
       "        vertical-align: top;\n",
       "    }\n",
       "\n",
       "    .dataframe thead th {\n",
       "        text-align: right;\n",
       "    }\n",
       "</style>\n",
       "<table border=\"1\" class=\"dataframe\">\n",
       "  <thead>\n",
       "    <tr style=\"text-align: right;\">\n",
       "      <th></th>\n",
       "      <th>track_id</th>\n",
       "      <th>spotify_id</th>\n",
       "      <th>name</th>\n",
       "      <th>artist</th>\n",
       "      <th>genre</th>\n",
       "    </tr>\n",
       "  </thead>\n",
       "  <tbody>\n",
       "    <tr>\n",
       "      <th>910</th>\n",
       "      <td>TRRKIUA128F427FC26</td>\n",
       "      <td>1ei03Z526knNOEwmQk1le3</td>\n",
       "      <td>Sad Statue</td>\n",
       "      <td>System of a Down</td>\n",
       "      <td>NaN</td>\n",
       "    </tr>\n",
       "    <tr>\n",
       "      <th>911</th>\n",
       "      <td>TRBTXNE12903CB6528</td>\n",
       "      <td>1DodPaZK0N8rEGK4LacgV0</td>\n",
       "      <td>Rhinestone Eyes</td>\n",
       "      <td>Gorillaz</td>\n",
       "      <td>NaN</td>\n",
       "    </tr>\n",
       "    <tr>\n",
       "      <th>912</th>\n",
       "      <td>TRLSJPW128E0789CDB</td>\n",
       "      <td>0C1D9YRWh975UriWgiRrTA</td>\n",
       "      <td>Holy Diver</td>\n",
       "      <td>Dio</td>\n",
       "      <td>Rock</td>\n",
       "    </tr>\n",
       "    <tr>\n",
       "      <th>913</th>\n",
       "      <td>TRCCDNB128F149520C</td>\n",
       "      <td>04zfFfRMXegKi4mMkGMeze</td>\n",
       "      <td>Yes</td>\n",
       "      <td>Coldplay</td>\n",
       "      <td>NaN</td>\n",
       "    </tr>\n",
       "    <tr>\n",
       "      <th>914</th>\n",
       "      <td>TRDJPJK128F149E59D</td>\n",
       "      <td>0O43MZg60Qe8eIA8FFctjO</td>\n",
       "      <td>Machu Picchu</td>\n",
       "      <td>The Strokes</td>\n",
       "      <td>NaN</td>\n",
       "    </tr>\n",
       "  </tbody>\n",
       "</table>\n",
       "</div>"
      ],
      "text/plain": [
       "               track_id              spotify_id             name  \\\n",
       "910  TRRKIUA128F427FC26  1ei03Z526knNOEwmQk1le3       Sad Statue   \n",
       "911  TRBTXNE12903CB6528  1DodPaZK0N8rEGK4LacgV0  Rhinestone Eyes   \n",
       "912  TRLSJPW128E0789CDB  0C1D9YRWh975UriWgiRrTA       Holy Diver   \n",
       "913  TRCCDNB128F149520C  04zfFfRMXegKi4mMkGMeze              Yes   \n",
       "914  TRDJPJK128F149E59D  0O43MZg60Qe8eIA8FFctjO     Machu Picchu   \n",
       "\n",
       "               artist genre  \n",
       "910  System of a Down   NaN  \n",
       "911          Gorillaz   NaN  \n",
       "912               Dio  Rock  \n",
       "913          Coldplay   NaN  \n",
       "914       The Strokes   NaN  "
      ]
     },
     "execution_count": 19,
     "metadata": {},
     "output_type": "execute_result"
    }
   ],
   "source": [
    "df_music.iloc[910:915]"
   ]
  },
  {
   "cell_type": "code",
   "execution_count": 3,
   "id": "4ffc5ce4",
   "metadata": {},
   "outputs": [],
   "source": [
    "# Reemplaza estos valores con los tuyos\n",
    "CLIENT_ID = \"3c7691f584cc4d7bbd97008382bda03c\"\n",
    "CLIENT_SECRET = \"7295e00d95f048d38b8c25cb66651b39\"\n",
    "\n",
    "# Autenticación sin login de usuario (solo acceso público)\n",
    "sp = spotipy.Spotify(auth_manager=SpotifyClientCredentials(\n",
    "    client_id=CLIENT_ID,\n",
    "    client_secret=CLIENT_SECRET\n",
    "))"
   ]
  },
  {
   "cell_type": "code",
   "execution_count": 4,
   "id": "2d8ea9b5",
   "metadata": {},
   "outputs": [
    {
     "name": "stdout",
     "output_type": "stream",
     "text": [
      "🎵 Nombre de la canción: Come As You Are\n",
      "🎤 Artista: Nirvana\n",
      "🎧 Géneros del artista: grunge, rock\n"
     ]
    }
   ],
   "source": [
    "# ID de la canción (puede ser un ID o parte del enlace)\n",
    "track_id = \"0keNu0t0tqsWtExGM3nT1D\"  # Mr. Brightside\n",
    "\n",
    "# Obtener información de la canción\n",
    "track = sp.track(track_id)\n",
    "track_name = track['name']\n",
    "artist_id = track['artists'][0]['id']\n",
    "artist_name = track['artists'][0]['name']\n",
    "\n",
    "# Obtener información del artista (para obtener los géneros)\n",
    "artist = sp.artist(artist_id)\n",
    "genres = artist['genres']\n",
    "\n",
    "# Mostrar resultados\n",
    "print(\"🎵 Nombre de la canción:\", track_name)\n",
    "print(\"🎤 Artista:\", artist_name)\n",
    "print(\"🎧 Géneros del artista:\", \", \".join(genres) if genres else \"No disponible\")"
   ]
  },
  {
   "cell_type": "code",
   "execution_count": 20,
   "id": "843043f4",
   "metadata": {},
   "outputs": [
    {
     "name": "stdout",
     "output_type": "stream",
     "text": [
      "🎤 Artista de 'Yes': The Beatles\n"
     ]
    }
   ],
   "source": [
    "# 🔍 Título de la canción\n",
    "song_title = \"Yes\"\n",
    "\n",
    "# Buscar la canción (usamos el primer resultado)\n",
    "results = sp.search(q=f\"track:{song_title}\", type='track', limit=1)\n",
    "\n",
    "# Validar y mostrar\n",
    "if results['tracks']['items']:\n",
    "    track = results['tracks']['items'][0]\n",
    "    artist_name = track['artists'][0]['name']\n",
    "    print(f\"🎤 Artista de '{song_title}': {artist_name}\")\n",
    "else:\n",
    "    print(f\"No se encontró la canción '{song_title}'.\")"
   ]
  },
  {
   "cell_type": "code",
   "execution_count": 23,
   "id": "6e59ed09",
   "metadata": {},
   "outputs": [
    {
     "name": "stdout",
     "output_type": "stream",
     "text": [
      "🎵 Título: Yes\n",
      "🎤 Artista: Coldplay\n",
      "💿 Álbum: Viva La Vida or Death and All His Friends\n",
      "📅 Año: 2008\n",
      "⏱️ Duración (ms): 426653\n",
      "🆔 Spotify ID: 04zfFfRMXegKi4mMkGMeze\n",
      "🔗 URL: https://open.spotify.com/track/04zfFfRMXegKi4mMkGMeze\n"
     ]
    }
   ],
   "source": [
    "from spotipy.oauth2 import SpotifyClientCredentials\n",
    "import spotipy\n",
    "\n",
    "# === Entradas ===\n",
    "titulo = \"Yes\"\n",
    "artista = \"Coldplay\"\n",
    "\n",
    "# === Búsqueda en Spotify ===\n",
    "query = f\"track:{titulo} artist:{artista}\"\n",
    "results = sp.search(q=query, type='track', limit=1)\n",
    "\n",
    "# === Mostrar resultados ===\n",
    "if results['tracks']['items']:\n",
    "    track = results['tracks']['items'][0]\n",
    "    \n",
    "    print(\"🎵 Título:\", track['name'])\n",
    "    print(\"🎤 Artista:\", track['artists'][0]['name'])\n",
    "    print(\"💿 Álbum:\", track['album']['name'])\n",
    "    print(\"📅 Año:\", track['album']['release_date'][:4])\n",
    "    print(\"⏱️ Duración (ms):\", track['duration_ms'])\n",
    "    print(\"🆔 Spotify ID:\", track['id'])\n",
    "    print(\"🔗 URL:\", track['external_urls']['spotify'])\n",
    "else:\n",
    "    print(\"❌ No se encontró ninguna coincidencia.\")\n"
   ]
  },
  {
   "cell_type": "code",
   "execution_count": null,
   "id": "a5d3ce71",
   "metadata": {},
   "outputs": [],
   "source": []
  }
 ],
 "metadata": {
  "kernelspec": {
   "display_name": "Master-IA",
   "language": "python",
   "name": "python3"
  },
  "language_info": {
   "codemirror_mode": {
    "name": "ipython",
    "version": 3
   },
   "file_extension": ".py",
   "mimetype": "text/x-python",
   "name": "python",
   "nbconvert_exporter": "python",
   "pygments_lexer": "ipython3",
   "version": "3.10.15"
  }
 },
 "nbformat": 4,
 "nbformat_minor": 5
}
